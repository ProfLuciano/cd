{
 "cells": [
  {
   "cell_type": "markdown",
   "metadata": {},
   "source": [
    "# Respostas dos exercícios da aula 05"
   ]
  },
  {
   "cell_type": "code",
   "execution_count": 14,
   "metadata": {
    "collapsed": true
   },
   "outputs": [],
   "source": [
    "import pandas as pd\n",
    "import numpy as np\n",
    "import scipy as scp\n",
    "from bs4 import BeautifulSoup\n",
    "import requests as rq\n",
    "import re\n",
    "\n",
    "from IPython.display import display"
   ]
  },
  {
   "cell_type": "markdown",
   "metadata": {},
   "source": [
    "## Carregando dados salvos"
   ]
  },
  {
   "cell_type": "code",
   "execution_count": 6,
   "metadata": {
    "collapsed": false
   },
   "outputs": [
    {
     "data": {
      "text/html": [
       "<div>\n",
       "<table border=\"1\" class=\"dataframe\">\n",
       "  <thead>\n",
       "    <tr style=\"text-align: right;\">\n",
       "      <th></th>\n",
       "      <th>modelo</th>\n",
       "      <th>capacidade</th>\n",
       "      <th>vendedor</th>\n",
       "      <th>preco</th>\n",
       "      <th>link</th>\n",
       "    </tr>\n",
       "  </thead>\n",
       "  <tbody>\n",
       "    <tr>\n",
       "      <th>0</th>\n",
       "      <td>iPhone 6S</td>\n",
       "      <td>128</td>\n",
       "      <td>Mercado Livre</td>\n",
       "      <td>3399.00</td>\n",
       "      <td>http://www.buscape.com.br/redirect_prod?pagina...</td>\n",
       "    </tr>\n",
       "    <tr>\n",
       "      <th>1</th>\n",
       "      <td>iPhone 6S</td>\n",
       "      <td>128</td>\n",
       "      <td>Fnac.com</td>\n",
       "      <td>3059.10</td>\n",
       "      <td>http://www.buscape.com.br/redirect_prod?pagina...</td>\n",
       "    </tr>\n",
       "    <tr>\n",
       "      <th>2</th>\n",
       "      <td>iPhone 6S</td>\n",
       "      <td>128</td>\n",
       "      <td>Saraiva.com.br</td>\n",
       "      <td>3229.05</td>\n",
       "      <td>http://www.buscape.com.br/redirect_prod?pagina...</td>\n",
       "    </tr>\n",
       "    <tr>\n",
       "      <th>3</th>\n",
       "      <td>iPhone 6S</td>\n",
       "      <td>128</td>\n",
       "      <td>Carrefour</td>\n",
       "      <td>3999.00</td>\n",
       "      <td>http://www.buscape.com.br/redirect_prod?pagina...</td>\n",
       "    </tr>\n",
       "    <tr>\n",
       "      <th>4</th>\n",
       "      <td>iPhone 6S</td>\n",
       "      <td>128</td>\n",
       "      <td>Casas Bahia</td>\n",
       "      <td>4599.00</td>\n",
       "      <td>http://www.buscape.com.br/redirect_prod?pagina...</td>\n",
       "    </tr>\n",
       "  </tbody>\n",
       "</table>\n",
       "</div>"
      ],
      "text/plain": [
       "      modelo  capacidade        vendedor    preco  \\\n",
       "0  iPhone 6S         128   Mercado Livre  3399.00   \n",
       "1  iPhone 6S         128        Fnac.com  3059.10   \n",
       "2  iPhone 6S         128  Saraiva.com.br  3229.05   \n",
       "3  iPhone 6S         128       Carrefour  3999.00   \n",
       "4  iPhone 6S         128     Casas Bahia  4599.00   \n",
       "\n",
       "                                                link  \n",
       "0  http://www.buscape.com.br/redirect_prod?pagina...  \n",
       "1  http://www.buscape.com.br/redirect_prod?pagina...  \n",
       "2  http://www.buscape.com.br/redirect_prod?pagina...  \n",
       "3  http://www.buscape.com.br/redirect_prod?pagina...  \n",
       "4  http://www.buscape.com.br/redirect_prod?pagina...  "
      ]
     },
     "execution_count": 6,
     "metadata": {},
     "output_type": "execute_result"
    }
   ],
   "source": [
    "dadosCelulares = pd.read_csv('../2017.1/data/scraping/dadosConsolidadosIPhone7.csv', header=0)\n",
    "dadosCelulares.head()"
   ]
  },
  {
   "cell_type": "markdown",
   "metadata": {},
   "source": [
    "## Respostas dos exercícios\n",
    "\n",
    "2. Escreva trechos de código para responder às seguintes perguntas:\n",
    "  1. Qual o preço médio de cada modelo de iPhone (independente da capacidade ou cor)?\n",
    "  2. Qual é a loja mais barata em média?\n",
    "  3. Qual modelo possui a maior diferença de preço?\n",
    "  4. Qual a variação de preço por modelo e capacidade?\n",
    "1. Modifique a parte de coleta dos dados da página inicial da busca para também armazenar o número de avaliações feitas ao produto e a nota média exibida (número de estrelas)  "
   ]
  },
  {
   "cell_type": "markdown",
   "metadata": {},
   "source": [
    "#### Exercício 1"
   ]
  },
  {
   "cell_type": "code",
   "execution_count": 7,
   "metadata": {
    "collapsed": false
   },
   "outputs": [
    {
     "data": {
      "text/plain": [
       "modelo\n",
       "iPhone 5S        1649.49\n",
       "iPhone 6         2833.39\n",
       "iPhone 6S        3132.35\n",
       "iPhone 7         3594.29\n",
       "iPhone 7 Plus    4129.39\n",
       "Name: preco, dtype: float64"
      ]
     },
     "execution_count": 7,
     "metadata": {},
     "output_type": "execute_result"
    }
   ],
   "source": [
    "# 1a\n",
    "dcGroupedByModelo = dadosCelulares.groupby('modelo')\n",
    "np.round(dcGroupedByModelo.preco.mean(),2)"
   ]
  },
  {
   "cell_type": "code",
   "execution_count": 8,
   "metadata": {
    "collapsed": false
   },
   "outputs": [
    {
     "data": {
      "text/plain": [
       "'DouGShoP'"
      ]
     },
     "execution_count": 8,
     "metadata": {},
     "output_type": "execute_result"
    }
   ],
   "source": [
    "# 1b\n",
    "dcGroupedByLoja = dadosCelulares.groupby('vendedor')\n",
    "np.argmin(dcGroupedByLoja.preco.mean())"
   ]
  },
  {
   "cell_type": "code",
   "execution_count": 9,
   "metadata": {
    "collapsed": false
   },
   "outputs": [
    {
     "data": {
      "text/plain": [
       "'iPhone 6S'"
      ]
     },
     "execution_count": 9,
     "metadata": {},
     "output_type": "execute_result"
    }
   ],
   "source": [
    "# 1c\n",
    "np.argmax(dcGroupedByModelo.preco.max() - dcGroupedByModelo.preco.min())"
   ]
  },
  {
   "cell_type": "code",
   "execution_count": 16,
   "metadata": {
    "collapsed": false
   },
   "outputs": [
    {
     "data": {
      "text/plain": [
       "modelo         capacidade\n",
       "iPhone 5S      16             44.72\n",
       "               32              0.00\n",
       "iPhone 6       16            122.18\n",
       "               64             35.07\n",
       "               128             0.00\n",
       "iPhone 6S      16             49.54\n",
       "               32             11.11\n",
       "               64             78.67\n",
       "               128            53.76\n",
       "iPhone 7       32             26.21\n",
       "               128            32.39\n",
       "               256            40.06\n",
       "iPhone 7 Plus  32             17.15\n",
       "               128            16.89\n",
       "               256            16.67\n",
       "Name: preco, dtype: float64"
      ]
     },
     "execution_count": 16,
     "metadata": {},
     "output_type": "execute_result"
    }
   ],
   "source": [
    "dcGroupedByModelCap = dadosCelulares.groupby(['modelo','capacidade'])\n",
    "dcGroupedByModelCap.preco.agg(lambda x: np.round(((max(x) - min(x))/min(x))*100,2))"
   ]
  },
  {
   "cell_type": "markdown",
   "metadata": {},
   "source": [
    "#### Exercício 2"
   ]
  },
  {
   "cell_type": "code",
   "execution_count": 21,
   "metadata": {
    "collapsed": false
   },
   "outputs": [
    {
     "name": "stdout",
     "output_type": "stream",
     "text": [
      "       capacidade   menorPreco   maiorPreco  disponibilidade  num_avaliacoes  \\\n",
      "count   15.000000    15.000000    15.000000        15.000000       15.000000   \n",
      "mean    88.533333  2990.282000  3934.018667         9.866667      133.200000   \n",
      "std     81.104753   779.716991   920.101374         4.596065      262.436986   \n",
      "min     16.000000  1381.250000  2149.000000         1.000000        4.000000   \n",
      "25%     32.000000  2385.360000  3323.085000         7.000000       10.500000   \n",
      "50%     64.000000  2991.120000  3999.000000        12.000000       26.000000   \n",
      "75%    128.000000  3499.000000  4599.000000        13.000000       97.500000   \n",
      "max    256.000000  4199.000000  5305.000000        15.000000     1006.000000   \n",
      "\n",
      "       avaliacao  \n",
      "count  15.000000  \n",
      "mean    4.733333  \n",
      "std     0.319970  \n",
      "min     4.000000  \n",
      "25%     4.500000  \n",
      "50%     5.000000  \n",
      "75%     5.000000  \n",
      "max     5.000000  \n"
     ]
    },
    {
     "data": {
      "text/html": [
       "<div>\n",
       "<table border=\"1\" class=\"dataframe\">\n",
       "  <thead>\n",
       "    <tr style=\"text-align: right;\">\n",
       "      <th></th>\n",
       "      <th>modelo</th>\n",
       "      <th>capacidade</th>\n",
       "      <th>menorPreco</th>\n",
       "      <th>maiorPreco</th>\n",
       "      <th>disponibilidade</th>\n",
       "      <th>num_avaliacoes</th>\n",
       "      <th>avaliacao</th>\n",
       "    </tr>\n",
       "  </thead>\n",
       "  <tbody>\n",
       "    <tr>\n",
       "      <th>0</th>\n",
       "      <td>iPhone 5S</td>\n",
       "      <td>16</td>\n",
       "      <td>1381.25</td>\n",
       "      <td>2559.99</td>\n",
       "      <td>15</td>\n",
       "      <td>1006</td>\n",
       "      <td>4.5</td>\n",
       "    </tr>\n",
       "    <tr>\n",
       "      <th>1</th>\n",
       "      <td>iPhone 7</td>\n",
       "      <td>128</td>\n",
       "      <td>3399.00</td>\n",
       "      <td>3959.12</td>\n",
       "      <td>14</td>\n",
       "      <td>25</td>\n",
       "      <td>4.5</td>\n",
       "    </tr>\n",
       "    <tr>\n",
       "      <th>2</th>\n",
       "      <td>iPhone 7</td>\n",
       "      <td>32</td>\n",
       "      <td>2931.65</td>\n",
       "      <td>3607.12</td>\n",
       "      <td>14</td>\n",
       "      <td>12</td>\n",
       "      <td>5.0</td>\n",
       "    </tr>\n",
       "    <tr>\n",
       "      <th>3</th>\n",
       "      <td>iPhone 7 Plus</td>\n",
       "      <td>128</td>\n",
       "      <td>3849.00</td>\n",
       "      <td>4499.00</td>\n",
       "      <td>13</td>\n",
       "      <td>15</td>\n",
       "      <td>4.0</td>\n",
       "    </tr>\n",
       "    <tr>\n",
       "      <th>4</th>\n",
       "      <td>iPhone 7 Plus</td>\n",
       "      <td>256</td>\n",
       "      <td>4199.00</td>\n",
       "      <td>4899.00</td>\n",
       "      <td>13</td>\n",
       "      <td>9</td>\n",
       "      <td>5.0</td>\n",
       "    </tr>\n",
       "    <tr>\n",
       "      <th>5</th>\n",
       "      <td>iPhone 6S</td>\n",
       "      <td>128</td>\n",
       "      <td>2991.12</td>\n",
       "      <td>4599.00</td>\n",
       "      <td>12</td>\n",
       "      <td>26</td>\n",
       "      <td>4.5</td>\n",
       "    </tr>\n",
       "    <tr>\n",
       "      <th>6</th>\n",
       "      <td>iPhone 7 Plus</td>\n",
       "      <td>32</td>\n",
       "      <td>3499.00</td>\n",
       "      <td>4099.00</td>\n",
       "      <td>12</td>\n",
       "      <td>9</td>\n",
       "      <td>4.5</td>\n",
       "    </tr>\n",
       "    <tr>\n",
       "      <th>7</th>\n",
       "      <td>iPhone 7</td>\n",
       "      <td>256</td>\n",
       "      <td>3497.75</td>\n",
       "      <td>4899.00</td>\n",
       "      <td>12</td>\n",
       "      <td>7</td>\n",
       "      <td>5.0</td>\n",
       "    </tr>\n",
       "    <tr>\n",
       "      <th>8</th>\n",
       "      <td>iPhone 6</td>\n",
       "      <td>16</td>\n",
       "      <td>2249.10</td>\n",
       "      <td>4599.00</td>\n",
       "      <td>11</td>\n",
       "      <td>396</td>\n",
       "      <td>5.0</td>\n",
       "    </tr>\n",
       "    <tr>\n",
       "      <th>9</th>\n",
       "      <td>iPhone 6S</td>\n",
       "      <td>16</td>\n",
       "      <td>2464.41</td>\n",
       "      <td>3999.00</td>\n",
       "      <td>11</td>\n",
       "      <td>64</td>\n",
       "      <td>5.0</td>\n",
       "    </tr>\n",
       "    <tr>\n",
       "      <th>10</th>\n",
       "      <td>iPhone 6S</td>\n",
       "      <td>32</td>\n",
       "      <td>2639.64</td>\n",
       "      <td>2999.00</td>\n",
       "      <td>9</td>\n",
       "      <td>4</td>\n",
       "      <td>5.0</td>\n",
       "    </tr>\n",
       "    <tr>\n",
       "      <th>11</th>\n",
       "      <td>iPhone 6S</td>\n",
       "      <td>64</td>\n",
       "      <td>3499.00</td>\n",
       "      <td>5305.00</td>\n",
       "      <td>5</td>\n",
       "      <td>65</td>\n",
       "      <td>5.0</td>\n",
       "    </tr>\n",
       "    <tr>\n",
       "      <th>12</th>\n",
       "      <td>iPhone 6</td>\n",
       "      <td>64</td>\n",
       "      <td>2306.31</td>\n",
       "      <td>3039.05</td>\n",
       "      <td>4</td>\n",
       "      <td>130</td>\n",
       "      <td>5.0</td>\n",
       "    </tr>\n",
       "    <tr>\n",
       "      <th>13</th>\n",
       "      <td>iPhone 5S</td>\n",
       "      <td>32</td>\n",
       "      <td>2149.00</td>\n",
       "      <td>2149.00</td>\n",
       "      <td>2</td>\n",
       "      <td>178</td>\n",
       "      <td>4.5</td>\n",
       "    </tr>\n",
       "    <tr>\n",
       "      <th>14</th>\n",
       "      <td>iPhone 6</td>\n",
       "      <td>128</td>\n",
       "      <td>3799.00</td>\n",
       "      <td>3799.00</td>\n",
       "      <td>1</td>\n",
       "      <td>52</td>\n",
       "      <td>4.5</td>\n",
       "    </tr>\n",
       "  </tbody>\n",
       "</table>\n",
       "</div>"
      ],
      "text/plain": [
       "           modelo  capacidade  menorPreco  maiorPreco  disponibilidade  \\\n",
       "0       iPhone 5S          16     1381.25     2559.99               15   \n",
       "1        iPhone 7         128     3399.00     3959.12               14   \n",
       "2        iPhone 7          32     2931.65     3607.12               14   \n",
       "3   iPhone 7 Plus         128     3849.00     4499.00               13   \n",
       "4   iPhone 7 Plus         256     4199.00     4899.00               13   \n",
       "5       iPhone 6S         128     2991.12     4599.00               12   \n",
       "6   iPhone 7 Plus          32     3499.00     4099.00               12   \n",
       "7        iPhone 7         256     3497.75     4899.00               12   \n",
       "8        iPhone 6          16     2249.10     4599.00               11   \n",
       "9       iPhone 6S          16     2464.41     3999.00               11   \n",
       "10      iPhone 6S          32     2639.64     2999.00                9   \n",
       "11      iPhone 6S          64     3499.00     5305.00                5   \n",
       "12       iPhone 6          64     2306.31     3039.05                4   \n",
       "13      iPhone 5S          32     2149.00     2149.00                2   \n",
       "14       iPhone 6         128     3799.00     3799.00                1   \n",
       "\n",
       "    num_avaliacoes  avaliacao  \n",
       "0             1006        4.5  \n",
       "1               25        4.5  \n",
       "2               12        5.0  \n",
       "3               15        4.0  \n",
       "4                9        5.0  \n",
       "5               26        4.5  \n",
       "6                9        4.5  \n",
       "7                7        5.0  \n",
       "8              396        5.0  \n",
       "9               64        5.0  \n",
       "10               4        5.0  \n",
       "11              65        5.0  \n",
       "12             130        5.0  \n",
       "13             178        4.5  \n",
       "14              52        4.5  "
      ]
     },
     "execution_count": 21,
     "metadata": {},
     "output_type": "execute_result"
    }
   ],
   "source": [
    "url = \"../2017.1/data/scraping/buscape/7\"\n",
    "parsed_page = BeautifulSoup(open(url,encoding=\"latin1\"),\"html.parser\")\n",
    "\n",
    "precoToFloat = lambda x: float(re.sub(',','.',re.sub('[a-zA-Z\\$\\s\\.]+','',x)))\n",
    "listCelulares = []\n",
    "for a in parsed_page.find_all('li',itemtype=re.compile('Product')):\n",
    "    # Parte identica aa aula\n",
    "    modelo, capacidade = re.match('(iPhone \\dS?(?:\\sPlus)?)\\s*(\\d+)GB',\\\n",
    "                                  re.sub('Smartphone Apple ','',\\\n",
    "                                         a.find('div',class_='bui-product__name').text)).groups()\n",
    "    menorPreco = precoToFloat(a.find(itemprop='lowPrice').text)\n",
    "    maiorPreco = precoToFloat(a.find(itemprop='highPrice').text)\n",
    "    disponibilidade = int(a.find('span',attrs={'name': 'offerCount'}).text)\n",
    "    \n",
    "    # Modificacoes do exercicio\n",
    "    \n",
    "    num_avaliacoes = int(re.sub('\\.','',a.find('span', itemprop='ratingCount').text))    \n",
    "    avaliacao = 1.0 * len(a.find_all('span',class_='starfull')) + \\\n",
    "                        0.5 * len(a.find_all('span',class_='starhalf')) \n",
    "    \n",
    "    listCelulares.append(dict(zip(['modelo','capacidade','menorPreco','maiorPreco','disponibilidade',\n",
    "                                   'num_avaliacoes', 'avaliacao'],\n",
    "                                  [modelo,int(capacidade),menorPreco,maiorPreco,disponibilidade, \n",
    "                                   num_avaliacoes,avaliacao])))\n",
    "\n",
    "dataCelulares = pd.DataFrame(listCelulares,\n",
    "                             columns=['modelo','capacidade','menorPreco','maiorPreco','disponibilidade',\n",
    "                                     'num_avaliacoes', 'avaliacao'])\n",
    "print(dataCelulares.describe())\n",
    "dataCelulares"
   ]
  },
  {
   "cell_type": "code",
   "execution_count": null,
   "metadata": {
    "collapsed": true
   },
   "outputs": [],
   "source": []
  }
 ],
 "metadata": {
  "kernelspec": {
   "display_name": "Python 3",
   "language": "python",
   "name": "python3"
  },
  "language_info": {
   "codemirror_mode": {
    "name": "ipython",
    "version": 3
   },
   "file_extension": ".py",
   "mimetype": "text/x-python",
   "name": "python",
   "nbconvert_exporter": "python",
   "pygments_lexer": "ipython3",
   "version": "3.5.2"
  }
 },
 "nbformat": 4,
 "nbformat_minor": 2
}
