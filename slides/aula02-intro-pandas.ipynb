{
 "cells": [
  {
   "cell_type": "code",
   "execution_count": 2,
   "metadata": {
    "collapsed": false,
    "slideshow": {
     "slide_type": "skip"
    }
   },
   "outputs": [],
   "source": [
    "import numpy as np\n",
    "import pandas as pd\n"
   ]
  },
  {
   "cell_type": "markdown",
   "metadata": {
    "slideshow": {
     "slide_type": "slide"
    }
   },
   "source": [
    "# Aula 02 &mdash; Introdução a Pandas\n",
    "\n",
    "Renato Vimieiro\n",
    "rv2 {em} cin.ufpe.br\n",
    "\n",
    "março 2017"
   ]
  },
  {
   "cell_type": "markdown",
   "metadata": {
    "slideshow": {
     "slide_type": "slide"
    }
   },
   "source": [
    "# Resumo da aula\n",
    "\n",
    "- O objetivo dessa aula é aprender os conceitos básicos da biblioteca Pandas\n",
    "- Começaremos por uma revisão dos conceitos básicos de Python\n",
    "- Depois passaremos para uma breve introdução sobre NumPy\n",
    "- Finalmente continuaremos com Pandas"
   ]
  },
  {
   "cell_type": "markdown",
   "metadata": {
    "slideshow": {
     "slide_type": "slide"
    }
   },
   "source": [
    "# Por quê Python?\n",
    "\n",
    "- Python é uma linguagem de programação amplamente usada para Data Science\n",
    "- De acordo com o blog KDNuggets, Python assumiu recentemente o posto de linguagem mais usada em Data Science, passando R\n"
   ]
  },
  {
   "cell_type": "markdown",
   "metadata": {
    "slideshow": {
     "slide_type": "slide"
    }
   },
   "source": [
    "# Por quê Python?\n",
    "\n",
    "- Entre as vantagens de Python, podemos citar:\n",
    "    - Facilidade de aprendizado\n",
    "    - Livre\n",
    "    - Grande número de bibliotecas disponíveis\n",
    "    - Integração com outras linguagens\n",
    "- A grande desvantagem é seu desempenho computacional por ser interpretada (não sempre)"
   ]
  },
  {
   "cell_type": "markdown",
   "metadata": {
    "slideshow": {
     "slide_type": "slide"
    }
   },
   "source": [
    "# Python em 10 minuto"
   ]
  },
  {
   "cell_type": "code",
   "execution_count": 3,
   "metadata": {
    "collapsed": false,
    "slideshow": {
     "slide_type": "subslide"
    }
   },
   "outputs": [
    {
     "name": "stdout",
     "output_type": "stream",
     "text": [
      "Hello World!\n",
      "João 45 85.3\n"
     ]
    }
   ],
   "source": [
    "# Imprimir mensagens\n",
    "print(\"Hello World!\")\n",
    "\n",
    "# Variaveis sao dinamicamente tipadas\n",
    "nome = \"João\"\n",
    "idade = 45\n",
    "peso = 85.3\n",
    "\n",
    "print(nome, idade, peso)\n"
   ]
  },
  {
   "cell_type": "code",
   "execution_count": 4,
   "metadata": {
    "collapsed": false,
    "slideshow": {
     "slide_type": "subslide"
    }
   },
   "outputs": [
    {
     "name": "stdout",
     "output_type": "stream",
     "text": [
      "['João', 45, 85.3]\n",
      "(1, 3, -1)\n",
      "João\n"
     ]
    }
   ],
   "source": [
    "# Listas reunem diversos valores\n",
    "dados = [nome, idade, peso]\n",
    "print(dados)\n",
    "\n",
    "# Python ainda possui tuplas ordenadas\n",
    "ponto = (1,3,-1)\n",
    "print(ponto)\n",
    "\n",
    "# E dicionarios que mapeiam uma chave a um valor\n",
    "dic = {'nome':nome, 'idade':idade, 'peso':peso, 'end': 'Av. Jornalista Anibal Fernandes, Centro de Informática'}\n",
    "print(dic['nome'])"
   ]
  },
  {
   "cell_type": "code",
   "execution_count": 5,
   "metadata": {
    "collapsed": false,
    "slideshow": {
     "slide_type": "subslide"
    }
   },
   "outputs": [
    {
     "ename": "IndentationError",
     "evalue": "unexpected indent (<ipython-input-5-8fc6772e7a98>, line 6)",
     "output_type": "error",
     "traceback": [
      "\u001b[0;36m  File \u001b[0;32m\"<ipython-input-5-8fc6772e7a98>\"\u001b[0;36m, line \u001b[0;32m6\u001b[0m\n\u001b[0;31m    print(\"Erro\")\u001b[0m\n\u001b[0m    ^\u001b[0m\n\u001b[0;31mIndentationError\u001b[0m\u001b[0;31m:\u001b[0m unexpected indent\n"
     ]
    }
   ],
   "source": [
    "# Testes condicionais sao feitos da seguinte forma\n",
    "if idade > 65:\n",
    "    # Python usa indentacao para definir o nivel das instrucoes\n",
    "    # logo, tome cuidado para alinhar as instrucoes pertencentes ao mesmo nivel\n",
    "    print(nome, \"é um candidato a se aposentar\")\n",
    "       print(\"Erro\")\n",
    "else:\n",
    "    print(nome, \"tem de trabalhar mais um pouco\")"
   ]
  },
  {
   "cell_type": "code",
   "execution_count": 6,
   "metadata": {
    "collapsed": false,
    "slideshow": {
     "slide_type": "subslide"
    }
   },
   "outputs": [
    {
     "name": "stdout",
     "output_type": "stream",
     "text": [
      "Já passei por aqui 1 vez(es)\n",
      "Já passei por aqui 2 vez(es)\n",
      "Já passei por aqui 3 vez(es)\n",
      "Já passei por aqui 4 vez(es)\n",
      "Já passei por aqui 5 vez(es)\n"
     ]
    }
   ],
   "source": [
    "# Repeticoes podem ser feitas de duas formas\n",
    "# 1 - usando lacos while\n",
    "vezes = 1\n",
    "while vezes <= 5:\n",
    "    print(\"Já passei por aqui {0} vez(es)\".format(vezes))\n",
    "    vezes += 1\n",
    "    "
   ]
  },
  {
   "cell_type": "code",
   "execution_count": 7,
   "metadata": {
    "collapsed": false,
    "slideshow": {
     "slide_type": "subslide"
    }
   },
   "outputs": [
    {
     "name": "stdout",
     "output_type": "stream",
     "text": [
      "Já passei por aqui 1 vez(es)\n",
      "Já passei por aqui 2 vez(es)\n",
      "Já passei por aqui 3 vez(es)\n",
      "Já passei por aqui 4 vez(es)\n",
      "Já passei por aqui 5 vez(es)\n",
      "====\n",
      "Já passei por aqui 1 vez(es)\n",
      "Já passei por aqui 2 vez(es)\n",
      "Já passei por aqui 3 vez(es)\n",
      "Já passei por aqui 4 vez(es)\n",
      "Já passei por aqui 5 vez(es)\n"
     ]
    }
   ],
   "source": [
    "# 2 - enumerando os elementos de uma lista (objeto iteravel)\n",
    "for vezes in [1, 2, 3, 4, 5]:\n",
    "    print(\"Já passei por aqui {0} vez(es)\".format(vezes))\n",
    "print(\"====\")\n",
    "# Ou ainda\n",
    "for vezes in range(1,6,1):\n",
    "    print(\"Já passei por aqui {0} vez(es)\".format(vezes))"
   ]
  },
  {
   "cell_type": "code",
   "execution_count": 8,
   "metadata": {
    "collapsed": false,
    "slideshow": {
     "slide_type": "subslide"
    }
   },
   "outputs": [
    {
     "name": "stdout",
     "output_type": "stream",
     "text": [
      "[1, 4, 9, 16, 25]\n",
      "[4, 16]\n",
      "[[1, 0, 0, 0], [1, 1, 1, 1], [1, 2, 4, 8], [1, 3, 9, 27]]\n"
     ]
    }
   ],
   "source": [
    "# Python possui um recurso bastante util para gerar listas de elementos\n",
    "# Pode-se definir uma lista quase que da mesma forma com que se define um conjunto em matematica\n",
    "# esse recurso e chamado de list comprehension\n",
    "\n",
    "quadrados = [a**2 for a in range(1,6)]\n",
    "paresQuadrado = [a**2 for a in range(1,6) if a%2==0]\n",
    "\n",
    "print(quadrados)\n",
    "print(paresQuadrado)\n",
    "\n",
    "# Pode-se fazer coisa mais complexas como\n",
    "primPotencias = [[base**expo for expo in range(4)] for base in range(4)]\n",
    "print(primPotencias)"
   ]
  },
  {
   "cell_type": "code",
   "execution_count": 9,
   "metadata": {
    "collapsed": false,
    "slideshow": {
     "slide_type": "subslide"
    }
   },
   "outputs": [
    {
     "name": "stdout",
     "output_type": "stream",
     "text": [
      "9\n",
      "9\n"
     ]
    }
   ],
   "source": [
    "# funcoes em Python sao definidas da seguinte forma\n",
    "def quadrado(x):\n",
    "    return x**2\n",
    "\n",
    "print(quadrado(3))\n",
    "\n",
    "# funcoes mais simples podem ser definidas como funcoes lambda\n",
    "f = lambda x: x**2\n",
    "print(f(3))"
   ]
  },
  {
   "cell_type": "code",
   "execution_count": 10,
   "metadata": {
    "collapsed": false,
    "slideshow": {
     "slide_type": "subslide"
    }
   },
   "outputs": [
    {
     "name": "stdout",
     "output_type": "stream",
     "text": [
      "<map object at 0x10c969940> [0, 1, 4, 9, 16, 25]\n",
      "<zip object at 0x10c961bc8> [(0, 0), (1, 1), (2, 4), (3, 9), (4, 16), (5, 25)]\n",
      "<filter object at 0x10c969978> [0, 2, 4, 6, 8]\n"
     ]
    }
   ],
   "source": [
    "# Algumas funcoes uteis em Python\n",
    "# map = aplica uma funcao a cada um dos elementos de uma lista e retorna o resultado como um iteravel\n",
    "a = map(f, range(6))\n",
    "print(a, list(a))\n",
    "\n",
    "# zip = combina elementos de varios iteraveis em tuplas\n",
    "a = zip(range(6),map(f, range(6)))\n",
    "print(a,list(a))\n",
    "\n",
    "# filter = retorna os elementos de um iteravel para os quais o resultado de uma funcao e verdadeiro\n",
    "a = filter(lambda x: x%2==0, range(10))\n",
    "print(a,list(a))"
   ]
  },
  {
   "cell_type": "markdown",
   "metadata": {
    "slideshow": {
     "slide_type": "slide"
    }
   },
   "source": [
    "# Breve introdução a NumPy\n",
    "\n",
    "- NumPy é uma biblioteca de Python que oferece, entre outras coisas, estruturas de dados multi-dimensionais eficientes\n",
    "- A estrutura básica de NumPy é `ndarray`\n",
    "- Objetos `ndarray` oferecem suporte a vários tipos numéricos (inteiros e ponto flutuante de 8, 16, 32 e 64 bits), além de strings e outros objetos em Python\n",
    "- Facilita a integração com C/C++ e Fortran "
   ]
  },
  {
   "cell_type": "code",
   "execution_count": 11,
   "metadata": {
    "collapsed": false,
    "slideshow": {
     "slide_type": "subslide"
    }
   },
   "outputs": [
    {
     "name": "stdout",
     "output_type": "stream",
     "text": [
      "<class 'numpy.ndarray'> [1 2 3 4 5]\n",
      "[[ 0  1  2  3  4  5]\n",
      " [ 6  7  8  9 10 11]]\n",
      "(5,) (2, 6)\n",
      "[[ 0  1  2  3]\n",
      " [ 4  5  6  7]\n",
      " [ 8  9 10 11]]\n"
     ]
    }
   ],
   "source": [
    "# Pode-se criar um vetor numpy usando outros iteraveis\n",
    "# Unidimensional\n",
    "arr1 = np.array([1,2,3,4,5])\n",
    "print(type(arr1),arr1)\n",
    "\n",
    "# Bidimensional\n",
    "arr2 = np.array([range(6),range(6,12)])\n",
    "print(arr2)\n",
    "\n",
    "# Os tamanhos das dimensoes podem ser obtidos com o metodo shape\n",
    "print(arr1.shape, arr2.shape)\n",
    "\n",
    "# Pode-se alterar a forma de um vetor mesmo apos sua criacao\n",
    "arr2.shape = (3,4)\n",
    "print(arr2)"
   ]
  },
  {
   "cell_type": "code",
   "execution_count": 12,
   "metadata": {
    "collapsed": false,
    "slideshow": {
     "slide_type": "subslide"
    }
   },
   "outputs": [
    {
     "name": "stdout",
     "output_type": "stream",
     "text": [
      "[[  0.   5.  10.  15.  20.]\n",
      " [ 25.  30.  35.  40.  45.]]\n",
      "[[ 0.1  0.2  0.3  0.4  0.5]\n",
      " [ 0.6  0.7  0.8  0.9  1. ]] \n",
      "====\n",
      "[[ -0.1   4.8   9.7  14.6  19.5]\n",
      " [ 24.4  29.3  34.2  39.1  44. ]] \n",
      "====\n",
      "[[  0.   1.   3.   6.  10.]\n",
      " [ 15.  21.  28.  36.  45.]] \n",
      "====\n",
      "[[  20.    57.5]\n",
      " [  45.   145. ]]\n"
     ]
    }
   ],
   "source": [
    "# NumPy permite operacoes vetorizadas\n",
    "arr1 = np.arange(50,step=5,dtype=np.float).reshape((2,5))\n",
    "print(arr1)\n",
    "arr2 = np.linspace(.1,1,num=10,dtype=np.float).reshape((2,5))\n",
    "print(arr2,\"\\n====\")\n",
    "print(arr1 - arr2,\"\\n====\")\n",
    "print(arr2*arr1,\"\\n====\")\n",
    "print(np.dot(arr2,arr1.T))\n"
   ]
  },
  {
   "cell_type": "code",
   "execution_count": 13,
   "metadata": {
    "collapsed": false,
    "slideshow": {
     "slide_type": "subslide"
    }
   },
   "outputs": [
    {
     "name": "stdout",
     "output_type": "stream",
     "text": [
      "45.0\n",
      "[[ 10.  15.]\n",
      " [ 35.  40.]]\n",
      "[[  0.   5.   0.   0.  20.]\n",
      " [ 25.  30.   0.   0.  45.]]\n"
     ]
    }
   ],
   "source": [
    "# Para acessar um elemento, basta informar seu indice em cada eixo\n",
    "# linha 1 coluna 4\n",
    "print(arr1[1,4])\n",
    "\n",
    "# Podemos tambem selecionar uma porcao dos elementos (slicing)\n",
    "aslice = arr1[:,2:4]\n",
    "print(aslice)\n",
    "\n",
    "# O resultado de um slice (basico) e' uma visao do vetor original\n",
    "# Os valores podem ser modificados atraves dessa visao\n",
    "aslice[:,:] = 0\n",
    "print(arr1)"
   ]
  },
  {
   "cell_type": "code",
   "execution_count": 14,
   "metadata": {
    "collapsed": false,
    "slideshow": {
     "slide_type": "subslide"
    }
   },
   "outputs": [
    {
     "name": "stdout",
     "output_type": "stream",
     "text": [
      "[[  0.   0.  20.]\n",
      " [ 25.   0.  45.]]\n",
      "[ 20.  25.  30.  45.]\n"
     ]
    }
   ],
   "source": [
    "# NumPy oferece ainda mecanismos para selecao avancada de porcoes\n",
    "# Usando uma lista de indices\n",
    "print(arr1[:,[0,2,4]])\n",
    "\n",
    "# Ou mascaras booleanas\n",
    "print(arr1[arr1>10])"
   ]
  },
  {
   "cell_type": "markdown",
   "metadata": {
    "slideshow": {
     "slide_type": "slide"
    }
   },
   "source": [
    "# Pandas\n",
    "\n",
    "- Pandas é uma biblioteca que introduz o conceito de *Data Frame* a Python\n",
    "- Data frames são como planilhas do Excel, ou tabelas em BDs, matrizes ...\n",
    "- A representação básica é que os dados possuem rótulos tanto para as colunas, quanto para as linhas\n",
    "- Pandas oferece várias funções para manipulação dos dados\n",
    "- Ela é baseada em NumPy"
   ]
  },
  {
   "cell_type": "markdown",
   "metadata": {
    "slideshow": {
     "slide_type": "subslide"
    }
   },
   "source": [
    "# Leitura/carregamento de dados\n",
    "\n",
    "- Usaremos os dados sobre avaliações de filmes no site [MovieLens](https://movielens.org/)\n",
    "- Diversos dados sobre os usuários, filmes e avaliações foram disponibilizados pelo [GroupLens](https://grouplens.org/)\n",
    "- Os dados estão disponíveis online em arquivos separdos por barras (ver descrição em [README](http://files.grouplens.org/datasets/movielens/ml-100k/README))\n"
   ]
  },
  {
   "cell_type": "markdown",
   "metadata": {
    "slideshow": {
     "slide_type": "subslide"
    }
   },
   "source": [
    "# Leitura/carregamento de dados\n",
    "\n",
    "- Pandas possui funcoes para leitura de dados em diversos formatos\n",
    "- Vamos comecar com o formato mais simples: csv\n",
    "- Vamos obter os dados sobre os usuários, filmes e avaliações\n",
    "\n"
   ]
  },
  {
   "cell_type": "markdown",
   "metadata": {
    "slideshow": {
     "slide_type": "subslide"
    }
   },
   "source": [
    "# Leitura dos dados dos usuários\n",
    "\n",
    "- A descrição dos dados revela que o arquivo de usuários contém informações demográficas dos usuários\n",
    "- O arquivo é separado por barras e possui as seguintes colunas: user id | age | gender | occupation | zip code\n",
    "- O arquivo não possui cabeçalho, logo, precisamos informar os rótulos das colunas"
   ]
  },
  {
   "cell_type": "code",
   "execution_count": 15,
   "metadata": {
    "collapsed": false,
    "slideshow": {
     "slide_type": "subslide"
    }
   },
   "outputs": [
    {
     "name": "stdout",
     "output_type": "stream",
     "text": [
      "(943, 5)\n"
     ]
    },
    {
     "data": {
      "text/html": [
       "<div>\n",
       "<table border=\"1\" class=\"dataframe\">\n",
       "  <thead>\n",
       "    <tr style=\"text-align: right;\">\n",
       "      <th></th>\n",
       "      <th>user_id</th>\n",
       "      <th>age</th>\n",
       "      <th>gender</th>\n",
       "      <th>occupation</th>\n",
       "      <th>zip_code</th>\n",
       "    </tr>\n",
       "  </thead>\n",
       "  <tbody>\n",
       "    <tr>\n",
       "      <th>0</th>\n",
       "      <td>1</td>\n",
       "      <td>24</td>\n",
       "      <td>M</td>\n",
       "      <td>technician</td>\n",
       "      <td>85711</td>\n",
       "    </tr>\n",
       "    <tr>\n",
       "      <th>1</th>\n",
       "      <td>2</td>\n",
       "      <td>53</td>\n",
       "      <td>F</td>\n",
       "      <td>other</td>\n",
       "      <td>94043</td>\n",
       "    </tr>\n",
       "    <tr>\n",
       "      <th>2</th>\n",
       "      <td>3</td>\n",
       "      <td>23</td>\n",
       "      <td>M</td>\n",
       "      <td>writer</td>\n",
       "      <td>32067</td>\n",
       "    </tr>\n",
       "    <tr>\n",
       "      <th>3</th>\n",
       "      <td>4</td>\n",
       "      <td>24</td>\n",
       "      <td>M</td>\n",
       "      <td>technician</td>\n",
       "      <td>43537</td>\n",
       "    </tr>\n",
       "    <tr>\n",
       "      <th>4</th>\n",
       "      <td>5</td>\n",
       "      <td>33</td>\n",
       "      <td>F</td>\n",
       "      <td>other</td>\n",
       "      <td>15213</td>\n",
       "    </tr>\n",
       "  </tbody>\n",
       "</table>\n",
       "</div>"
      ],
      "text/plain": [
       "   user_id  age gender  occupation zip_code\n",
       "0        1   24      M  technician    85711\n",
       "1        2   53      F       other    94043\n",
       "2        3   23      M      writer    32067\n",
       "3        4   24      M  technician    43537\n",
       "4        5   33      F       other    15213"
      ]
     },
     "execution_count": 15,
     "metadata": {},
     "output_type": "execute_result"
    }
   ],
   "source": [
    "usuarios = pd.read_csv(\n",
    "    \"http://files.grouplens.org/datasets/movielens/ml-100k/u.user\",\n",
    "    sep='|',header=None, names=[\"user_id\", \"age\", \"gender\", \"occupation\", \"zip_code\"])\n",
    "print(usuarios.shape)\n",
    "usuarios.head()"
   ]
  },
  {
   "cell_type": "markdown",
   "metadata": {
    "slideshow": {
     "slide_type": "subslide"
    }
   },
   "source": [
    "# Leitura dos dados dos filmes\n",
    "\n",
    "- O arquivo dos filmes possui as colunas: movie id | movie title | release date | video release date |IMDb URL | unknown | Action | Adventure ...\n",
    "\n",
    "- As últimas 19 colunas são referentes ao gênero do filme\n",
    "- Como um filme pode ser classificado com mais de um gênero, a coluna possui 1/0 se o filme pertence ou não ao gênero"
   ]
  },
  {
   "cell_type": "code",
   "execution_count": 16,
   "metadata": {
    "collapsed": false,
    "slideshow": {
     "slide_type": "subslide"
    }
   },
   "outputs": [
    {
     "name": "stdout",
     "output_type": "stream",
     "text": [
      "(1682, 24)\n"
     ]
    },
    {
     "data": {
      "text/html": [
       "<div>\n",
       "<table border=\"1\" class=\"dataframe\">\n",
       "  <thead>\n",
       "    <tr style=\"text-align: right;\">\n",
       "      <th></th>\n",
       "      <th>movie_id</th>\n",
       "      <th>movie_title</th>\n",
       "      <th>release_date</th>\n",
       "      <th>video_release_date</th>\n",
       "      <th>IMDb_URL</th>\n",
       "      <th>unknown</th>\n",
       "      <th>Action</th>\n",
       "      <th>Adventure</th>\n",
       "      <th>Animation</th>\n",
       "      <th>Children</th>\n",
       "      <th>...</th>\n",
       "      <th>Fantasy</th>\n",
       "      <th>FilmNoir</th>\n",
       "      <th>Horror</th>\n",
       "      <th>Musical</th>\n",
       "      <th>Mystery</th>\n",
       "      <th>Romance</th>\n",
       "      <th>SciFi</th>\n",
       "      <th>Thriller</th>\n",
       "      <th>War</th>\n",
       "      <th>Western</th>\n",
       "    </tr>\n",
       "  </thead>\n",
       "  <tbody>\n",
       "    <tr>\n",
       "      <th>0</th>\n",
       "      <td>1</td>\n",
       "      <td>Toy Story (1995)</td>\n",
       "      <td>01-Jan-1995</td>\n",
       "      <td>NaN</td>\n",
       "      <td>http://us.imdb.com/M/title-exact?Toy%20Story%2...</td>\n",
       "      <td>0</td>\n",
       "      <td>0</td>\n",
       "      <td>0</td>\n",
       "      <td>1</td>\n",
       "      <td>1</td>\n",
       "      <td>...</td>\n",
       "      <td>0</td>\n",
       "      <td>0</td>\n",
       "      <td>0</td>\n",
       "      <td>0</td>\n",
       "      <td>0</td>\n",
       "      <td>0</td>\n",
       "      <td>0</td>\n",
       "      <td>0</td>\n",
       "      <td>0</td>\n",
       "      <td>0</td>\n",
       "    </tr>\n",
       "    <tr>\n",
       "      <th>1</th>\n",
       "      <td>2</td>\n",
       "      <td>GoldenEye (1995)</td>\n",
       "      <td>01-Jan-1995</td>\n",
       "      <td>NaN</td>\n",
       "      <td>http://us.imdb.com/M/title-exact?GoldenEye%20(...</td>\n",
       "      <td>0</td>\n",
       "      <td>1</td>\n",
       "      <td>1</td>\n",
       "      <td>0</td>\n",
       "      <td>0</td>\n",
       "      <td>...</td>\n",
       "      <td>0</td>\n",
       "      <td>0</td>\n",
       "      <td>0</td>\n",
       "      <td>0</td>\n",
       "      <td>0</td>\n",
       "      <td>0</td>\n",
       "      <td>0</td>\n",
       "      <td>1</td>\n",
       "      <td>0</td>\n",
       "      <td>0</td>\n",
       "    </tr>\n",
       "    <tr>\n",
       "      <th>2</th>\n",
       "      <td>3</td>\n",
       "      <td>Four Rooms (1995)</td>\n",
       "      <td>01-Jan-1995</td>\n",
       "      <td>NaN</td>\n",
       "      <td>http://us.imdb.com/M/title-exact?Four%20Rooms%...</td>\n",
       "      <td>0</td>\n",
       "      <td>0</td>\n",
       "      <td>0</td>\n",
       "      <td>0</td>\n",
       "      <td>0</td>\n",
       "      <td>...</td>\n",
       "      <td>0</td>\n",
       "      <td>0</td>\n",
       "      <td>0</td>\n",
       "      <td>0</td>\n",
       "      <td>0</td>\n",
       "      <td>0</td>\n",
       "      <td>0</td>\n",
       "      <td>1</td>\n",
       "      <td>0</td>\n",
       "      <td>0</td>\n",
       "    </tr>\n",
       "    <tr>\n",
       "      <th>3</th>\n",
       "      <td>4</td>\n",
       "      <td>Get Shorty (1995)</td>\n",
       "      <td>01-Jan-1995</td>\n",
       "      <td>NaN</td>\n",
       "      <td>http://us.imdb.com/M/title-exact?Get%20Shorty%...</td>\n",
       "      <td>0</td>\n",
       "      <td>1</td>\n",
       "      <td>0</td>\n",
       "      <td>0</td>\n",
       "      <td>0</td>\n",
       "      <td>...</td>\n",
       "      <td>0</td>\n",
       "      <td>0</td>\n",
       "      <td>0</td>\n",
       "      <td>0</td>\n",
       "      <td>0</td>\n",
       "      <td>0</td>\n",
       "      <td>0</td>\n",
       "      <td>0</td>\n",
       "      <td>0</td>\n",
       "      <td>0</td>\n",
       "    </tr>\n",
       "    <tr>\n",
       "      <th>4</th>\n",
       "      <td>5</td>\n",
       "      <td>Copycat (1995)</td>\n",
       "      <td>01-Jan-1995</td>\n",
       "      <td>NaN</td>\n",
       "      <td>http://us.imdb.com/M/title-exact?Copycat%20(1995)</td>\n",
       "      <td>0</td>\n",
       "      <td>0</td>\n",
       "      <td>0</td>\n",
       "      <td>0</td>\n",
       "      <td>0</td>\n",
       "      <td>...</td>\n",
       "      <td>0</td>\n",
       "      <td>0</td>\n",
       "      <td>0</td>\n",
       "      <td>0</td>\n",
       "      <td>0</td>\n",
       "      <td>0</td>\n",
       "      <td>0</td>\n",
       "      <td>1</td>\n",
       "      <td>0</td>\n",
       "      <td>0</td>\n",
       "    </tr>\n",
       "  </tbody>\n",
       "</table>\n",
       "<p>5 rows × 24 columns</p>\n",
       "</div>"
      ],
      "text/plain": [
       "   movie_id        movie_title release_date  video_release_date  \\\n",
       "0         1   Toy Story (1995)  01-Jan-1995                 NaN   \n",
       "1         2   GoldenEye (1995)  01-Jan-1995                 NaN   \n",
       "2         3  Four Rooms (1995)  01-Jan-1995                 NaN   \n",
       "3         4  Get Shorty (1995)  01-Jan-1995                 NaN   \n",
       "4         5     Copycat (1995)  01-Jan-1995                 NaN   \n",
       "\n",
       "                                            IMDb_URL  unknown  Action  \\\n",
       "0  http://us.imdb.com/M/title-exact?Toy%20Story%2...        0       0   \n",
       "1  http://us.imdb.com/M/title-exact?GoldenEye%20(...        0       1   \n",
       "2  http://us.imdb.com/M/title-exact?Four%20Rooms%...        0       0   \n",
       "3  http://us.imdb.com/M/title-exact?Get%20Shorty%...        0       1   \n",
       "4  http://us.imdb.com/M/title-exact?Copycat%20(1995)        0       0   \n",
       "\n",
       "   Adventure  Animation  Children   ...     Fantasy  FilmNoir  Horror  \\\n",
       "0          0          1         1   ...           0         0       0   \n",
       "1          1          0         0   ...           0         0       0   \n",
       "2          0          0         0   ...           0         0       0   \n",
       "3          0          0         0   ...           0         0       0   \n",
       "4          0          0         0   ...           0         0       0   \n",
       "\n",
       "   Musical  Mystery  Romance  SciFi  Thriller  War  Western  \n",
       "0        0        0        0      0         0    0        0  \n",
       "1        0        0        0      0         1    0        0  \n",
       "2        0        0        0      0         1    0        0  \n",
       "3        0        0        0      0         0    0        0  \n",
       "4        0        0        0      0         1    0        0  \n",
       "\n",
       "[5 rows x 24 columns]"
      ]
     },
     "execution_count": 16,
     "metadata": {},
     "output_type": "execute_result"
    }
   ],
   "source": [
    "filmes = pd.read_csv(\n",
    "    \"http://files.grouplens.org/datasets/movielens/ml-100k/u.item\",\n",
    "    sep='|',header=None, names=[\"movie_id\", \"movie_title\",  \"release_date\", \"video_release_date\", \"IMDb_URL\", \"unknown\", \"Action\", \"Adventure\", \"Animation\", \n",
    "        \"Children\", \"Comedy\", \"Crime\", \"Documentary\", \"Drama\", \"Fantasy\",\"FilmNoir\", \"Horror\", \"Musical\", \"Mystery\", \"Romance\", \"SciFi\",\"Thriller\", \"War\", \"Western\"])\n",
    "print(filmes.shape)\n",
    "filmes.head()"
   ]
  },
  {
   "cell_type": "markdown",
   "metadata": {
    "slideshow": {
     "slide_type": "subslide"
    }
   },
   "source": [
    "# Leitura/carregamento dos dados das avaliações\n",
    "\n",
    "- O arquivo com as avaliações possui as seguintes colunas: user id | movie id | rating | timestamp\n",
    "- As duas primeiras colunas coincidem com os identificadores nas tabelas de usuário e filme\n",
    "- O horário na última coluna é representado como segundos passados desde 01/01/1970 0:00 UTC\n",
    "\n"
   ]
  },
  {
   "cell_type": "code",
   "execution_count": 17,
   "metadata": {
    "collapsed": false,
    "slideshow": {
     "slide_type": "subslide"
    }
   },
   "outputs": [
    {
     "name": "stdout",
     "output_type": "stream",
     "text": [
      "(100000, 4)\n"
     ]
    },
    {
     "data": {
      "text/html": [
       "<div>\n",
       "<table border=\"1\" class=\"dataframe\">\n",
       "  <thead>\n",
       "    <tr style=\"text-align: right;\">\n",
       "      <th></th>\n",
       "      <th>user_id</th>\n",
       "      <th>movie_id</th>\n",
       "      <th>rating</th>\n",
       "      <th>timestamp</th>\n",
       "    </tr>\n",
       "  </thead>\n",
       "  <tbody>\n",
       "    <tr>\n",
       "      <th>0</th>\n",
       "      <td>196</td>\n",
       "      <td>242</td>\n",
       "      <td>3</td>\n",
       "      <td>881250949</td>\n",
       "    </tr>\n",
       "    <tr>\n",
       "      <th>1</th>\n",
       "      <td>186</td>\n",
       "      <td>302</td>\n",
       "      <td>3</td>\n",
       "      <td>891717742</td>\n",
       "    </tr>\n",
       "    <tr>\n",
       "      <th>2</th>\n",
       "      <td>22</td>\n",
       "      <td>377</td>\n",
       "      <td>1</td>\n",
       "      <td>878887116</td>\n",
       "    </tr>\n",
       "    <tr>\n",
       "      <th>3</th>\n",
       "      <td>244</td>\n",
       "      <td>51</td>\n",
       "      <td>2</td>\n",
       "      <td>880606923</td>\n",
       "    </tr>\n",
       "    <tr>\n",
       "      <th>4</th>\n",
       "      <td>166</td>\n",
       "      <td>346</td>\n",
       "      <td>1</td>\n",
       "      <td>886397596</td>\n",
       "    </tr>\n",
       "  </tbody>\n",
       "</table>\n",
       "</div>"
      ],
      "text/plain": [
       "   user_id  movie_id  rating  timestamp\n",
       "0      196       242       3  881250949\n",
       "1      186       302       3  891717742\n",
       "2       22       377       1  878887116\n",
       "3      244        51       2  880606923\n",
       "4      166       346       1  886397596"
      ]
     },
     "execution_count": 17,
     "metadata": {},
     "output_type": "execute_result"
    }
   ],
   "source": [
    "avaliacoes = pd.read_csv(\n",
    "    \"http://files.grouplens.org/datasets/movielens/ml-100k/u.data\",\n",
    "    sep='\\t',header=None, names=[\"user_id\", \"movie_id\", \"rating\", \"timestamp\"])\n",
    "print(avaliacoes.shape)\n",
    "avaliacoes.head()"
   ]
  },
  {
   "cell_type": "markdown",
   "metadata": {
    "slideshow": {
     "slide_type": "subslide"
    }
   },
   "source": [
    "# Obtendo descrições e tipos dos dados\n",
    "\n",
    "- Após o carregamento dos dados, é importante verificar se ele foi feito corretamente\n",
    "- Devemos verificar se os tipos de dados foram assinalados corretamente\n",
    "- Também podemos obter uma descrição sucinta dos dados para uma primeira impressão"
   ]
  },
  {
   "cell_type": "code",
   "execution_count": 20,
   "metadata": {
    "collapsed": false,
    "slideshow": {
     "slide_type": "subslide"
    }
   },
   "outputs": [
    {
     "name": "stdout",
     "output_type": "stream",
     "text": [
      "          user_id         age\n",
      "count  943.000000  943.000000\n",
      "mean   472.000000   34.051962\n",
      "std    272.364951   12.192740\n",
      "min      1.000000    7.000000\n",
      "25%    236.500000   25.000000\n",
      "50%    472.000000   31.000000\n",
      "75%    707.500000   43.000000\n",
      "max    943.000000   73.000000 \n",
      "\n",
      "user_id        int64\n",
      "age            int64\n",
      "gender        object\n",
      "occupation    object\n",
      "zip_code      object\n",
      "dtype: object\n"
     ]
    }
   ],
   "source": [
    "print(usuarios.describe(),\"\\n\")\n",
    "print(usuarios.dtypes)"
   ]
  },
  {
   "cell_type": "code",
   "execution_count": 23,
   "metadata": {
    "collapsed": false,
    "slideshow": {
     "slide_type": "subslide"
    }
   },
   "outputs": [
    {
     "name": "stdout",
     "output_type": "stream",
     "text": [
      "movie_id                int64\n",
      "movie_title            object\n",
      "release_date           object\n",
      "video_release_date    float64\n",
      "IMDb_URL               object\n",
      "unknown                 int64\n",
      "Action                  int64\n",
      "Adventure               int64\n",
      "Animation               int64\n",
      "Children                int64\n",
      "Comedy                  int64\n",
      "Crime                   int64\n",
      "Documentary             int64\n",
      "Drama                   int64\n",
      "Fantasy                 int64\n",
      "FilmNoir                int64\n",
      "Horror                  int64\n",
      "Musical                 int64\n",
      "Mystery                 int64\n",
      "Romance                 int64\n",
      "SciFi                   int64\n",
      "Thriller                int64\n",
      "War                     int64\n",
      "Western                 int64\n",
      "dtype: object\n"
     ]
    }
   ],
   "source": [
    "print(filmes.dtypes)"
   ]
  }
 ],
 "metadata": {
  "celltoolbar": "Slideshow",
  "kernelspec": {
   "display_name": "Python 3",
   "language": "python",
   "name": "python3"
  },
  "language_info": {
   "codemirror_mode": {
    "name": "ipython",
    "version": 3
   },
   "file_extension": ".py",
   "mimetype": "text/x-python",
   "name": "python",
   "nbconvert_exporter": "python",
   "pygments_lexer": "ipython3",
   "version": "3.5.2"
  }
 },
 "nbformat": 4,
 "nbformat_minor": 2
}
