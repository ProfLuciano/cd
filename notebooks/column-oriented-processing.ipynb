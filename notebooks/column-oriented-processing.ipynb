{
 "cells": [
  {
   "cell_type": "markdown",
   "metadata": {
    "toc": true
   },
   "source": [
    "<h1>Table of Contents<span class=\"tocSkip\"></span></h1>\n",
    "<div class=\"toc\"><ul class=\"toc-item\"><li><span><a href=\"#Processamento-Colunar-de-Dados\" data-toc-modified-id=\"Processamento-Colunar-de-Dados-1\"><span class=\"toc-item-num\">1&nbsp;&nbsp;</span>Processamento Colunar de Dados</a></span><ul class=\"toc-item\"><li><span><a href=\"#Motivação\" data-toc-modified-id=\"Motivação-1.1\"><span class=\"toc-item-num\">1.1&nbsp;&nbsp;</span>Motivação</a></span></li><li><span><a href=\"#So-far-...\" data-toc-modified-id=\"So-far-...-1.2\"><span class=\"toc-item-num\">1.2&nbsp;&nbsp;</span>So far ...</a></span></li><li><span><a href=\"#O-que-aconteceu?\" data-toc-modified-id=\"O-que-aconteceu?-1.3\"><span class=\"toc-item-num\">1.3&nbsp;&nbsp;</span>O que aconteceu?</a></span></li></ul></li><li><span><a href=\"#Columnar-storage\" data-toc-modified-id=\"Columnar-storage-2\"><span class=\"toc-item-num\">2&nbsp;&nbsp;</span>Columnar storage</a></span></li><li><span><a href=\"#Frameworks\" data-toc-modified-id=\"Frameworks-3\"><span class=\"toc-item-num\">3&nbsp;&nbsp;</span>Frameworks</a></span><ul class=\"toc-item\"><li><span><a href=\"#pandas\" data-toc-modified-id=\"pandas-3.1\"><span class=\"toc-item-num\">3.1&nbsp;&nbsp;</span>pandas</a></span></li><li><span><a href=\"#dask\" data-toc-modified-id=\"dask-3.2\"><span class=\"toc-item-num\">3.2&nbsp;&nbsp;</span>dask</a></span></li><li><span><a href=\"#numba\" data-toc-modified-id=\"numba-3.3\"><span class=\"toc-item-num\">3.3&nbsp;&nbsp;</span>numba</a></span></li></ul></li><li><span><a href=\"#Referências\" data-toc-modified-id=\"Referências-4\"><span class=\"toc-item-num\">4&nbsp;&nbsp;</span>Referências</a></span></li></ul></div>"
   ]
  },
  {
   "cell_type": "markdown",
   "metadata": {},
   "source": [
    "# Processamento Colunar de Dados\n",
    "\n",
    "IF706 - Introdução à Ciência de Dados\n",
    "\n",
    "Guilherme Peixoto, MSc. candidate, Data Scientist @ In Loco\n",
    "\n",
    "---"
   ]
  },
  {
   "cell_type": "markdown",
   "metadata": {},
   "source": [
    "INB4: Que setup você está usando?\n",
    "\n",
    "Eu uso `jupyter notebook` com as extensões `Table of Contents (2)` e `Collapsible Headings`. Instruções no final."
   ]
  },
  {
   "cell_type": "markdown",
   "metadata": {},
   "source": [
    "## Motivação"
   ]
  },
  {
   "cell_type": "markdown",
   "metadata": {},
   "source": [
    "**Expectativa**: \n",
    "* gargalo do meu tempo como data scientist é melhorando meu modelo\n",
    "\n",
    "**Realidade**: \n",
    "* 80% cleaning data, 10% waiting, 5% making coffee, 5% modeling\n",
    "\n",
    "Precisamos melhorar a eficiência reduzindo nosso tempo idle"
   ]
  },
  {
   "cell_type": "markdown",
   "metadata": {},
   "source": [
    "**Casos de uso**\n",
    "\n",
    "* Estatísticas descritivas\n",
    "* Aplicar a mesma transformação ao longo de uma coluna\n",
    "* Feature engineering\n",
    "* Realizar operações “mundanas” rapidamente: preencher dados faltando, criar slices baseados no valor de outra coluna, etc."
   ]
  },
  {
   "cell_type": "markdown",
   "metadata": {},
   "source": [
    "**Objetivo** : “bater no disco” é caro, IO é gargalo e deve ser minimizado"
   ]
  },
  {
   "cell_type": "markdown",
   "metadata": {},
   "source": [
    "## So far ..."
   ]
  },
  {
   "cell_type": "markdown",
   "metadata": {},
   "source": [
    "Na graduação, aprendemos até agora a processar o dado um por um conforme ele vem, maratona style\n",
    "\n",
    "Como seria o mundo de análise de dados sem processamento orientado a colunas?"
   ]
  },
  {
   "cell_type": "code",
   "execution_count": 1,
   "metadata": {},
   "outputs": [],
   "source": [
    "from sklearn.datasets import california_housing"
   ]
  },
  {
   "cell_type": "code",
   "execution_count": 2,
   "metadata": {},
   "outputs": [
    {
     "data": {
      "text/plain": [
       "dict_keys(['data', 'target', 'feature_names', 'DESCR'])"
      ]
     },
     "execution_count": 2,
     "metadata": {},
     "output_type": "execute_result"
    }
   ],
   "source": [
    "data = california_housing.fetch_california_housing()\n",
    "data.keys()"
   ]
  },
  {
   "cell_type": "code",
   "execution_count": 3,
   "metadata": {},
   "outputs": [
    {
     "name": "stdout",
     "output_type": "stream",
     "text": [
      ".. _california_housing_dataset:\n",
      "\n",
      "California Housing dataset\n",
      "--------------------------\n",
      "\n",
      "**Data Set Characteristics:**\n",
      "\n",
      "    :Number of Instances: 20640\n",
      "\n",
      "    :Number of Attributes: 8 numeric, predictive attributes and the target\n",
      "\n",
      "    :Attribute Information:\n",
      "        - MedInc        median income in block\n",
      "        - HouseAge      median house age in block\n",
      "        - AveRooms      average number of rooms\n",
      "        - AveBedrms     average number of bedrooms\n",
      "        - Population    block population\n",
      "        - AveOccup      average house occupancy\n",
      "        - Latitude      house block latitude\n",
      "        - Longitude     house block longitude\n",
      "\n",
      "    :Missing Attribute Values: None\n",
      "\n",
      "This dataset was obtained from the StatLib repository.\n",
      "http://lib.stat.cmu.edu/datasets/\n",
      "\n",
      "The target variable is the median house value for California districts.\n",
      "\n",
      "This dataset was derived from the 1990 U.S. census, using one row per census\n",
      "block group. A block group is the smallest geographical unit for which the U.S.\n",
      "Census Bureau publishes sample data (a block group typically has a population\n",
      "of 600 to 3,000 people).\n",
      "\n",
      "It can be downloaded/loaded using the\n",
      ":func:`sklearn.datasets.fetch_california_housing` function.\n",
      "\n",
      ".. topic:: References\n",
      "\n",
      "    - Pace, R. Kelley and Ronald Barry, Sparse Spatial Autoregressions,\n",
      "      Statistics and Probability Letters, 33 (1997) 291-297\n",
      "\n"
     ]
    }
   ],
   "source": [
    "print(data[\"DESCR\"])"
   ]
  },
  {
   "cell_type": "markdown",
   "metadata": {},
   "source": [
    "**Pergunta** : Qual a média da média de número de quartos na California?"
   ]
  },
  {
   "cell_type": "code",
   "execution_count": 4,
   "metadata": {},
   "outputs": [
    {
     "name": "stdout",
     "output_type": "stream",
     "text": [
      "The mean of mean number of bedrooms in california is 5.429\n"
     ]
    }
   ],
   "source": [
    "accumulator = 0\n",
    "for record in data[\"data\"]:\n",
    "    accumulator += record[2]\n",
    "accumulator /= len(data[\"data\"])\n",
    "print(f\"The mean of mean number of bedrooms in california is {accumulator:.3f}\")"
   ]
  },
  {
   "cell_type": "markdown",
   "metadata": {},
   "source": [
    "## O que aconteceu?"
   ]
  },
  {
   "cell_type": "markdown",
   "metadata": {},
   "source": [
    "No loop `for record in data[\"data\"]`, precisamos \"observar\" o \"record\" (ou a linha) completa de dados, mas perceba que estamos usando uma única coluna em `record[2]`.\n",
    "\n",
    "**Problemas**\n",
    "\n",
    "* Ao invés de processarmos somente o que queríamos, desnecessariamente manipulamos todas as features\n",
    "* Perda de produtividade\n",
    "* Impossível de escalar -- OK nesse exemplo, mas imagine 15TB / dia"
   ]
  },
  {
   "cell_type": "markdown",
   "metadata": {},
   "source": [
    "# Columnar storage"
   ]
  },
  {
   "cell_type": "markdown",
   "metadata": {},
   "source": [
    "> A column-oriented DBMS (or columnar database management system) is a database management system (DBMS) that stores data tables by column rather than by row.\n",
    "(Wikipedia : [Column-oriented DBMS](https://en.wikipedia.org/wiki/Column-oriented_DBMS))\n",
    "\n",
    "Arquivo é armazenado **uma coluna por vez** e possui um esquema fortemente \"tipado\"."
   ]
  },
  {
   "cell_type": "markdown",
   "metadata": {},
   "source": [
    "**Ganhos:**\n",
    "* Maior compressão (teoria de Shannon), menos espaço em disco\n",
    "* Menos leituras no disco; logo menos tempo idle aguardando IO (blocking)\n",
    "* Evolução de esquema"
   ]
  },
  {
   "cell_type": "markdown",
   "metadata": {},
   "source": [
    "Exemplo:\n",
    "![](table.png)"
   ]
  },
  {
   "cell_type": "markdown",
   "metadata": {},
   "source": [
    "Como é armazenado em disco:\n",
    "\n",
    "![](disk.png)"
   ]
  },
  {
   "cell_type": "markdown",
   "metadata": {},
   "source": [
    "**Como obter todos os dados para o item #6?**\n",
    "* “Abre\" apenas o offset de cada coluna\n",
    "\n",
    "**Como obter o total de descontos emitidos?**\n",
    "* Soma apenas a coluna de “descontos”\n",
    "\n",
    "Na prática, várias otimizações existem, eg: agregações pré-computadas no header do arquivo. Isso é implementado em alguns formatos de arquivo colunares, o principal deles sendo `parquet`"
   ]
  },
  {
   "cell_type": "markdown",
   "metadata": {},
   "source": [
    "# Frameworks"
   ]
  },
  {
   "cell_type": "markdown",
   "metadata": {},
   "source": [
    "## pandas"
   ]
  },
  {
   "cell_type": "markdown",
   "metadata": {},
   "source": [
    "Framework para manipulação de dados tabulares em memória\n",
    "\n",
    "* **Pros**: API extremamente extensiva (inspirada nos dataframes nativos de R)\n",
    "* **Cons**: single-thread\n",
    "\n",
    "Leitura recomendada: [A Beginner’s Guide to Optimizing Pandas Code for Speed](https://engineering.upside.com/a-beginners-guide-to-optimizing-pandas-code-for-speed-c09ef2c6a4d6?gi=fe5489bbb068)\n",
    "\n",
    "> *Vectorization* is the process of executing operations on entire arrays. \\[...\\] Pandas includes a generous collection of vectorized functions for everything from mathematical operations to aggregations and string functions (for an extensive list of available functions, check out the Pandas docs).\n",
    "\n",
    "Operações podem ser feitas \"de uma vez só\" numa coluna inteira ao invés de ir linha por linha. `pandas` implementa diversas otimizações por debaixo dos panos, de forma que operações como adicionar uma constante para todos valores de uma coluna é feita de forma *quasi*-simultânea\n",
    "\n",
    "*obs*: Caso não tenha `pandas` instalado, rodar `pip install --upgrade pandas` "
   ]
  },
  {
   "cell_type": "code",
   "execution_count": 5,
   "metadata": {},
   "outputs": [
    {
     "data": {
      "text/html": [
       "<div>\n",
       "<style scoped>\n",
       "    .dataframe tbody tr th:only-of-type {\n",
       "        vertical-align: middle;\n",
       "    }\n",
       "\n",
       "    .dataframe tbody tr th {\n",
       "        vertical-align: top;\n",
       "    }\n",
       "\n",
       "    .dataframe thead th {\n",
       "        text-align: right;\n",
       "    }\n",
       "</style>\n",
       "<table border=\"1\" class=\"dataframe\">\n",
       "  <thead>\n",
       "    <tr style=\"text-align: right;\">\n",
       "      <th></th>\n",
       "      <th>MedInc</th>\n",
       "      <th>HouseAge</th>\n",
       "      <th>AveRooms</th>\n",
       "      <th>AveBedrms</th>\n",
       "      <th>Population</th>\n",
       "      <th>AveOccup</th>\n",
       "      <th>Latitude</th>\n",
       "      <th>Longitude</th>\n",
       "    </tr>\n",
       "  </thead>\n",
       "  <tbody>\n",
       "    <tr>\n",
       "      <th>0</th>\n",
       "      <td>8.3252</td>\n",
       "      <td>41.0</td>\n",
       "      <td>6.984127</td>\n",
       "      <td>1.023810</td>\n",
       "      <td>322.0</td>\n",
       "      <td>2.555556</td>\n",
       "      <td>37.88</td>\n",
       "      <td>-122.23</td>\n",
       "    </tr>\n",
       "    <tr>\n",
       "      <th>1</th>\n",
       "      <td>8.3014</td>\n",
       "      <td>21.0</td>\n",
       "      <td>6.238137</td>\n",
       "      <td>0.971880</td>\n",
       "      <td>2401.0</td>\n",
       "      <td>2.109842</td>\n",
       "      <td>37.86</td>\n",
       "      <td>-122.22</td>\n",
       "    </tr>\n",
       "    <tr>\n",
       "      <th>2</th>\n",
       "      <td>7.2574</td>\n",
       "      <td>52.0</td>\n",
       "      <td>8.288136</td>\n",
       "      <td>1.073446</td>\n",
       "      <td>496.0</td>\n",
       "      <td>2.802260</td>\n",
       "      <td>37.85</td>\n",
       "      <td>-122.24</td>\n",
       "    </tr>\n",
       "    <tr>\n",
       "      <th>3</th>\n",
       "      <td>5.6431</td>\n",
       "      <td>52.0</td>\n",
       "      <td>5.817352</td>\n",
       "      <td>1.073059</td>\n",
       "      <td>558.0</td>\n",
       "      <td>2.547945</td>\n",
       "      <td>37.85</td>\n",
       "      <td>-122.25</td>\n",
       "    </tr>\n",
       "    <tr>\n",
       "      <th>4</th>\n",
       "      <td>3.8462</td>\n",
       "      <td>52.0</td>\n",
       "      <td>6.281853</td>\n",
       "      <td>1.081081</td>\n",
       "      <td>565.0</td>\n",
       "      <td>2.181467</td>\n",
       "      <td>37.85</td>\n",
       "      <td>-122.25</td>\n",
       "    </tr>\n",
       "  </tbody>\n",
       "</table>\n",
       "</div>"
      ],
      "text/plain": [
       "   MedInc  HouseAge  AveRooms  AveBedrms  Population  AveOccup  Latitude  \\\n",
       "0  8.3252      41.0  6.984127   1.023810       322.0  2.555556     37.88   \n",
       "1  8.3014      21.0  6.238137   0.971880      2401.0  2.109842     37.86   \n",
       "2  7.2574      52.0  8.288136   1.073446       496.0  2.802260     37.85   \n",
       "3  5.6431      52.0  5.817352   1.073059       558.0  2.547945     37.85   \n",
       "4  3.8462      52.0  6.281853   1.081081       565.0  2.181467     37.85   \n",
       "\n",
       "   Longitude  \n",
       "0    -122.23  \n",
       "1    -122.22  \n",
       "2    -122.24  \n",
       "3    -122.25  \n",
       "4    -122.25  "
      ]
     },
     "execution_count": 5,
     "metadata": {},
     "output_type": "execute_result"
    }
   ],
   "source": [
    "import pandas as pd\n",
    "df = pd.DataFrame(data[\"data\"], columns=data[\"feature_names\"])\n",
    "df.head()"
   ]
  },
  {
   "cell_type": "markdown",
   "metadata": {},
   "source": [
    "Voltando à pergunta anterior: qual a média da média de número de quartos por bloco na California?"
   ]
  },
  {
   "cell_type": "code",
   "execution_count": 6,
   "metadata": {},
   "outputs": [
    {
     "name": "stdout",
     "output_type": "stream",
     "text": [
      "The mean of mean number of bedrooms in california is 5.429\n"
     ]
    }
   ],
   "source": [
    "mean = df.AveRooms.sum() / len(df)\n",
    "print(f\"The mean of mean number of bedrooms in california is {accumulator:.3f}\")"
   ]
  },
  {
   "cell_type": "markdown",
   "metadata": {},
   "source": [
    "Importante sempre usar a documentação de `pandas` como livro de cabeceira; existem *muitas* funções prontas e API é bastante extensa. Podemos resolver usando apenas `mean` diretamente:"
   ]
  },
  {
   "cell_type": "code",
   "execution_count": 7,
   "metadata": {},
   "outputs": [
    {
     "name": "stdout",
     "output_type": "stream",
     "text": [
      "The mean of mean number of bedrooms in california is 5.429\n"
     ]
    }
   ],
   "source": [
    "mean = df.AveRooms.mean()\n",
    "print(f\"The mean of mean number of bedrooms in california is {mean:.3f}\")"
   ]
  },
  {
   "cell_type": "markdown",
   "metadata": {},
   "source": [
    "Qual o percentil 75 (ou terceiro quartil) da população?"
   ]
  },
  {
   "cell_type": "code",
   "execution_count": 8,
   "metadata": {},
   "outputs": [
    {
     "name": "stdout",
     "output_type": "stream",
     "text": [
      "The third quartile is 1725\n"
     ]
    }
   ],
   "source": [
    "p75 = df.Population.quantile(q=0.75)\n",
    "print(f\"The third quartile is {p75:.0f}\")"
   ]
  },
  {
   "cell_type": "markdown",
   "metadata": {},
   "source": [
    "Como obter estatísticas descritivas de todas as colunas numéricas?"
   ]
  },
  {
   "cell_type": "code",
   "execution_count": 9,
   "metadata": {},
   "outputs": [
    {
     "data": {
      "text/html": [
       "<div>\n",
       "<style scoped>\n",
       "    .dataframe tbody tr th:only-of-type {\n",
       "        vertical-align: middle;\n",
       "    }\n",
       "\n",
       "    .dataframe tbody tr th {\n",
       "        vertical-align: top;\n",
       "    }\n",
       "\n",
       "    .dataframe thead th {\n",
       "        text-align: right;\n",
       "    }\n",
       "</style>\n",
       "<table border=\"1\" class=\"dataframe\">\n",
       "  <thead>\n",
       "    <tr style=\"text-align: right;\">\n",
       "      <th></th>\n",
       "      <th>MedInc</th>\n",
       "      <th>HouseAge</th>\n",
       "      <th>AveRooms</th>\n",
       "      <th>AveBedrms</th>\n",
       "      <th>Population</th>\n",
       "      <th>AveOccup</th>\n",
       "      <th>Latitude</th>\n",
       "      <th>Longitude</th>\n",
       "    </tr>\n",
       "  </thead>\n",
       "  <tbody>\n",
       "    <tr>\n",
       "      <th>count</th>\n",
       "      <td>20640.000000</td>\n",
       "      <td>20640.000000</td>\n",
       "      <td>20640.000000</td>\n",
       "      <td>20640.000000</td>\n",
       "      <td>20640.000000</td>\n",
       "      <td>20640.000000</td>\n",
       "      <td>20640.000000</td>\n",
       "      <td>20640.000000</td>\n",
       "    </tr>\n",
       "    <tr>\n",
       "      <th>mean</th>\n",
       "      <td>3.870671</td>\n",
       "      <td>28.639486</td>\n",
       "      <td>5.429000</td>\n",
       "      <td>1.096675</td>\n",
       "      <td>1425.476744</td>\n",
       "      <td>3.070655</td>\n",
       "      <td>35.631861</td>\n",
       "      <td>-119.569704</td>\n",
       "    </tr>\n",
       "    <tr>\n",
       "      <th>std</th>\n",
       "      <td>1.899822</td>\n",
       "      <td>12.585558</td>\n",
       "      <td>2.474173</td>\n",
       "      <td>0.473911</td>\n",
       "      <td>1132.462122</td>\n",
       "      <td>10.386050</td>\n",
       "      <td>2.135952</td>\n",
       "      <td>2.003532</td>\n",
       "    </tr>\n",
       "    <tr>\n",
       "      <th>min</th>\n",
       "      <td>0.499900</td>\n",
       "      <td>1.000000</td>\n",
       "      <td>0.846154</td>\n",
       "      <td>0.333333</td>\n",
       "      <td>3.000000</td>\n",
       "      <td>0.692308</td>\n",
       "      <td>32.540000</td>\n",
       "      <td>-124.350000</td>\n",
       "    </tr>\n",
       "    <tr>\n",
       "      <th>25%</th>\n",
       "      <td>2.563400</td>\n",
       "      <td>18.000000</td>\n",
       "      <td>4.440716</td>\n",
       "      <td>1.006079</td>\n",
       "      <td>787.000000</td>\n",
       "      <td>2.429741</td>\n",
       "      <td>33.930000</td>\n",
       "      <td>-121.800000</td>\n",
       "    </tr>\n",
       "    <tr>\n",
       "      <th>50%</th>\n",
       "      <td>3.534800</td>\n",
       "      <td>29.000000</td>\n",
       "      <td>5.229129</td>\n",
       "      <td>1.048780</td>\n",
       "      <td>1166.000000</td>\n",
       "      <td>2.818116</td>\n",
       "      <td>34.260000</td>\n",
       "      <td>-118.490000</td>\n",
       "    </tr>\n",
       "    <tr>\n",
       "      <th>75%</th>\n",
       "      <td>4.743250</td>\n",
       "      <td>37.000000</td>\n",
       "      <td>6.052381</td>\n",
       "      <td>1.099526</td>\n",
       "      <td>1725.000000</td>\n",
       "      <td>3.282261</td>\n",
       "      <td>37.710000</td>\n",
       "      <td>-118.010000</td>\n",
       "    </tr>\n",
       "    <tr>\n",
       "      <th>max</th>\n",
       "      <td>15.000100</td>\n",
       "      <td>52.000000</td>\n",
       "      <td>141.909091</td>\n",
       "      <td>34.066667</td>\n",
       "      <td>35682.000000</td>\n",
       "      <td>1243.333333</td>\n",
       "      <td>41.950000</td>\n",
       "      <td>-114.310000</td>\n",
       "    </tr>\n",
       "  </tbody>\n",
       "</table>\n",
       "</div>"
      ],
      "text/plain": [
       "             MedInc      HouseAge      AveRooms     AveBedrms    Population  \\\n",
       "count  20640.000000  20640.000000  20640.000000  20640.000000  20640.000000   \n",
       "mean       3.870671     28.639486      5.429000      1.096675   1425.476744   \n",
       "std        1.899822     12.585558      2.474173      0.473911   1132.462122   \n",
       "min        0.499900      1.000000      0.846154      0.333333      3.000000   \n",
       "25%        2.563400     18.000000      4.440716      1.006079    787.000000   \n",
       "50%        3.534800     29.000000      5.229129      1.048780   1166.000000   \n",
       "75%        4.743250     37.000000      6.052381      1.099526   1725.000000   \n",
       "max       15.000100     52.000000    141.909091     34.066667  35682.000000   \n",
       "\n",
       "           AveOccup      Latitude     Longitude  \n",
       "count  20640.000000  20640.000000  20640.000000  \n",
       "mean       3.070655     35.631861   -119.569704  \n",
       "std       10.386050      2.135952      2.003532  \n",
       "min        0.692308     32.540000   -124.350000  \n",
       "25%        2.429741     33.930000   -121.800000  \n",
       "50%        2.818116     34.260000   -118.490000  \n",
       "75%        3.282261     37.710000   -118.010000  \n",
       "max     1243.333333     41.950000   -114.310000  "
      ]
     },
     "execution_count": 9,
     "metadata": {},
     "output_type": "execute_result"
    }
   ],
   "source": [
    "df.describe()"
   ]
  },
  {
   "cell_type": "markdown",
   "metadata": {},
   "source": [
    "*\"Avançado\"*: qual o índice de correlação entre os pares de features?\n",
    "\n",
    "Nesse caso, é calculado o índice de Pearson para todo par de features. Rápido lembrete que:\n",
    "\n",
    "* $\\rho_{x, y} \\approx -1$ : forte correlação linear negativa\n",
    "* $\\rho_{x, y} \\approx 0$ : sem correlação\n",
    "* $\\rho_{x, y} \\approx 1$ : forte correlação linear positiva"
   ]
  },
  {
   "cell_type": "code",
   "execution_count": 10,
   "metadata": {},
   "outputs": [
    {
     "data": {
      "text/html": [
       "<div>\n",
       "<style scoped>\n",
       "    .dataframe tbody tr th:only-of-type {\n",
       "        vertical-align: middle;\n",
       "    }\n",
       "\n",
       "    .dataframe tbody tr th {\n",
       "        vertical-align: top;\n",
       "    }\n",
       "\n",
       "    .dataframe thead th {\n",
       "        text-align: right;\n",
       "    }\n",
       "</style>\n",
       "<table border=\"1\" class=\"dataframe\">\n",
       "  <thead>\n",
       "    <tr style=\"text-align: right;\">\n",
       "      <th></th>\n",
       "      <th>MedInc</th>\n",
       "      <th>HouseAge</th>\n",
       "      <th>AveRooms</th>\n",
       "      <th>AveBedrms</th>\n",
       "      <th>Population</th>\n",
       "      <th>AveOccup</th>\n",
       "      <th>Latitude</th>\n",
       "      <th>Longitude</th>\n",
       "    </tr>\n",
       "  </thead>\n",
       "  <tbody>\n",
       "    <tr>\n",
       "      <th>MedInc</th>\n",
       "      <td>1.000000</td>\n",
       "      <td>-0.119034</td>\n",
       "      <td>0.326895</td>\n",
       "      <td>-0.062040</td>\n",
       "      <td>0.004834</td>\n",
       "      <td>0.018766</td>\n",
       "      <td>-0.079809</td>\n",
       "      <td>-0.015176</td>\n",
       "    </tr>\n",
       "    <tr>\n",
       "      <th>HouseAge</th>\n",
       "      <td>-0.119034</td>\n",
       "      <td>1.000000</td>\n",
       "      <td>-0.153277</td>\n",
       "      <td>-0.077747</td>\n",
       "      <td>-0.296244</td>\n",
       "      <td>0.013191</td>\n",
       "      <td>0.011173</td>\n",
       "      <td>-0.108197</td>\n",
       "    </tr>\n",
       "    <tr>\n",
       "      <th>AveRooms</th>\n",
       "      <td>0.326895</td>\n",
       "      <td>-0.153277</td>\n",
       "      <td>1.000000</td>\n",
       "      <td>0.847621</td>\n",
       "      <td>-0.072213</td>\n",
       "      <td>-0.004852</td>\n",
       "      <td>0.106389</td>\n",
       "      <td>-0.027540</td>\n",
       "    </tr>\n",
       "    <tr>\n",
       "      <th>AveBedrms</th>\n",
       "      <td>-0.062040</td>\n",
       "      <td>-0.077747</td>\n",
       "      <td>0.847621</td>\n",
       "      <td>1.000000</td>\n",
       "      <td>-0.066197</td>\n",
       "      <td>-0.006181</td>\n",
       "      <td>0.069721</td>\n",
       "      <td>0.013344</td>\n",
       "    </tr>\n",
       "    <tr>\n",
       "      <th>Population</th>\n",
       "      <td>0.004834</td>\n",
       "      <td>-0.296244</td>\n",
       "      <td>-0.072213</td>\n",
       "      <td>-0.066197</td>\n",
       "      <td>1.000000</td>\n",
       "      <td>0.069863</td>\n",
       "      <td>-0.108785</td>\n",
       "      <td>0.099773</td>\n",
       "    </tr>\n",
       "    <tr>\n",
       "      <th>AveOccup</th>\n",
       "      <td>0.018766</td>\n",
       "      <td>0.013191</td>\n",
       "      <td>-0.004852</td>\n",
       "      <td>-0.006181</td>\n",
       "      <td>0.069863</td>\n",
       "      <td>1.000000</td>\n",
       "      <td>0.002366</td>\n",
       "      <td>0.002476</td>\n",
       "    </tr>\n",
       "    <tr>\n",
       "      <th>Latitude</th>\n",
       "      <td>-0.079809</td>\n",
       "      <td>0.011173</td>\n",
       "      <td>0.106389</td>\n",
       "      <td>0.069721</td>\n",
       "      <td>-0.108785</td>\n",
       "      <td>0.002366</td>\n",
       "      <td>1.000000</td>\n",
       "      <td>-0.924664</td>\n",
       "    </tr>\n",
       "    <tr>\n",
       "      <th>Longitude</th>\n",
       "      <td>-0.015176</td>\n",
       "      <td>-0.108197</td>\n",
       "      <td>-0.027540</td>\n",
       "      <td>0.013344</td>\n",
       "      <td>0.099773</td>\n",
       "      <td>0.002476</td>\n",
       "      <td>-0.924664</td>\n",
       "      <td>1.000000</td>\n",
       "    </tr>\n",
       "  </tbody>\n",
       "</table>\n",
       "</div>"
      ],
      "text/plain": [
       "              MedInc  HouseAge  AveRooms  AveBedrms  Population  AveOccup  \\\n",
       "MedInc      1.000000 -0.119034  0.326895  -0.062040    0.004834  0.018766   \n",
       "HouseAge   -0.119034  1.000000 -0.153277  -0.077747   -0.296244  0.013191   \n",
       "AveRooms    0.326895 -0.153277  1.000000   0.847621   -0.072213 -0.004852   \n",
       "AveBedrms  -0.062040 -0.077747  0.847621   1.000000   -0.066197 -0.006181   \n",
       "Population  0.004834 -0.296244 -0.072213  -0.066197    1.000000  0.069863   \n",
       "AveOccup    0.018766  0.013191 -0.004852  -0.006181    0.069863  1.000000   \n",
       "Latitude   -0.079809  0.011173  0.106389   0.069721   -0.108785  0.002366   \n",
       "Longitude  -0.015176 -0.108197 -0.027540   0.013344    0.099773  0.002476   \n",
       "\n",
       "            Latitude  Longitude  \n",
       "MedInc     -0.079809  -0.015176  \n",
       "HouseAge    0.011173  -0.108197  \n",
       "AveRooms    0.106389  -0.027540  \n",
       "AveBedrms   0.069721   0.013344  \n",
       "Population -0.108785   0.099773  \n",
       "AveOccup    0.002366   0.002476  \n",
       "Latitude    1.000000  -0.924664  \n",
       "Longitude  -0.924664   1.000000  "
      ]
     },
     "execution_count": 10,
     "metadata": {},
     "output_type": "execute_result"
    }
   ],
   "source": [
    "df.corr()"
   ]
  },
  {
   "cell_type": "markdown",
   "metadata": {},
   "source": [
    "Função `apply`: aplica uma função de alta ordem a uma coluna inteira. Necessário modificar a coluna de origem novamente.\n",
    "\n",
    "Ex: passando a variável `HouseAge` para escala logarítimica em base neperiana:"
   ]
  },
  {
   "cell_type": "code",
   "execution_count": 11,
   "metadata": {},
   "outputs": [
    {
     "data": {
      "text/html": [
       "<div>\n",
       "<style scoped>\n",
       "    .dataframe tbody tr th:only-of-type {\n",
       "        vertical-align: middle;\n",
       "    }\n",
       "\n",
       "    .dataframe tbody tr th {\n",
       "        vertical-align: top;\n",
       "    }\n",
       "\n",
       "    .dataframe thead th {\n",
       "        text-align: right;\n",
       "    }\n",
       "</style>\n",
       "<table border=\"1\" class=\"dataframe\">\n",
       "  <thead>\n",
       "    <tr style=\"text-align: right;\">\n",
       "      <th></th>\n",
       "      <th>MedInc</th>\n",
       "      <th>HouseAge</th>\n",
       "      <th>AveRooms</th>\n",
       "      <th>AveBedrms</th>\n",
       "      <th>Population</th>\n",
       "      <th>AveOccup</th>\n",
       "      <th>Latitude</th>\n",
       "      <th>Longitude</th>\n",
       "      <th>HouseAgeLog</th>\n",
       "    </tr>\n",
       "  </thead>\n",
       "  <tbody>\n",
       "    <tr>\n",
       "      <th>0</th>\n",
       "      <td>8.3252</td>\n",
       "      <td>41.0</td>\n",
       "      <td>6.984127</td>\n",
       "      <td>1.023810</td>\n",
       "      <td>322.0</td>\n",
       "      <td>2.555556</td>\n",
       "      <td>37.88</td>\n",
       "      <td>-122.23</td>\n",
       "      <td>3.713572</td>\n",
       "    </tr>\n",
       "    <tr>\n",
       "      <th>1</th>\n",
       "      <td>8.3014</td>\n",
       "      <td>21.0</td>\n",
       "      <td>6.238137</td>\n",
       "      <td>0.971880</td>\n",
       "      <td>2401.0</td>\n",
       "      <td>2.109842</td>\n",
       "      <td>37.86</td>\n",
       "      <td>-122.22</td>\n",
       "      <td>3.044522</td>\n",
       "    </tr>\n",
       "    <tr>\n",
       "      <th>2</th>\n",
       "      <td>7.2574</td>\n",
       "      <td>52.0</td>\n",
       "      <td>8.288136</td>\n",
       "      <td>1.073446</td>\n",
       "      <td>496.0</td>\n",
       "      <td>2.802260</td>\n",
       "      <td>37.85</td>\n",
       "      <td>-122.24</td>\n",
       "      <td>3.951244</td>\n",
       "    </tr>\n",
       "    <tr>\n",
       "      <th>3</th>\n",
       "      <td>5.6431</td>\n",
       "      <td>52.0</td>\n",
       "      <td>5.817352</td>\n",
       "      <td>1.073059</td>\n",
       "      <td>558.0</td>\n",
       "      <td>2.547945</td>\n",
       "      <td>37.85</td>\n",
       "      <td>-122.25</td>\n",
       "      <td>3.951244</td>\n",
       "    </tr>\n",
       "    <tr>\n",
       "      <th>4</th>\n",
       "      <td>3.8462</td>\n",
       "      <td>52.0</td>\n",
       "      <td>6.281853</td>\n",
       "      <td>1.081081</td>\n",
       "      <td>565.0</td>\n",
       "      <td>2.181467</td>\n",
       "      <td>37.85</td>\n",
       "      <td>-122.25</td>\n",
       "      <td>3.951244</td>\n",
       "    </tr>\n",
       "  </tbody>\n",
       "</table>\n",
       "</div>"
      ],
      "text/plain": [
       "   MedInc  HouseAge  AveRooms  AveBedrms  Population  AveOccup  Latitude  \\\n",
       "0  8.3252      41.0  6.984127   1.023810       322.0  2.555556     37.88   \n",
       "1  8.3014      21.0  6.238137   0.971880      2401.0  2.109842     37.86   \n",
       "2  7.2574      52.0  8.288136   1.073446       496.0  2.802260     37.85   \n",
       "3  5.6431      52.0  5.817352   1.073059       558.0  2.547945     37.85   \n",
       "4  3.8462      52.0  6.281853   1.081081       565.0  2.181467     37.85   \n",
       "\n",
       "   Longitude  HouseAgeLog  \n",
       "0    -122.23     3.713572  \n",
       "1    -122.22     3.044522  \n",
       "2    -122.24     3.951244  \n",
       "3    -122.25     3.951244  \n",
       "4    -122.25     3.951244  "
      ]
     },
     "execution_count": 11,
     "metadata": {},
     "output_type": "execute_result"
    }
   ],
   "source": [
    "from math import log\n",
    "df[\"HouseAgeLog\"] = df.HouseAge.apply(log)\n",
    "df.head()"
   ]
  },
  {
   "cell_type": "markdown",
   "metadata": {},
   "source": [
    "Importantíssimo: `slice`s são \"fatias\" do conjunto, utilizadas a partir de séries booleanas. Permitem filtrar dados eficientemente.\n",
    "\n",
    "Exemplo: 5 primeiros blocos com ao número médio de cômodos acima de `9`:"
   ]
  },
  {
   "cell_type": "code",
   "execution_count": 12,
   "metadata": {},
   "outputs": [
    {
     "data": {
      "text/html": [
       "<div>\n",
       "<style scoped>\n",
       "    .dataframe tbody tr th:only-of-type {\n",
       "        vertical-align: middle;\n",
       "    }\n",
       "\n",
       "    .dataframe tbody tr th {\n",
       "        vertical-align: top;\n",
       "    }\n",
       "\n",
       "    .dataframe thead th {\n",
       "        text-align: right;\n",
       "    }\n",
       "</style>\n",
       "<table border=\"1\" class=\"dataframe\">\n",
       "  <thead>\n",
       "    <tr style=\"text-align: right;\">\n",
       "      <th></th>\n",
       "      <th>MedInc</th>\n",
       "      <th>HouseAge</th>\n",
       "      <th>AveRooms</th>\n",
       "      <th>AveBedrms</th>\n",
       "      <th>Population</th>\n",
       "      <th>AveOccup</th>\n",
       "      <th>Latitude</th>\n",
       "      <th>Longitude</th>\n",
       "      <th>HouseAgeLog</th>\n",
       "    </tr>\n",
       "  </thead>\n",
       "  <tbody>\n",
       "    <tr>\n",
       "      <th>512</th>\n",
       "      <td>12.2138</td>\n",
       "      <td>52.0</td>\n",
       "      <td>9.210227</td>\n",
       "      <td>1.039773</td>\n",
       "      <td>1001.0</td>\n",
       "      <td>2.843750</td>\n",
       "      <td>37.82</td>\n",
       "      <td>-122.23</td>\n",
       "      <td>3.951244</td>\n",
       "    </tr>\n",
       "    <tr>\n",
       "      <th>514</th>\n",
       "      <td>12.3804</td>\n",
       "      <td>52.0</td>\n",
       "      <td>9.122715</td>\n",
       "      <td>1.033943</td>\n",
       "      <td>1192.0</td>\n",
       "      <td>3.112272</td>\n",
       "      <td>37.82</td>\n",
       "      <td>-122.23</td>\n",
       "      <td>3.951244</td>\n",
       "    </tr>\n",
       "    <tr>\n",
       "      <th>1023</th>\n",
       "      <td>2.2417</td>\n",
       "      <td>15.0</td>\n",
       "      <td>10.515306</td>\n",
       "      <td>2.372449</td>\n",
       "      <td>573.0</td>\n",
       "      <td>2.923469</td>\n",
       "      <td>38.72</td>\n",
       "      <td>-119.93</td>\n",
       "      <td>2.708050</td>\n",
       "    </tr>\n",
       "    <tr>\n",
       "      <th>1024</th>\n",
       "      <td>3.1500</td>\n",
       "      <td>16.0</td>\n",
       "      <td>29.852941</td>\n",
       "      <td>5.323529</td>\n",
       "      <td>202.0</td>\n",
       "      <td>1.980392</td>\n",
       "      <td>38.52</td>\n",
       "      <td>-120.00</td>\n",
       "      <td>2.772589</td>\n",
       "    </tr>\n",
       "    <tr>\n",
       "      <th>1030</th>\n",
       "      <td>3.0125</td>\n",
       "      <td>15.0</td>\n",
       "      <td>10.168591</td>\n",
       "      <td>2.057737</td>\n",
       "      <td>1103.0</td>\n",
       "      <td>2.547344</td>\n",
       "      <td>38.55</td>\n",
       "      <td>-120.25</td>\n",
       "      <td>2.708050</td>\n",
       "    </tr>\n",
       "  </tbody>\n",
       "</table>\n",
       "</div>"
      ],
      "text/plain": [
       "       MedInc  HouseAge   AveRooms  AveBedrms  Population  AveOccup  Latitude  \\\n",
       "512   12.2138      52.0   9.210227   1.039773      1001.0  2.843750     37.82   \n",
       "514   12.3804      52.0   9.122715   1.033943      1192.0  3.112272     37.82   \n",
       "1023   2.2417      15.0  10.515306   2.372449       573.0  2.923469     38.72   \n",
       "1024   3.1500      16.0  29.852941   5.323529       202.0  1.980392     38.52   \n",
       "1030   3.0125      15.0  10.168591   2.057737      1103.0  2.547344     38.55   \n",
       "\n",
       "      Longitude  HouseAgeLog  \n",
       "512     -122.23     3.951244  \n",
       "514     -122.23     3.951244  \n",
       "1023    -119.93     2.708050  \n",
       "1024    -120.00     2.772589  \n",
       "1030    -120.25     2.708050  "
      ]
     },
     "execution_count": 12,
     "metadata": {},
     "output_type": "execute_result"
    }
   ],
   "source": [
    "df[df.AveRooms > 9].head()"
   ]
  },
  {
   "cell_type": "markdown",
   "metadata": {},
   "source": [
    "Exercícios:\n",
    "\n",
    "1. Qual o centróide geográfico do dataset? (uma linha!)\n",
    "2. Quantos blocos existem com idade média da casa abaixo de 10 anos e com número de habitantes médio abaixo de 3 pessoas?\n",
    "3. Dentre os blocos 10% mais populosos, qual a média da ordem de grandeza (potência de 10) da população?"
   ]
  },
  {
   "cell_type": "markdown",
   "metadata": {},
   "source": [
    "**Exercício avançado:**\n",
    "\n",
    "O [interquartile range](https://en.wikipedia.org/wiki/Interquartile_range) é definido como a diferença entre o terceiro quartil (Q3) e o primeiro (Q1). Um método simples para identificação de outliers é considerar que, para uma distribuição univariada, todas as observações que estão abaixo de $Q1 - 1.5IQR$ ou acima de $Q3 + 1.5IQR$ são considerados outliers.\n",
    "\n",
    "Implemente o seguinte método `remove_outliers_iqr` que, dado um dataframe e o nome de uma coluna, retorna um *slice* daquele dataframe sem outliers, baseado no método IQR em cima da coluna fornecida. \n",
    "\n",
    "```python\n",
    "def remove_outliers_iqr(df: pd.DataFrame, col_name: str) -> pd.DataFrame:\n",
    "    raise NotImplementedError\n",
    "```"
   ]
  },
  {
   "cell_type": "markdown",
   "metadata": {},
   "source": [
    "** Outros métodos importantes **:\n",
    "* `fillna`, `isnull`, `replace`"
   ]
  },
  {
   "cell_type": "markdown",
   "metadata": {},
   "source": [
    "**Before you go ...**"
   ]
  },
  {
   "cell_type": "markdown",
   "metadata": {},
   "source": [
    "## dask"
   ]
  },
  {
   "cell_type": "markdown",
   "metadata": {},
   "source": [
    "> Dask is a flexible library for parallel computing in Python.\n",
    "\n",
    "`dask` é uma alternativa multi-core e/ou distribuída para pandas.\n",
    "* **Pros** : multi-core, cluster mode, escala\n",
    "* **Cons**: API limitada, “pensar distribuído”, nem toda operação é trivialmente paralelizada\n",
    "\n",
    "`dask` segue um modelo *lazy* computacional, então a operação não é de fato executada até que seja chamado `.compute()` explicitamente, retornando um dataframe `pandas` em memória."
   ]
  },
  {
   "cell_type": "code",
   "execution_count": 13,
   "metadata": {},
   "outputs": [
    {
     "name": "stdout",
     "output_type": "stream",
     "text": [
      "The machine running this notebook has 4 cpus.\n",
      "The mean of mean number of bedrooms in california is 5.429\n"
     ]
    }
   ],
   "source": [
    "import dask.dataframe as dd\n",
    "from multiprocessing import cpu_count\n",
    "\n",
    "N_CORES = cpu_count()\n",
    "print(f\"The machine running this notebook has {N_CORES} cpus.\")\n",
    "\n",
    "ddf = dd.from_pandas(df, npartitions=N_CORES)\n",
    "mean = ddf[\"AveRooms\"].mean().compute()\n",
    "print(f\"The mean of mean number of bedrooms in california is {mean:.3f}\")"
   ]
  },
  {
   "cell_type": "markdown",
   "metadata": {},
   "source": [
    "Quando usar `dask` ao invés de `pandas`?\n",
    "\n",
    "1. dataset não couber em memória;\n",
    "2. `pandas` estiver proibitivamente lento e seja desejado usar todos os cores da máquina para paralelizar o processamento;\n",
    "3. dataset estiver quebrado em inúmeros arquivos - relacionado a (1)"
   ]
  },
  {
   "cell_type": "markdown",
   "metadata": {},
   "source": [
    "## numba"
   ]
  },
  {
   "cell_type": "markdown",
   "metadata": {},
   "source": [
    "> Numba is an open source JIT compiler that translates a subset of Python and NumPy code into fast machine code. Numba translates Python functions to optimized machine code at runtime using the industry-standard LLVM compiler library. Numba-compiled numerical algorithms in Python can approach the speeds of C or FORTRAN."
   ]
  },
  {
   "cell_type": "markdown",
   "metadata": {},
   "source": [
    "TLDR : operações matriciais *ultra fast*"
   ]
  },
  {
   "cell_type": "code",
   "execution_count": 14,
   "metadata": {},
   "outputs": [],
   "source": [
    "from numba import jit\n",
    "\n",
    "@jit(nopython=True)\n",
    "def add_five(series):\n",
    "    return series + 5"
   ]
  },
  {
   "cell_type": "code",
   "execution_count": 15,
   "metadata": {},
   "outputs": [
    {
     "name": "stdout",
     "output_type": "stream",
     "text": [
      "Timing `add_five` with numba:\n",
      "The slowest run took 6.36 times longer than the fastest. This could mean that an intermediate result is being cached.\n",
      "47.3 µs ± 43.7 µs per loop (mean ± std. dev. of 7 runs, 1 loop each)\n",
      "\n",
      "Timing native pandas vectorized addition\n",
      "159 µs ± 11.4 µs per loop (mean ± std. dev. of 7 runs, 10000 loops each)\n"
     ]
    }
   ],
   "source": [
    "print(f\"Timing `add_five` with numba:\")\n",
    "%timeit add_five(df.HouseAge.values)\n",
    "print(f\"\\nTiming native pandas vectorized addition\")\n",
    "%timeit df.HouseAge + 5"
   ]
  },
  {
   "cell_type": "markdown",
   "metadata": {},
   "source": [
    "Observações:\n",
    "1. `numba` opera em cima diretamente de `numpy` arrays, e não de `Series` de `pandas`;\n",
    "2. A anotação `nopython=True` está dizendo \"compile estritamente em C, sem usar Python nativamente\". Na prática, sem essa anotação, `numba` não irá obter ganhos de performance.\n",
    "3. Na prática, usado só em casos que o código precisa ser de alta performance. Há um sacrifício de produtividade e ergonomia de parte do desenvolvedor, e não é trivial implementar operações vetorizadas"
   ]
  },
  {
   "cell_type": "markdown",
   "metadata": {},
   "source": [
    "Exemplo: calcule a distância **em KM** de todos os pontos do dataset para o centróide"
   ]
  },
  {
   "cell_type": "code",
   "execution_count": 16,
   "metadata": {},
   "outputs": [],
   "source": [
    "import numpy as np\n",
    "\n",
    "@jit(nopython=True)\n",
    "def haversine_numba(lon1, lat1, lon2, lat2):\n",
    "    R = 6371.0  # radius of the earth in **KM**\n",
    "    lon1 = np.radians(lon1)\n",
    "    lon2 = np.radians(lon2)\n",
    "    lat1 = np.radians(lat1)\n",
    "    lat2 = np.radians(lat2)\n",
    "\n",
    "    dlon = lon2 - lon1\n",
    "    dlat = lat2 - lat1\n",
    "\n",
    "    a = np.sin(dlat/2.0)**2 + np.cos(lat1) * np.cos(lat2) * np.sin(dlon/2.0)**2\n",
    "    c = 2 * np.arcsin(np.sqrt(a))\n",
    "    return R * c"
   ]
  },
  {
   "cell_type": "code",
   "execution_count": 17,
   "metadata": {},
   "outputs": [
    {
     "name": "stdout",
     "output_type": "stream",
     "text": [
      "Calculating time to run without numba...\n",
      "CPU times: user 483 ms, sys: 11.6 ms, total: 495 ms\n",
      "Wall time: 500 ms\n"
     ]
    }
   ],
   "source": [
    "%%time\n",
    "print(f\"Calculating time to run without numba...\")\n",
    "center_lat, center_lon = df[[\"Latitude\", \"Longitude\"]].mean()\n",
    "dist = haversine_numba(df.Longitude.values, df.Latitude.values, center_lon, center_lat)"
   ]
  },
  {
   "cell_type": "markdown",
   "metadata": {},
   "source": [
    "# Referências"
   ]
  },
  {
   "cell_type": "markdown",
   "metadata": {},
   "source": [
    "* Docs\n",
    "    * https://pandas.pydata.org/pandas-docs/stable/\n",
    "    * http://docs.dask.org/en/latest/\n",
    "    * https://numba.pydata.org\n",
    "\n",
    "\n",
    "* Designing Data-Intensive Applications\n",
    "    * https://dataintensive.net \n",
    "    * https://www.amazon.com/Designing-Data-Intensive-Applications-Reliable-Maintainable/dp/1449373321\n",
    "\n",
    "\n",
    "* Extensões do Jupyter notebook: \n",
    "    * https://jupyter-contrib-nbextensions.readthedocs.io/en/latest/nbextensions.html\n",
    "    * https://jupyter-contrib-nbextensions.readthedocs.io/en/latest/install.html\n",
    "    * https://towardsdatascience.com/jupyter-notebook-extensions-517fa69d2231\n",
    "    \n",
    "\n",
    "* Misc\n",
    "    * https://en.wikipedia.org/wiki/Interquartile_range\n",
    "    * https://en.wikipedia.org/wiki/Pearson_correlation_coefficient\n",
    "    * https://parquet.apache.org"
   ]
  },
  {
   "cell_type": "code",
   "execution_count": null,
   "metadata": {},
   "outputs": [],
   "source": []
  }
 ],
 "metadata": {
  "kernelspec": {
   "display_name": "Python 3",
   "language": "python",
   "name": "python3"
  },
  "language_info": {
   "codemirror_mode": {
    "name": "ipython",
    "version": 3
   },
   "file_extension": ".py",
   "mimetype": "text/x-python",
   "name": "python",
   "nbconvert_exporter": "python",
   "pygments_lexer": "ipython3",
   "version": "3.6.4"
  },
  "toc": {
   "base_numbering": 1,
   "nav_menu": {},
   "number_sections": true,
   "sideBar": true,
   "skip_h1_title": false,
   "title_cell": "Table of Contents",
   "title_sidebar": "Contents",
   "toc_cell": true,
   "toc_position": {},
   "toc_section_display": true,
   "toc_window_display": true
  }
 },
 "nbformat": 4,
 "nbformat_minor": 2
}
