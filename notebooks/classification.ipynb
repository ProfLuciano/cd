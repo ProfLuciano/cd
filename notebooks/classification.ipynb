{
  "nbformat": 4,
  "nbformat_minor": 0,
  "metadata": {
    "colab": {
      "name": "ML.ipynb",
      "version": "0.3.2",
      "provenance": [],
      "collapsed_sections": [
        "yDVmZvu9MYb3",
        "K09LBTdVOWS6",
        "UqXPAyBvVGDr"
      ]
    },
    "kernelspec": {
      "name": "python3",
      "display_name": "Python 3"
    }
  },
  "cells": [
    {
      "cell_type": "markdown",
      "metadata": {
        "id": "ZT73c4wkLY8H",
        "colab_type": "text"
      },
      "source": [
        "## Regressão"
      ]
    },
    {
      "cell_type": "code",
      "metadata": {
        "id": "GFgxrGduLbSo",
        "colab_type": "code",
        "outputId": "1cec4c28-9da2-4915-9b9b-81db0e55cd9e",
        "colab": {
          "base_uri": "https://localhost:8080/",
          "height": 286
        }
      },
      "source": [
        "# Dados\n",
        "import matplotlib.pyplot as plt\n",
        "import numpy as np\n",
        "\n",
        "rng = np.random.RandomState(42)\n",
        "x = 10 * rng.rand(50)\n",
        "y = 2 * x - 1 + rng.randn(50)\n",
        "plt.scatter(x, y)"
      ],
      "execution_count": 0,
      "outputs": [
        {
          "output_type": "execute_result",
          "data": {
            "text/plain": [
              "<matplotlib.collections.PathCollection at 0x7fa1794300f0>"
            ]
          },
          "metadata": {
            "tags": []
          },
          "execution_count": 1
        },
        {
          "output_type": "display_data",
          "data": {
            "image/png": "[encoded data removed]",
            "text/plain": [
              "<Figure size 432x288 with 1 Axes>"
            ]
          },
          "metadata": {
            "tags": []
          }
        }
      ]
    },
    {
      "cell_type": "code",
      "metadata": {
        "id": "joXIj9vtF7Cj",
        "colab_type": "code",
        "colab": {}
      },
      "source": [
        "#Seleção da técnica\n",
        "from sklearn.linear_model import LinearRegression"
      ],
      "execution_count": 0,
      "outputs": []
    },
    {
      "cell_type": "code",
      "metadata": {
        "id": "uxF7HT2BGCgS",
        "colab_type": "code",
        "colab": {}
      },
      "source": [
        "#Escolha dos hiper-parâmetros (fit_intercept: dados não centralizados)\n",
        "model = LinearRegression(fit_intercept=True)"
      ],
      "execution_count": 0,
      "outputs": []
    },
    {
      "cell_type": "code",
      "metadata": {
        "id": "cDXcWlnEIHVU",
        "colab_type": "code",
        "outputId": "d4553a87-0934-4bcc-9676-e0b7e6ca3453",
        "colab": {
          "base_uri": "https://localhost:8080/",
          "height": 187
        }
      },
      "source": [
        "# Preparação dos dados em matriz de features e vetor de rótulos\n",
        "print(x.shape)\n",
        "print(x)"
      ],
      "execution_count": 0,
      "outputs": [
        {
          "output_type": "stream",
          "text": [
            "(50,)\n",
            "[3.74540119 9.50714306 7.31993942 5.98658484 1.5601864  1.5599452\n",
            " 0.58083612 8.66176146 6.01115012 7.08072578 0.20584494 9.69909852\n",
            " 8.32442641 2.12339111 1.81824967 1.8340451  3.04242243 5.24756432\n",
            " 4.31945019 2.9122914  6.11852895 1.39493861 2.92144649 3.66361843\n",
            " 4.56069984 7.85175961 1.99673782 5.14234438 5.92414569 0.46450413\n",
            " 6.07544852 1.70524124 0.65051593 9.48885537 9.65632033 8.08397348\n",
            " 3.04613769 0.97672114 6.84233027 4.40152494 1.22038235 4.9517691\n",
            " 0.34388521 9.09320402 2.58779982 6.62522284 3.11711076 5.20068021\n",
            " 5.46710279 1.84854456]\n"
          ],
          "name": "stdout"
        }
      ]
    },
    {
      "cell_type": "code",
      "metadata": {
        "id": "Hpeg-MDrHBmP",
        "colab_type": "code",
        "outputId": "a8552710-183e-4c11-a45c-b56123f385fd",
        "colab": {
          "base_uri": "https://localhost:8080/",
          "height": 34
        }
      },
      "source": [
        "X = x[:, np.newaxis]\n",
        "X.shape"
      ],
      "execution_count": 0,
      "outputs": [
        {
          "output_type": "execute_result",
          "data": {
            "text/plain": [
              "(50, 1)"
            ]
          },
          "metadata": {
            "tags": []
          },
          "execution_count": 5
        }
      ]
    },
    {
      "cell_type": "code",
      "metadata": {
        "id": "AXuupa1CHp30",
        "colab_type": "code",
        "outputId": "90cff629-6f47-4909-dae7-8b9d05828364",
        "colab": {
          "base_uri": "https://localhost:8080/",
          "height": 884
        }
      },
      "source": [
        "print(type(X))\n",
        "print(X)"
      ],
      "execution_count": 0,
      "outputs": [
        {
          "output_type": "stream",
          "text": [
            "<class 'numpy.ndarray'>\n",
            "[[3.74540119]\n",
            " [9.50714306]\n",
            " [7.31993942]\n",
            " [5.98658484]\n",
            " [1.5601864 ]\n",
            " [1.5599452 ]\n",
            " [0.58083612]\n",
            " [8.66176146]\n",
            " [6.01115012]\n",
            " [7.08072578]\n",
            " [0.20584494]\n",
            " [9.69909852]\n",
            " [8.32442641]\n",
            " [2.12339111]\n",
            " [1.81824967]\n",
            " [1.8340451 ]\n",
            " [3.04242243]\n",
            " [5.24756432]\n",
            " [4.31945019]\n",
            " [2.9122914 ]\n",
            " [6.11852895]\n",
            " [1.39493861]\n",
            " [2.92144649]\n",
            " [3.66361843]\n",
            " [4.56069984]\n",
            " [7.85175961]\n",
            " [1.99673782]\n",
            " [5.14234438]\n",
            " [5.92414569]\n",
            " [0.46450413]\n",
            " [6.07544852]\n",
            " [1.70524124]\n",
            " [0.65051593]\n",
            " [9.48885537]\n",
            " [9.65632033]\n",
            " [8.08397348]\n",
            " [3.04613769]\n",
            " [0.97672114]\n",
            " [6.84233027]\n",
            " [4.40152494]\n",
            " [1.22038235]\n",
            " [4.9517691 ]\n",
            " [0.34388521]\n",
            " [9.09320402]\n",
            " [2.58779982]\n",
            " [6.62522284]\n",
            " [3.11711076]\n",
            " [5.20068021]\n",
            " [5.46710279]\n",
            " [1.84854456]]\n"
          ],
          "name": "stdout"
        }
      ]
    },
    {
      "cell_type": "code",
      "metadata": {
        "id": "ZaVkrQiKHggl",
        "colab_type": "code",
        "outputId": "40e93a1c-34de-41c7-88b5-6be8f7749f9a",
        "colab": {
          "base_uri": "https://localhost:8080/",
          "height": 187
        }
      },
      "source": [
        "print(type(y))\n",
        "print(y)"
      ],
      "execution_count": 0,
      "outputs": [
        {
          "output_type": "stream",
          "text": [
            "<class 'numpy.ndarray'>\n",
            "[ 7.22926896 18.18565441 13.52423055 10.67206599  0.64185082  1.4000462\n",
            " -0.29896653 17.38064514 11.36591852 11.3984114  -0.26422614 18.01311476\n",
            " 14.97193082  3.8584585   3.66749887  3.59937032  4.24562734  9.18591626\n",
            "  7.9701638   5.80012793 10.75788366  1.60421824  3.736558    5.13103024\n",
            "  8.93392551 16.05975926  2.92146552 10.28822167 11.2099274  -0.7161115\n",
            " 11.51229264  3.94851904  0.26520582 19.5423544  15.69289556 15.98984947\n",
            "  5.17932245  0.65443493 12.77642131  5.81548096  1.22109281  9.26065077\n",
            "  1.16566447 16.66813782  3.36710603 11.74868864  6.14962364  9.73011153\n",
            "  9.40444538  3.21035654]\n"
          ],
          "name": "stdout"
        }
      ]
    },
    {
      "cell_type": "code",
      "metadata": {
        "id": "4mowtWqxIZLm",
        "colab_type": "code",
        "outputId": "517ebdba-efcb-44fb-ab2b-6edc55ef3e88",
        "colab": {
          "base_uri": "https://localhost:8080/",
          "height": 51
        }
      },
      "source": [
        "#Criação do modelo\n",
        "model.fit(X, y)"
      ],
      "execution_count": 0,
      "outputs": [
        {
          "output_type": "execute_result",
          "data": {
            "text/plain": [
              "LinearRegression(copy_X=True, fit_intercept=True, n_jobs=None,\n",
              "         normalize=False)"
            ]
          },
          "metadata": {
            "tags": []
          },
          "execution_count": 7
        }
      ]
    },
    {
      "cell_type": "code",
      "metadata": {
        "id": "CX8mEQelIdFb",
        "colab_type": "code",
        "outputId": "23965bd7-0fac-4968-b072-0b4055bef11b",
        "colab": {
          "base_uri": "https://localhost:8080/",
          "height": 51
        }
      },
      "source": [
        "#Parâmetros do modelo\n",
        "print(model.coef_)\n",
        "print(model.intercept_)"
      ],
      "execution_count": 0,
      "outputs": [
        {
          "output_type": "stream",
          "text": [
            "[1.9776566]\n",
            "-0.9033107255311146\n"
          ],
          "name": "stdout"
        }
      ]
    },
    {
      "cell_type": "code",
      "metadata": {
        "id": "bFaWHgZjI5wN",
        "colab_type": "code",
        "colab": {}
      },
      "source": [
        "#Aplicando o modelo sobre novos dados\n",
        "xfit = np.linspace(-1, 11)"
      ],
      "execution_count": 0,
      "outputs": []
    },
    {
      "cell_type": "code",
      "metadata": {
        "id": "IGsuecuhJljN",
        "colab_type": "code",
        "outputId": "1a6275ee-e22c-4027-b505-1f29d82a1458",
        "colab": {
          "base_uri": "https://localhost:8080/",
          "height": 170
        }
      },
      "source": [
        "print(xfit)"
      ],
      "execution_count": 0,
      "outputs": [
        {
          "output_type": "stream",
          "text": [
            "[-1.         -0.75510204 -0.51020408 -0.26530612 -0.02040816  0.2244898\n",
            "  0.46938776  0.71428571  0.95918367  1.20408163  1.44897959  1.69387755\n",
            "  1.93877551  2.18367347  2.42857143  2.67346939  2.91836735  3.16326531\n",
            "  3.40816327  3.65306122  3.89795918  4.14285714  4.3877551   4.63265306\n",
            "  4.87755102  5.12244898  5.36734694  5.6122449   5.85714286  6.10204082\n",
            "  6.34693878  6.59183673  6.83673469  7.08163265  7.32653061  7.57142857\n",
            "  7.81632653  8.06122449  8.30612245  8.55102041  8.79591837  9.04081633\n",
            "  9.28571429  9.53061224  9.7755102  10.02040816 10.26530612 10.51020408\n",
            " 10.75510204 11.        ]\n"
          ],
          "name": "stdout"
        }
      ]
    },
    {
      "cell_type": "code",
      "metadata": {
        "id": "7oS9tY-aJTgh",
        "colab_type": "code",
        "colab": {}
      },
      "source": [
        "#Colocando no formato de matriz\n",
        "Xfit = xfit[:, np.newaxis]\n",
        "yfit = model.predict(Xfit)"
      ],
      "execution_count": 0,
      "outputs": []
    },
    {
      "cell_type": "code",
      "metadata": {
        "id": "x6IIF-H-Ju7T",
        "colab_type": "code",
        "outputId": "8ca71c71-40e7-44af-b855-57b8ecf38918",
        "colab": {
          "base_uri": "https://localhost:8080/",
          "height": 170
        }
      },
      "source": [
        "print(yfit)"
      ],
      "execution_count": 0,
      "outputs": [
        {
          "output_type": "stream",
          "text": [
            "[-2.88096733 -2.39664326 -1.9123192  -1.42799513 -0.94367106 -0.459347\n",
            "  0.02497707  0.50930113  0.9936252   1.47794926  1.96227333  2.44659739\n",
            "  2.93092146  3.41524552  3.89956959  4.38389366  4.86821772  5.35254179\n",
            "  5.83686585  6.32118992  6.80551398  7.28983805  7.77416211  8.25848618\n",
            "  8.74281024  9.22713431  9.71145837 10.19578244 10.68010651 11.16443057\n",
            " 11.64875464 12.1330787  12.61740277 13.10172683 13.5860509  14.07037496\n",
            " 14.55469903 15.03902309 15.52334716 16.00767122 16.49199529 16.97631936\n",
            " 17.46064342 17.94496749 18.42929155 18.91361562 19.39793968 19.88226375\n",
            " 20.36658781 20.85091188]\n"
          ],
          "name": "stdout"
        }
      ]
    },
    {
      "cell_type": "code",
      "metadata": {
        "id": "BhdYFeoDJeGR",
        "colab_type": "code",
        "outputId": "380c83db-36bc-4293-8957-bd046192454b",
        "colab": {
          "base_uri": "https://localhost:8080/",
          "height": 286
        }
      },
      "source": [
        "#plt.scatter(x, y)\n",
        "plt.scatter(xfit, yfit)"
      ],
      "execution_count": 0,
      "outputs": [
        {
          "output_type": "execute_result",
          "data": {
            "text/plain": [
              "<matplotlib.collections.PathCollection at 0x7fb34cf2ac18>"
            ]
          },
          "metadata": {
            "tags": []
          },
          "execution_count": 34
        },
        {
          "output_type": "display_data",
          "data": {
            "image/png": "[encoded data removed]",
            "text/plain": [
              "<Figure size 432x288 with 1 Axes>"
            ]
          },
          "metadata": {
            "tags": []
          }
        }
      ]
    },
    {
      "cell_type": "markdown",
      "metadata": {
        "id": "yDVmZvu9MYb3",
        "colab_type": "text"
      },
      "source": [
        "## Classificação 1"
      ]
    },
    {
      "cell_type": "code",
      "metadata": {
        "id": "skqx_O_1Jh5Q",
        "colab_type": "code",
        "colab": {}
      },
      "source": [
        "# Dados\n",
        "from sklearn.model_selection import train_test_split\n",
        "import seaborn as sns\n",
        "iris = sns.load_dataset('iris')\n",
        "X_iris = iris.drop('species', axis=1)\n",
        "y_iris = iris['species']\n",
        "Xtrain, Xtest, ytrain, ytest = train_test_split(X_iris, y_iris,\n",
        "                                                random_state=1)"
      ],
      "execution_count": 0,
      "outputs": []
    },
    {
      "cell_type": "code",
      "metadata": {
        "id": "Mg7Ywq8CMn2h",
        "colab_type": "code",
        "colab": {}
      },
      "source": [
        "from sklearn.naive_bayes import GaussianNB # 1. escolha da técnica\n",
        "model = GaussianNB()                       # 2. instanciação do modelo\n",
        "model.fit(Xtrain, ytrain)                  # 3. criação do modelo\n",
        "y_model = model.predict(Xtest)             # 4. predição em novos dados"
      ],
      "execution_count": 0,
      "outputs": []
    },
    {
      "cell_type": "code",
      "metadata": {
        "id": "JS5fI04xNedl",
        "colab_type": "code",
        "outputId": "0f20ba82-278a-42a8-dcea-683d2d865bac",
        "colab": {
          "base_uri": "https://localhost:8080/",
          "height": 34
        }
      },
      "source": [
        "from sklearn.metrics import accuracy_score\n",
        "accuracy_score(ytest, y_model)"
      ],
      "execution_count": 0,
      "outputs": [
        {
          "output_type": "execute_result",
          "data": {
            "text/plain": [
              "0.9736842105263158"
            ]
          },
          "metadata": {
            "tags": []
          },
          "execution_count": 41
        }
      ]
    },
    {
      "cell_type": "markdown",
      "metadata": {
        "id": "K09LBTdVOWS6",
        "colab_type": "text"
      },
      "source": [
        "## Classificação 2"
      ]
    },
    {
      "cell_type": "code",
      "metadata": {
        "id": "Vd6glOjnN_X_",
        "colab_type": "code",
        "outputId": "070d439f-1484-4b93-d376-a71e9e044007",
        "colab": {
          "base_uri": "https://localhost:8080/",
          "height": 34
        }
      },
      "source": [
        "from sklearn.datasets import load_digits\n",
        "digits = load_digits()\n",
        "digits.images.shape"
      ],
      "execution_count": 0,
      "outputs": [
        {
          "output_type": "execute_result",
          "data": {
            "text/plain": [
              "(1797, 8, 8)"
            ]
          },
          "metadata": {
            "tags": []
          },
          "execution_count": 12
        }
      ]
    },
    {
      "cell_type": "code",
      "metadata": {
        "id": "w-gW_NmyOb6c",
        "colab_type": "code",
        "outputId": "6ca7dcae-ed9b-4d9a-fc40-654b58836499",
        "colab": {
          "base_uri": "https://localhost:8080/",
          "height": 473
        }
      },
      "source": [
        "import matplotlib.pyplot as plt\n",
        "\n",
        "fig, axes = plt.subplots(10, 10, figsize=(8, 8),\n",
        "                         subplot_kw={'xticks':[], 'yticks':[]},\n",
        "                         gridspec_kw=dict(hspace=0.1, wspace=0.1))\n",
        "\n",
        "for i, ax in enumerate(axes.flat):\n",
        "    ax.imshow(digits.images[i], cmap='binary', interpolation='nearest')\n",
        "    ax.text(0.05, 0.05, str(digits.target[i]),\n",
        "            transform=ax.transAxes, color='green')"
      ],
      "execution_count": 0,
      "outputs": [
        {
          "output_type": "display_data",
          "data": {
            "image/png": "[encoded data removed]",
            "text/plain": [
              "<Figure size 576x576 with 100 Axes>"
            ]
          },
          "metadata": {
            "tags": []
          }
        }
      ]
    },
    {
      "cell_type": "code",
      "metadata": {
        "id": "JXBCqeXeOhV2",
        "colab_type": "code",
        "outputId": "98b4a40f-5c28-4b3b-8890-5395feb38e32",
        "colab": {
          "base_uri": "https://localhost:8080/",
          "height": 34
        }
      },
      "source": [
        "X = digits.data\n",
        "X.shape"
      ],
      "execution_count": 0,
      "outputs": [
        {
          "output_type": "execute_result",
          "data": {
            "text/plain": [
              "(1797, 64)"
            ]
          },
          "metadata": {
            "tags": []
          },
          "execution_count": 14
        }
      ]
    },
    {
      "cell_type": "code",
      "metadata": {
        "id": "purgBFDROuB-",
        "colab_type": "code",
        "outputId": "831528f6-2c7f-41b9-d312-d41c99b2db75",
        "colab": {
          "base_uri": "https://localhost:8080/",
          "height": 34
        }
      },
      "source": [
        "y = digits.target\n",
        "y.shape"
      ],
      "execution_count": 0,
      "outputs": [
        {
          "output_type": "execute_result",
          "data": {
            "text/plain": [
              "(1797,)"
            ]
          },
          "metadata": {
            "tags": []
          },
          "execution_count": 15
        }
      ]
    },
    {
      "cell_type": "code",
      "metadata": {
        "id": "_xFJhL3aOu0P",
        "colab_type": "code",
        "colab": {}
      },
      "source": [
        "Xtrain, Xtest, ytrain, ytest = train_test_split(X, y, random_state=0)"
      ],
      "execution_count": 0,
      "outputs": []
    },
    {
      "cell_type": "code",
      "metadata": {
        "id": "JSuSxog6OyeM",
        "colab_type": "code",
        "colab": {}
      },
      "source": [
        "from sklearn.naive_bayes import GaussianNB\n",
        "model = GaussianNB()\n",
        "model.fit(Xtrain, ytrain)\n",
        "y_model = model.predict(Xtest)\n",
        "ypred_train = model.predict(Xtrain)"
      ],
      "execution_count": 0,
      "outputs": []
    },
    {
      "cell_type": "code",
      "metadata": {
        "id": "IMKOFgOyO12H",
        "colab_type": "code",
        "outputId": "4d93f10d-483d-47bc-f116-38aae500253e",
        "colab": {
          "base_uri": "https://localhost:8080/",
          "height": 51
        }
      },
      "source": [
        "from sklearn.metrics import accuracy_score\n",
        "from sklearn.metrics import accuracy_score\n",
        "print(\"ACC TRAINING:\" + str(accuracy_score(ytrain, ypred_train)))\n",
        "print(\"ACC TEST:\" + str(accuracy_score(ytest, y_model)))"
      ],
      "execution_count": 0,
      "outputs": [
        {
          "output_type": "stream",
          "text": [
            "ACC TRAINING:0.8574610244988864\n",
            "ACC TEST:0.8333333333333334\n"
          ],
          "name": "stdout"
        }
      ]
    },
    {
      "cell_type": "code",
      "metadata": {
        "id": "Ou9oRQXjO6bX",
        "colab_type": "code",
        "outputId": "5c87ce9c-58ad-475b-e8cf-c5314726b610",
        "colab": {
          "base_uri": "https://localhost:8080/",
          "height": 283
        }
      },
      "source": [
        "from sklearn.metrics import confusion_matrix\n",
        "\n",
        "mat = confusion_matrix(ytest, y_model)\n",
        "\n",
        "sns.heatmap(mat, square=True, annot=True, cbar=False)\n",
        "plt.xlabel('predicted value')\n",
        "plt.ylabel('true value');"
      ],
      "execution_count": 0,
      "outputs": [
        {
          "output_type": "display_data",
          "data": {
            "image/png": "[encoded data removed]",
            "text/plain": [
              "<Figure size 432x288 with 1 Axes>"
            ]
          },
          "metadata": {
            "tags": []
          }
        }
      ]
    },
    {
      "cell_type": "markdown",
      "metadata": {
        "id": "w_YYiSLRccFv",
        "colab_type": "text"
      },
      "source": [
        "## Avaliação de Modelos e Hiper-parâmetros"
      ]
    },
    {
      "cell_type": "code",
      "metadata": {
        "id": "w6xA0lMxcizP",
        "colab_type": "code",
        "colab": {}
      },
      "source": [
        "from sklearn.datasets import load_iris\n",
        "iris = load_iris()\n",
        "X = iris.data\n",
        "y = iris.target"
      ],
      "execution_count": 0,
      "outputs": []
    },
    {
      "cell_type": "code",
      "metadata": {
        "id": "aQY8mT_FcuMl",
        "colab_type": "code",
        "colab": {}
      },
      "source": [
        "from sklearn.neighbors import KNeighborsClassifier\n",
        "model = KNeighborsClassifier(n_neighbors=1)"
      ],
      "execution_count": 0,
      "outputs": []
    },
    {
      "cell_type": "code",
      "metadata": {
        "id": "5n9-aWa68OwZ",
        "colab_type": "code",
        "colab": {}
      },
      "source": [
        "model.fit(X, y)\n",
        "y_model = model.predict(X)"
      ],
      "execution_count": 0,
      "outputs": []
    },
    {
      "cell_type": "code",
      "metadata": {
        "id": "SOOIAzHo8Rzt",
        "colab_type": "code",
        "outputId": "3f24c083-c8a3-46a1-85ff-974cd1196695",
        "colab": {
          "base_uri": "https://localhost:8080/",
          "height": 34
        }
      },
      "source": [
        "from sklearn.metrics import accuracy_score\n",
        "accuracy_score(y, y_model)"
      ],
      "execution_count": 0,
      "outputs": [
        {
          "output_type": "execute_result",
          "data": {
            "text/plain": [
              "1.0"
            ]
          },
          "metadata": {
            "tags": []
          },
          "execution_count": 4
        }
      ]
    },
    {
      "cell_type": "code",
      "metadata": {
        "id": "_K5XW6sf8Uz0",
        "colab_type": "code",
        "outputId": "0d077e46-8fd5-45fd-fb40-f1f4d953432a",
        "colab": {
          "base_uri": "https://localhost:8080/",
          "height": 88
        }
      },
      "source": [
        "#holdout set\n",
        "from sklearn.model_selection import train_test_split\n",
        "# split the data with 50% in each set\n",
        "X1, X2, y1, y2 = train_test_split(X, y, random_state=0,\n",
        "                                  train_size=0.5)\n",
        "\n",
        "# fit the model on one set of data\n",
        "model.fit(X1, y1)\n",
        "\n",
        "# evaluate the model on the second set of data\n",
        "y2_model = model.predict(X2)\n",
        "accuracy_score(y2, y2_model)"
      ],
      "execution_count": 0,
      "outputs": [
        {
          "output_type": "stream",
          "text": [
            "/usr/local/lib/python3.6/dist-packages/sklearn/model_selection/_split.py:2179: FutureWarning: From version 0.21, test_size will always complement train_size unless both are specified.\n",
            "  FutureWarning)\n"
          ],
          "name": "stderr"
        },
        {
          "output_type": "execute_result",
          "data": {
            "text/plain": [
              "0.9066666666666666"
            ]
          },
          "metadata": {
            "tags": []
          },
          "execution_count": 5
        }
      ]
    },
    {
      "cell_type": "code",
      "metadata": {
        "id": "y6CikC8b9PnW",
        "colab_type": "code",
        "outputId": "77abaa59-bd69-4990-d176-bae5e04fde3d",
        "colab": {
          "base_uri": "https://localhost:8080/",
          "height": 34
        }
      },
      "source": [
        "#desempenho no treinamento e teste\n",
        "y2_model = model.fit(X1, y1).predict(X2)\n",
        "y1_model = model.fit(X2, y2).predict(X1)\n",
        "accuracy_score(y1, y1_model), accuracy_score(y2, y2_model)"
      ],
      "execution_count": 0,
      "outputs": [
        {
          "output_type": "execute_result",
          "data": {
            "text/plain": [
              "(0.96, 0.9066666666666666)"
            ]
          },
          "metadata": {
            "tags": []
          },
          "execution_count": 6
        }
      ]
    },
    {
      "cell_type": "code",
      "metadata": {
        "id": "B0VsnplgscRX",
        "colab_type": "code",
        "outputId": "537b3ba6-0658-4410-f83a-392e4592fb1a",
        "colab": {
          "base_uri": "https://localhost:8080/",
          "height": 34
        }
      },
      "source": [
        "#usando cross-validation\n",
        "from sklearn.model_selection import cross_val_score\n",
        "cross_val_score(model, X, y, cv=5)\n"
      ],
      "execution_count": 0,
      "outputs": [
        {
          "output_type": "execute_result",
          "data": {
            "text/plain": [
              "array([0.96666667, 0.96666667, 0.93333333, 0.93333333, 1.        ])"
            ]
          },
          "metadata": {
            "tags": []
          },
          "execution_count": 7
        }
      ]
    },
    {
      "cell_type": "code",
      "metadata": {
        "id": "zchoMqLfv8ue",
        "colab_type": "code",
        "outputId": "704a8767-5078-4421-9ce4-099fde65806a",
        "colab": {
          "base_uri": "https://localhost:8080/",
          "height": 54
        }
      },
      "source": [
        "from sklearn.datasets import load_iris\n",
        "from sklearn.neighbors import KNeighborsClassifier\n",
        "from sklearn.model_selection import cross_val_score\n",
        "import matplotlib.pyplot as plt\n",
        "%matplotlib inline\n",
        "# read in the iris data\n",
        "iris = load_iris()\n",
        "\n",
        "# create X (features) and y (response)\n",
        "X = iris.data\n",
        "y = iris.target\n",
        "# search for an optimal value of K for KNN\n",
        "\n",
        "# list of integers 1 to 30\n",
        "# integers we want to try\n",
        "k_range = range(1, 31)\n",
        "\n",
        "# list of scores from k_range\n",
        "k_scores = []\n",
        "\n",
        "# 1. we will loop through reasonable values of k\n",
        "for k in k_range:\n",
        "    # 2. run KNeighborsClassifier with k neighbours\n",
        "    knn = KNeighborsClassifier(n_neighbors=k)\n",
        "    # 3. obtain cross_val_score for KNeighborsClassifier with k neighbours\n",
        "    scores = cross_val_score(knn, X, y, cv=10, scoring='accuracy')\n",
        "    # 4. append mean of scores for k neighbors to k_scores list\n",
        "    k_scores.append(scores.mean())\n",
        "print(k_scores)"
      ],
      "execution_count": 0,
      "outputs": [
        {
          "output_type": "stream",
          "text": [
            "[0.96, 0.9533333333333334, 0.9666666666666666, 0.9666666666666666, 0.9666666666666668, 0.9666666666666668, 0.9666666666666668, 0.9666666666666668, 0.9733333333333334, 0.9666666666666668, 0.9666666666666668, 0.9733333333333334, 0.9800000000000001, 0.9733333333333334, 0.9733333333333334, 0.9733333333333334, 0.9733333333333334, 0.9800000000000001, 0.9733333333333334, 0.9800000000000001, 0.9666666666666666, 0.9666666666666666, 0.9733333333333334, 0.96, 0.9666666666666666, 0.96, 0.9666666666666666, 0.9533333333333334, 0.9533333333333334, 0.9533333333333334]\n"
          ],
          "name": "stdout"
        }
      ]
    },
    {
      "cell_type": "code",
      "metadata": {
        "id": "uMGLte0ewY6M",
        "colab_type": "code",
        "outputId": "35ad2096-bbec-409e-fced-4e578356c63f",
        "colab": {
          "base_uri": "https://localhost:8080/",
          "height": 300
        }
      },
      "source": [
        "# plot the value of K for KNN (x-axis) versus the cross-validated accuracy (y-axis)\n",
        "plt.plot(k_range, k_scores)\n",
        "plt.xlabel('Value of K for KNN')\n",
        "plt.ylabel('Cross-Validated Accuracy')"
      ],
      "execution_count": 0,
      "outputs": [
        {
          "output_type": "execute_result",
          "data": {
            "text/plain": [
              "Text(0, 0.5, 'Cross-Validated Accuracy')"
            ]
          },
          "metadata": {
            "tags": []
          },
          "execution_count": 14
        },
        {
          "output_type": "display_data",
          "data": {
            "image/png": "[encoded data removed]",
            "text/plain": [
              "<Figure size 432x288 with 1 Axes>"
            ]
          },
          "metadata": {
            "tags": []
          }
        }
      ]
    },
    {
      "cell_type": "markdown",
      "metadata": {
        "id": "UqXPAyBvVGDr",
        "colab_type": "text"
      },
      "source": [
        "## Feature Engineering\n"
      ]
    },
    {
      "cell_type": "code",
      "metadata": {
        "id": "Uy1a73zSVKka",
        "colab_type": "code",
        "outputId": "73ad9e56-5d89-4ffd-e71a-25ef44c8611e",
        "colab": {
          "base_uri": "https://localhost:8080/",
          "height": 241
        }
      },
      "source": [
        "import pandas as pd\n",
        "houses=pd.read_csv(\"https://raw.githubusercontent.com/if1015-datascience/material/gh-pages/data/recife.csv\",encoding = \"ISO-8859-1\")\n",
        "houses.head()"
      ],
      "execution_count": 0,
      "outputs": [
        {
          "output_type": "execute_result",
          "data": {
            "text/html": [
              "<div>\n",
              "<style scoped>\n",
              "    .dataframe tbody tr th:only-of-type {\n",
              "        vertical-align: middle;\n",
              "    }\n",
              "\n",
              "    .dataframe tbody tr th {\n",
              "        vertical-align: top;\n",
              "    }\n",
              "\n",
              "    .dataframe thead th {\n",
              "        text-align: right;\n",
              "    }\n",
              "</style>\n",
              "<table border=\"1\" class=\"dataframe\">\n",
              "  <thead>\n",
              "    <tr style=\"text-align: right;\">\n",
              "      <th></th>\n",
              "      <th>price</th>\n",
              "      <th>latitude</th>\n",
              "      <th>longitude</th>\n",
              "      <th>bedrooms</th>\n",
              "      <th>area</th>\n",
              "      <th>pkspaces</th>\n",
              "      <th>bathrooms</th>\n",
              "      <th>ensuites</th>\n",
              "      <th>suburb</th>\n",
              "      <th>district</th>\n",
              "      <th>city</th>\n",
              "      <th>state</th>\n",
              "      <th>type</th>\n",
              "    </tr>\n",
              "  </thead>\n",
              "  <tbody>\n",
              "    <tr>\n",
              "      <th>0</th>\n",
              "      <td>1500</td>\n",
              "      <td>-8.059791</td>\n",
              "      <td>-34.889619</td>\n",
              "      <td>4.0</td>\n",
              "      <td>37.0</td>\n",
              "      <td>3.0</td>\n",
              "      <td>3.0</td>\n",
              "      <td>NaN</td>\n",
              "      <td>Boa Vista</td>\n",
              "      <td>Recife</td>\n",
              "      <td>Recife</td>\n",
              "      <td>Pernambuco</td>\n",
              "      <td>apart</td>\n",
              "    </tr>\n",
              "    <tr>\n",
              "      <th>1</th>\n",
              "      <td>330000</td>\n",
              "      <td>-8.029595</td>\n",
              "      <td>-34.900372</td>\n",
              "      <td>3.0</td>\n",
              "      <td>86.0</td>\n",
              "      <td>1.0</td>\n",
              "      <td>3.0</td>\n",
              "      <td>1.0</td>\n",
              "      <td>Tamarineira</td>\n",
              "      <td>Recife</td>\n",
              "      <td>Recife</td>\n",
              "      <td>Pernambuco</td>\n",
              "      <td>apart</td>\n",
              "    </tr>\n",
              "    <tr>\n",
              "      <th>2</th>\n",
              "      <td>255000</td>\n",
              "      <td>-8.037247</td>\n",
              "      <td>-34.890986</td>\n",
              "      <td>2.0</td>\n",
              "      <td>82.0</td>\n",
              "      <td>1.0</td>\n",
              "      <td>2.0</td>\n",
              "      <td>NaN</td>\n",
              "      <td>Encruzilhada</td>\n",
              "      <td>Recife</td>\n",
              "      <td>Recife</td>\n",
              "      <td>Pernambuco</td>\n",
              "      <td>apart</td>\n",
              "    </tr>\n",
              "    <tr>\n",
              "      <th>3</th>\n",
              "      <td>380000</td>\n",
              "      <td>-8.047562</td>\n",
              "      <td>-34.876964</td>\n",
              "      <td>3.0</td>\n",
              "      <td>95.0</td>\n",
              "      <td>2.0</td>\n",
              "      <td>3.0</td>\n",
              "      <td>1.0</td>\n",
              "      <td>Santo Amaro</td>\n",
              "      <td>Recife</td>\n",
              "      <td>Recife</td>\n",
              "      <td>Pernambuco</td>\n",
              "      <td>apart</td>\n",
              "    </tr>\n",
              "    <tr>\n",
              "      <th>4</th>\n",
              "      <td>300000</td>\n",
              "      <td>-8.053580</td>\n",
              "      <td>-34.908733</td>\n",
              "      <td>3.0</td>\n",
              "      <td>97.0</td>\n",
              "      <td>1.0</td>\n",
              "      <td>3.0</td>\n",
              "      <td>1.0</td>\n",
              "      <td>Madalena</td>\n",
              "      <td>Recife</td>\n",
              "      <td>Recife</td>\n",
              "      <td>Pernambuco</td>\n",
              "      <td>apart</td>\n",
              "    </tr>\n",
              "  </tbody>\n",
              "</table>\n",
              "</div>"
            ],
            "text/plain": [
              "    price  latitude  longitude  bedrooms  area  pkspaces  bathrooms  ensuites  \\\n",
              "0    1500 -8.059791 -34.889619       4.0  37.0       3.0        3.0       NaN   \n",
              "1  330000 -8.029595 -34.900372       3.0  86.0       1.0        3.0       1.0   \n",
              "2  255000 -8.037247 -34.890986       2.0  82.0       1.0        2.0       NaN   \n",
              "3  380000 -8.047562 -34.876964       3.0  95.0       2.0        3.0       1.0   \n",
              "4  300000 -8.053580 -34.908733       3.0  97.0       1.0        3.0       1.0   \n",
              "\n",
              "         suburb district    city       state   type  \n",
              "0     Boa Vista   Recife  Recife  Pernambuco  apart  \n",
              "1   Tamarineira   Recife  Recife  Pernambuco  apart  \n",
              "2  Encruzilhada   Recife  Recife  Pernambuco  apart  \n",
              "3   Santo Amaro   Recife  Recife  Pernambuco  apart  \n",
              "4      Madalena   Recife  Recife  Pernambuco  apart  "
            ]
          },
          "metadata": {
            "tags": []
          },
          "execution_count": 8
        }
      ]
    },
    {
      "cell_type": "code",
      "metadata": {
        "id": "0BUu_hJ2VjP0",
        "colab_type": "code",
        "outputId": "df789e76-0d2c-4f57-c2c6-2aab7008f1cd",
        "colab": {
          "base_uri": "https://localhost:8080/",
          "height": 224
        }
      },
      "source": [
        "houses['suburb'] = houses['suburb'].astype('category')\n",
        "houses['suburb'] = houses['suburb'].cat.codes\n",
        "houses.head()"
      ],
      "execution_count": 0,
      "outputs": [
        {
          "output_type": "execute_result",
          "data": {
            "text/html": [
              "<div>\n",
              "<style scoped>\n",
              "    .dataframe tbody tr th:only-of-type {\n",
              "        vertical-align: middle;\n",
              "    }\n",
              "\n",
              "    .dataframe tbody tr th {\n",
              "        vertical-align: top;\n",
              "    }\n",
              "\n",
              "    .dataframe thead th {\n",
              "        text-align: right;\n",
              "    }\n",
              "</style>\n",
              "<table border=\"1\" class=\"dataframe\">\n",
              "  <thead>\n",
              "    <tr style=\"text-align: right;\">\n",
              "      <th></th>\n",
              "      <th>price</th>\n",
              "      <th>latitude</th>\n",
              "      <th>longitude</th>\n",
              "      <th>bedrooms</th>\n",
              "      <th>area</th>\n",
              "      <th>pkspaces</th>\n",
              "      <th>bathrooms</th>\n",
              "      <th>ensuites</th>\n",
              "      <th>suburb</th>\n",
              "      <th>district</th>\n",
              "      <th>city</th>\n",
              "      <th>state</th>\n",
              "      <th>type</th>\n",
              "    </tr>\n",
              "  </thead>\n",
              "  <tbody>\n",
              "    <tr>\n",
              "      <th>0</th>\n",
              "      <td>1500</td>\n",
              "      <td>-8.059791</td>\n",
              "      <td>-34.889619</td>\n",
              "      <td>4.0</td>\n",
              "      <td>37.0</td>\n",
              "      <td>3.0</td>\n",
              "      <td>3.0</td>\n",
              "      <td>NaN</td>\n",
              "      <td>5</td>\n",
              "      <td>Recife</td>\n",
              "      <td>Recife</td>\n",
              "      <td>Pernambuco</td>\n",
              "      <td>apart</td>\n",
              "    </tr>\n",
              "    <tr>\n",
              "      <th>1</th>\n",
              "      <td>330000</td>\n",
              "      <td>-8.029595</td>\n",
              "      <td>-34.900372</td>\n",
              "      <td>3.0</td>\n",
              "      <td>86.0</td>\n",
              "      <td>1.0</td>\n",
              "      <td>3.0</td>\n",
              "      <td>1.0</td>\n",
              "      <td>50</td>\n",
              "      <td>Recife</td>\n",
              "      <td>Recife</td>\n",
              "      <td>Pernambuco</td>\n",
              "      <td>apart</td>\n",
              "    </tr>\n",
              "    <tr>\n",
              "      <th>2</th>\n",
              "      <td>255000</td>\n",
              "      <td>-8.037247</td>\n",
              "      <td>-34.890986</td>\n",
              "      <td>2.0</td>\n",
              "      <td>82.0</td>\n",
              "      <td>1.0</td>\n",
              "      <td>2.0</td>\n",
              "      <td>NaN</td>\n",
              "      <td>17</td>\n",
              "      <td>Recife</td>\n",
              "      <td>Recife</td>\n",
              "      <td>Pernambuco</td>\n",
              "      <td>apart</td>\n",
              "    </tr>\n",
              "    <tr>\n",
              "      <th>3</th>\n",
              "      <td>380000</td>\n",
              "      <td>-8.047562</td>\n",
              "      <td>-34.876964</td>\n",
              "      <td>3.0</td>\n",
              "      <td>95.0</td>\n",
              "      <td>2.0</td>\n",
              "      <td>3.0</td>\n",
              "      <td>1.0</td>\n",
              "      <td>46</td>\n",
              "      <td>Recife</td>\n",
              "      <td>Recife</td>\n",
              "      <td>Pernambuco</td>\n",
              "      <td>apart</td>\n",
              "    </tr>\n",
              "    <tr>\n",
              "      <th>4</th>\n",
              "      <td>300000</td>\n",
              "      <td>-8.053580</td>\n",
              "      <td>-34.908733</td>\n",
              "      <td>3.0</td>\n",
              "      <td>97.0</td>\n",
              "      <td>1.0</td>\n",
              "      <td>3.0</td>\n",
              "      <td>1.0</td>\n",
              "      <td>31</td>\n",
              "      <td>Recife</td>\n",
              "      <td>Recife</td>\n",
              "      <td>Pernambuco</td>\n",
              "      <td>apart</td>\n",
              "    </tr>\n",
              "  </tbody>\n",
              "</table>\n",
              "</div>"
            ],
            "text/plain": [
              "    price  latitude  longitude  bedrooms  area  pkspaces  bathrooms  ensuites  \\\n",
              "0    1500 -8.059791 -34.889619       4.0  37.0       3.0        3.0       NaN   \n",
              "1  330000 -8.029595 -34.900372       3.0  86.0       1.0        3.0       1.0   \n",
              "2  255000 -8.037247 -34.890986       2.0  82.0       1.0        2.0       NaN   \n",
              "3  380000 -8.047562 -34.876964       3.0  95.0       2.0        3.0       1.0   \n",
              "4  300000 -8.053580 -34.908733       3.0  97.0       1.0        3.0       1.0   \n",
              "\n",
              "   suburb district    city       state   type  \n",
              "0       5   Recife  Recife  Pernambuco  apart  \n",
              "1      50   Recife  Recife  Pernambuco  apart  \n",
              "2      17   Recife  Recife  Pernambuco  apart  \n",
              "3      46   Recife  Recife  Pernambuco  apart  \n",
              "4      31   Recife  Recife  Pernambuco  apart  "
            ]
          },
          "metadata": {
            "tags": []
          },
          "execution_count": 53
        }
      ]
    },
    {
      "cell_type": "markdown",
      "metadata": {
        "id": "vB0YpH1Reez5",
        "colab_type": "text"
      },
      "source": [
        ""
      ]
    },
    {
      "cell_type": "code",
      "metadata": {
        "id": "6N-sjQHKVohl",
        "colab_type": "code",
        "outputId": "76359985-3f53-49b9-e5b4-8c234bfe9443",
        "colab": {
          "base_uri": "https://localhost:8080/",
          "height": 253
        }
      },
      "source": [
        "#one-hot encoding\n",
        "dfDummies = pd.get_dummies(houses['suburb'], prefix = 'suburb')\n",
        "dfDummies.head()"
      ],
      "execution_count": 0,
      "outputs": [
        {
          "output_type": "execute_result",
          "data": {
            "text/html": [
              "<div>\n",
              "<style scoped>\n",
              "    .dataframe tbody tr th:only-of-type {\n",
              "        vertical-align: middle;\n",
              "    }\n",
              "\n",
              "    .dataframe tbody tr th {\n",
              "        vertical-align: top;\n",
              "    }\n",
              "\n",
              "    .dataframe thead th {\n",
              "        text-align: right;\n",
              "    }\n",
              "</style>\n",
              "<table border=\"1\" class=\"dataframe\">\n",
              "  <thead>\n",
              "    <tr style=\"text-align: right;\">\n",
              "      <th></th>\n",
              "      <th>suburb_0</th>\n",
              "      <th>suburb_1</th>\n",
              "      <th>suburb_2</th>\n",
              "      <th>suburb_3</th>\n",
              "      <th>suburb_4</th>\n",
              "      <th>suburb_5</th>\n",
              "      <th>suburb_6</th>\n",
              "      <th>suburb_7</th>\n",
              "      <th>suburb_8</th>\n",
              "      <th>suburb_9</th>\n",
              "      <th>...</th>\n",
              "      <th>suburb_48</th>\n",
              "      <th>suburb_49</th>\n",
              "      <th>suburb_50</th>\n",
              "      <th>suburb_51</th>\n",
              "      <th>suburb_52</th>\n",
              "      <th>suburb_53</th>\n",
              "      <th>suburb_54</th>\n",
              "      <th>suburb_55</th>\n",
              "      <th>suburb_56</th>\n",
              "      <th>suburb_57</th>\n",
              "    </tr>\n",
              "  </thead>\n",
              "  <tbody>\n",
              "    <tr>\n",
              "      <th>0</th>\n",
              "      <td>0</td>\n",
              "      <td>0</td>\n",
              "      <td>0</td>\n",
              "      <td>0</td>\n",
              "      <td>0</td>\n",
              "      <td>1</td>\n",
              "      <td>0</td>\n",
              "      <td>0</td>\n",
              "      <td>0</td>\n",
              "      <td>0</td>\n",
              "      <td>...</td>\n",
              "      <td>0</td>\n",
              "      <td>0</td>\n",
              "      <td>0</td>\n",
              "      <td>0</td>\n",
              "      <td>0</td>\n",
              "      <td>0</td>\n",
              "      <td>0</td>\n",
              "      <td>0</td>\n",
              "      <td>0</td>\n",
              "      <td>0</td>\n",
              "    </tr>\n",
              "    <tr>\n",
              "      <th>1</th>\n",
              "      <td>0</td>\n",
              "      <td>0</td>\n",
              "      <td>0</td>\n",
              "      <td>0</td>\n",
              "      <td>0</td>\n",
              "      <td>0</td>\n",
              "      <td>0</td>\n",
              "      <td>0</td>\n",
              "      <td>0</td>\n",
              "      <td>0</td>\n",
              "      <td>...</td>\n",
              "      <td>0</td>\n",
              "      <td>0</td>\n",
              "      <td>1</td>\n",
              "      <td>0</td>\n",
              "      <td>0</td>\n",
              "      <td>0</td>\n",
              "      <td>0</td>\n",
              "      <td>0</td>\n",
              "      <td>0</td>\n",
              "      <td>0</td>\n",
              "    </tr>\n",
              "    <tr>\n",
              "      <th>2</th>\n",
              "      <td>0</td>\n",
              "      <td>0</td>\n",
              "      <td>0</td>\n",
              "      <td>0</td>\n",
              "      <td>0</td>\n",
              "      <td>0</td>\n",
              "      <td>0</td>\n",
              "      <td>0</td>\n",
              "      <td>0</td>\n",
              "      <td>0</td>\n",
              "      <td>...</td>\n",
              "      <td>0</td>\n",
              "      <td>0</td>\n",
              "      <td>0</td>\n",
              "      <td>0</td>\n",
              "      <td>0</td>\n",
              "      <td>0</td>\n",
              "      <td>0</td>\n",
              "      <td>0</td>\n",
              "      <td>0</td>\n",
              "      <td>0</td>\n",
              "    </tr>\n",
              "    <tr>\n",
              "      <th>3</th>\n",
              "      <td>0</td>\n",
              "      <td>0</td>\n",
              "      <td>0</td>\n",
              "      <td>0</td>\n",
              "      <td>0</td>\n",
              "      <td>0</td>\n",
              "      <td>0</td>\n",
              "      <td>0</td>\n",
              "      <td>0</td>\n",
              "      <td>0</td>\n",
              "      <td>...</td>\n",
              "      <td>0</td>\n",
              "      <td>0</td>\n",
              "      <td>0</td>\n",
              "      <td>0</td>\n",
              "      <td>0</td>\n",
              "      <td>0</td>\n",
              "      <td>0</td>\n",
              "      <td>0</td>\n",
              "      <td>0</td>\n",
              "      <td>0</td>\n",
              "    </tr>\n",
              "    <tr>\n",
              "      <th>4</th>\n",
              "      <td>0</td>\n",
              "      <td>0</td>\n",
              "      <td>0</td>\n",
              "      <td>0</td>\n",
              "      <td>0</td>\n",
              "      <td>0</td>\n",
              "      <td>0</td>\n",
              "      <td>0</td>\n",
              "      <td>0</td>\n",
              "      <td>0</td>\n",
              "      <td>...</td>\n",
              "      <td>0</td>\n",
              "      <td>0</td>\n",
              "      <td>0</td>\n",
              "      <td>0</td>\n",
              "      <td>0</td>\n",
              "      <td>0</td>\n",
              "      <td>0</td>\n",
              "      <td>0</td>\n",
              "      <td>0</td>\n",
              "      <td>0</td>\n",
              "    </tr>\n",
              "  </tbody>\n",
              "</table>\n",
              "<p>5 rows × 58 columns</p>\n",
              "</div>"
            ],
            "text/plain": [
              "   suburb_0  suburb_1  suburb_2  suburb_3  suburb_4  suburb_5  suburb_6  \\\n",
              "0         0         0         0         0         0         1         0   \n",
              "1         0         0         0         0         0         0         0   \n",
              "2         0         0         0         0         0         0         0   \n",
              "3         0         0         0         0         0         0         0   \n",
              "4         0         0         0         0         0         0         0   \n",
              "\n",
              "   suburb_7  suburb_8  suburb_9  ...  suburb_48  suburb_49  suburb_50  \\\n",
              "0         0         0         0  ...          0          0          0   \n",
              "1         0         0         0  ...          0          0          1   \n",
              "2         0         0         0  ...          0          0          0   \n",
              "3         0         0         0  ...          0          0          0   \n",
              "4         0         0         0  ...          0          0          0   \n",
              "\n",
              "   suburb_51  suburb_52  suburb_53  suburb_54  suburb_55  suburb_56  suburb_57  \n",
              "0          0          0          0          0          0          0          0  \n",
              "1          0          0          0          0          0          0          0  \n",
              "2          0          0          0          0          0          0          0  \n",
              "3          0          0          0          0          0          0          0  \n",
              "4          0          0          0          0          0          0          0  \n",
              "\n",
              "[5 rows x 58 columns]"
            ]
          },
          "metadata": {
            "tags": []
          },
          "execution_count": 56
        }
      ]
    },
    {
      "cell_type": "code",
      "metadata": {
        "id": "T5sMl91HWYjb",
        "colab_type": "code",
        "outputId": "7220537e-9c7f-430d-f214-4108c8528224",
        "colab": {
          "base_uri": "https://localhost:8080/",
          "height": 253
        }
      },
      "source": [
        "houses = pd.concat([houses, dfDummies], axis=1)\n",
        "houses.head()"
      ],
      "execution_count": 0,
      "outputs": [
        {
          "output_type": "execute_result",
          "data": {
            "text/html": [
              "<div>\n",
              "<style scoped>\n",
              "    .dataframe tbody tr th:only-of-type {\n",
              "        vertical-align: middle;\n",
              "    }\n",
              "\n",
              "    .dataframe tbody tr th {\n",
              "        vertical-align: top;\n",
              "    }\n",
              "\n",
              "    .dataframe thead th {\n",
              "        text-align: right;\n",
              "    }\n",
              "</style>\n",
              "<table border=\"1\" class=\"dataframe\">\n",
              "  <thead>\n",
              "    <tr style=\"text-align: right;\">\n",
              "      <th></th>\n",
              "      <th>price</th>\n",
              "      <th>latitude</th>\n",
              "      <th>longitude</th>\n",
              "      <th>bedrooms</th>\n",
              "      <th>area</th>\n",
              "      <th>pkspaces</th>\n",
              "      <th>bathrooms</th>\n",
              "      <th>ensuites</th>\n",
              "      <th>suburb</th>\n",
              "      <th>district</th>\n",
              "      <th>...</th>\n",
              "      <th>suburb_48</th>\n",
              "      <th>suburb_49</th>\n",
              "      <th>suburb_50</th>\n",
              "      <th>suburb_51</th>\n",
              "      <th>suburb_52</th>\n",
              "      <th>suburb_53</th>\n",
              "      <th>suburb_54</th>\n",
              "      <th>suburb_55</th>\n",
              "      <th>suburb_56</th>\n",
              "      <th>suburb_57</th>\n",
              "    </tr>\n",
              "  </thead>\n",
              "  <tbody>\n",
              "    <tr>\n",
              "      <th>0</th>\n",
              "      <td>1500</td>\n",
              "      <td>-8.059791</td>\n",
              "      <td>-34.889619</td>\n",
              "      <td>4.0</td>\n",
              "      <td>37.0</td>\n",
              "      <td>3.0</td>\n",
              "      <td>3.0</td>\n",
              "      <td>NaN</td>\n",
              "      <td>5</td>\n",
              "      <td>Recife</td>\n",
              "      <td>...</td>\n",
              "      <td>0</td>\n",
              "      <td>0</td>\n",
              "      <td>0</td>\n",
              "      <td>0</td>\n",
              "      <td>0</td>\n",
              "      <td>0</td>\n",
              "      <td>0</td>\n",
              "      <td>0</td>\n",
              "      <td>0</td>\n",
              "      <td>0</td>\n",
              "    </tr>\n",
              "    <tr>\n",
              "      <th>1</th>\n",
              "      <td>330000</td>\n",
              "      <td>-8.029595</td>\n",
              "      <td>-34.900372</td>\n",
              "      <td>3.0</td>\n",
              "      <td>86.0</td>\n",
              "      <td>1.0</td>\n",
              "      <td>3.0</td>\n",
              "      <td>1.0</td>\n",
              "      <td>50</td>\n",
              "      <td>Recife</td>\n",
              "      <td>...</td>\n",
              "      <td>0</td>\n",
              "      <td>0</td>\n",
              "      <td>1</td>\n",
              "      <td>0</td>\n",
              "      <td>0</td>\n",
              "      <td>0</td>\n",
              "      <td>0</td>\n",
              "      <td>0</td>\n",
              "      <td>0</td>\n",
              "      <td>0</td>\n",
              "    </tr>\n",
              "    <tr>\n",
              "      <th>2</th>\n",
              "      <td>255000</td>\n",
              "      <td>-8.037247</td>\n",
              "      <td>-34.890986</td>\n",
              "      <td>2.0</td>\n",
              "      <td>82.0</td>\n",
              "      <td>1.0</td>\n",
              "      <td>2.0</td>\n",
              "      <td>NaN</td>\n",
              "      <td>17</td>\n",
              "      <td>Recife</td>\n",
              "      <td>...</td>\n",
              "      <td>0</td>\n",
              "      <td>0</td>\n",
              "      <td>0</td>\n",
              "      <td>0</td>\n",
              "      <td>0</td>\n",
              "      <td>0</td>\n",
              "      <td>0</td>\n",
              "      <td>0</td>\n",
              "      <td>0</td>\n",
              "      <td>0</td>\n",
              "    </tr>\n",
              "    <tr>\n",
              "      <th>3</th>\n",
              "      <td>380000</td>\n",
              "      <td>-8.047562</td>\n",
              "      <td>-34.876964</td>\n",
              "      <td>3.0</td>\n",
              "      <td>95.0</td>\n",
              "      <td>2.0</td>\n",
              "      <td>3.0</td>\n",
              "      <td>1.0</td>\n",
              "      <td>46</td>\n",
              "      <td>Recife</td>\n",
              "      <td>...</td>\n",
              "      <td>0</td>\n",
              "      <td>0</td>\n",
              "      <td>0</td>\n",
              "      <td>0</td>\n",
              "      <td>0</td>\n",
              "      <td>0</td>\n",
              "      <td>0</td>\n",
              "      <td>0</td>\n",
              "      <td>0</td>\n",
              "      <td>0</td>\n",
              "    </tr>\n",
              "    <tr>\n",
              "      <th>4</th>\n",
              "      <td>300000</td>\n",
              "      <td>-8.053580</td>\n",
              "      <td>-34.908733</td>\n",
              "      <td>3.0</td>\n",
              "      <td>97.0</td>\n",
              "      <td>1.0</td>\n",
              "      <td>3.0</td>\n",
              "      <td>1.0</td>\n",
              "      <td>31</td>\n",
              "      <td>Recife</td>\n",
              "      <td>...</td>\n",
              "      <td>0</td>\n",
              "      <td>0</td>\n",
              "      <td>0</td>\n",
              "      <td>0</td>\n",
              "      <td>0</td>\n",
              "      <td>0</td>\n",
              "      <td>0</td>\n",
              "      <td>0</td>\n",
              "      <td>0</td>\n",
              "      <td>0</td>\n",
              "    </tr>\n",
              "  </tbody>\n",
              "</table>\n",
              "<p>5 rows × 71 columns</p>\n",
              "</div>"
            ],
            "text/plain": [
              "    price  latitude  longitude  bedrooms  area  pkspaces  bathrooms  ensuites  \\\n",
              "0    1500 -8.059791 -34.889619       4.0  37.0       3.0        3.0       NaN   \n",
              "1  330000 -8.029595 -34.900372       3.0  86.0       1.0        3.0       1.0   \n",
              "2  255000 -8.037247 -34.890986       2.0  82.0       1.0        2.0       NaN   \n",
              "3  380000 -8.047562 -34.876964       3.0  95.0       2.0        3.0       1.0   \n",
              "4  300000 -8.053580 -34.908733       3.0  97.0       1.0        3.0       1.0   \n",
              "\n",
              "   suburb district  ... suburb_48 suburb_49 suburb_50  suburb_51  suburb_52  \\\n",
              "0       5   Recife  ...         0         0         0          0          0   \n",
              "1      50   Recife  ...         0         0         1          0          0   \n",
              "2      17   Recife  ...         0         0         0          0          0   \n",
              "3      46   Recife  ...         0         0         0          0          0   \n",
              "4      31   Recife  ...         0         0         0          0          0   \n",
              "\n",
              "   suburb_53  suburb_54  suburb_55  suburb_56  suburb_57  \n",
              "0          0          0          0          0          0  \n",
              "1          0          0          0          0          0  \n",
              "2          0          0          0          0          0  \n",
              "3          0          0          0          0          0  \n",
              "4          0          0          0          0          0  \n",
              "\n",
              "[5 rows x 71 columns]"
            ]
          },
          "metadata": {
            "tags": []
          },
          "execution_count": 57
        }
      ]
    },
    {
      "cell_type": "code",
      "metadata": {
        "id": "2d9JegZmWBe8",
        "colab_type": "code",
        "outputId": "11af4cb6-5d6b-4858-c014-418ac576102a",
        "colab": {
          "base_uri": "https://localhost:8080/",
          "height": 253
        }
      },
      "source": [
        "houses = houses.drop('suburb', 1)\n",
        "houses.head()\n"
      ],
      "execution_count": 0,
      "outputs": [
        {
          "output_type": "execute_result",
          "data": {
            "text/html": [
              "<div>\n",
              "<style scoped>\n",
              "    .dataframe tbody tr th:only-of-type {\n",
              "        vertical-align: middle;\n",
              "    }\n",
              "\n",
              "    .dataframe tbody tr th {\n",
              "        vertical-align: top;\n",
              "    }\n",
              "\n",
              "    .dataframe thead th {\n",
              "        text-align: right;\n",
              "    }\n",
              "</style>\n",
              "<table border=\"1\" class=\"dataframe\">\n",
              "  <thead>\n",
              "    <tr style=\"text-align: right;\">\n",
              "      <th></th>\n",
              "      <th>price</th>\n",
              "      <th>latitude</th>\n",
              "      <th>longitude</th>\n",
              "      <th>bedrooms</th>\n",
              "      <th>area</th>\n",
              "      <th>pkspaces</th>\n",
              "      <th>bathrooms</th>\n",
              "      <th>ensuites</th>\n",
              "      <th>district</th>\n",
              "      <th>city</th>\n",
              "      <th>...</th>\n",
              "      <th>suburb_48</th>\n",
              "      <th>suburb_49</th>\n",
              "      <th>suburb_50</th>\n",
              "      <th>suburb_51</th>\n",
              "      <th>suburb_52</th>\n",
              "      <th>suburb_53</th>\n",
              "      <th>suburb_54</th>\n",
              "      <th>suburb_55</th>\n",
              "      <th>suburb_56</th>\n",
              "      <th>suburb_57</th>\n",
              "    </tr>\n",
              "  </thead>\n",
              "  <tbody>\n",
              "    <tr>\n",
              "      <th>0</th>\n",
              "      <td>1500</td>\n",
              "      <td>-8.059791</td>\n",
              "      <td>-34.889619</td>\n",
              "      <td>4.0</td>\n",
              "      <td>37.0</td>\n",
              "      <td>3.0</td>\n",
              "      <td>3.0</td>\n",
              "      <td>NaN</td>\n",
              "      <td>Recife</td>\n",
              "      <td>Recife</td>\n",
              "      <td>...</td>\n",
              "      <td>0</td>\n",
              "      <td>0</td>\n",
              "      <td>0</td>\n",
              "      <td>0</td>\n",
              "      <td>0</td>\n",
              "      <td>0</td>\n",
              "      <td>0</td>\n",
              "      <td>0</td>\n",
              "      <td>0</td>\n",
              "      <td>0</td>\n",
              "    </tr>\n",
              "    <tr>\n",
              "      <th>1</th>\n",
              "      <td>330000</td>\n",
              "      <td>-8.029595</td>\n",
              "      <td>-34.900372</td>\n",
              "      <td>3.0</td>\n",
              "      <td>86.0</td>\n",
              "      <td>1.0</td>\n",
              "      <td>3.0</td>\n",
              "      <td>1.0</td>\n",
              "      <td>Recife</td>\n",
              "      <td>Recife</td>\n",
              "      <td>...</td>\n",
              "      <td>0</td>\n",
              "      <td>0</td>\n",
              "      <td>1</td>\n",
              "      <td>0</td>\n",
              "      <td>0</td>\n",
              "      <td>0</td>\n",
              "      <td>0</td>\n",
              "      <td>0</td>\n",
              "      <td>0</td>\n",
              "      <td>0</td>\n",
              "    </tr>\n",
              "    <tr>\n",
              "      <th>2</th>\n",
              "      <td>255000</td>\n",
              "      <td>-8.037247</td>\n",
              "      <td>-34.890986</td>\n",
              "      <td>2.0</td>\n",
              "      <td>82.0</td>\n",
              "      <td>1.0</td>\n",
              "      <td>2.0</td>\n",
              "      <td>NaN</td>\n",
              "      <td>Recife</td>\n",
              "      <td>Recife</td>\n",
              "      <td>...</td>\n",
              "      <td>0</td>\n",
              "      <td>0</td>\n",
              "      <td>0</td>\n",
              "      <td>0</td>\n",
              "      <td>0</td>\n",
              "      <td>0</td>\n",
              "      <td>0</td>\n",
              "      <td>0</td>\n",
              "      <td>0</td>\n",
              "      <td>0</td>\n",
              "    </tr>\n",
              "    <tr>\n",
              "      <th>3</th>\n",
              "      <td>380000</td>\n",
              "      <td>-8.047562</td>\n",
              "      <td>-34.876964</td>\n",
              "      <td>3.0</td>\n",
              "      <td>95.0</td>\n",
              "      <td>2.0</td>\n",
              "      <td>3.0</td>\n",
              "      <td>1.0</td>\n",
              "      <td>Recife</td>\n",
              "      <td>Recife</td>\n",
              "      <td>...</td>\n",
              "      <td>0</td>\n",
              "      <td>0</td>\n",
              "      <td>0</td>\n",
              "      <td>0</td>\n",
              "      <td>0</td>\n",
              "      <td>0</td>\n",
              "      <td>0</td>\n",
              "      <td>0</td>\n",
              "      <td>0</td>\n",
              "      <td>0</td>\n",
              "    </tr>\n",
              "    <tr>\n",
              "      <th>4</th>\n",
              "      <td>300000</td>\n",
              "      <td>-8.053580</td>\n",
              "      <td>-34.908733</td>\n",
              "      <td>3.0</td>\n",
              "      <td>97.0</td>\n",
              "      <td>1.0</td>\n",
              "      <td>3.0</td>\n",
              "      <td>1.0</td>\n",
              "      <td>Recife</td>\n",
              "      <td>Recife</td>\n",
              "      <td>...</td>\n",
              "      <td>0</td>\n",
              "      <td>0</td>\n",
              "      <td>0</td>\n",
              "      <td>0</td>\n",
              "      <td>0</td>\n",
              "      <td>0</td>\n",
              "      <td>0</td>\n",
              "      <td>0</td>\n",
              "      <td>0</td>\n",
              "      <td>0</td>\n",
              "    </tr>\n",
              "  </tbody>\n",
              "</table>\n",
              "<p>5 rows × 70 columns</p>\n",
              "</div>"
            ],
            "text/plain": [
              "    price  latitude  longitude  bedrooms  area  pkspaces  bathrooms  ensuites  \\\n",
              "0    1500 -8.059791 -34.889619       4.0  37.0       3.0        3.0       NaN   \n",
              "1  330000 -8.029595 -34.900372       3.0  86.0       1.0        3.0       1.0   \n",
              "2  255000 -8.037247 -34.890986       2.0  82.0       1.0        2.0       NaN   \n",
              "3  380000 -8.047562 -34.876964       3.0  95.0       2.0        3.0       1.0   \n",
              "4  300000 -8.053580 -34.908733       3.0  97.0       1.0        3.0       1.0   \n",
              "\n",
              "  district    city  ... suburb_48 suburb_49  suburb_50  suburb_51  suburb_52  \\\n",
              "0   Recife  Recife  ...         0         0          0          0          0   \n",
              "1   Recife  Recife  ...         0         0          1          0          0   \n",
              "2   Recife  Recife  ...         0         0          0          0          0   \n",
              "3   Recife  Recife  ...         0         0          0          0          0   \n",
              "4   Recife  Recife  ...         0         0          0          0          0   \n",
              "\n",
              "   suburb_53  suburb_54  suburb_55  suburb_56  suburb_57  \n",
              "0          0          0          0          0          0  \n",
              "1          0          0          0          0          0  \n",
              "2          0          0          0          0          0  \n",
              "3          0          0          0          0          0  \n",
              "4          0          0          0          0          0  \n",
              "\n",
              "[5 rows x 70 columns]"
            ]
          },
          "metadata": {
            "tags": []
          },
          "execution_count": 58
        }
      ]
    },
    {
      "cell_type": "markdown",
      "metadata": {
        "id": "zzTp97n4nasR",
        "colab_type": "text"
      },
      "source": [
        "## Random Forest"
      ]
    },
    {
      "cell_type": "code",
      "metadata": {
        "id": "AByfQfCwnc5g",
        "colab_type": "code",
        "outputId": "9e4b5727-e51e-4d15-98ae-1021a6311446",
        "colab": {
          "base_uri": "https://localhost:8080/",
          "height": 269
        }
      },
      "source": [
        "from sklearn.datasets import make_blobs\n",
        "\n",
        "X, y = make_blobs(n_samples=300, centers=4,\n",
        "                  random_state=0, cluster_std=1.0)\n",
        "plt.scatter(X[:, 0], X[:, 1], c=y, s=50, cmap='rainbow');"
      ],
      "execution_count": 0,
      "outputs": [
        {
          "output_type": "display_data",
          "data": {
            "image/png": "[encoded data removed]",
            "text/plain": [
              "<Figure size 432x288 with 1 Axes>"
            ]
          },
          "metadata": {
            "tags": []
          }
        }
      ]
    },
    {
      "cell_type": "code",
      "metadata": {
        "id": "UerGBYfwnf6H",
        "colab_type": "code",
        "colab": {}
      },
      "source": [
        "# Criando o modelo de árvore de decisão\n",
        "from sklearn.tree import DecisionTreeClassifier\n",
        "tree = DecisionTreeClassifier().fit(X, y)"
      ],
      "execution_count": 0,
      "outputs": []
    },
    {
      "cell_type": "code",
      "metadata": {
        "id": "LXg9UdtHnoC3",
        "colab_type": "code",
        "colab": {}
      },
      "source": [
        "def visualize_classifier(model, X, y, ax=None, cmap='rainbow'):\n",
        "    ax = ax or plt.gca()\n",
        "    \n",
        "    # Plot the training points\n",
        "    ax.scatter(X[:, 0], X[:, 1], c=y, s=30, cmap=cmap,\n",
        "               clim=(y.min(), y.max()), zorder=3)\n",
        "    ax.axis('tight')\n",
        "    ax.axis('off')\n",
        "    xlim = ax.get_xlim()\n",
        "    ylim = ax.get_ylim()\n",
        "    \n",
        "    # fit the estimator\n",
        "    model.fit(X, y)\n",
        "    xx, yy = np.meshgrid(np.linspace(*xlim, num=200),\n",
        "                         np.linspace(*ylim, num=200))\n",
        "    Z = model.predict(np.c_[xx.ravel(), yy.ravel()]).reshape(xx.shape)\n",
        "\n",
        "    # Create a color plot with the results\n",
        "    n_classes = len(np.unique(y))\n",
        "    contours = ax.contourf(xx, yy, Z, alpha=0.3,\n",
        "                           levels=np.arange(n_classes + 1) - 0.5,\n",
        "                           cmap=cmap, clim=(y.min(), y.max()),\n",
        "                           zorder=1)\n",
        "\n",
        "    ax.set(xlim=xlim, ylim=ylim)"
      ],
      "execution_count": 0,
      "outputs": []
    },
    {
      "cell_type": "code",
      "metadata": {
        "id": "7PRQFEbJnzzI",
        "colab_type": "code",
        "outputId": "3c64855e-30e6-4ae1-ebfd-4ab4d7e3a688",
        "colab": {
          "base_uri": "https://localhost:8080/",
          "height": 319
        }
      },
      "source": [
        "visualize_classifier(DecisionTreeClassifier(), X, y)\n"
      ],
      "execution_count": 0,
      "outputs": [
        {
          "output_type": "stream",
          "text": [
            "/usr/local/lib/python3.6/dist-packages/matplotlib/contour.py:1000: UserWarning: The following kwargs were not used by contour: 'clim'\n",
            "  s)\n"
          ],
          "name": "stderr"
        },
        {
          "output_type": "display_data",
          "data": {
            "image/png": "[encoded data removed]",
            "text/plain": [
              "<Figure size 432x288 with 1 Axes>"
            ]
          },
          "metadata": {
            "tags": []
          }
        }
      ]
    },
    {
      "cell_type": "code",
      "metadata": {
        "id": "ekLczfhAeLh5",
        "colab_type": "code",
        "colab": {}
      },
      "source": [
        "from sklearn.model_selection import train_test_split\n",
        "from sklearn.ensemble import RandomForestClassifier\n",
        "\n",
        "Xtrain, Xtest, ytrain, ytest = train_test_split(digits.data, digits.target,\n",
        "                                                random_state=0)\n",
        "model = RandomForestClassifier(n_estimators=1000)\n",
        "model.fit(Xtrain, ytrain)\n",
        "ypred = model.predict(Xtest)\n",
        "ypred_train = model.predict(Xtrain)"
      ],
      "execution_count": 0,
      "outputs": []
    },
    {
      "cell_type": "code",
      "metadata": {
        "id": "-GVXdPqJshLE",
        "colab_type": "code",
        "outputId": "b4fa9f16-3ad7-4fa1-a761-3de4c04420fe",
        "colab": {
          "base_uri": "https://localhost:8080/",
          "height": 51
        }
      },
      "source": [
        "from sklearn.metrics import accuracy_score\n",
        "print(\"ACC TRAINING:\" + str(accuracy_score(ytrain, ypred_train)))\n",
        "print(\"ACC TEST:\" + str(accuracy_score(ytest, ypred)))"
      ],
      "execution_count": 0,
      "outputs": [
        {
          "output_type": "stream",
          "text": [
            "ACC TRAINING:1.0\n",
            "ACC TEST:0.98\n"
          ],
          "name": "stdout"
        }
      ]
    },
    {
      "cell_type": "code",
      "metadata": {
        "id": "n6z5sfl5ssXz",
        "colab_type": "code",
        "outputId": "704fb426-4233-4b88-de54-dab09fa7618d",
        "colab": {
          "base_uri": "https://localhost:8080/",
          "height": 283
        }
      },
      "source": [
        "from sklearn.metrics import confusion_matrix\n",
        "mat = confusion_matrix(ytest, ypred)\n",
        "sns.heatmap(mat.T, square=True, annot=True, fmt='d', cbar=False)\n",
        "plt.xlabel('true label')\n",
        "plt.ylabel('predicted label');"
      ],
      "execution_count": 0,
      "outputs": [
        {
          "output_type": "display_data",
          "data": {
            "image/png": "[encoded data removed]",
            "text/plain": [
              "<Figure size 432x288 with 1 Axes>"
            ]
          },
          "metadata": {
            "tags": []
          }
        }
      ]
    },
    {
      "cell_type": "code",
      "metadata": {
        "id": "ScEF-lyJlnE4",
        "colab_type": "code",
        "colab": {}
      },
      "source": [
        ""
      ],
      "execution_count": 0,
      "outputs": []
    }
  ]
}