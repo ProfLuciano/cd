{
  "nbformat": 4,
  "nbformat_minor": 0,
  "metadata": {
    "colab": {
      "name": "stats_desc.ipynb",
      "provenance": []
    },
    "kernelspec": {
      "display_name": "Python 3",
      "language": "python",
      "name": "python3"
    },
    "language_info": {
      "codemirror_mode": {
        "name": "ipython",
        "version": 3
      },
      "file_extension": ".py",
      "mimetype": "text/x-python",
      "name": "python",
      "nbconvert_exporter": "python",
      "pygments_lexer": "ipython3",
      "version": "3.7.1"
    }
  },
  "cells": [
    {
      "cell_type": "code",
      "metadata": {
        "colab_type": "code",
        "id": "PcSLI41MMZPk",
        "colab": {}
      },
      "source": [
        "import numpy as np\n",
        "import pandas as pd"
      ],
      "execution_count": null,
      "outputs": []
    },
    {
      "cell_type": "code",
      "metadata": {
        "colab_type": "code",
        "id": "WFDwpXaVMmAx",
        "colab": {}
      },
      "source": [
        "houses=pd.read_csv(\"https://raw.githubusercontent.com/ProfLuciano/cd/gh-pages/data/recife.csv\",encoding = \"ISO-8859-1\")"
      ],
      "execution_count": null,
      "outputs": []
    },
    {
      "cell_type": "code",
      "metadata": {
        "colab_type": "code",
        "id": "M4jO0jUYNHpr",
        "colab": {}
      },
      "source": [
        "houses.head()"
      ],
      "execution_count": null,
      "outputs": []
    },
    {
      "cell_type": "code",
      "metadata": {
        "colab_type": "code",
        "id": "vOVEBnndKYBq",
        "colab": {}
      },
      "source": [
        "# Dimensões do data frame\n",
        "houses.shape"
      ],
      "execution_count": null,
      "outputs": []
    },
    {
      "cell_type": "markdown",
      "metadata": {
        "id": "Do6wYfnHkgkl",
        "colab_type": "text"
      },
      "source": [
        "## Definindo se um imóvel está à venda ou para locação a partir do preço"
      ]
    },
    {
      "cell_type": "code",
      "metadata": {
        "id": "IHRxX5gykgkm",
        "colab_type": "code",
        "colab": {}
      },
      "source": [
        "(houses['price']/1000).hist()"
      ],
      "execution_count": null,
      "outputs": []
    },
    {
      "cell_type": "code",
      "metadata": {
        "id": "OonrPWiFkgks",
        "colab_type": "code",
        "colab": {}
      },
      "source": [
        "houses['log_price'] = houses['price'].apply(np.log10)\n",
        "houses[houses['log_price'] > 0]['log_price'].hist()"
      ],
      "execution_count": null,
      "outputs": []
    },
    {
      "cell_type": "code",
      "metadata": {
        "id": "1zY3wDrlkgkw",
        "colab_type": "code",
        "colab": {}
      },
      "source": [
        "# Adicionando coluna para aluguel e venda\n",
        "houses['operation'] = 'sell'\n",
        "houses.loc[(houses['price'] > 100) & (houses['price'] < 30000),'operation'] = 'rent'\n",
        "houses = houses.drop(['log_price'], axis=1)\n",
        "houses.head()"
      ],
      "execution_count": null,
      "outputs": []
    },
    {
      "cell_type": "code",
      "metadata": {
        "id": "8u0uKLISkgk1",
        "colab_type": "code",
        "colab": {}
      },
      "source": [
        "houses.dtypes"
      ],
      "execution_count": null,
      "outputs": []
    },
    {
      "cell_type": "markdown",
      "metadata": {
        "id": "l39o8UL_kgk6",
        "colab_type": "text"
      },
      "source": [
        "## Estatísticas univariadas"
      ]
    },
    {
      "cell_type": "markdown",
      "metadata": {
        "id": "ErCI2giXkgk6",
        "colab_type": "text"
      },
      "source": [
        "Exercícios:\n",
        "\n",
        "1. Calcule a média (mean), mediana (median), moda (mode), variância (var), desvio padrão (std) para preço e área de imóveis à venda.\n",
        "2. Calucle o IQR da área e preço (dica: describe)\n",
        "3. Calcule o preço médio do metro quadrado de venda e aluguel para Recife\n",
        "5. Calcule o preço médio do metro quadrado de venda para apartamentos e casas\n",
        "6. Calcule a área média de venda para apartamentos e casas\n",
        "7. Encontre os bairros com maior e menor valor de venda do metro quadrado\n",
        "8. Calcule a média e mediana de venda do metro quadrado por bairros (dica: usar groupby)\n",
        "9. Calcule a média do metro quadrado em apartamentos de no máximo 3 quartos no bairro Espinheiro\n",
        "10. Encontre os bairros com a menor e maior mediana de área"
      ]
    },
    {
      "cell_type": "code",
      "metadata": {
        "colab_type": "code",
        "id": "vVwKA9crNsoe",
        "colab": {}
      },
      "source": [
        "houses['price'].mean()"
      ],
      "execution_count": null,
      "outputs": []
    },
    {
      "cell_type": "code",
      "metadata": {
        "colab_type": "code",
        "id": "0KTen3m2N7hU",
        "colab": {}
      },
      "source": [
        "houses['price'].median()"
      ],
      "execution_count": null,
      "outputs": []
    },
    {
      "cell_type": "code",
      "metadata": {
        "colab_type": "code",
        "id": "O_--1soSOCA5",
        "colab": {}
      },
      "source": [
        "houses['price'].mode()"
      ],
      "execution_count": null,
      "outputs": []
    },
    {
      "cell_type": "code",
      "metadata": {
        "colab_type": "code",
        "id": "-jaGZxDzQarG",
        "colab": {}
      },
      "source": [
        "houses['price'].var()"
      ],
      "execution_count": null,
      "outputs": []
    },
    {
      "cell_type": "code",
      "metadata": {
        "colab_type": "code",
        "id": "tO9csdVSOFQ4",
        "colab": {}
      },
      "source": [
        "houses['price'].std()"
      ],
      "execution_count": null,
      "outputs": []
    },
    {
      "cell_type": "code",
      "metadata": {
        "id": "VBeGi6LMlf2E",
        "colab_type": "code",
        "colab": {}
      },
      "source": [
        "houses['price'].describe()"
      ],
      "execution_count": null,
      "outputs": []
    },
    {
      "cell_type": "code",
      "metadata": {
        "id": "Cx_d4VFRkglR",
        "colab_type": "code",
        "colab": {}
      },
      "source": [
        "houses['area'].describe()"
      ],
      "execution_count": null,
      "outputs": []
    },
    {
      "cell_type": "code",
      "metadata": {
        "id": "2hOqDsK3ls_n",
        "colab_type": "code",
        "colab": {}
      },
      "source": [
        "houses['area'].describe()[4]"
      ],
      "execution_count": null,
      "outputs": []
    },
    {
      "cell_type": "code",
      "metadata": {
        "colab_type": "code",
        "id": "b96lfyKnO3nL",
        "colab": {}
      },
      "source": [
        "#IQR da área\n",
        "houses['area'].describe()[6] - houses['area'].describe()[4]"
      ],
      "execution_count": null,
      "outputs": []
    },
    {
      "cell_type": "code",
      "metadata": {
        "colab_type": "code",
        "id": "8gC_1Bc5ISc9",
        "colab": {}
      },
      "source": [
        "houses.boxplot(column=['area'])"
      ],
      "execution_count": null,
      "outputs": []
    },
    {
      "cell_type": "code",
      "metadata": {
        "id": "qCpMcH_mkglc",
        "colab_type": "code",
        "colab": {}
      },
      "source": [
        "houses['price_square_meter'] = houses['price']/houses['area']"
      ],
      "execution_count": null,
      "outputs": []
    },
    {
      "cell_type": "code",
      "metadata": {
        "id": "Jp3jQhhHkglg",
        "colab_type": "code",
        "colab": {}
      },
      "source": [
        "houses[(houses.type == 'apart') & (houses.bedrooms <= 3) & (houses.suburb == 'Espinheiro') & (houses.operation == 'sell')].price_square_meter.mean()"
      ],
      "execution_count": null,
      "outputs": []
    },
    {
      "cell_type": "code",
      "metadata": {
        "id": "bzMRapBlkglj",
        "colab_type": "code",
        "colab": {}
      },
      "source": [
        "houses[houses['operation']=='sell'].groupby(['suburb'])['price_square_meter'].mean()"
      ],
      "execution_count": null,
      "outputs": []
    },
    {
      "cell_type": "code",
      "metadata": {
        "id": "Xxl71Kk3kgln",
        "colab_type": "code",
        "colab": {}
      },
      "source": [
        "houses[houses['operation']=='sell'].groupby(['suburb']).agg(['mean','median'])['price_square_meter']"
      ],
      "execution_count": null,
      "outputs": []
    },
    {
      "cell_type": "code",
      "metadata": {
        "id": "4D7fkqDkkglr",
        "colab_type": "code",
        "colab": {}
      },
      "source": [
        "# Medianas do valor de venda por metro quadrado para cada bairro\n",
        "houses[houses['operation']=='sell'].groupby(['suburb'])['price_square_meter'].median().sort_values(ascending=False).plot.bar(figsize=(20,10))"
      ],
      "execution_count": null,
      "outputs": []
    },
    {
      "cell_type": "code",
      "metadata": {
        "id": "Mu01s_bEkglu",
        "colab_type": "code",
        "colab": {}
      },
      "source": [
        "houses[(houses['suburb'] == 'Soledade') & (houses['operation']=='sell')].describe()"
      ],
      "execution_count": null,
      "outputs": []
    },
    {
      "cell_type": "code",
      "metadata": {
        "id": "YiJv3haNkglx",
        "colab_type": "code",
        "colab": {}
      },
      "source": [
        "houses[(houses['suburb'] == 'Soledade') & (houses['operation']=='sell')]"
      ],
      "execution_count": null,
      "outputs": []
    },
    {
      "cell_type": "markdown",
      "metadata": {
        "id": "8QYeF0Rckgl2",
        "colab_type": "text"
      },
      "source": [
        "## Estatísticas bivariadas"
      ]
    },
    {
      "cell_type": "code",
      "metadata": {
        "colab_type": "code",
        "id": "HBu9wwWbSZXe",
        "colab": {}
      },
      "source": [
        "houses[houses.operation=='sell'].cov()"
      ],
      "execution_count": null,
      "outputs": []
    },
    {
      "cell_type": "code",
      "metadata": {
        "id": "HbU2K3k3nk8g",
        "colab_type": "code",
        "colab": {}
      },
      "source": [
        "houses.plot.scatter(x='longitude',y='latitude')"
      ],
      "execution_count": null,
      "outputs": []
    },
    {
      "cell_type": "code",
      "metadata": {
        "colab_type": "code",
        "id": "dzirLzENUQ06",
        "colab": {}
      },
      "source": [
        "houses[houses.operation=='sell'].corr(method='pearson')"
      ],
      "execution_count": null,
      "outputs": []
    },
    {
      "cell_type": "code",
      "metadata": {
        "colab_type": "code",
        "id": "0QaO4vz-UtCi",
        "colab": {}
      },
      "source": [
        "houses[houses.operation=='sell'].corr(method='spearman')"
      ],
      "execution_count": null,
      "outputs": []
    },
    {
      "cell_type": "code",
      "metadata": {
        "id": "9-p9DNJPkgmD",
        "colab_type": "code",
        "colab": {}
      },
      "source": [
        "houses.plot.scatter(x='area',y='price')"
      ],
      "execution_count": null,
      "outputs": []
    },
    {
      "cell_type": "code",
      "metadata": {
        "id": "DxLBZyqSkgmG",
        "colab_type": "code",
        "colab": {}
      },
      "source": [
        "houses.plot.scatter(x='bedrooms',y='area')"
      ],
      "execution_count": null,
      "outputs": []
    }
  ]
}