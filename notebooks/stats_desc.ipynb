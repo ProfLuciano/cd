{
 "cells": [
  {
   "cell_type": "code",
   "execution_count": 1,
   "metadata": {
    "colab": {},
    "colab_type": "code",
    "id": "PcSLI41MMZPk"
   },
   "outputs": [],
   "source": [
    "import numpy as np\n",
    "import pandas as pd"
   ]
  },
  {
   "cell_type": "code",
   "execution_count": 3,
   "metadata": {
    "colab": {},
    "colab_type": "code",
    "id": "WFDwpXaVMmAx"
   },
   "outputs": [],
   "source": [
    "houses=pd.read_csv(\"https://raw.githubusercontent.com/ProfLuciano/intro_cd/gh-pages/data/recife.csv\",encoding = \"ISO-8859-1\")"
   ]
  },
  {
   "cell_type": "code",
   "execution_count": 30,
   "metadata": {
    "colab": {
     "base_uri": "https://localhost:8080/",
     "height": 241
    },
    "colab_type": "code",
    "id": "M4jO0jUYNHpr",
    "outputId": "8b7c6645-241b-4f02-d500-a6e7c9cc668d"
   },
   "outputs": [
    {
     "data": {
      "text/html": [
       "<div>\n",
       "<style scoped>\n",
       "    .dataframe tbody tr th:only-of-type {\n",
       "        vertical-align: middle;\n",
       "    }\n",
       "\n",
       "    .dataframe tbody tr th {\n",
       "        vertical-align: top;\n",
       "    }\n",
       "\n",
       "    .dataframe thead th {\n",
       "        text-align: right;\n",
       "    }\n",
       "</style>\n",
       "<table border=\"1\" class=\"dataframe\">\n",
       "  <thead>\n",
       "    <tr style=\"text-align: right;\">\n",
       "      <th></th>\n",
       "      <th>price</th>\n",
       "      <th>latitude</th>\n",
       "      <th>longitude</th>\n",
       "      <th>bedrooms</th>\n",
       "      <th>area</th>\n",
       "      <th>pkspaces</th>\n",
       "      <th>bathrooms</th>\n",
       "      <th>ensuites</th>\n",
       "      <th>suburb</th>\n",
       "      <th>district</th>\n",
       "      <th>city</th>\n",
       "      <th>state</th>\n",
       "      <th>type</th>\n",
       "    </tr>\n",
       "  </thead>\n",
       "  <tbody>\n",
       "    <tr>\n",
       "      <th>0</th>\n",
       "      <td>1500</td>\n",
       "      <td>-8.059791</td>\n",
       "      <td>-34.889619</td>\n",
       "      <td>4.0</td>\n",
       "      <td>37.0</td>\n",
       "      <td>3.0</td>\n",
       "      <td>3.0</td>\n",
       "      <td>NaN</td>\n",
       "      <td>Boa Vista</td>\n",
       "      <td>Recife</td>\n",
       "      <td>Recife</td>\n",
       "      <td>Pernambuco</td>\n",
       "      <td>apart</td>\n",
       "    </tr>\n",
       "    <tr>\n",
       "      <th>1</th>\n",
       "      <td>330000</td>\n",
       "      <td>-8.029595</td>\n",
       "      <td>-34.900372</td>\n",
       "      <td>3.0</td>\n",
       "      <td>86.0</td>\n",
       "      <td>1.0</td>\n",
       "      <td>3.0</td>\n",
       "      <td>1.0</td>\n",
       "      <td>Tamarineira</td>\n",
       "      <td>Recife</td>\n",
       "      <td>Recife</td>\n",
       "      <td>Pernambuco</td>\n",
       "      <td>apart</td>\n",
       "    </tr>\n",
       "    <tr>\n",
       "      <th>2</th>\n",
       "      <td>255000</td>\n",
       "      <td>-8.037247</td>\n",
       "      <td>-34.890986</td>\n",
       "      <td>2.0</td>\n",
       "      <td>82.0</td>\n",
       "      <td>1.0</td>\n",
       "      <td>2.0</td>\n",
       "      <td>NaN</td>\n",
       "      <td>Encruzilhada</td>\n",
       "      <td>Recife</td>\n",
       "      <td>Recife</td>\n",
       "      <td>Pernambuco</td>\n",
       "      <td>apart</td>\n",
       "    </tr>\n",
       "    <tr>\n",
       "      <th>3</th>\n",
       "      <td>380000</td>\n",
       "      <td>-8.047562</td>\n",
       "      <td>-34.876964</td>\n",
       "      <td>3.0</td>\n",
       "      <td>95.0</td>\n",
       "      <td>2.0</td>\n",
       "      <td>3.0</td>\n",
       "      <td>1.0</td>\n",
       "      <td>Santo Amaro</td>\n",
       "      <td>Recife</td>\n",
       "      <td>Recife</td>\n",
       "      <td>Pernambuco</td>\n",
       "      <td>apart</td>\n",
       "    </tr>\n",
       "    <tr>\n",
       "      <th>4</th>\n",
       "      <td>300000</td>\n",
       "      <td>-8.053580</td>\n",
       "      <td>-34.908733</td>\n",
       "      <td>3.0</td>\n",
       "      <td>97.0</td>\n",
       "      <td>1.0</td>\n",
       "      <td>3.0</td>\n",
       "      <td>1.0</td>\n",
       "      <td>Madalena</td>\n",
       "      <td>Recife</td>\n",
       "      <td>Recife</td>\n",
       "      <td>Pernambuco</td>\n",
       "      <td>apart</td>\n",
       "    </tr>\n",
       "  </tbody>\n",
       "</table>\n",
       "</div>"
      ],
      "text/plain": [
       "    price  latitude  longitude  bedrooms  area  pkspaces  bathrooms  ensuites  \\\n",
       "0    1500 -8.059791 -34.889619       4.0  37.0       3.0        3.0       NaN   \n",
       "1  330000 -8.029595 -34.900372       3.0  86.0       1.0        3.0       1.0   \n",
       "2  255000 -8.037247 -34.890986       2.0  82.0       1.0        2.0       NaN   \n",
       "3  380000 -8.047562 -34.876964       3.0  95.0       2.0        3.0       1.0   \n",
       "4  300000 -8.053580 -34.908733       3.0  97.0       1.0        3.0       1.0   \n",
       "\n",
       "         suburb district    city       state   type  \n",
       "0     Boa Vista   Recife  Recife  Pernambuco  apart  \n",
       "1   Tamarineira   Recife  Recife  Pernambuco  apart  \n",
       "2  Encruzilhada   Recife  Recife  Pernambuco  apart  \n",
       "3   Santo Amaro   Recife  Recife  Pernambuco  apart  \n",
       "4      Madalena   Recife  Recife  Pernambuco  apart  "
      ]
     },
     "execution_count": 30,
     "metadata": {},
     "output_type": "execute_result"
    }
   ],
   "source": [
    "houses.head()"
   ]
  },
  {
   "cell_type": "code",
   "execution_count": 15,
   "metadata": {
    "colab": {
     "base_uri": "https://localhost:8080/",
     "height": 34
    },
    "colab_type": "code",
    "id": "vOVEBnndKYBq",
    "outputId": "a05e144d-0315-4a55-8718-0c6d52fddd81"
   },
   "outputs": [
    {
     "data": {
      "text/plain": [
       "(1744, 13)"
      ]
     },
     "execution_count": 15,
     "metadata": {},
     "output_type": "execute_result"
    }
   ],
   "source": [
    "# Dimensões do data frame\n",
    "houses.shape"
   ]
  },
  {
   "cell_type": "markdown",
   "metadata": {},
   "source": [
    "## Definindo se um imóvel está à venda ou para locação a partir do preço"
   ]
  },
  {
   "cell_type": "code",
   "execution_count": 36,
   "metadata": {},
   "outputs": [
    {
     "data": {
      "text/plain": [
       "<matplotlib.axes._subplots.AxesSubplot at 0x119b10400>"
      ]
     },
     "execution_count": 36,
     "metadata": {},
     "output_type": "execute_result"
    },
    {
     "data": {
      "image/png": "[encoded data removed]",
      "text/plain": [
       "<Figure size 432x288 with 1 Axes>"
      ]
     },
     "metadata": {
      "needs_background": "light"
     },
     "output_type": "display_data"
    }
   ],
   "source": [
    "(houses['price']/1000).hist()"
   ]
  },
  {
   "cell_type": "code",
   "execution_count": 38,
   "metadata": {},
   "outputs": [
    {
     "data": {
      "text/plain": [
       "<matplotlib.axes._subplots.AxesSubplot at 0x119c0c0f0>"
      ]
     },
     "execution_count": 38,
     "metadata": {},
     "output_type": "execute_result"
    },
    {
     "data": {
      "image/png": "[encoded data removed]",
      "text/plain": [
       "<Figure size 432x288 with 1 Axes>"
      ]
     },
     "metadata": {
      "needs_background": "light"
     },
     "output_type": "display_data"
    }
   ],
   "source": [
    "houses['log_price'] = houses['price'].apply(np.log10)\n",
    "houses[houses['log_price'] > 0]['log_price'].hist()"
   ]
  },
  {
   "cell_type": "code",
   "execution_count": 44,
   "metadata": {},
   "outputs": [
    {
     "data": {
      "text/html": [
       "<div>\n",
       "<style scoped>\n",
       "    .dataframe tbody tr th:only-of-type {\n",
       "        vertical-align: middle;\n",
       "    }\n",
       "\n",
       "    .dataframe tbody tr th {\n",
       "        vertical-align: top;\n",
       "    }\n",
       "\n",
       "    .dataframe thead th {\n",
       "        text-align: right;\n",
       "    }\n",
       "</style>\n",
       "<table border=\"1\" class=\"dataframe\">\n",
       "  <thead>\n",
       "    <tr style=\"text-align: right;\">\n",
       "      <th></th>\n",
       "      <th>price</th>\n",
       "      <th>latitude</th>\n",
       "      <th>longitude</th>\n",
       "      <th>bedrooms</th>\n",
       "      <th>area</th>\n",
       "      <th>pkspaces</th>\n",
       "      <th>bathrooms</th>\n",
       "      <th>ensuites</th>\n",
       "      <th>suburb</th>\n",
       "      <th>district</th>\n",
       "      <th>city</th>\n",
       "      <th>state</th>\n",
       "      <th>type</th>\n",
       "      <th>operation</th>\n",
       "    </tr>\n",
       "  </thead>\n",
       "  <tbody>\n",
       "    <tr>\n",
       "      <th>0</th>\n",
       "      <td>1500</td>\n",
       "      <td>-8.059791</td>\n",
       "      <td>-34.889619</td>\n",
       "      <td>4.0</td>\n",
       "      <td>37.0</td>\n",
       "      <td>3.0</td>\n",
       "      <td>3.0</td>\n",
       "      <td>NaN</td>\n",
       "      <td>Boa Vista</td>\n",
       "      <td>Recife</td>\n",
       "      <td>Recife</td>\n",
       "      <td>Pernambuco</td>\n",
       "      <td>apart</td>\n",
       "      <td>rent</td>\n",
       "    </tr>\n",
       "    <tr>\n",
       "      <th>1</th>\n",
       "      <td>330000</td>\n",
       "      <td>-8.029595</td>\n",
       "      <td>-34.900372</td>\n",
       "      <td>3.0</td>\n",
       "      <td>86.0</td>\n",
       "      <td>1.0</td>\n",
       "      <td>3.0</td>\n",
       "      <td>1.0</td>\n",
       "      <td>Tamarineira</td>\n",
       "      <td>Recife</td>\n",
       "      <td>Recife</td>\n",
       "      <td>Pernambuco</td>\n",
       "      <td>apart</td>\n",
       "      <td>sell</td>\n",
       "    </tr>\n",
       "    <tr>\n",
       "      <th>2</th>\n",
       "      <td>255000</td>\n",
       "      <td>-8.037247</td>\n",
       "      <td>-34.890986</td>\n",
       "      <td>2.0</td>\n",
       "      <td>82.0</td>\n",
       "      <td>1.0</td>\n",
       "      <td>2.0</td>\n",
       "      <td>NaN</td>\n",
       "      <td>Encruzilhada</td>\n",
       "      <td>Recife</td>\n",
       "      <td>Recife</td>\n",
       "      <td>Pernambuco</td>\n",
       "      <td>apart</td>\n",
       "      <td>sell</td>\n",
       "    </tr>\n",
       "    <tr>\n",
       "      <th>3</th>\n",
       "      <td>380000</td>\n",
       "      <td>-8.047562</td>\n",
       "      <td>-34.876964</td>\n",
       "      <td>3.0</td>\n",
       "      <td>95.0</td>\n",
       "      <td>2.0</td>\n",
       "      <td>3.0</td>\n",
       "      <td>1.0</td>\n",
       "      <td>Santo Amaro</td>\n",
       "      <td>Recife</td>\n",
       "      <td>Recife</td>\n",
       "      <td>Pernambuco</td>\n",
       "      <td>apart</td>\n",
       "      <td>sell</td>\n",
       "    </tr>\n",
       "    <tr>\n",
       "      <th>4</th>\n",
       "      <td>300000</td>\n",
       "      <td>-8.053580</td>\n",
       "      <td>-34.908733</td>\n",
       "      <td>3.0</td>\n",
       "      <td>97.0</td>\n",
       "      <td>1.0</td>\n",
       "      <td>3.0</td>\n",
       "      <td>1.0</td>\n",
       "      <td>Madalena</td>\n",
       "      <td>Recife</td>\n",
       "      <td>Recife</td>\n",
       "      <td>Pernambuco</td>\n",
       "      <td>apart</td>\n",
       "      <td>sell</td>\n",
       "    </tr>\n",
       "  </tbody>\n",
       "</table>\n",
       "</div>"
      ],
      "text/plain": [
       "    price  latitude  longitude  bedrooms  area  pkspaces  bathrooms  ensuites  \\\n",
       "0    1500 -8.059791 -34.889619       4.0  37.0       3.0        3.0       NaN   \n",
       "1  330000 -8.029595 -34.900372       3.0  86.0       1.0        3.0       1.0   \n",
       "2  255000 -8.037247 -34.890986       2.0  82.0       1.0        2.0       NaN   \n",
       "3  380000 -8.047562 -34.876964       3.0  95.0       2.0        3.0       1.0   \n",
       "4  300000 -8.053580 -34.908733       3.0  97.0       1.0        3.0       1.0   \n",
       "\n",
       "         suburb district    city       state   type operation  \n",
       "0     Boa Vista   Recife  Recife  Pernambuco  apart      rent  \n",
       "1   Tamarineira   Recife  Recife  Pernambuco  apart      sell  \n",
       "2  Encruzilhada   Recife  Recife  Pernambuco  apart      sell  \n",
       "3   Santo Amaro   Recife  Recife  Pernambuco  apart      sell  \n",
       "4      Madalena   Recife  Recife  Pernambuco  apart      sell  "
      ]
     },
     "execution_count": 44,
     "metadata": {},
     "output_type": "execute_result"
    }
   ],
   "source": [
    "# Adicionando coluna para aluguel e venda\n",
    "houses['operation'] = 'sell'\n",
    "houses.loc[(houses['price'] > 100) & (houses['price'] < 30000),'operation'] = 'rent'\n",
    "houses = houses.drop(['log_price'], axis=1)\n",
    "houses.head()"
   ]
  },
  {
   "cell_type": "code",
   "execution_count": 46,
   "metadata": {},
   "outputs": [
    {
     "data": {
      "text/plain": [
       "price          int64\n",
       "latitude     float64\n",
       "longitude    float64\n",
       "bedrooms     float64\n",
       "area         float64\n",
       "pkspaces     float64\n",
       "bathrooms    float64\n",
       "ensuites     float64\n",
       "suburb        object\n",
       "district      object\n",
       "city          object\n",
       "state         object\n",
       "type          object\n",
       "operation     object\n",
       "dtype: object"
      ]
     },
     "execution_count": 46,
     "metadata": {},
     "output_type": "execute_result"
    }
   ],
   "source": [
    "houses.dtypes"
   ]
  },
  {
   "cell_type": "markdown",
   "metadata": {},
   "source": [
    "## Estatísticas univariadas"
   ]
  },
  {
   "cell_type": "markdown",
   "metadata": {},
   "source": [
    "Exercícios:\n",
    "\n",
    "1. Calcule a média (mean), mediana (median), moda (mode), variância (var), desvio padrão (std) para preço e área de imóveis à venda.\n",
    "2. Calucle o IQR da área e preço (dica: describe)\n",
    "3. Calcule o preço médio do metro quadrado de venda e aluguel para Recife\n",
    "5. Calcule o preço médio do metro quadrado de venda para apartamentos e casas\n",
    "6. Calcule a área média de venda para apartamentos e casas\n",
    "7. Encontre os bairros com maior e menor valor de venda do metro quadrado\n",
    "8. Calcule a média e mediana de venda do metro quadrado por bairros (dica: usar groupby)\n",
    "9. Calcule a média do metro quadrado em apartamentos de no máximo 3 quartos no bairro Espinheiro\n",
    "10. Encontre os bairros com a menor e maior mediana de área"
   ]
  },
  {
   "cell_type": "code",
   "execution_count": 8,
   "metadata": {
    "colab": {
     "base_uri": "https://localhost:8080/",
     "height": 34
    },
    "colab_type": "code",
    "id": "vVwKA9crNsoe",
    "outputId": "65ff17de-e51e-4aa1-c2c5-3645c8a6f355"
   },
   "outputs": [
    {
     "data": {
      "text/plain": [
       "465050.814793578"
      ]
     },
     "execution_count": 8,
     "metadata": {},
     "output_type": "execute_result"
    }
   ],
   "source": [
    "houses['price'].mean()"
   ]
  },
  {
   "cell_type": "code",
   "execution_count": 9,
   "metadata": {
    "colab": {
     "base_uri": "https://localhost:8080/",
     "height": 34
    },
    "colab_type": "code",
    "id": "0KTen3m2N7hU",
    "outputId": "6f0476ae-8c04-4d70-cd7a-2e95212a1ed1"
   },
   "outputs": [
    {
     "data": {
      "text/plain": [
       "350000.0"
      ]
     },
     "execution_count": 9,
     "metadata": {},
     "output_type": "execute_result"
    }
   ],
   "source": [
    "houses['price'].median()"
   ]
  },
  {
   "cell_type": "code",
   "execution_count": 10,
   "metadata": {
    "colab": {
     "base_uri": "https://localhost:8080/",
     "height": 51
    },
    "colab_type": "code",
    "id": "O_--1soSOCA5",
    "outputId": "490fac03-5745-4a80-c84b-08a7ed971a15"
   },
   "outputs": [
    {
     "data": {
      "text/plain": [
       "0    350000\n",
       "dtype: int64"
      ]
     },
     "execution_count": 10,
     "metadata": {},
     "output_type": "execute_result"
    }
   ],
   "source": [
    "houses['price'].mode()"
   ]
  },
  {
   "cell_type": "code",
   "execution_count": 11,
   "metadata": {
    "colab": {
     "base_uri": "https://localhost:8080/",
     "height": 34
    },
    "colab_type": "code",
    "id": "-jaGZxDzQarG",
    "outputId": "4cafdba0-823c-43dc-c9d1-2b36658c2ea2"
   },
   "outputs": [
    {
     "data": {
      "text/plain": [
       "351306173214.81964"
      ]
     },
     "execution_count": 11,
     "metadata": {},
     "output_type": "execute_result"
    }
   ],
   "source": [
    "houses['price'].var()"
   ]
  },
  {
   "cell_type": "code",
   "execution_count": 28,
   "metadata": {
    "colab": {
     "base_uri": "https://localhost:8080/",
     "height": 34
    },
    "colab_type": "code",
    "id": "tO9csdVSOFQ4",
    "outputId": "839a7e07-8131-4930-f62d-4c0b3333bb69"
   },
   "outputs": [
    {
     "data": {
      "text/plain": [
       "592710.8681429924"
      ]
     },
     "execution_count": 28,
     "metadata": {},
     "output_type": "execute_result"
    }
   ],
   "source": [
    "houses['price'].std()"
   ]
  },
  {
   "cell_type": "code",
   "execution_count": 29,
   "metadata": {},
   "outputs": [
    {
     "data": {
      "text/plain": [
       "count    1721.000000\n",
       "mean      120.782493\n",
       "std        95.680958\n",
       "min        25.000000\n",
       "25%        70.000000\n",
       "50%        94.000000\n",
       "75%       139.000000\n",
       "max      1682.000000\n",
       "Name: area, dtype: float64"
      ]
     },
     "execution_count": 29,
     "metadata": {},
     "output_type": "execute_result"
    }
   ],
   "source": [
    "houses['area'].describe()"
   ]
  },
  {
   "cell_type": "code",
   "execution_count": 25,
   "metadata": {
    "colab": {
     "base_uri": "https://localhost:8080/",
     "height": 170
    },
    "colab_type": "code",
    "id": "b96lfyKnO3nL",
    "outputId": "f408fd3e-10d3-4184-984f-e628afbb09be"
   },
   "outputs": [
    {
     "data": {
      "text/plain": [
       "69.0"
      ]
     },
     "execution_count": 25,
     "metadata": {},
     "output_type": "execute_result"
    }
   ],
   "source": [
    "houses['area'].describe()[6] - houses['area'].describe()[4]"
   ]
  },
  {
   "cell_type": "code",
   "execution_count": 27,
   "metadata": {
    "colab": {
     "base_uri": "https://localhost:8080/",
     "height": 364
    },
    "colab_type": "code",
    "id": "8gC_1Bc5ISc9",
    "outputId": "3d889da5-9073-44dc-dc44-79770183b96f"
   },
   "outputs": [
    {
     "data": {
      "text/plain": [
       "<matplotlib.axes._subplots.AxesSubplot at 0x119895320>"
      ]
     },
     "execution_count": 27,
     "metadata": {},
     "output_type": "execute_result"
    },
    {
     "data": {
      "image/png": "[encoded data removed]",
      "text/plain": [
       "<Figure size 432x288 with 1 Axes>"
      ]
     },
     "metadata": {
      "needs_background": "light"
     },
     "output_type": "display_data"
    }
   ],
   "source": [
    "houses.boxplot(column=['area'])"
   ]
  },
  {
   "cell_type": "code",
   "execution_count": 72,
   "metadata": {},
   "outputs": [],
   "source": [
    "houses['price_square_meter'] = houses['price']/houses['area']"
   ]
  },
  {
   "cell_type": "code",
   "execution_count": 74,
   "metadata": {},
   "outputs": [
    {
     "data": {
      "text/plain": [
       "4033.597020052011"
      ]
     },
     "execution_count": 74,
     "metadata": {},
     "output_type": "execute_result"
    }
   ],
   "source": [
    "houses[(houses.type == 'apart') & (houses.bedrooms <= 3) & (houses.suburb == 'Espinheiro')].price_square_meter.mean()"
   ]
  },
  {
   "cell_type": "code",
   "execution_count": 76,
   "metadata": {},
   "outputs": [
    {
     "data": {
      "text/plain": [
       "suburb\n",
       "Aflitos              5057.981293\n",
       "Apipucos             4953.378876\n",
       "Areias               2317.073171\n",
       "Arruda               3599.960047\n",
       "Boa Viagem           5784.767213\n",
       "Boa Vista            3499.194950\n",
       "Campo Grande         4648.761296\n",
       "Casa Amarela         5351.374665\n",
       "Casa Forte           6183.445243\n",
       "CaxangÌÁ             4587.357285\n",
       "Coelhos              4666.666667\n",
       "Cohab                1933.333333\n",
       "Cordeiro             4083.564554\n",
       "Derby                9043.387168\n",
       "Encruzilhada         5052.220649\n",
       "Engenho do Meio      9641.890805\n",
       "Espinheiro           5231.928476\n",
       "FundÌ£o              3920.280333\n",
       "GraÌ¤as              4350.551441\n",
       "HipÌ_dromo           2502.343750\n",
       "Ibura                5990.463333\n",
       "Ilha do Retiro       6055.816062\n",
       "Imbiribeira          9902.509394\n",
       "Ipsep                2777.982481\n",
       "Iputinga             1770.728716\n",
       "Jaqueira             6742.418062\n",
       "Jardim SÌ£o Paulo       0.003597\n",
       "Madalena             5794.175868\n",
       "Mangabeira           4138.295095\n",
       "Monteiro             6544.807869\n",
       "Parnamirim           5261.133661\n",
       "Pau-Ferro            2395.826190\n",
       "Pina                 7330.712373\n",
       "Ponto de Parada      5217.510616\n",
       "Porto da Madeira     2500.000000\n",
       "PoÌ¤o                6291.697998\n",
       "Prado                5181.694309\n",
       "Rosarinho            5581.350132\n",
       "San Martin           4475.841052\n",
       "Santana              6863.182567\n",
       "Santo Amaro          4989.380697\n",
       "Santo AntÌ«nio       4000.000000\n",
       "Soledade             9607.917369\n",
       "SÌ£o JosÌ©           1667.983122\n",
       "Tamarineira          5584.412500\n",
       "TejipiÌ_             1043.338684\n",
       "Torre                5631.042611\n",
       "TorreÌ£o             4826.267203\n",
       "TorrÌµes             2720.000000\n",
       "Vasco da Gama        3125.000000\n",
       "VÌÁrzea              4225.103022\n",
       "Name: price_square_meter, dtype: float64"
      ]
     },
     "execution_count": 76,
     "metadata": {},
     "output_type": "execute_result"
    }
   ],
   "source": [
    "houses[houses['operation']=='sell'].groupby(['suburb'])['price_square_meter'].mean()"
   ]
  },
  {
   "cell_type": "code",
   "execution_count": 77,
   "metadata": {},
   "outputs": [
    {
     "data": {
      "text/html": [
       "<div>\n",
       "<style scoped>\n",
       "    .dataframe tbody tr th:only-of-type {\n",
       "        vertical-align: middle;\n",
       "    }\n",
       "\n",
       "    .dataframe tbody tr th {\n",
       "        vertical-align: top;\n",
       "    }\n",
       "\n",
       "    .dataframe thead th {\n",
       "        text-align: right;\n",
       "    }\n",
       "</style>\n",
       "<table border=\"1\" class=\"dataframe\">\n",
       "  <thead>\n",
       "    <tr style=\"text-align: right;\">\n",
       "      <th></th>\n",
       "      <th>mean</th>\n",
       "      <th>median</th>\n",
       "    </tr>\n",
       "    <tr>\n",
       "      <th>suburb</th>\n",
       "      <th></th>\n",
       "      <th></th>\n",
       "    </tr>\n",
       "  </thead>\n",
       "  <tbody>\n",
       "    <tr>\n",
       "      <th>Aflitos</th>\n",
       "      <td>5057.981293</td>\n",
       "      <td>4897.959184</td>\n",
       "    </tr>\n",
       "    <tr>\n",
       "      <th>Apipucos</th>\n",
       "      <td>4953.378876</td>\n",
       "      <td>4317.180617</td>\n",
       "    </tr>\n",
       "    <tr>\n",
       "      <th>Areias</th>\n",
       "      <td>2317.073171</td>\n",
       "      <td>2317.073171</td>\n",
       "    </tr>\n",
       "    <tr>\n",
       "      <th>Arruda</th>\n",
       "      <td>3599.960047</td>\n",
       "      <td>4000.000000</td>\n",
       "    </tr>\n",
       "    <tr>\n",
       "      <th>Boa Viagem</th>\n",
       "      <td>5784.767213</td>\n",
       "      <td>5351.562500</td>\n",
       "    </tr>\n",
       "    <tr>\n",
       "      <th>Boa Vista</th>\n",
       "      <td>3499.194950</td>\n",
       "      <td>3240.384615</td>\n",
       "    </tr>\n",
       "    <tr>\n",
       "      <th>Campo Grande</th>\n",
       "      <td>4648.761296</td>\n",
       "      <td>4130.434783</td>\n",
       "    </tr>\n",
       "    <tr>\n",
       "      <th>Casa Amarela</th>\n",
       "      <td>5351.374665</td>\n",
       "      <td>5806.451613</td>\n",
       "    </tr>\n",
       "    <tr>\n",
       "      <th>Casa Forte</th>\n",
       "      <td>6183.445243</td>\n",
       "      <td>6272.727273</td>\n",
       "    </tr>\n",
       "    <tr>\n",
       "      <th>CaxangÌÁ</th>\n",
       "      <td>4587.357285</td>\n",
       "      <td>2915.973443</td>\n",
       "    </tr>\n",
       "    <tr>\n",
       "      <th>Coelhos</th>\n",
       "      <td>4666.666667</td>\n",
       "      <td>4666.666667</td>\n",
       "    </tr>\n",
       "    <tr>\n",
       "      <th>Cohab</th>\n",
       "      <td>1933.333333</td>\n",
       "      <td>1933.333333</td>\n",
       "    </tr>\n",
       "    <tr>\n",
       "      <th>Cordeiro</th>\n",
       "      <td>4083.564554</td>\n",
       "      <td>4133.333333</td>\n",
       "    </tr>\n",
       "    <tr>\n",
       "      <th>Derby</th>\n",
       "      <td>9043.387168</td>\n",
       "      <td>4457.603875</td>\n",
       "    </tr>\n",
       "    <tr>\n",
       "      <th>Encruzilhada</th>\n",
       "      <td>5052.220649</td>\n",
       "      <td>5409.836066</td>\n",
       "    </tr>\n",
       "    <tr>\n",
       "      <th>Engenho do Meio</th>\n",
       "      <td>9641.890805</td>\n",
       "      <td>4980.172414</td>\n",
       "    </tr>\n",
       "    <tr>\n",
       "      <th>Espinheiro</th>\n",
       "      <td>5231.928476</td>\n",
       "      <td>4104.477612</td>\n",
       "    </tr>\n",
       "    <tr>\n",
       "      <th>FundÌ£o</th>\n",
       "      <td>3920.280333</td>\n",
       "      <td>3920.280333</td>\n",
       "    </tr>\n",
       "    <tr>\n",
       "      <th>GraÌ¤as</th>\n",
       "      <td>4350.551441</td>\n",
       "      <td>4082.491582</td>\n",
       "    </tr>\n",
       "    <tr>\n",
       "      <th>HipÌ_dromo</th>\n",
       "      <td>2502.343750</td>\n",
       "      <td>1666.666667</td>\n",
       "    </tr>\n",
       "    <tr>\n",
       "      <th>Ibura</th>\n",
       "      <td>5990.463333</td>\n",
       "      <td>6000.000000</td>\n",
       "    </tr>\n",
       "    <tr>\n",
       "      <th>Ilha do Retiro</th>\n",
       "      <td>6055.816062</td>\n",
       "      <td>6071.428571</td>\n",
       "    </tr>\n",
       "    <tr>\n",
       "      <th>Imbiribeira</th>\n",
       "      <td>9902.509394</td>\n",
       "      <td>4782.608696</td>\n",
       "    </tr>\n",
       "    <tr>\n",
       "      <th>Ipsep</th>\n",
       "      <td>2777.982481</td>\n",
       "      <td>3150.000000</td>\n",
       "    </tr>\n",
       "    <tr>\n",
       "      <th>Iputinga</th>\n",
       "      <td>1770.728716</td>\n",
       "      <td>1799.090909</td>\n",
       "    </tr>\n",
       "    <tr>\n",
       "      <th>Jaqueira</th>\n",
       "      <td>6742.418062</td>\n",
       "      <td>6842.105263</td>\n",
       "    </tr>\n",
       "    <tr>\n",
       "      <th>Jardim SÌ£o Paulo</th>\n",
       "      <td>0.003597</td>\n",
       "      <td>0.003597</td>\n",
       "    </tr>\n",
       "    <tr>\n",
       "      <th>Madalena</th>\n",
       "      <td>5794.175868</td>\n",
       "      <td>5376.344086</td>\n",
       "    </tr>\n",
       "    <tr>\n",
       "      <th>Mangabeira</th>\n",
       "      <td>4138.295095</td>\n",
       "      <td>4138.295095</td>\n",
       "    </tr>\n",
       "    <tr>\n",
       "      <th>Monteiro</th>\n",
       "      <td>6544.807869</td>\n",
       "      <td>5957.142857</td>\n",
       "    </tr>\n",
       "    <tr>\n",
       "      <th>Parnamirim</th>\n",
       "      <td>5261.133661</td>\n",
       "      <td>5217.391304</td>\n",
       "    </tr>\n",
       "    <tr>\n",
       "      <th>Pau-Ferro</th>\n",
       "      <td>2395.826190</td>\n",
       "      <td>2395.826190</td>\n",
       "    </tr>\n",
       "    <tr>\n",
       "      <th>Pina</th>\n",
       "      <td>7330.712373</td>\n",
       "      <td>7875.000000</td>\n",
       "    </tr>\n",
       "    <tr>\n",
       "      <th>Ponto de Parada</th>\n",
       "      <td>5217.510616</td>\n",
       "      <td>5819.737964</td>\n",
       "    </tr>\n",
       "    <tr>\n",
       "      <th>Porto da Madeira</th>\n",
       "      <td>2500.000000</td>\n",
       "      <td>2500.000000</td>\n",
       "    </tr>\n",
       "    <tr>\n",
       "      <th>PoÌ¤o</th>\n",
       "      <td>6291.697998</td>\n",
       "      <td>6730.769231</td>\n",
       "    </tr>\n",
       "    <tr>\n",
       "      <th>Prado</th>\n",
       "      <td>5181.694309</td>\n",
       "      <td>4883.720930</td>\n",
       "    </tr>\n",
       "    <tr>\n",
       "      <th>Rosarinho</th>\n",
       "      <td>5581.350132</td>\n",
       "      <td>6428.999505</td>\n",
       "    </tr>\n",
       "    <tr>\n",
       "      <th>San Martin</th>\n",
       "      <td>4475.841052</td>\n",
       "      <td>4815.643649</td>\n",
       "    </tr>\n",
       "    <tr>\n",
       "      <th>Santana</th>\n",
       "      <td>6863.182567</td>\n",
       "      <td>5853.658537</td>\n",
       "    </tr>\n",
       "    <tr>\n",
       "      <th>Santo Amaro</th>\n",
       "      <td>4989.380697</td>\n",
       "      <td>5333.333333</td>\n",
       "    </tr>\n",
       "    <tr>\n",
       "      <th>Santo AntÌ«nio</th>\n",
       "      <td>4000.000000</td>\n",
       "      <td>4000.000000</td>\n",
       "    </tr>\n",
       "    <tr>\n",
       "      <th>Soledade</th>\n",
       "      <td>9607.917369</td>\n",
       "      <td>6000.000000</td>\n",
       "    </tr>\n",
       "    <tr>\n",
       "      <th>SÌ£o JosÌ©</th>\n",
       "      <td>1667.983122</td>\n",
       "      <td>1667.983122</td>\n",
       "    </tr>\n",
       "    <tr>\n",
       "      <th>Tamarineira</th>\n",
       "      <td>5584.412500</td>\n",
       "      <td>5504.237288</td>\n",
       "    </tr>\n",
       "    <tr>\n",
       "      <th>TejipiÌ_</th>\n",
       "      <td>1043.338684</td>\n",
       "      <td>1043.338684</td>\n",
       "    </tr>\n",
       "    <tr>\n",
       "      <th>Torre</th>\n",
       "      <td>5631.042611</td>\n",
       "      <td>5228.558941</td>\n",
       "    </tr>\n",
       "    <tr>\n",
       "      <th>TorreÌ£o</th>\n",
       "      <td>4826.267203</td>\n",
       "      <td>5238.095238</td>\n",
       "    </tr>\n",
       "    <tr>\n",
       "      <th>TorrÌµes</th>\n",
       "      <td>2720.000000</td>\n",
       "      <td>2720.000000</td>\n",
       "    </tr>\n",
       "    <tr>\n",
       "      <th>Vasco da Gama</th>\n",
       "      <td>3125.000000</td>\n",
       "      <td>3125.000000</td>\n",
       "    </tr>\n",
       "    <tr>\n",
       "      <th>VÌÁrzea</th>\n",
       "      <td>4225.103022</td>\n",
       "      <td>4225.103022</td>\n",
       "    </tr>\n",
       "  </tbody>\n",
       "</table>\n",
       "</div>"
      ],
      "text/plain": [
       "                          mean       median\n",
       "suburb                                     \n",
       "Aflitos            5057.981293  4897.959184\n",
       "Apipucos           4953.378876  4317.180617\n",
       "Areias             2317.073171  2317.073171\n",
       "Arruda             3599.960047  4000.000000\n",
       "Boa Viagem         5784.767213  5351.562500\n",
       "Boa Vista          3499.194950  3240.384615\n",
       "Campo Grande       4648.761296  4130.434783\n",
       "Casa Amarela       5351.374665  5806.451613\n",
       "Casa Forte         6183.445243  6272.727273\n",
       "CaxangÌÁ           4587.357285  2915.973443\n",
       "Coelhos            4666.666667  4666.666667\n",
       "Cohab              1933.333333  1933.333333\n",
       "Cordeiro           4083.564554  4133.333333\n",
       "Derby              9043.387168  4457.603875\n",
       "Encruzilhada       5052.220649  5409.836066\n",
       "Engenho do Meio    9641.890805  4980.172414\n",
       "Espinheiro         5231.928476  4104.477612\n",
       "FundÌ£o            3920.280333  3920.280333\n",
       "GraÌ¤as            4350.551441  4082.491582\n",
       "HipÌ_dromo         2502.343750  1666.666667\n",
       "Ibura              5990.463333  6000.000000\n",
       "Ilha do Retiro     6055.816062  6071.428571\n",
       "Imbiribeira        9902.509394  4782.608696\n",
       "Ipsep              2777.982481  3150.000000\n",
       "Iputinga           1770.728716  1799.090909\n",
       "Jaqueira           6742.418062  6842.105263\n",
       "Jardim SÌ£o Paulo     0.003597     0.003597\n",
       "Madalena           5794.175868  5376.344086\n",
       "Mangabeira         4138.295095  4138.295095\n",
       "Monteiro           6544.807869  5957.142857\n",
       "Parnamirim         5261.133661  5217.391304\n",
       "Pau-Ferro          2395.826190  2395.826190\n",
       "Pina               7330.712373  7875.000000\n",
       "Ponto de Parada    5217.510616  5819.737964\n",
       "Porto da Madeira   2500.000000  2500.000000\n",
       "PoÌ¤o              6291.697998  6730.769231\n",
       "Prado              5181.694309  4883.720930\n",
       "Rosarinho          5581.350132  6428.999505\n",
       "San Martin         4475.841052  4815.643649\n",
       "Santana            6863.182567  5853.658537\n",
       "Santo Amaro        4989.380697  5333.333333\n",
       "Santo AntÌ«nio     4000.000000  4000.000000\n",
       "Soledade           9607.917369  6000.000000\n",
       "SÌ£o JosÌ©         1667.983122  1667.983122\n",
       "Tamarineira        5584.412500  5504.237288\n",
       "TejipiÌ_           1043.338684  1043.338684\n",
       "Torre              5631.042611  5228.558941\n",
       "TorreÌ£o           4826.267203  5238.095238\n",
       "TorrÌµes           2720.000000  2720.000000\n",
       "Vasco da Gama      3125.000000  3125.000000\n",
       "VÌÁrzea            4225.103022  4225.103022"
      ]
     },
     "execution_count": 77,
     "metadata": {},
     "output_type": "execute_result"
    }
   ],
   "source": [
    "houses[houses['operation']=='sell'].groupby(['suburb']).agg(['mean','median'])['price_square_meter']"
   ]
  },
  {
   "cell_type": "code",
   "execution_count": 83,
   "metadata": {},
   "outputs": [
    {
     "data": {
      "text/plain": [
       "<matplotlib.axes._subplots.AxesSubplot at 0x11af66278>"
      ]
     },
     "execution_count": 83,
     "metadata": {},
     "output_type": "execute_result"
    },
    {
     "data": {
      "image/png": "[encoded data removed]",
      "text/plain": [
       "<Figure size 1440x720 with 1 Axes>"
      ]
     },
     "metadata": {
      "needs_background": "light"
     },
     "output_type": "display_data"
    }
   ],
   "source": [
    "# Medianas do valor de venda por metro quadrado para cada bairro\n",
    "houses[houses['operation']=='sell'].groupby(['suburb'])['price_square_meter'].median().sort_values(ascending=False).plot.bar(figsize=(20,10))"
   ]
  },
  {
   "cell_type": "code",
   "execution_count": 81,
   "metadata": {},
   "outputs": [
    {
     "data": {
      "text/html": [
       "<div>\n",
       "<style scoped>\n",
       "    .dataframe tbody tr th:only-of-type {\n",
       "        vertical-align: middle;\n",
       "    }\n",
       "\n",
       "    .dataframe tbody tr th {\n",
       "        vertical-align: top;\n",
       "    }\n",
       "\n",
       "    .dataframe thead th {\n",
       "        text-align: right;\n",
       "    }\n",
       "</style>\n",
       "<table border=\"1\" class=\"dataframe\">\n",
       "  <thead>\n",
       "    <tr style=\"text-align: right;\">\n",
       "      <th></th>\n",
       "      <th>price</th>\n",
       "      <th>latitude</th>\n",
       "      <th>longitude</th>\n",
       "      <th>bedrooms</th>\n",
       "      <th>area</th>\n",
       "      <th>pkspaces</th>\n",
       "      <th>bathrooms</th>\n",
       "      <th>ensuites</th>\n",
       "      <th>price_square_meter</th>\n",
       "    </tr>\n",
       "  </thead>\n",
       "  <tbody>\n",
       "    <tr>\n",
       "      <th>count</th>\n",
       "      <td>1.300000e+01</td>\n",
       "      <td>13.000000</td>\n",
       "      <td>13.000000</td>\n",
       "      <td>13.000000</td>\n",
       "      <td>13.000000</td>\n",
       "      <td>10.000000</td>\n",
       "      <td>11.000000</td>\n",
       "      <td>7.0</td>\n",
       "      <td>13.000000</td>\n",
       "    </tr>\n",
       "    <tr>\n",
       "      <th>mean</th>\n",
       "      <td>1.193943e+06</td>\n",
       "      <td>-8.055494</td>\n",
       "      <td>-34.893257</td>\n",
       "      <td>3.230769</td>\n",
       "      <td>213.623846</td>\n",
       "      <td>1.700000</td>\n",
       "      <td>3.090909</td>\n",
       "      <td>1.0</td>\n",
       "      <td>9607.917369</td>\n",
       "    </tr>\n",
       "    <tr>\n",
       "      <th>std</th>\n",
       "      <td>1.868665e+06</td>\n",
       "      <td>0.000952</td>\n",
       "      <td>0.002665</td>\n",
       "      <td>1.012739</td>\n",
       "      <td>442.405253</td>\n",
       "      <td>0.823273</td>\n",
       "      <td>0.301511</td>\n",
       "      <td>0.0</td>\n",
       "      <td>14132.119159</td>\n",
       "    </tr>\n",
       "    <tr>\n",
       "      <th>min</th>\n",
       "      <td>2.500000e+05</td>\n",
       "      <td>-8.056280</td>\n",
       "      <td>-34.895347</td>\n",
       "      <td>1.000000</td>\n",
       "      <td>40.110000</td>\n",
       "      <td>0.000000</td>\n",
       "      <td>3.000000</td>\n",
       "      <td>1.0</td>\n",
       "      <td>1948.694030</td>\n",
       "    </tr>\n",
       "    <tr>\n",
       "      <th>25%</th>\n",
       "      <td>3.650000e+05</td>\n",
       "      <td>-8.055979</td>\n",
       "      <td>-34.895347</td>\n",
       "      <td>3.000000</td>\n",
       "      <td>51.000000</td>\n",
       "      <td>1.250000</td>\n",
       "      <td>3.000000</td>\n",
       "      <td>1.0</td>\n",
       "      <td>5391.304348</td>\n",
       "    </tr>\n",
       "    <tr>\n",
       "      <th>50%</th>\n",
       "      <td>6.200000e+05</td>\n",
       "      <td>-8.055979</td>\n",
       "      <td>-34.895347</td>\n",
       "      <td>3.000000</td>\n",
       "      <td>115.000000</td>\n",
       "      <td>2.000000</td>\n",
       "      <td>3.000000</td>\n",
       "      <td>1.0</td>\n",
       "      <td>6000.000000</td>\n",
       "    </tr>\n",
       "    <tr>\n",
       "      <th>75%</th>\n",
       "      <td>6.900000e+05</td>\n",
       "      <td>-8.054936</td>\n",
       "      <td>-34.890077</td>\n",
       "      <td>4.000000</td>\n",
       "      <td>115.000000</td>\n",
       "      <td>2.000000</td>\n",
       "      <td>3.000000</td>\n",
       "      <td>1.0</td>\n",
       "      <td>6606.831214</td>\n",
       "    </tr>\n",
       "    <tr>\n",
       "      <th>max</th>\n",
       "      <td>7.000000e+06</td>\n",
       "      <td>-8.052734</td>\n",
       "      <td>-34.889466</td>\n",
       "      <td>5.000000</td>\n",
       "      <td>1682.000000</td>\n",
       "      <td>3.000000</td>\n",
       "      <td>4.000000</td>\n",
       "      <td>1.0</td>\n",
       "      <td>56039.215686</td>\n",
       "    </tr>\n",
       "  </tbody>\n",
       "</table>\n",
       "</div>"
      ],
      "text/plain": [
       "              price   latitude  longitude   bedrooms         area   pkspaces  \\\n",
       "count  1.300000e+01  13.000000  13.000000  13.000000    13.000000  10.000000   \n",
       "mean   1.193943e+06  -8.055494 -34.893257   3.230769   213.623846   1.700000   \n",
       "std    1.868665e+06   0.000952   0.002665   1.012739   442.405253   0.823273   \n",
       "min    2.500000e+05  -8.056280 -34.895347   1.000000    40.110000   0.000000   \n",
       "25%    3.650000e+05  -8.055979 -34.895347   3.000000    51.000000   1.250000   \n",
       "50%    6.200000e+05  -8.055979 -34.895347   3.000000   115.000000   2.000000   \n",
       "75%    6.900000e+05  -8.054936 -34.890077   4.000000   115.000000   2.000000   \n",
       "max    7.000000e+06  -8.052734 -34.889466   5.000000  1682.000000   3.000000   \n",
       "\n",
       "       bathrooms  ensuites  price_square_meter  \n",
       "count  11.000000       7.0           13.000000  \n",
       "mean    3.090909       1.0         9607.917369  \n",
       "std     0.301511       0.0        14132.119159  \n",
       "min     3.000000       1.0         1948.694030  \n",
       "25%     3.000000       1.0         5391.304348  \n",
       "50%     3.000000       1.0         6000.000000  \n",
       "75%     3.000000       1.0         6606.831214  \n",
       "max     4.000000       1.0        56039.215686  "
      ]
     },
     "execution_count": 81,
     "metadata": {},
     "output_type": "execute_result"
    }
   ],
   "source": [
    "houses[(houses['suburb'] == 'Soledade') & (houses['operation']=='sell')].describe()"
   ]
  },
  {
   "cell_type": "code",
   "execution_count": 82,
   "metadata": {},
   "outputs": [
    {
     "data": {
      "text/html": [
       "<div>\n",
       "<style scoped>\n",
       "    .dataframe tbody tr th:only-of-type {\n",
       "        vertical-align: middle;\n",
       "    }\n",
       "\n",
       "    .dataframe tbody tr th {\n",
       "        vertical-align: top;\n",
       "    }\n",
       "\n",
       "    .dataframe thead th {\n",
       "        text-align: right;\n",
       "    }\n",
       "</style>\n",
       "<table border=\"1\" class=\"dataframe\">\n",
       "  <thead>\n",
       "    <tr style=\"text-align: right;\">\n",
       "      <th></th>\n",
       "      <th>price</th>\n",
       "      <th>latitude</th>\n",
       "      <th>longitude</th>\n",
       "      <th>bedrooms</th>\n",
       "      <th>area</th>\n",
       "      <th>pkspaces</th>\n",
       "      <th>bathrooms</th>\n",
       "      <th>ensuites</th>\n",
       "      <th>suburb</th>\n",
       "      <th>district</th>\n",
       "      <th>city</th>\n",
       "      <th>state</th>\n",
       "      <th>type</th>\n",
       "      <th>operation</th>\n",
       "      <th>price_square_meter</th>\n",
       "    </tr>\n",
       "  </thead>\n",
       "  <tbody>\n",
       "    <tr>\n",
       "      <th>179</th>\n",
       "      <td>365000</td>\n",
       "      <td>-8.054936</td>\n",
       "      <td>-34.889466</td>\n",
       "      <td>4.0</td>\n",
       "      <td>51.00</td>\n",
       "      <td>NaN</td>\n",
       "      <td>3.0</td>\n",
       "      <td>NaN</td>\n",
       "      <td>Soledade</td>\n",
       "      <td>Recife</td>\n",
       "      <td>Recife</td>\n",
       "      <td>Pernambuco</td>\n",
       "      <td>apart</td>\n",
       "      <td>sell</td>\n",
       "      <td>7156.862745</td>\n",
       "    </tr>\n",
       "    <tr>\n",
       "      <th>182</th>\n",
       "      <td>690000</td>\n",
       "      <td>-8.055979</td>\n",
       "      <td>-34.895347</td>\n",
       "      <td>3.0</td>\n",
       "      <td>115.00</td>\n",
       "      <td>2.0</td>\n",
       "      <td>3.0</td>\n",
       "      <td>1.0</td>\n",
       "      <td>Soledade</td>\n",
       "      <td>Recife</td>\n",
       "      <td>Recife</td>\n",
       "      <td>Pernambuco</td>\n",
       "      <td>apart</td>\n",
       "      <td>sell</td>\n",
       "      <td>6000.000000</td>\n",
       "    </tr>\n",
       "    <tr>\n",
       "      <th>231</th>\n",
       "      <td>620000</td>\n",
       "      <td>-8.055979</td>\n",
       "      <td>-34.895347</td>\n",
       "      <td>3.0</td>\n",
       "      <td>115.00</td>\n",
       "      <td>2.0</td>\n",
       "      <td>3.0</td>\n",
       "      <td>1.0</td>\n",
       "      <td>Soledade</td>\n",
       "      <td>Recife</td>\n",
       "      <td>Recife</td>\n",
       "      <td>Pernambuco</td>\n",
       "      <td>apart</td>\n",
       "      <td>sell</td>\n",
       "      <td>5391.304348</td>\n",
       "    </tr>\n",
       "    <tr>\n",
       "      <th>400</th>\n",
       "      <td>2858000</td>\n",
       "      <td>-8.054936</td>\n",
       "      <td>-34.889466</td>\n",
       "      <td>4.0</td>\n",
       "      <td>51.00</td>\n",
       "      <td>NaN</td>\n",
       "      <td>3.0</td>\n",
       "      <td>NaN</td>\n",
       "      <td>Soledade</td>\n",
       "      <td>Recife</td>\n",
       "      <td>Recife</td>\n",
       "      <td>Pernambuco</td>\n",
       "      <td>apart</td>\n",
       "      <td>sell</td>\n",
       "      <td>56039.215686</td>\n",
       "    </tr>\n",
       "    <tr>\n",
       "      <th>476</th>\n",
       "      <td>620000</td>\n",
       "      <td>-8.055979</td>\n",
       "      <td>-34.895347</td>\n",
       "      <td>3.0</td>\n",
       "      <td>115.00</td>\n",
       "      <td>2.0</td>\n",
       "      <td>3.0</td>\n",
       "      <td>1.0</td>\n",
       "      <td>Soledade</td>\n",
       "      <td>Recife</td>\n",
       "      <td>Recife</td>\n",
       "      <td>Pernambuco</td>\n",
       "      <td>apart</td>\n",
       "      <td>sell</td>\n",
       "      <td>5391.304348</td>\n",
       "    </tr>\n",
       "    <tr>\n",
       "      <th>618</th>\n",
       "      <td>690000</td>\n",
       "      <td>-8.055979</td>\n",
       "      <td>-34.895347</td>\n",
       "      <td>3.0</td>\n",
       "      <td>115.00</td>\n",
       "      <td>2.0</td>\n",
       "      <td>3.0</td>\n",
       "      <td>1.0</td>\n",
       "      <td>Soledade</td>\n",
       "      <td>Recife</td>\n",
       "      <td>Recife</td>\n",
       "      <td>Pernambuco</td>\n",
       "      <td>apart</td>\n",
       "      <td>sell</td>\n",
       "      <td>6000.000000</td>\n",
       "    </tr>\n",
       "    <tr>\n",
       "      <th>628</th>\n",
       "      <td>592139</td>\n",
       "      <td>-8.054936</td>\n",
       "      <td>-34.889466</td>\n",
       "      <td>4.0</td>\n",
       "      <td>51.00</td>\n",
       "      <td>NaN</td>\n",
       "      <td>3.0</td>\n",
       "      <td>NaN</td>\n",
       "      <td>Soledade</td>\n",
       "      <td>Recife</td>\n",
       "      <td>Recife</td>\n",
       "      <td>Pernambuco</td>\n",
       "      <td>apart</td>\n",
       "      <td>sell</td>\n",
       "      <td>11610.568627</td>\n",
       "    </tr>\n",
       "    <tr>\n",
       "      <th>752</th>\n",
       "      <td>690000</td>\n",
       "      <td>-8.055979</td>\n",
       "      <td>-34.895347</td>\n",
       "      <td>3.0</td>\n",
       "      <td>115.00</td>\n",
       "      <td>2.0</td>\n",
       "      <td>3.0</td>\n",
       "      <td>1.0</td>\n",
       "      <td>Soledade</td>\n",
       "      <td>Recife</td>\n",
       "      <td>Recife</td>\n",
       "      <td>Pernambuco</td>\n",
       "      <td>apart</td>\n",
       "      <td>sell</td>\n",
       "      <td>6000.000000</td>\n",
       "    </tr>\n",
       "    <tr>\n",
       "      <th>788</th>\n",
       "      <td>620000</td>\n",
       "      <td>-8.055979</td>\n",
       "      <td>-34.895347</td>\n",
       "      <td>3.0</td>\n",
       "      <td>115.00</td>\n",
       "      <td>2.0</td>\n",
       "      <td>3.0</td>\n",
       "      <td>1.0</td>\n",
       "      <td>Soledade</td>\n",
       "      <td>Recife</td>\n",
       "      <td>Recife</td>\n",
       "      <td>Pernambuco</td>\n",
       "      <td>apart</td>\n",
       "      <td>sell</td>\n",
       "      <td>5391.304348</td>\n",
       "    </tr>\n",
       "    <tr>\n",
       "      <th>862</th>\n",
       "      <td>261125</td>\n",
       "      <td>-8.055979</td>\n",
       "      <td>-34.895347</td>\n",
       "      <td>4.0</td>\n",
       "      <td>134.00</td>\n",
       "      <td>3.0</td>\n",
       "      <td>3.0</td>\n",
       "      <td>1.0</td>\n",
       "      <td>Soledade</td>\n",
       "      <td>Recife</td>\n",
       "      <td>Recife</td>\n",
       "      <td>Pernambuco</td>\n",
       "      <td>apart</td>\n",
       "      <td>sell</td>\n",
       "      <td>1948.694030</td>\n",
       "    </tr>\n",
       "    <tr>\n",
       "      <th>1044</th>\n",
       "      <td>250000</td>\n",
       "      <td>-8.052734</td>\n",
       "      <td>-34.890077</td>\n",
       "      <td>2.0</td>\n",
       "      <td>78.00</td>\n",
       "      <td>1.0</td>\n",
       "      <td>NaN</td>\n",
       "      <td>NaN</td>\n",
       "      <td>Soledade</td>\n",
       "      <td>Recife</td>\n",
       "      <td>Recife</td>\n",
       "      <td>Pernambuco</td>\n",
       "      <td>apart</td>\n",
       "      <td>sell</td>\n",
       "      <td>3205.128205</td>\n",
       "    </tr>\n",
       "    <tr>\n",
       "      <th>1067</th>\n",
       "      <td>265000</td>\n",
       "      <td>-8.056280</td>\n",
       "      <td>-34.894063</td>\n",
       "      <td>1.0</td>\n",
       "      <td>40.11</td>\n",
       "      <td>1.0</td>\n",
       "      <td>NaN</td>\n",
       "      <td>NaN</td>\n",
       "      <td>Soledade</td>\n",
       "      <td>Recife</td>\n",
       "      <td>Recife</td>\n",
       "      <td>Pernambuco</td>\n",
       "      <td>apart</td>\n",
       "      <td>sell</td>\n",
       "      <td>6606.831214</td>\n",
       "    </tr>\n",
       "    <tr>\n",
       "      <th>1364</th>\n",
       "      <td>7000000</td>\n",
       "      <td>-8.055745</td>\n",
       "      <td>-34.892368</td>\n",
       "      <td>5.0</td>\n",
       "      <td>1682.00</td>\n",
       "      <td>0.0</td>\n",
       "      <td>4.0</td>\n",
       "      <td>NaN</td>\n",
       "      <td>Soledade</td>\n",
       "      <td>Recife</td>\n",
       "      <td>Recife</td>\n",
       "      <td>Pernambuco</td>\n",
       "      <td>house</td>\n",
       "      <td>sell</td>\n",
       "      <td>4161.712247</td>\n",
       "    </tr>\n",
       "  </tbody>\n",
       "</table>\n",
       "</div>"
      ],
      "text/plain": [
       "        price  latitude  longitude  bedrooms     area  pkspaces  bathrooms  \\\n",
       "179    365000 -8.054936 -34.889466       4.0    51.00       NaN        3.0   \n",
       "182    690000 -8.055979 -34.895347       3.0   115.00       2.0        3.0   \n",
       "231    620000 -8.055979 -34.895347       3.0   115.00       2.0        3.0   \n",
       "400   2858000 -8.054936 -34.889466       4.0    51.00       NaN        3.0   \n",
       "476    620000 -8.055979 -34.895347       3.0   115.00       2.0        3.0   \n",
       "618    690000 -8.055979 -34.895347       3.0   115.00       2.0        3.0   \n",
       "628    592139 -8.054936 -34.889466       4.0    51.00       NaN        3.0   \n",
       "752    690000 -8.055979 -34.895347       3.0   115.00       2.0        3.0   \n",
       "788    620000 -8.055979 -34.895347       3.0   115.00       2.0        3.0   \n",
       "862    261125 -8.055979 -34.895347       4.0   134.00       3.0        3.0   \n",
       "1044   250000 -8.052734 -34.890077       2.0    78.00       1.0        NaN   \n",
       "1067   265000 -8.056280 -34.894063       1.0    40.11       1.0        NaN   \n",
       "1364  7000000 -8.055745 -34.892368       5.0  1682.00       0.0        4.0   \n",
       "\n",
       "      ensuites    suburb district    city       state   type operation  \\\n",
       "179        NaN  Soledade   Recife  Recife  Pernambuco  apart      sell   \n",
       "182        1.0  Soledade   Recife  Recife  Pernambuco  apart      sell   \n",
       "231        1.0  Soledade   Recife  Recife  Pernambuco  apart      sell   \n",
       "400        NaN  Soledade   Recife  Recife  Pernambuco  apart      sell   \n",
       "476        1.0  Soledade   Recife  Recife  Pernambuco  apart      sell   \n",
       "618        1.0  Soledade   Recife  Recife  Pernambuco  apart      sell   \n",
       "628        NaN  Soledade   Recife  Recife  Pernambuco  apart      sell   \n",
       "752        1.0  Soledade   Recife  Recife  Pernambuco  apart      sell   \n",
       "788        1.0  Soledade   Recife  Recife  Pernambuco  apart      sell   \n",
       "862        1.0  Soledade   Recife  Recife  Pernambuco  apart      sell   \n",
       "1044       NaN  Soledade   Recife  Recife  Pernambuco  apart      sell   \n",
       "1067       NaN  Soledade   Recife  Recife  Pernambuco  apart      sell   \n",
       "1364       NaN  Soledade   Recife  Recife  Pernambuco  house      sell   \n",
       "\n",
       "      price_square_meter  \n",
       "179          7156.862745  \n",
       "182          6000.000000  \n",
       "231          5391.304348  \n",
       "400         56039.215686  \n",
       "476          5391.304348  \n",
       "618          6000.000000  \n",
       "628         11610.568627  \n",
       "752          6000.000000  \n",
       "788          5391.304348  \n",
       "862          1948.694030  \n",
       "1044         3205.128205  \n",
       "1067         6606.831214  \n",
       "1364         4161.712247  "
      ]
     },
     "execution_count": 82,
     "metadata": {},
     "output_type": "execute_result"
    }
   ],
   "source": [
    "houses[(houses['suburb'] == 'Soledade') & (houses['operation']=='sell')]"
   ]
  },
  {
   "cell_type": "markdown",
   "metadata": {},
   "source": [
    "## Estatísticas bivariadas"
   ]
  },
  {
   "cell_type": "code",
   "execution_count": 70,
   "metadata": {
    "colab": {
     "base_uri": "https://localhost:8080/",
     "height": 365
    },
    "colab_type": "code",
    "id": "HBu9wwWbSZXe",
    "outputId": "529f807d-3daa-4a31-bf6a-987d7724614d"
   },
   "outputs": [
    {
     "data": {
      "text/html": [
       "<div>\n",
       "<style scoped>\n",
       "    .dataframe tbody tr th:only-of-type {\n",
       "        vertical-align: middle;\n",
       "    }\n",
       "\n",
       "    .dataframe tbody tr th {\n",
       "        vertical-align: top;\n",
       "    }\n",
       "\n",
       "    .dataframe thead th {\n",
       "        text-align: right;\n",
       "    }\n",
       "</style>\n",
       "<table border=\"1\" class=\"dataframe\">\n",
       "  <thead>\n",
       "    <tr style=\"text-align: right;\">\n",
       "      <th></th>\n",
       "      <th>price</th>\n",
       "      <th>latitude</th>\n",
       "      <th>longitude</th>\n",
       "      <th>bedrooms</th>\n",
       "      <th>area</th>\n",
       "      <th>pkspaces</th>\n",
       "      <th>bathrooms</th>\n",
       "      <th>ensuites</th>\n",
       "    </tr>\n",
       "  </thead>\n",
       "  <tbody>\n",
       "    <tr>\n",
       "      <th>price</th>\n",
       "      <td>3.721389e+11</td>\n",
       "      <td>-1999.977923</td>\n",
       "      <td>-406.086832</td>\n",
       "      <td>290147.471149</td>\n",
       "      <td>4.074410e+07</td>\n",
       "      <td>313539.013387</td>\n",
       "      <td>399166.264393</td>\n",
       "      <td>325102.123490</td>\n",
       "    </tr>\n",
       "    <tr>\n",
       "      <th>latitude</th>\n",
       "      <td>-1.999978e+03</td>\n",
       "      <td>0.000997</td>\n",
       "      <td>-0.000043</td>\n",
       "      <td>-0.003184</td>\n",
       "      <td>-1.319676e-01</td>\n",
       "      <td>-0.001827</td>\n",
       "      <td>0.003173</td>\n",
       "      <td>-0.000310</td>\n",
       "    </tr>\n",
       "    <tr>\n",
       "      <th>longitude</th>\n",
       "      <td>-4.060868e+02</td>\n",
       "      <td>-0.000043</td>\n",
       "      <td>0.000235</td>\n",
       "      <td>-0.001120</td>\n",
       "      <td>-1.626464e-01</td>\n",
       "      <td>-0.002373</td>\n",
       "      <td>-0.001245</td>\n",
       "      <td>-0.002352</td>\n",
       "    </tr>\n",
       "    <tr>\n",
       "      <th>bedrooms</th>\n",
       "      <td>2.901475e+05</td>\n",
       "      <td>-0.003184</td>\n",
       "      <td>-0.001120</td>\n",
       "      <td>1.107533</td>\n",
       "      <td>5.933180e+01</td>\n",
       "      <td>0.725591</td>\n",
       "      <td>0.765183</td>\n",
       "      <td>0.419521</td>\n",
       "    </tr>\n",
       "    <tr>\n",
       "      <th>area</th>\n",
       "      <td>4.074410e+07</td>\n",
       "      <td>-0.131968</td>\n",
       "      <td>-0.162646</td>\n",
       "      <td>59.331799</td>\n",
       "      <td>1.047730e+04</td>\n",
       "      <td>63.454343</td>\n",
       "      <td>74.397149</td>\n",
       "      <td>58.567118</td>\n",
       "    </tr>\n",
       "    <tr>\n",
       "      <th>pkspaces</th>\n",
       "      <td>3.135390e+05</td>\n",
       "      <td>-0.001827</td>\n",
       "      <td>-0.002373</td>\n",
       "      <td>0.725591</td>\n",
       "      <td>6.345434e+01</td>\n",
       "      <td>1.132119</td>\n",
       "      <td>0.758008</td>\n",
       "      <td>0.573380</td>\n",
       "    </tr>\n",
       "    <tr>\n",
       "      <th>bathrooms</th>\n",
       "      <td>3.991663e+05</td>\n",
       "      <td>0.003173</td>\n",
       "      <td>-0.001245</td>\n",
       "      <td>0.765183</td>\n",
       "      <td>7.439715e+01</td>\n",
       "      <td>0.758008</td>\n",
       "      <td>1.503196</td>\n",
       "      <td>0.878985</td>\n",
       "    </tr>\n",
       "    <tr>\n",
       "      <th>ensuites</th>\n",
       "      <td>3.251021e+05</td>\n",
       "      <td>-0.000310</td>\n",
       "      <td>-0.002352</td>\n",
       "      <td>0.419521</td>\n",
       "      <td>5.856712e+01</td>\n",
       "      <td>0.573380</td>\n",
       "      <td>0.878985</td>\n",
       "      <td>0.859048</td>\n",
       "    </tr>\n",
       "  </tbody>\n",
       "</table>\n",
       "</div>"
      ],
      "text/plain": [
       "                  price     latitude   longitude       bedrooms          area  \\\n",
       "price      3.721389e+11 -1999.977923 -406.086832  290147.471149  4.074410e+07   \n",
       "latitude  -1.999978e+03     0.000997   -0.000043      -0.003184 -1.319676e-01   \n",
       "longitude -4.060868e+02    -0.000043    0.000235      -0.001120 -1.626464e-01   \n",
       "bedrooms   2.901475e+05    -0.003184   -0.001120       1.107533  5.933180e+01   \n",
       "area       4.074410e+07    -0.131968   -0.162646      59.331799  1.047730e+04   \n",
       "pkspaces   3.135390e+05    -0.001827   -0.002373       0.725591  6.345434e+01   \n",
       "bathrooms  3.991663e+05     0.003173   -0.001245       0.765183  7.439715e+01   \n",
       "ensuites   3.251021e+05    -0.000310   -0.002352       0.419521  5.856712e+01   \n",
       "\n",
       "                pkspaces      bathrooms       ensuites  \n",
       "price      313539.013387  399166.264393  325102.123490  \n",
       "latitude       -0.001827       0.003173      -0.000310  \n",
       "longitude      -0.002373      -0.001245      -0.002352  \n",
       "bedrooms        0.725591       0.765183       0.419521  \n",
       "area           63.454343      74.397149      58.567118  \n",
       "pkspaces        1.132119       0.758008       0.573380  \n",
       "bathrooms       0.758008       1.503196       0.878985  \n",
       "ensuites        0.573380       0.878985       0.859048  "
      ]
     },
     "execution_count": 70,
     "metadata": {},
     "output_type": "execute_result"
    }
   ],
   "source": [
    "houses[houses.operation=='sell'].cov()"
   ]
  },
  {
   "cell_type": "code",
   "execution_count": 62,
   "metadata": {
    "colab": {
     "base_uri": "https://localhost:8080/",
     "height": 348
    },
    "colab_type": "code",
    "id": "dzirLzENUQ06",
    "outputId": "e8a227aa-09bb-405e-d9ed-118d64742b66"
   },
   "outputs": [
    {
     "data": {
      "text/html": [
       "<div>\n",
       "<style scoped>\n",
       "    .dataframe tbody tr th:only-of-type {\n",
       "        vertical-align: middle;\n",
       "    }\n",
       "\n",
       "    .dataframe tbody tr th {\n",
       "        vertical-align: top;\n",
       "    }\n",
       "\n",
       "    .dataframe thead th {\n",
       "        text-align: right;\n",
       "    }\n",
       "</style>\n",
       "<table border=\"1\" class=\"dataframe\">\n",
       "  <thead>\n",
       "    <tr style=\"text-align: right;\">\n",
       "      <th></th>\n",
       "      <th>price</th>\n",
       "      <th>latitude</th>\n",
       "      <th>longitude</th>\n",
       "      <th>bedrooms</th>\n",
       "      <th>area</th>\n",
       "      <th>pkspaces</th>\n",
       "      <th>bathrooms</th>\n",
       "      <th>ensuites</th>\n",
       "    </tr>\n",
       "  </thead>\n",
       "  <tbody>\n",
       "    <tr>\n",
       "      <th>price</th>\n",
       "      <td>1.000000</td>\n",
       "      <td>-0.103833</td>\n",
       "      <td>-0.043440</td>\n",
       "      <td>0.451947</td>\n",
       "      <td>0.653239</td>\n",
       "      <td>0.516360</td>\n",
       "      <td>0.519452</td>\n",
       "      <td>0.679669</td>\n",
       "    </tr>\n",
       "    <tr>\n",
       "      <th>latitude</th>\n",
       "      <td>-0.103833</td>\n",
       "      <td>1.000000</td>\n",
       "      <td>-0.089303</td>\n",
       "      <td>-0.095828</td>\n",
       "      <td>-0.040688</td>\n",
       "      <td>-0.056983</td>\n",
       "      <td>0.082587</td>\n",
       "      <td>-0.015053</td>\n",
       "    </tr>\n",
       "    <tr>\n",
       "      <th>longitude</th>\n",
       "      <td>-0.043440</td>\n",
       "      <td>-0.089303</td>\n",
       "      <td>1.000000</td>\n",
       "      <td>-0.069431</td>\n",
       "      <td>-0.103359</td>\n",
       "      <td>-0.147966</td>\n",
       "      <td>-0.065269</td>\n",
       "      <td>-0.165846</td>\n",
       "    </tr>\n",
       "    <tr>\n",
       "      <th>bedrooms</th>\n",
       "      <td>0.451947</td>\n",
       "      <td>-0.095828</td>\n",
       "      <td>-0.069431</td>\n",
       "      <td>1.000000</td>\n",
       "      <td>0.566756</td>\n",
       "      <td>0.663270</td>\n",
       "      <td>0.656487</td>\n",
       "      <td>0.562102</td>\n",
       "    </tr>\n",
       "    <tr>\n",
       "      <th>area</th>\n",
       "      <td>0.653239</td>\n",
       "      <td>-0.040688</td>\n",
       "      <td>-0.103359</td>\n",
       "      <td>0.566756</td>\n",
       "      <td>1.000000</td>\n",
       "      <td>0.578285</td>\n",
       "      <td>0.597956</td>\n",
       "      <td>0.669119</td>\n",
       "    </tr>\n",
       "    <tr>\n",
       "      <th>pkspaces</th>\n",
       "      <td>0.516360</td>\n",
       "      <td>-0.056983</td>\n",
       "      <td>-0.147966</td>\n",
       "      <td>0.663270</td>\n",
       "      <td>0.578285</td>\n",
       "      <td>1.000000</td>\n",
       "      <td>0.600024</td>\n",
       "      <td>0.649819</td>\n",
       "    </tr>\n",
       "    <tr>\n",
       "      <th>bathrooms</th>\n",
       "      <td>0.519452</td>\n",
       "      <td>0.082587</td>\n",
       "      <td>-0.065269</td>\n",
       "      <td>0.656487</td>\n",
       "      <td>0.597956</td>\n",
       "      <td>0.600024</td>\n",
       "      <td>1.000000</td>\n",
       "      <td>0.850007</td>\n",
       "    </tr>\n",
       "    <tr>\n",
       "      <th>ensuites</th>\n",
       "      <td>0.679669</td>\n",
       "      <td>-0.015053</td>\n",
       "      <td>-0.165846</td>\n",
       "      <td>0.562102</td>\n",
       "      <td>0.669119</td>\n",
       "      <td>0.649819</td>\n",
       "      <td>0.850007</td>\n",
       "      <td>1.000000</td>\n",
       "    </tr>\n",
       "  </tbody>\n",
       "</table>\n",
       "</div>"
      ],
      "text/plain": [
       "              price  latitude  longitude  bedrooms      area  pkspaces  \\\n",
       "price      1.000000 -0.103833  -0.043440  0.451947  0.653239  0.516360   \n",
       "latitude  -0.103833  1.000000  -0.089303 -0.095828 -0.040688 -0.056983   \n",
       "longitude -0.043440 -0.089303   1.000000 -0.069431 -0.103359 -0.147966   \n",
       "bedrooms   0.451947 -0.095828  -0.069431  1.000000  0.566756  0.663270   \n",
       "area       0.653239 -0.040688  -0.103359  0.566756  1.000000  0.578285   \n",
       "pkspaces   0.516360 -0.056983  -0.147966  0.663270  0.578285  1.000000   \n",
       "bathrooms  0.519452  0.082587  -0.065269  0.656487  0.597956  0.600024   \n",
       "ensuites   0.679669 -0.015053  -0.165846  0.562102  0.669119  0.649819   \n",
       "\n",
       "           bathrooms  ensuites  \n",
       "price       0.519452  0.679669  \n",
       "latitude    0.082587 -0.015053  \n",
       "longitude  -0.065269 -0.165846  \n",
       "bedrooms    0.656487  0.562102  \n",
       "area        0.597956  0.669119  \n",
       "pkspaces    0.600024  0.649819  \n",
       "bathrooms   1.000000  0.850007  \n",
       "ensuites    0.850007  1.000000  "
      ]
     },
     "execution_count": 62,
     "metadata": {},
     "output_type": "execute_result"
    }
   ],
   "source": [
    "houses[houses.operation=='sell'].corr(method='pearson')"
   ]
  },
  {
   "cell_type": "code",
   "execution_count": 64,
   "metadata": {
    "colab": {
     "base_uri": "https://localhost:8080/",
     "height": 348
    },
    "colab_type": "code",
    "id": "0QaO4vz-UtCi",
    "outputId": "669abf20-915f-44ae-daed-a2de4bb05295"
   },
   "outputs": [
    {
     "data": {
      "text/html": [
       "<div>\n",
       "<style scoped>\n",
       "    .dataframe tbody tr th:only-of-type {\n",
       "        vertical-align: middle;\n",
       "    }\n",
       "\n",
       "    .dataframe tbody tr th {\n",
       "        vertical-align: top;\n",
       "    }\n",
       "\n",
       "    .dataframe thead th {\n",
       "        text-align: right;\n",
       "    }\n",
       "</style>\n",
       "<table border=\"1\" class=\"dataframe\">\n",
       "  <thead>\n",
       "    <tr style=\"text-align: right;\">\n",
       "      <th></th>\n",
       "      <th>price</th>\n",
       "      <th>latitude</th>\n",
       "      <th>longitude</th>\n",
       "      <th>bedrooms</th>\n",
       "      <th>area</th>\n",
       "      <th>pkspaces</th>\n",
       "      <th>bathrooms</th>\n",
       "      <th>ensuites</th>\n",
       "    </tr>\n",
       "  </thead>\n",
       "  <tbody>\n",
       "    <tr>\n",
       "      <th>price</th>\n",
       "      <td>1.000000</td>\n",
       "      <td>-0.051958</td>\n",
       "      <td>-0.064619</td>\n",
       "      <td>0.605889</td>\n",
       "      <td>0.677172</td>\n",
       "      <td>0.666850</td>\n",
       "      <td>0.614717</td>\n",
       "      <td>0.718041</td>\n",
       "    </tr>\n",
       "    <tr>\n",
       "      <th>latitude</th>\n",
       "      <td>-0.051958</td>\n",
       "      <td>1.000000</td>\n",
       "      <td>-0.203359</td>\n",
       "      <td>-0.130603</td>\n",
       "      <td>-0.072948</td>\n",
       "      <td>-0.090733</td>\n",
       "      <td>0.034849</td>\n",
       "      <td>0.070180</td>\n",
       "    </tr>\n",
       "    <tr>\n",
       "      <th>longitude</th>\n",
       "      <td>-0.064619</td>\n",
       "      <td>-0.203359</td>\n",
       "      <td>1.000000</td>\n",
       "      <td>-0.053422</td>\n",
       "      <td>-0.101860</td>\n",
       "      <td>-0.136235</td>\n",
       "      <td>-0.051549</td>\n",
       "      <td>-0.177310</td>\n",
       "    </tr>\n",
       "    <tr>\n",
       "      <th>bedrooms</th>\n",
       "      <td>0.605889</td>\n",
       "      <td>-0.130603</td>\n",
       "      <td>-0.053422</td>\n",
       "      <td>1.000000</td>\n",
       "      <td>0.736542</td>\n",
       "      <td>0.696236</td>\n",
       "      <td>0.696805</td>\n",
       "      <td>0.634320</td>\n",
       "    </tr>\n",
       "    <tr>\n",
       "      <th>area</th>\n",
       "      <td>0.677172</td>\n",
       "      <td>-0.072948</td>\n",
       "      <td>-0.101860</td>\n",
       "      <td>0.736542</td>\n",
       "      <td>1.000000</td>\n",
       "      <td>0.704613</td>\n",
       "      <td>0.673969</td>\n",
       "      <td>0.658985</td>\n",
       "    </tr>\n",
       "    <tr>\n",
       "      <th>pkspaces</th>\n",
       "      <td>0.666850</td>\n",
       "      <td>-0.090733</td>\n",
       "      <td>-0.136235</td>\n",
       "      <td>0.696236</td>\n",
       "      <td>0.704613</td>\n",
       "      <td>1.000000</td>\n",
       "      <td>0.585076</td>\n",
       "      <td>0.626918</td>\n",
       "    </tr>\n",
       "    <tr>\n",
       "      <th>bathrooms</th>\n",
       "      <td>0.614717</td>\n",
       "      <td>0.034849</td>\n",
       "      <td>-0.051549</td>\n",
       "      <td>0.696805</td>\n",
       "      <td>0.673969</td>\n",
       "      <td>0.585076</td>\n",
       "      <td>1.000000</td>\n",
       "      <td>0.803017</td>\n",
       "    </tr>\n",
       "    <tr>\n",
       "      <th>ensuites</th>\n",
       "      <td>0.718041</td>\n",
       "      <td>0.070180</td>\n",
       "      <td>-0.177310</td>\n",
       "      <td>0.634320</td>\n",
       "      <td>0.658985</td>\n",
       "      <td>0.626918</td>\n",
       "      <td>0.803017</td>\n",
       "      <td>1.000000</td>\n",
       "    </tr>\n",
       "  </tbody>\n",
       "</table>\n",
       "</div>"
      ],
      "text/plain": [
       "              price  latitude  longitude  bedrooms      area  pkspaces  \\\n",
       "price      1.000000 -0.051958  -0.064619  0.605889  0.677172  0.666850   \n",
       "latitude  -0.051958  1.000000  -0.203359 -0.130603 -0.072948 -0.090733   \n",
       "longitude -0.064619 -0.203359   1.000000 -0.053422 -0.101860 -0.136235   \n",
       "bedrooms   0.605889 -0.130603  -0.053422  1.000000  0.736542  0.696236   \n",
       "area       0.677172 -0.072948  -0.101860  0.736542  1.000000  0.704613   \n",
       "pkspaces   0.666850 -0.090733  -0.136235  0.696236  0.704613  1.000000   \n",
       "bathrooms  0.614717  0.034849  -0.051549  0.696805  0.673969  0.585076   \n",
       "ensuites   0.718041  0.070180  -0.177310  0.634320  0.658985  0.626918   \n",
       "\n",
       "           bathrooms  ensuites  \n",
       "price       0.614717  0.718041  \n",
       "latitude    0.034849  0.070180  \n",
       "longitude  -0.051549 -0.177310  \n",
       "bedrooms    0.696805  0.634320  \n",
       "area        0.673969  0.658985  \n",
       "pkspaces    0.585076  0.626918  \n",
       "bathrooms   1.000000  0.803017  \n",
       "ensuites    0.803017  1.000000  "
      ]
     },
     "execution_count": 64,
     "metadata": {},
     "output_type": "execute_result"
    }
   ],
   "source": [
    "houses[houses.operation=='sell'].corr(method='spearman')"
   ]
  },
  {
   "cell_type": "code",
   "execution_count": 66,
   "metadata": {},
   "outputs": [
    {
     "data": {
      "text/plain": [
       "<matplotlib.axes._subplots.AxesSubplot at 0x11a626320>"
      ]
     },
     "execution_count": 66,
     "metadata": {},
     "output_type": "execute_result"
    },
    {
     "data": {
      "image/png": "[encoded data removed]",
      "text/plain": [
       "<Figure size 432x288 with 1 Axes>"
      ]
     },
     "metadata": {
      "needs_background": "light"
     },
     "output_type": "display_data"
    }
   ],
   "source": [
    "houses.plot.scatter(x='area',y='price')"
   ]
  },
  {
   "cell_type": "code",
   "execution_count": 68,
   "metadata": {},
   "outputs": [
    {
     "data": {
      "text/plain": [
       "<matplotlib.axes._subplots.AxesSubplot at 0x11a8347b8>"
      ]
     },
     "execution_count": 68,
     "metadata": {},
     "output_type": "execute_result"
    },
    {
     "data": {
      "image/png": "[encoded data removed]",
      "text/plain": [
       "<Figure size 432x288 with 1 Axes>"
      ]
     },
     "metadata": {
      "needs_background": "light"
     },
     "output_type": "display_data"
    }
   ],
   "source": [
    "houses.plot.scatter(x='bedrooms',y='area')"
   ]
  },
  {
   "cell_type": "code",
   "execution_count": 69,
   "metadata": {},
   "outputs": [
    {
     "data": {
      "text/plain": [
       "<matplotlib.axes._subplots.AxesSubplot at 0x11a98d5c0>"
      ]
     },
     "execution_count": 69,
     "metadata": {},
     "output_type": "execute_result"
    },
    {
     "data": {
      "image/png": "[encoded data removed]",
      "text/plain": [
       "<Figure size 432x288 with 1 Axes>"
      ]
     },
     "metadata": {
      "needs_background": "light"
     },
     "output_type": "display_data"
    }
   ],
   "source": [
    "houses.plot.scatter(x='longitude',y='latitude')"
   ]
  }
 ],
 "metadata": {
  "colab": {
   "name": "stats_desc.ipynb",
   "provenance": [],
   "version": "0.3.2"
  },
  "kernelspec": {
   "display_name": "Python 3",
   "language": "python",
   "name": "python3"
  },
  "language_info": {
   "codemirror_mode": {
    "name": "ipython",
    "version": 3
   },
   "file_extension": ".py",
   "mimetype": "text/x-python",
   "name": "python",
   "nbconvert_exporter": "python",
   "pygments_lexer": "ipython3",
   "version": "3.7.1"
  }
 },
 "nbformat": 4,
 "nbformat_minor": 1
}
