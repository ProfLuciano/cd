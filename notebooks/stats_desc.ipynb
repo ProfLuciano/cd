{
  "nbformat": 4,
  "nbformat_minor": 0,
  "metadata": {
    "colab": {
      "name": "stats_desc.ipynb",
      "provenance": []
    },
    "kernelspec": {
      "display_name": "Python 3",
      "language": "python",
      "name": "python3"
    },
    "language_info": {
      "codemirror_mode": {
        "name": "ipython",
        "version": 3
      },
      "file_extension": ".py",
      "mimetype": "text/x-python",
      "name": "python",
      "nbconvert_exporter": "python",
      "pygments_lexer": "ipython3",
      "version": "3.7.1"
    }
  },
  "cells": [
    {
      "cell_type": "code",
      "metadata": {
        "id": "PcSLI41MMZPk"
      },
      "source": [
        "import numpy as np\n",
        "import pandas as pd"
      ],
      "execution_count": 54,
      "outputs": []
    },
    {
      "cell_type": "code",
      "metadata": {
        "id": "WFDwpXaVMmAx"
      },
      "source": [
        "houses=pd.read_csv(\"https://raw.githubusercontent.com/ProfLuciano/cd/gh-pages/data/recife.csv\",encoding = \"ISO-8859-1\")"
      ],
      "execution_count": 55,
      "outputs": []
    },
    {
      "cell_type": "code",
      "metadata": {
        "id": "M4jO0jUYNHpr",
        "colab": {
          "base_uri": "https://localhost:8080/",
          "height": 195
        },
        "outputId": "b9c7b23d-6f7c-4521-c245-3c293c30f785"
      },
      "source": [
        "houses.head()"
      ],
      "execution_count": 56,
      "outputs": [
        {
          "output_type": "execute_result",
          "data": {
            "text/html": [
              "<div>\n",
              "<style scoped>\n",
              "    .dataframe tbody tr th:only-of-type {\n",
              "        vertical-align: middle;\n",
              "    }\n",
              "\n",
              "    .dataframe tbody tr th {\n",
              "        vertical-align: top;\n",
              "    }\n",
              "\n",
              "    .dataframe thead th {\n",
              "        text-align: right;\n",
              "    }\n",
              "</style>\n",
              "<table border=\"1\" class=\"dataframe\">\n",
              "  <thead>\n",
              "    <tr style=\"text-align: right;\">\n",
              "      <th></th>\n",
              "      <th>price</th>\n",
              "      <th>latitude</th>\n",
              "      <th>longitude</th>\n",
              "      <th>bedrooms</th>\n",
              "      <th>area</th>\n",
              "      <th>pkspaces</th>\n",
              "      <th>bathrooms</th>\n",
              "      <th>ensuites</th>\n",
              "      <th>suburb</th>\n",
              "      <th>district</th>\n",
              "      <th>city</th>\n",
              "      <th>state</th>\n",
              "      <th>type</th>\n",
              "    </tr>\n",
              "  </thead>\n",
              "  <tbody>\n",
              "    <tr>\n",
              "      <th>0</th>\n",
              "      <td>1500</td>\n",
              "      <td>-8.059791</td>\n",
              "      <td>-34.889619</td>\n",
              "      <td>4.0</td>\n",
              "      <td>37.0</td>\n",
              "      <td>3.0</td>\n",
              "      <td>3.0</td>\n",
              "      <td>NaN</td>\n",
              "      <td>Boa Vista</td>\n",
              "      <td>Recife</td>\n",
              "      <td>Recife</td>\n",
              "      <td>Pernambuco</td>\n",
              "      <td>apart</td>\n",
              "    </tr>\n",
              "    <tr>\n",
              "      <th>1</th>\n",
              "      <td>330000</td>\n",
              "      <td>-8.029595</td>\n",
              "      <td>-34.900372</td>\n",
              "      <td>3.0</td>\n",
              "      <td>86.0</td>\n",
              "      <td>1.0</td>\n",
              "      <td>3.0</td>\n",
              "      <td>1.0</td>\n",
              "      <td>Tamarineira</td>\n",
              "      <td>Recife</td>\n",
              "      <td>Recife</td>\n",
              "      <td>Pernambuco</td>\n",
              "      <td>apart</td>\n",
              "    </tr>\n",
              "    <tr>\n",
              "      <th>2</th>\n",
              "      <td>255000</td>\n",
              "      <td>-8.037247</td>\n",
              "      <td>-34.890986</td>\n",
              "      <td>2.0</td>\n",
              "      <td>82.0</td>\n",
              "      <td>1.0</td>\n",
              "      <td>2.0</td>\n",
              "      <td>NaN</td>\n",
              "      <td>Encruzilhada</td>\n",
              "      <td>Recife</td>\n",
              "      <td>Recife</td>\n",
              "      <td>Pernambuco</td>\n",
              "      <td>apart</td>\n",
              "    </tr>\n",
              "    <tr>\n",
              "      <th>3</th>\n",
              "      <td>380000</td>\n",
              "      <td>-8.047562</td>\n",
              "      <td>-34.876964</td>\n",
              "      <td>3.0</td>\n",
              "      <td>95.0</td>\n",
              "      <td>2.0</td>\n",
              "      <td>3.0</td>\n",
              "      <td>1.0</td>\n",
              "      <td>Santo Amaro</td>\n",
              "      <td>Recife</td>\n",
              "      <td>Recife</td>\n",
              "      <td>Pernambuco</td>\n",
              "      <td>apart</td>\n",
              "    </tr>\n",
              "    <tr>\n",
              "      <th>4</th>\n",
              "      <td>300000</td>\n",
              "      <td>-8.053580</td>\n",
              "      <td>-34.908733</td>\n",
              "      <td>3.0</td>\n",
              "      <td>97.0</td>\n",
              "      <td>1.0</td>\n",
              "      <td>3.0</td>\n",
              "      <td>1.0</td>\n",
              "      <td>Madalena</td>\n",
              "      <td>Recife</td>\n",
              "      <td>Recife</td>\n",
              "      <td>Pernambuco</td>\n",
              "      <td>apart</td>\n",
              "    </tr>\n",
              "  </tbody>\n",
              "</table>\n",
              "</div>"
            ],
            "text/plain": [
              "    price  latitude  longitude  bedrooms  ...  district    city       state   type\n",
              "0    1500 -8.059791 -34.889619       4.0  ...    Recife  Recife  Pernambuco  apart\n",
              "1  330000 -8.029595 -34.900372       3.0  ...    Recife  Recife  Pernambuco  apart\n",
              "2  255000 -8.037247 -34.890986       2.0  ...    Recife  Recife  Pernambuco  apart\n",
              "3  380000 -8.047562 -34.876964       3.0  ...    Recife  Recife  Pernambuco  apart\n",
              "4  300000 -8.053580 -34.908733       3.0  ...    Recife  Recife  Pernambuco  apart\n",
              "\n",
              "[5 rows x 13 columns]"
            ]
          },
          "metadata": {
            "tags": []
          },
          "execution_count": 56
        }
      ]
    },
    {
      "cell_type": "code",
      "metadata": {
        "id": "vOVEBnndKYBq",
        "colab": {
          "base_uri": "https://localhost:8080/"
        },
        "outputId": "685764a3-eb76-415e-e827-294f01cc13f4"
      },
      "source": [
        "# Dimensões do data frame\n",
        "houses.shape"
      ],
      "execution_count": 57,
      "outputs": [
        {
          "output_type": "execute_result",
          "data": {
            "text/plain": [
              "(1744, 13)"
            ]
          },
          "metadata": {
            "tags": []
          },
          "execution_count": 57
        }
      ]
    },
    {
      "cell_type": "markdown",
      "metadata": {
        "id": "Do6wYfnHkgkl"
      },
      "source": [
        "## Definindo se um imóvel está à venda ou para locação a partir do preço"
      ]
    },
    {
      "cell_type": "code",
      "metadata": {
        "id": "IHRxX5gykgkm",
        "colab": {
          "base_uri": "https://localhost:8080/",
          "height": 282
        },
        "outputId": "d73c74d8-72db-4022-bc2e-8b5f5753981d"
      },
      "source": [
        "(houses['price']/1000).hist()"
      ],
      "execution_count": 58,
      "outputs": [
        {
          "output_type": "execute_result",
          "data": {
            "text/plain": [
              "<matplotlib.axes._subplots.AxesSubplot at 0x7f0f16e39150>"
            ]
          },
          "metadata": {
            "tags": []
          },
          "execution_count": 58
        },
        {
          "output_type": "display_data",
          "data": {
            "image/png": "[encoded data removed]",
            "text/plain": [
              "<Figure size 432x288 with 1 Axes>"
            ]
          },
          "metadata": {
            "tags": [],
            "needs_background": "light"
          }
        }
      ]
    },
    {
      "cell_type": "code",
      "metadata": {
        "id": "OonrPWiFkgks",
        "colab": {
          "base_uri": "https://localhost:8080/",
          "height": 282
        },
        "outputId": "da0fe369-108e-43b7-c238-ca79439fbf40"
      },
      "source": [
        "houses['log_price'] = houses['price'].apply(np.log10)\n",
        "houses[houses['log_price'] > 0]['log_price'].hist()"
      ],
      "execution_count": 62,
      "outputs": [
        {
          "output_type": "execute_result",
          "data": {
            "text/plain": [
              "<matplotlib.axes._subplots.AxesSubplot at 0x7f0f16ce17d0>"
            ]
          },
          "metadata": {
            "tags": []
          },
          "execution_count": 62
        },
        {
          "output_type": "display_data",
          "data": {
            "image/png": "[encoded data removed]",
            "text/plain": [
              "<Figure size 432x288 with 1 Axes>"
            ]
          },
          "metadata": {
            "tags": [],
            "needs_background": "light"
          }
        }
      ]
    },
    {
      "cell_type": "code",
      "metadata": {
        "id": "1zY3wDrlkgkw",
        "colab": {
          "base_uri": "https://localhost:8080/",
          "height": 195
        },
        "outputId": "75d66bc5-9bba-460d-c872-e68e2fb902d9"
      },
      "source": [
        "# Adicionando coluna para aluguel e venda\n",
        "houses['operation'] = 'sell'\n",
        "houses.loc[(houses['price'] > 0) & (houses['price'] < 30000),'operation'] = 'rent'\n",
        "houses = houses.drop(['log_price'], axis=1)\n",
        "houses.head()"
      ],
      "execution_count": 63,
      "outputs": [
        {
          "output_type": "execute_result",
          "data": {
            "text/html": [
              "<div>\n",
              "<style scoped>\n",
              "    .dataframe tbody tr th:only-of-type {\n",
              "        vertical-align: middle;\n",
              "    }\n",
              "\n",
              "    .dataframe tbody tr th {\n",
              "        vertical-align: top;\n",
              "    }\n",
              "\n",
              "    .dataframe thead th {\n",
              "        text-align: right;\n",
              "    }\n",
              "</style>\n",
              "<table border=\"1\" class=\"dataframe\">\n",
              "  <thead>\n",
              "    <tr style=\"text-align: right;\">\n",
              "      <th></th>\n",
              "      <th>price</th>\n",
              "      <th>latitude</th>\n",
              "      <th>longitude</th>\n",
              "      <th>bedrooms</th>\n",
              "      <th>area</th>\n",
              "      <th>pkspaces</th>\n",
              "      <th>bathrooms</th>\n",
              "      <th>ensuites</th>\n",
              "      <th>suburb</th>\n",
              "      <th>district</th>\n",
              "      <th>city</th>\n",
              "      <th>state</th>\n",
              "      <th>type</th>\n",
              "      <th>operation</th>\n",
              "    </tr>\n",
              "  </thead>\n",
              "  <tbody>\n",
              "    <tr>\n",
              "      <th>0</th>\n",
              "      <td>1500</td>\n",
              "      <td>-8.059791</td>\n",
              "      <td>-34.889619</td>\n",
              "      <td>4.0</td>\n",
              "      <td>37.0</td>\n",
              "      <td>3.0</td>\n",
              "      <td>3.0</td>\n",
              "      <td>NaN</td>\n",
              "      <td>Boa Vista</td>\n",
              "      <td>Recife</td>\n",
              "      <td>Recife</td>\n",
              "      <td>Pernambuco</td>\n",
              "      <td>apart</td>\n",
              "      <td>rent</td>\n",
              "    </tr>\n",
              "    <tr>\n",
              "      <th>1</th>\n",
              "      <td>330000</td>\n",
              "      <td>-8.029595</td>\n",
              "      <td>-34.900372</td>\n",
              "      <td>3.0</td>\n",
              "      <td>86.0</td>\n",
              "      <td>1.0</td>\n",
              "      <td>3.0</td>\n",
              "      <td>1.0</td>\n",
              "      <td>Tamarineira</td>\n",
              "      <td>Recife</td>\n",
              "      <td>Recife</td>\n",
              "      <td>Pernambuco</td>\n",
              "      <td>apart</td>\n",
              "      <td>sell</td>\n",
              "    </tr>\n",
              "    <tr>\n",
              "      <th>2</th>\n",
              "      <td>255000</td>\n",
              "      <td>-8.037247</td>\n",
              "      <td>-34.890986</td>\n",
              "      <td>2.0</td>\n",
              "      <td>82.0</td>\n",
              "      <td>1.0</td>\n",
              "      <td>2.0</td>\n",
              "      <td>NaN</td>\n",
              "      <td>Encruzilhada</td>\n",
              "      <td>Recife</td>\n",
              "      <td>Recife</td>\n",
              "      <td>Pernambuco</td>\n",
              "      <td>apart</td>\n",
              "      <td>sell</td>\n",
              "    </tr>\n",
              "    <tr>\n",
              "      <th>3</th>\n",
              "      <td>380000</td>\n",
              "      <td>-8.047562</td>\n",
              "      <td>-34.876964</td>\n",
              "      <td>3.0</td>\n",
              "      <td>95.0</td>\n",
              "      <td>2.0</td>\n",
              "      <td>3.0</td>\n",
              "      <td>1.0</td>\n",
              "      <td>Santo Amaro</td>\n",
              "      <td>Recife</td>\n",
              "      <td>Recife</td>\n",
              "      <td>Pernambuco</td>\n",
              "      <td>apart</td>\n",
              "      <td>sell</td>\n",
              "    </tr>\n",
              "    <tr>\n",
              "      <th>4</th>\n",
              "      <td>300000</td>\n",
              "      <td>-8.053580</td>\n",
              "      <td>-34.908733</td>\n",
              "      <td>3.0</td>\n",
              "      <td>97.0</td>\n",
              "      <td>1.0</td>\n",
              "      <td>3.0</td>\n",
              "      <td>1.0</td>\n",
              "      <td>Madalena</td>\n",
              "      <td>Recife</td>\n",
              "      <td>Recife</td>\n",
              "      <td>Pernambuco</td>\n",
              "      <td>apart</td>\n",
              "      <td>sell</td>\n",
              "    </tr>\n",
              "  </tbody>\n",
              "</table>\n",
              "</div>"
            ],
            "text/plain": [
              "    price  latitude  longitude  bedrooms  ...    city       state   type  operation\n",
              "0    1500 -8.059791 -34.889619       4.0  ...  Recife  Pernambuco  apart       rent\n",
              "1  330000 -8.029595 -34.900372       3.0  ...  Recife  Pernambuco  apart       sell\n",
              "2  255000 -8.037247 -34.890986       2.0  ...  Recife  Pernambuco  apart       sell\n",
              "3  380000 -8.047562 -34.876964       3.0  ...  Recife  Pernambuco  apart       sell\n",
              "4  300000 -8.053580 -34.908733       3.0  ...  Recife  Pernambuco  apart       sell\n",
              "\n",
              "[5 rows x 14 columns]"
            ]
          },
          "metadata": {
            "tags": []
          },
          "execution_count": 63
        }
      ]
    },
    {
      "cell_type": "code",
      "metadata": {
        "id": "8u0uKLISkgk1"
      },
      "source": [
        "houses.dtypes"
      ],
      "execution_count": null,
      "outputs": []
    },
    {
      "cell_type": "markdown",
      "metadata": {
        "id": "l39o8UL_kgk6"
      },
      "source": [
        "## Estatísticas univariadas"
      ]
    },
    {
      "cell_type": "markdown",
      "metadata": {
        "id": "ErCI2giXkgk6"
      },
      "source": [
        "Exercícios:\n",
        "\n",
        "1. Calcule a média (mean), mediana (median), moda (mode), variância (var), desvio padrão (std) para preço e área de imóveis à venda.\n",
        "2. Calucle o IQR da área e preço (dica: describe)\n",
        "3. Calcule o preço médio do metro quadrado de venda e aluguel para Recife\n",
        "5. Calcule o preço médio do metro quadrado de venda para apartamentos e casas\n",
        "6. Calcule a área média de venda para apartamentos e casas\n",
        "7. Encontre os bairros com maior e menor valor de venda do metro quadrado\n",
        "8. Calcule a média e mediana de venda do metro quadrado por bairros (dica: usar groupby)\n",
        "9. Calcule a média do metro quadrado em apartamentos de no máximo 3 quartos no bairro Espinheiro\n",
        "10. Encontre os bairros com a menor e maior mediana de área"
      ]
    },
    {
      "cell_type": "code",
      "metadata": {
        "id": "vVwKA9crNsoe",
        "colab": {
          "base_uri": "https://localhost:8080/"
        },
        "outputId": "c5d32955-77f8-4c6c-843a-9c2e80be41ea"
      },
      "source": [
        "houses[houses['operation'] == 'sell']['price'].mean()"
      ],
      "execution_count": 64,
      "outputs": [
        {
          "output_type": "execute_result",
          "data": {
            "text/plain": [
              "652416.6103059581"
            ]
          },
          "metadata": {
            "tags": []
          },
          "execution_count": 64
        }
      ]
    },
    {
      "cell_type": "code",
      "metadata": {
        "id": "0KTen3m2N7hU",
        "colab": {
          "base_uri": "https://localhost:8080/"
        },
        "outputId": "3cdaa45f-0f44-400a-ed07-b2d686f21893"
      },
      "source": [
        "houses[houses['operation'] == 'sell']['price'].median()"
      ],
      "execution_count": 65,
      "outputs": [
        {
          "output_type": "execute_result",
          "data": {
            "text/plain": [
              "470000.0"
            ]
          },
          "metadata": {
            "tags": []
          },
          "execution_count": 65
        }
      ]
    },
    {
      "cell_type": "code",
      "metadata": {
        "id": "O_--1soSOCA5",
        "colab": {
          "base_uri": "https://localhost:8080/"
        },
        "outputId": "f0b93456-6b97-4792-9943-20f5f815817b"
      },
      "source": [
        "houses[houses['operation'] == 'sell']['price'].mode()"
      ],
      "execution_count": 66,
      "outputs": [
        {
          "output_type": "execute_result",
          "data": {
            "text/plain": [
              "0    350000\n",
              "dtype: int64"
            ]
          },
          "metadata": {
            "tags": []
          },
          "execution_count": 66
        }
      ]
    },
    {
      "cell_type": "code",
      "metadata": {
        "id": "-jaGZxDzQarG",
        "colab": {
          "base_uri": "https://localhost:8080/"
        },
        "outputId": "868ba637-75de-4555-e4f9-17d70ab7e473"
      },
      "source": [
        "houses[houses['operation'] == 'sell']['price'].var()"
      ],
      "execution_count": 67,
      "outputs": [
        {
          "output_type": "execute_result",
          "data": {
            "text/plain": [
              "371353283907.4838"
            ]
          },
          "metadata": {
            "tags": []
          },
          "execution_count": 67
        }
      ]
    },
    {
      "cell_type": "code",
      "metadata": {
        "id": "tO9csdVSOFQ4",
        "colab": {
          "base_uri": "https://localhost:8080/"
        },
        "outputId": "7ef115ae-d43d-4d10-9d69-24eae0716316"
      },
      "source": [
        "houses[houses['operation'] == 'sell']['price'].std()"
      ],
      "execution_count": 68,
      "outputs": [
        {
          "output_type": "execute_result",
          "data": {
            "text/plain": [
              "609387.6302547369"
            ]
          },
          "metadata": {
            "tags": []
          },
          "execution_count": 68
        }
      ]
    },
    {
      "cell_type": "code",
      "metadata": {
        "id": "VBeGi6LMlf2E",
        "colab": {
          "base_uri": "https://localhost:8080/"
        },
        "outputId": "ff8ea4a9-fb95-414d-8f52-53fa66031f44"
      },
      "source": [
        "houses[houses['operation'] == 'sell']['price'].describe()"
      ],
      "execution_count": 69,
      "outputs": [
        {
          "output_type": "execute_result",
          "data": {
            "text/plain": [
              "count    1.242000e+03\n",
              "mean     6.524166e+05\n",
              "std      6.093876e+05\n",
              "min      0.000000e+00\n",
              "25%      3.300000e+05\n",
              "50%      4.700000e+05\n",
              "75%      7.400000e+05\n",
              "max      7.500000e+06\n",
              "Name: price, dtype: float64"
            ]
          },
          "metadata": {
            "tags": []
          },
          "execution_count": 69
        }
      ]
    },
    {
      "cell_type": "code",
      "metadata": {
        "id": "Cx_d4VFRkglR",
        "colab": {
          "base_uri": "https://localhost:8080/"
        },
        "outputId": "26afc515-6858-467f-f274-49cdd9da713a"
      },
      "source": [
        "houses[houses['operation'] == 'sell']['area'].describe()"
      ],
      "execution_count": 70,
      "outputs": [
        {
          "output_type": "execute_result",
          "data": {
            "text/plain": [
              "count    1220.000000\n",
              "mean      128.066484\n",
              "std       102.078742\n",
              "min        25.000000\n",
              "25%        72.000000\n",
              "50%       100.000000\n",
              "75%       149.000000\n",
              "max      1682.000000\n",
              "Name: area, dtype: float64"
            ]
          },
          "metadata": {
            "tags": []
          },
          "execution_count": 70
        }
      ]
    },
    {
      "cell_type": "code",
      "metadata": {
        "id": "2hOqDsK3ls_n",
        "colab": {
          "base_uri": "https://localhost:8080/"
        },
        "outputId": "30e1b831-0274-47a6-a177-f05807e090a5"
      },
      "source": [
        "houses[houses['operation'] == 'sell']['area'].describe()[4]"
      ],
      "execution_count": 71,
      "outputs": [
        {
          "output_type": "execute_result",
          "data": {
            "text/plain": [
              "72.0"
            ]
          },
          "metadata": {
            "tags": []
          },
          "execution_count": 71
        }
      ]
    },
    {
      "cell_type": "code",
      "metadata": {
        "id": "b96lfyKnO3nL",
        "colab": {
          "base_uri": "https://localhost:8080/"
        },
        "outputId": "4ca23084-cd5d-4890-d8ae-4064e7d793d1"
      },
      "source": [
        "#IQR da área\n",
        "houses['area'].describe()[6] - houses['area'].describe()[4]"
      ],
      "execution_count": 72,
      "outputs": [
        {
          "output_type": "execute_result",
          "data": {
            "text/plain": [
              "69.0"
            ]
          },
          "metadata": {
            "tags": []
          },
          "execution_count": 72
        }
      ]
    },
    {
      "cell_type": "code",
      "metadata": {
        "id": "8gC_1Bc5ISc9",
        "colab": {
          "base_uri": "https://localhost:8080/",
          "height": 285
        },
        "outputId": "6bc4b72d-2669-4c40-c206-377178cfac90"
      },
      "source": [
        "houses.boxplot(column=['area'])"
      ],
      "execution_count": 73,
      "outputs": [
        {
          "output_type": "execute_result",
          "data": {
            "text/plain": [
              "<matplotlib.axes._subplots.AxesSubplot at 0x7f0f16c2a0d0>"
            ]
          },
          "metadata": {
            "tags": []
          },
          "execution_count": 73
        },
        {
          "output_type": "display_data",
          "data": {
            "image/png": "[encoded data removed]",
            "text/plain": [
              "<Figure size 432x288 with 1 Axes>"
            ]
          },
          "metadata": {
            "tags": [],
            "needs_background": "light"
          }
        }
      ]
    },
    {
      "cell_type": "code",
      "metadata": {
        "id": "qCpMcH_mkglc"
      },
      "source": [
        "houses['price_square_meter'] = houses['price']/houses['area']"
      ],
      "execution_count": null,
      "outputs": []
    },
    {
      "cell_type": "code",
      "metadata": {
        "id": "Jp3jQhhHkglg"
      },
      "source": [
        "houses[(houses.type == 'apart') & (houses.bedrooms <= 3) & (houses.suburb == 'Espinheiro') & (houses.operation == 'sell')].price_square_meter.mean()"
      ],
      "execution_count": null,
      "outputs": []
    },
    {
      "cell_type": "code",
      "metadata": {
        "id": "bzMRapBlkglj"
      },
      "source": [
        "houses[houses['operation']=='sell'].groupby(['suburb'])['price_square_meter'].mean()"
      ],
      "execution_count": null,
      "outputs": []
    },
    {
      "cell_type": "code",
      "metadata": {
        "id": "Xxl71Kk3kgln"
      },
      "source": [
        "houses[houses['operation']=='sell'].groupby(['suburb']).agg(['mean','median'])['price_square_meter']"
      ],
      "execution_count": null,
      "outputs": []
    },
    {
      "cell_type": "code",
      "metadata": {
        "id": "4D7fkqDkkglr"
      },
      "source": [
        "# Medianas do valor de venda por metro quadrado para cada bairro\n",
        "houses[houses['operation']=='sell'].groupby(['suburb'])['price_square_meter'].median().sort_values(ascending=False).plot.bar(figsize=(20,10))"
      ],
      "execution_count": null,
      "outputs": []
    },
    {
      "cell_type": "code",
      "metadata": {
        "id": "Mu01s_bEkglu"
      },
      "source": [
        "houses[(houses['suburb'] == 'Soledade') & (houses['operation']=='sell')].describe()"
      ],
      "execution_count": null,
      "outputs": []
    },
    {
      "cell_type": "code",
      "metadata": {
        "id": "YiJv3haNkglx"
      },
      "source": [
        "houses[(houses['suburb'] == 'Soledade') & (houses['operation']=='sell')]"
      ],
      "execution_count": null,
      "outputs": []
    },
    {
      "cell_type": "markdown",
      "metadata": {
        "id": "8QYeF0Rckgl2"
      },
      "source": [
        "## Estatísticas bivariadas"
      ]
    },
    {
      "cell_type": "code",
      "metadata": {
        "id": "HBu9wwWbSZXe"
      },
      "source": [
        "houses[houses.operation=='sell'].cov()"
      ],
      "execution_count": null,
      "outputs": []
    },
    {
      "cell_type": "code",
      "metadata": {
        "id": "HbU2K3k3nk8g"
      },
      "source": [
        "houses.plot.scatter(x='longitude',y='latitude')"
      ],
      "execution_count": null,
      "outputs": []
    },
    {
      "cell_type": "code",
      "metadata": {
        "id": "dzirLzENUQ06"
      },
      "source": [
        "houses[houses.operation=='sell'].corr(method='pearson')"
      ],
      "execution_count": null,
      "outputs": []
    },
    {
      "cell_type": "code",
      "metadata": {
        "id": "0QaO4vz-UtCi"
      },
      "source": [
        "houses[houses.operation=='sell'].corr(method='spearman')"
      ],
      "execution_count": null,
      "outputs": []
    },
    {
      "cell_type": "code",
      "metadata": {
        "id": "9-p9DNJPkgmD"
      },
      "source": [
        "houses.plot.scatter(x='area',y='price')"
      ],
      "execution_count": null,
      "outputs": []
    },
    {
      "cell_type": "code",
      "metadata": {
        "id": "DxLBZyqSkgmG"
      },
      "source": [
        "houses.plot.scatter(x='bedrooms',y='area')"
      ],
      "execution_count": null,
      "outputs": []
    }
  ]
}