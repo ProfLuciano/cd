{
  "nbformat": 4,
  "nbformat_minor": 0,
  "metadata": {
    "kernelspec": {
      "display_name": "Python 3",
      "language": "python",
      "name": "python3"
    },
    "language_info": {
      "codemirror_mode": {
        "name": "ipython",
        "version": 3
      },
      "file_extension": ".py",
      "mimetype": "text/x-python",
      "name": "python",
      "nbconvert_exporter": "python",
      "pygments_lexer": "ipython3",
      "version": "3.7.1"
    },
    "toc": {
      "base_numbering": 1,
      "nav_menu": {},
      "number_sections": true,
      "sideBar": true,
      "skip_h1_title": false,
      "title_cell": "Table of Contents",
      "title_sidebar": "Contents",
      "toc_cell": true,
      "toc_position": {},
      "toc_section_display": true,
      "toc_window_display": true
    },
    "colab": {
      "name": "column-oriented-processing.ipynb",
      "provenance": []
    }
  },
  "cells": [
    {
      "cell_type": "markdown",
      "metadata": {
        "id": "rCJc7Y6SrD0d",
        "colab_type": "text"
      },
      "source": [
        "# Por que Python?"
      ]
    },
    {
      "cell_type": "markdown",
      "metadata": {
        "id": "gHh0batNrD0h",
        "colab_type": "text"
      },
      "source": [
        "- **Linguagem mais usada em Data Science**\n",
        "- Fácil de aprender: sintaxe simples\n",
        "- Open source\n",
        "- Grande número de bibliotecas disponíveis\n",
        "- Desvantagem: desempenho computacional por ser interpretada"
      ]
    },
    {
      "cell_type": "markdown",
      "metadata": {
        "id": "B4TILFLTrD0i",
        "colab_type": "text"
      },
      "source": [
        "# Breve Intro a Python"
      ]
    },
    {
      "cell_type": "code",
      "metadata": {
        "id": "WDqz5EawrD0k",
        "colab_type": "code",
        "colab": {}
      },
      "source": [
        "# Variaveis sao dinamicamente tipadas\n",
        "nome = \"João\"\n",
        "idade = 45\n",
        "peso = 85.3\n",
        "\n",
        "# Listas possuem tipos diferentes e podem ser modificadas\n",
        "dados = [nome, idade, peso, 5]\n",
        "print(dados)\n",
        "\n",
        "# Tuplas possuem tipos diferentes mas não podem ser modificadas\n",
        "ponto = (1,3,-1)\n",
        "print(ponto)\n",
        "\n",
        "# Dicionarios mapeiam uma chave a um valor\n",
        "dic = {'nome':nome, 'idade':idade, 'peso':peso, 'end': 'Av. Jornalista Anibal Fernandes, Centro de Informática'}\n",
        "print(dic)\n",
        "print(f\"Nome: {dic['nome']:s}\")"
      ],
      "execution_count": null,
      "outputs": []
    },
    {
      "cell_type": "code",
      "metadata": {
        "id": "wypx4VISrD0r",
        "colab_type": "code",
        "colab": {}
      },
      "source": [
        "# Testes condicionais\n",
        "if idade > 65:\n",
        "    # Indentacao para definir o nivel das instrucoes\n",
        "    print(nome, \"é um candidato a se aposentar\")\n",
        "    print(\"Erro\")\n",
        "else:\n",
        "    print(nome, \"tem de trabalhar mais um pouco\")"
      ],
      "execution_count": null,
      "outputs": []
    },
    {
      "cell_type": "code",
      "metadata": {
        "id": "AQdtWUGdrD0u",
        "colab_type": "code",
        "colab": {}
      },
      "source": [
        "\n",
        "# Repeticoes podem ser feitas de duas formas\n",
        "# 1 - usando lacos while\n",
        "vezes = 1\n",
        "while vezes <= 5:\n",
        "    print(\"Já passei por aqui {0} vez(es)\".format(vezes))\n",
        "    vezes += 1"
      ],
      "execution_count": null,
      "outputs": []
    },
    {
      "cell_type": "code",
      "metadata": {
        "id": "uLwpH6BxrD0y",
        "colab_type": "code",
        "colab": {}
      },
      "source": [
        "# 2 - enumerando os elementos de uma lista (objeto iteravel)\n",
        "for vezes in [1, 2, 3, 4, 5]:\n",
        "    print(\"Já passei por aqui {0} vez(es)\".format(vezes))\n",
        "print(\"====\")\n",
        "# Ou ainda\n",
        "for vezes in range(1,6,1):\n",
        "    print(\"Já passei por aqui {0} vez(es)\".format(vezes))"
      ],
      "execution_count": null,
      "outputs": []
    },
    {
      "cell_type": "code",
      "metadata": {
        "id": "jTPn8hmJrD03",
        "colab_type": "code",
        "colab": {}
      },
      "source": [
        "for dado in dados:\n",
        "    print(dado)"
      ],
      "execution_count": null,
      "outputs": []
    },
    {
      "cell_type": "code",
      "metadata": {
        "id": "zzo_3GIfrD08",
        "colab_type": "code",
        "colab": {}
      },
      "source": [
        "for i in range(0,len(dados),1):\n",
        "    print(dados[i])"
      ],
      "execution_count": null,
      "outputs": []
    },
    {
      "cell_type": "code",
      "metadata": {
        "id": "gPMvAHuDrD1A",
        "colab_type": "code",
        "colab": {}
      },
      "source": [
        "#Slicing\n",
        "print(dados[2:4])"
      ],
      "execution_count": null,
      "outputs": []
    },
    {
      "cell_type": "code",
      "metadata": {
        "id": "d3y73FbjrD1E",
        "colab_type": "code",
        "colab": {}
      },
      "source": [
        "# Funcoes em Python\n",
        "def quadrado(x):\n",
        "    return x**2\n",
        "\n",
        "print(quadrado(3))\n",
        "\n",
        "# Funcoes mais simples podem ser definidas como funcoes lambda\n",
        "f = lambda x: x**2\n",
        "print(f(3))"
      ],
      "execution_count": null,
      "outputs": []
    },
    {
      "cell_type": "markdown",
      "metadata": {
        "id": "__hNlMz0rD1J",
        "colab_type": "text"
      },
      "source": [
        "# Processamento Orientado à Coluna"
      ]
    },
    {
      "cell_type": "code",
      "metadata": {
        "id": "9aETuFb8rD1L",
        "colab_type": "code",
        "colab": {}
      },
      "source": [
        "from sklearn.datasets import california_housing"
      ],
      "execution_count": null,
      "outputs": []
    },
    {
      "cell_type": "code",
      "metadata": {
        "id": "V2mw5C95rD1O",
        "colab_type": "code",
        "colab": {}
      },
      "source": [
        "data = california_housing.fetch_california_housing()\n",
        "data.keys()"
      ],
      "execution_count": null,
      "outputs": []
    },
    {
      "cell_type": "code",
      "metadata": {
        "id": "_Fkj8IH1rD1S",
        "colab_type": "code",
        "colab": {}
      },
      "source": [
        "print(data[\"DESCR\"])"
      ],
      "execution_count": null,
      "outputs": []
    },
    {
      "cell_type": "markdown",
      "metadata": {
        "id": "vBUY8RRwrD1X",
        "colab_type": "text"
      },
      "source": [
        "# Frameworks"
      ]
    },
    {
      "cell_type": "markdown",
      "metadata": {
        "id": "GCS63EiCrD1Y",
        "colab_type": "text"
      },
      "source": [
        "## 1- Pandas"
      ]
    },
    {
      "cell_type": "markdown",
      "metadata": {
        "id": "mJe2r8wGrD1Z",
        "colab_type": "text"
      },
      "source": [
        "Framework para manipulação de dados tabulares em memória\n",
        "\n",
        "* **Pros**: API extremamente extensiva (inspirada nos dataframes nativos de R)\n",
        "* **Cons**: single-thread\n",
        "\n",
        "Operações podem ser feitas \"de uma vez só\" numa coluna inteira ao invés de ir linha por linha. `pandas` implementa diversas otimizações por debaixo dos panos, de forma que operações como adicionar uma constante para todos valores de uma coluna é feita de forma *quasi*-simultânea"
      ]
    },
    {
      "cell_type": "code",
      "metadata": {
        "id": "VKdzs3cqrD1a",
        "colab_type": "code",
        "colab": {}
      },
      "source": [
        "import pandas as pd"
      ],
      "execution_count": null,
      "outputs": []
    },
    {
      "cell_type": "code",
      "metadata": {
        "id": "Q2IRGWAkrD1e",
        "colab_type": "code",
        "colab": {}
      },
      "source": [
        "# Construção de data frames\n",
        "df = pd.DataFrame(data[\"data\"], columns=data[\"feature_names\"])\n",
        "df.head(10)"
      ],
      "execution_count": null,
      "outputs": []
    },
    {
      "cell_type": "code",
      "metadata": {
        "id": "SJUuuZxIrD1k",
        "colab_type": "code",
        "colab": {}
      },
      "source": [
        "df.describe()"
      ],
      "execution_count": null,
      "outputs": []
    },
    {
      "cell_type": "code",
      "metadata": {
        "id": "Ar9ZGM6grD1o",
        "colab_type": "code",
        "colab": {}
      },
      "source": [
        "df.dtypes"
      ],
      "execution_count": null,
      "outputs": []
    },
    {
      "cell_type": "code",
      "metadata": {
        "id": "zfCFRFINrD1s",
        "colab_type": "code",
        "colab": {}
      },
      "source": [
        "# Selecionando uma coluna\n",
        "print(df['Population'].head())"
      ],
      "execution_count": null,
      "outputs": []
    },
    {
      "cell_type": "code",
      "metadata": {
        "id": "wbhpctRlrD1v",
        "colab_type": "code",
        "colab": {}
      },
      "source": [
        "# Selecionando múltiplas colunas\n",
        "print(df[['Latitude','Longitude']].head())"
      ],
      "execution_count": null,
      "outputs": []
    },
    {
      "cell_type": "code",
      "metadata": {
        "id": "aBkC4RgmrD1z",
        "colab_type": "code",
        "colab": {}
      },
      "source": [
        "# Selecionando linhas com slice\n",
        "df[2:5]"
      ],
      "execution_count": null,
      "outputs": []
    },
    {
      "cell_type": "code",
      "metadata": {
        "id": "tWMhzUiGrD15",
        "colab_type": "code",
        "colab": {}
      },
      "source": [
        "# Seleção de linhas e colunas: loc\n",
        "print(df.loc[10:15,['Population','AveRooms']])"
      ],
      "execution_count": null,
      "outputs": []
    },
    {
      "cell_type": "code",
      "metadata": {
        "id": "D-YCTBImrD1-",
        "colab_type": "code",
        "colab": {}
      },
      "source": [
        "# Seleção de linhas e colunas: iloc\n",
        "print(df.iloc[10:15,[4,2]])"
      ],
      "execution_count": null,
      "outputs": []
    },
    {
      "cell_type": "code",
      "metadata": {
        "id": "14eyDdpxrD2H",
        "colab_type": "code",
        "colab": {}
      },
      "source": [
        "# Seleção de dados com expressões booleanas\n",
        "df[(df.Population > 1000) & (df.AveBedrms > 1)].head()"
      ],
      "execution_count": null,
      "outputs": []
    },
    {
      "cell_type": "markdown",
      "metadata": {
        "id": "c2bZoFsMuuFH",
        "colab_type": "text"
      },
      "source": [
        "# **Índice**"
      ]
    },
    {
      "cell_type": "code",
      "metadata": {
        "id": "WkbLJMNArksZ",
        "colab_type": "code",
        "colab": {}
      },
      "source": [
        "df1 = df[(df.Population > 1000) & (df.AveBedrms > 1)]\n",
        "df1.head()"
      ],
      "execution_count": null,
      "outputs": []
    },
    {
      "cell_type": "code",
      "metadata": {
        "id": "_yI1Rha1r9VG",
        "colab_type": "code",
        "colab": {}
      },
      "source": [
        "print(df1.loc[0:1,['MedInc','HouseAge']])"
      ],
      "execution_count": null,
      "outputs": []
    },
    {
      "cell_type": "code",
      "metadata": {
        "id": "nAYGeJV1se-Z",
        "colab_type": "code",
        "colab": {}
      },
      "source": [
        "df1.reset_index()"
      ],
      "execution_count": null,
      "outputs": []
    },
    {
      "cell_type": "code",
      "metadata": {
        "id": "JmrThZ3st6VQ",
        "colab_type": "code",
        "colab": {}
      },
      "source": [
        "df1.reset_index(inplace=True,drop = True)\n",
        "df1.head()"
      ],
      "execution_count": null,
      "outputs": []
    },
    {
      "cell_type": "code",
      "metadata": {
        "id": "t2v2J7fhuCRT",
        "colab_type": "code",
        "colab": {}
      },
      "source": [
        "print(df1.loc[0:1,['MedInc','HouseAge']])"
      ],
      "execution_count": null,
      "outputs": []
    },
    {
      "cell_type": "code",
      "metadata": {
        "id": "RI-jkz-NvOId",
        "colab_type": "code",
        "colab": {}
      },
      "source": [
        "print(df1.iloc[0:2,[0,1]])"
      ],
      "execution_count": null,
      "outputs": []
    },
    {
      "cell_type": "markdown",
      "metadata": {
        "id": "sXPTM3_RrD2G",
        "colab_type": "text"
      },
      "source": [
        "<img src=\"https://raw.githubusercontent.com/ProfLuciano/intro_cd/130b92d33280d3ae7e2e1f34e435b21f8e3a8025/notebooks/pandas_selection.png\">"
      ]
    },
    {
      "cell_type": "code",
      "metadata": {
        "id": "lDTMhNEwrD2L",
        "colab_type": "code",
        "colab": {}
      },
      "source": [
        "%%time\n",
        "# Calculando média de número de quartos usando orientação à linha\n",
        "accumulator = 0\n",
        "for record in data[\"data\"]:\n",
        "    accumulator += record[2]\n",
        "accumulator /= len(data[\"data\"])\n",
        "print(f\"The mean of mean number of bedrooms in california is {accumulator:.3f}\")"
      ],
      "execution_count": null,
      "outputs": []
    },
    {
      "cell_type": "code",
      "metadata": {
        "id": "FGD94Xy4rD2P",
        "colab_type": "code",
        "colab": {}
      },
      "source": [
        "%%time\n",
        "# Calculando média usando orientada à coluna\n",
        "mean = df.AveRooms.sum() / len(df)\n",
        "print(f\"The mean of mean number of bedrooms in california is {accumulator:.3f}\")"
      ],
      "execution_count": null,
      "outputs": []
    },
    {
      "cell_type": "code",
      "metadata": {
        "id": "BHoZPvtbrD2T",
        "colab_type": "code",
        "colab": {}
      },
      "source": [
        "%%time\n",
        "# Forma mais simples\n",
        "mean = df.AveRooms.mean()\n",
        "print(f\"The mean of mean number of bedrooms in california is {mean:.3f}\")"
      ],
      "execution_count": null,
      "outputs": []
    },
    {
      "cell_type": "code",
      "metadata": {
        "id": "Z00OUTuErD2X",
        "colab_type": "code",
        "colab": {}
      },
      "source": [
        "# Função apply: aplica uma função a uma coluna inteira\n",
        "from math import log\n",
        "df[\"HouseAgeLog\"] = df.HouseAge.apply(log)\n",
        "df.head()"
      ],
      "execution_count": null,
      "outputs": []
    },
    {
      "cell_type": "markdown",
      "metadata": {
        "id": "qMzpxCjcrD2b",
        "colab_type": "text"
      },
      "source": [
        "Exercícios:\n",
        "\n",
        "1. Qual o centróide geográfico do dataset? (uma linha!)\n",
        "2. Quantos quarteirões existem com idade média da casa abaixo de 10 anos e com número de habitantes médio abaixo de 3 pessoas?"
      ]
    },
    {
      "cell_type": "code",
      "metadata": {
        "id": "ueEAoOlErD2d",
        "colab_type": "code",
        "colab": {}
      },
      "source": [
        "print(df[['Latitude','Longitude']].mean())"
      ],
      "execution_count": null,
      "outputs": []
    },
    {
      "cell_type": "code",
      "metadata": {
        "id": "W1jny8fOrD2g",
        "colab_type": "code",
        "colab": {}
      },
      "source": [
        "len(df[(df.HouseAge < 10) & (df.AveOccup < 3)])"
      ],
      "execution_count": null,
      "outputs": []
    },
    {
      "cell_type": "markdown",
      "metadata": {
        "id": "ptn1xF83rD2l",
        "colab_type": "text"
      },
      "source": [
        "## 2 - Dask"
      ]
    },
    {
      "cell_type": "markdown",
      "metadata": {
        "id": "0uutamTUrD2m",
        "colab_type": "text"
      },
      "source": [
        "> Dask is a flexible library for parallel computing in Python.\n",
        "\n",
        "`dask` é uma alternativa multi-core e/ou distribuída para pandas.\n",
        "* **Pros** : multi-core, cluster mode, escala\n",
        "* **Cons**: API limitada, “pensar distribuído”, nem toda operação é trivialmente paralelizada\n",
        "\n",
        "`dask` segue um modelo *lazy* computacional, então a operação não é de fato executada até que seja chamado `.compute()` explicitamente, retornando um dataframe `pandas` em memória."
      ]
    },
    {
      "cell_type": "code",
      "metadata": {
        "scrolled": true,
        "id": "3wgqS7EarD2n",
        "colab_type": "code",
        "colab": {}
      },
      "source": [
        "import dask.dataframe as dd\n",
        "from multiprocessing import cpu_count\n",
        "\n",
        "N_CORES = cpu_count()\n",
        "print(f\"The machine running this notebook has {N_CORES} cpus.\")\n",
        "\n",
        "ddf = dd.from_pandas(df, npartitions=N_CORES)"
      ],
      "execution_count": null,
      "outputs": []
    },
    {
      "cell_type": "code",
      "metadata": {
        "id": "49LSGhXGrD2s",
        "colab_type": "code",
        "colab": {}
      },
      "source": [
        "%%time\n",
        "mean = ddf[\"AveRooms\"].mean().compute()\n",
        "print(f\"The mean of mean number of bedrooms in california is {mean:.3f}\")"
      ],
      "execution_count": null,
      "outputs": []
    },
    {
      "cell_type": "markdown",
      "metadata": {
        "id": "vJkQMNunrD2w",
        "colab_type": "text"
      },
      "source": [
        "Quando usar `dask` ao invés de `pandas`?\n",
        "\n",
        "1. Dataset não couber em memória;\n",
        "2. `Pandas` estiver lento e se deseja utilizar todos os cores da máquina para paralelizar o processamento;\n",
        "3. Dataset estiver quebrado em inúmeros arquivos - relacionado a (1)"
      ]
    },
    {
      "cell_type": "markdown",
      "metadata": {
        "id": "NfUBocyrrD2y",
        "colab_type": "text"
      },
      "source": [
        "# Referências"
      ]
    },
    {
      "cell_type": "markdown",
      "metadata": {
        "id": "b056e1ONrD2z",
        "colab_type": "text"
      },
      "source": [
        "* Docs\n",
        "    * https://pandas.pydata.org/pandas-docs/stable/\n",
        "    * http://docs.dask.org/en/latest/\n",
        "\n",
        "\n",
        "* Designing Data-Intensive Applications\n",
        "    * https://dataintensive.net \n",
        "    * https://www.amazon.com/Designing-Data-Intensive-Applications-Reliable-Maintainable/dp/1449373321\n",
        "\n",
        "\n",
        "* Extensões do Jupyter notebook: \n",
        "    * https://jupyter-contrib-nbextensions.readthedocs.io/en/latest/nbextensions.html\n",
        "    * https://jupyter-contrib-nbextensions.readthedocs.io/en/latest/install.html\n",
        "    * https://towardsdatascience.com/jupyter-notebook-extensions-517fa69d2231\n",
        "    "
      ]
    }
  ]
}