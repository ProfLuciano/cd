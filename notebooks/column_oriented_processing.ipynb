{
  "nbformat": 4,
  "nbformat_minor": 0,
  "metadata": {
    "kernelspec": {
      "display_name": "Python 3",
      "language": "python",
      "name": "python3"
    },
    "language_info": {
      "codemirror_mode": {
        "name": "ipython",
        "version": 3
      },
      "file_extension": ".py",
      "mimetype": "text/x-python",
      "name": "python",
      "nbconvert_exporter": "python",
      "pygments_lexer": "ipython3",
      "version": "3.7.1"
    },
    "toc": {
      "base_numbering": 1,
      "nav_menu": {},
      "number_sections": true,
      "sideBar": true,
      "skip_h1_title": false,
      "title_cell": "Table of Contents",
      "title_sidebar": "Contents",
      "toc_cell": true,
      "toc_position": {},
      "toc_section_display": true,
      "toc_window_display": true
    },
    "colab": {
      "name": "column-oriented-processing.ipynb",
      "provenance": []
    }
  },
  "cells": [
    {
      "cell_type": "markdown",
      "metadata": {
        "id": "rCJc7Y6SrD0d",
        "colab_type": "text"
      },
      "source": [
        "# Por que Python?"
      ]
    },
    {
      "cell_type": "markdown",
      "metadata": {
        "id": "gHh0batNrD0h",
        "colab_type": "text"
      },
      "source": [
        "- **Linguagem mais usada em Data Science**\n",
        "- Fácil de aprender: sintaxe simples\n",
        "- Open source\n",
        "- Grande número de bibliotecas disponíveis\n",
        "- Desvantagem: desempenho computacional por ser interpretada"
      ]
    },
    {
      "cell_type": "markdown",
      "metadata": {
        "id": "B4TILFLTrD0i",
        "colab_type": "text"
      },
      "source": [
        "# Breve Intro a Python"
      ]
    },
    {
      "cell_type": "code",
      "metadata": {
        "id": "WDqz5EawrD0k",
        "colab_type": "code",
        "colab": {},
        "outputId": "21b43663-af39-4400-a37c-1886cccaf749"
      },
      "source": [
        "# Variaveis sao dinamicamente tipadas\n",
        "nome = \"João\"\n",
        "idade = 45\n",
        "peso = 85.3\n",
        "\n",
        "# Listas possuem tipos diferentes e podem ser modificadas\n",
        "dados = [nome, idade, peso, 5]\n",
        "print(dados)\n",
        "\n",
        "# Tuplas possuem tipos diferentes mas não podem ser modificadas\n",
        "ponto = (1,3,-1)\n",
        "print(ponto)\n",
        "\n",
        "# Dicionarios mapeiam uma chave a um valor\n",
        "dic = {'nome':nome, 'idade':idade, 'peso':peso, 'end': 'Av. Jornalista Anibal Fernandes, Centro de Informática'}\n",
        "print(dic)\n",
        "print(f\"Nome: {dic['nome']:s}\")"
      ],
      "execution_count": 0,
      "outputs": [
        {
          "output_type": "stream",
          "text": [
            "['João', 45, 85.3, 5]\n",
            "(1, 3, -1)\n",
            "{'nome': 'João', 'idade': 45, 'peso': 85.3, 'end': 'Av. Jornalista Anibal Fernandes, Centro de Informática'}\n",
            "Nome: João\n"
          ],
          "name": "stdout"
        }
      ]
    },
    {
      "cell_type": "code",
      "metadata": {
        "id": "wypx4VISrD0r",
        "colab_type": "code",
        "colab": {},
        "outputId": "b61495af-c78d-41b4-ca3d-d913b33d1754"
      },
      "source": [
        "# Testes condicionais\n",
        "if idade > 65:\n",
        "    # Indentacao para definir o nivel das instrucoes\n",
        "    print(nome, \"é um candidato a se aposentar\")\n",
        "    print(\"Erro\")\n",
        "else:\n",
        "    print(nome, \"tem de trabalhar mais um pouco\")"
      ],
      "execution_count": 0,
      "outputs": [
        {
          "output_type": "stream",
          "text": [
            "João tem de trabalhar mais um pouco\n"
          ],
          "name": "stdout"
        }
      ]
    },
    {
      "cell_type": "code",
      "metadata": {
        "id": "AQdtWUGdrD0u",
        "colab_type": "code",
        "colab": {},
        "outputId": "7666243d-0397-4795-f4d0-519c2e717cbd"
      },
      "source": [
        "\n",
        "# Repeticoes podem ser feitas de duas formas\n",
        "# 1 - usando lacos while\n",
        "vezes = 1\n",
        "while vezes <= 5:\n",
        "    print(\"Já passei por aqui {0} vez(es)\".format(vezes))\n",
        "    vezes += 1"
      ],
      "execution_count": 0,
      "outputs": [
        {
          "output_type": "stream",
          "text": [
            "Já passei por aqui 1 vez(es)\n",
            "Já passei por aqui 2 vez(es)\n",
            "Já passei por aqui 3 vez(es)\n",
            "Já passei por aqui 4 vez(es)\n",
            "Já passei por aqui 5 vez(es)\n"
          ],
          "name": "stdout"
        }
      ]
    },
    {
      "cell_type": "code",
      "metadata": {
        "id": "uLwpH6BxrD0y",
        "colab_type": "code",
        "colab": {},
        "outputId": "bfec97a3-8dcc-43a5-e7f0-5f9863fdc862"
      },
      "source": [
        "# 2 - enumerando os elementos de uma lista (objeto iteravel)\n",
        "for vezes in [1, 2, 3, 4, 5]:\n",
        "    print(\"Já passei por aqui {0} vez(es)\".format(vezes))\n",
        "print(\"====\")\n",
        "# Ou ainda\n",
        "for vezes in range(1,6,1):\n",
        "    print(\"Já passei por aqui {0} vez(es)\".format(vezes))"
      ],
      "execution_count": 0,
      "outputs": [
        {
          "output_type": "stream",
          "text": [
            "Já passei por aqui 1 vez(es)\n",
            "Já passei por aqui 2 vez(es)\n",
            "Já passei por aqui 3 vez(es)\n",
            "Já passei por aqui 4 vez(es)\n",
            "Já passei por aqui 5 vez(es)\n",
            "====\n",
            "Já passei por aqui 1 vez(es)\n",
            "Já passei por aqui 2 vez(es)\n",
            "Já passei por aqui 3 vez(es)\n",
            "Já passei por aqui 4 vez(es)\n",
            "Já passei por aqui 5 vez(es)\n"
          ],
          "name": "stdout"
        }
      ]
    },
    {
      "cell_type": "code",
      "metadata": {
        "id": "jTPn8hmJrD03",
        "colab_type": "code",
        "colab": {},
        "outputId": "b7e41545-7ea3-420f-d22d-054e74252df1"
      },
      "source": [
        "for dado in dados:\n",
        "    print(dado)"
      ],
      "execution_count": 0,
      "outputs": [
        {
          "output_type": "stream",
          "text": [
            "João\n",
            "45\n",
            "85.3\n",
            "5\n"
          ],
          "name": "stdout"
        }
      ]
    },
    {
      "cell_type": "code",
      "metadata": {
        "id": "zzo_3GIfrD08",
        "colab_type": "code",
        "colab": {},
        "outputId": "f94d934b-d012-4848-c6f5-d05981a40ca5"
      },
      "source": [
        "for i in range(0,len(dados),1):\n",
        "    print(dados[i])"
      ],
      "execution_count": 0,
      "outputs": [
        {
          "output_type": "stream",
          "text": [
            "João\n",
            "45\n",
            "85.3\n",
            "5\n"
          ],
          "name": "stdout"
        }
      ]
    },
    {
      "cell_type": "code",
      "metadata": {
        "id": "gPMvAHuDrD1A",
        "colab_type": "code",
        "colab": {},
        "outputId": "ea7f5f1c-876b-46e8-a79d-d282032537e4"
      },
      "source": [
        "#Slicing\n",
        "print(dados[2:4])"
      ],
      "execution_count": 0,
      "outputs": [
        {
          "output_type": "stream",
          "text": [
            "[85.3, 5]\n"
          ],
          "name": "stdout"
        }
      ]
    },
    {
      "cell_type": "code",
      "metadata": {
        "id": "d3y73FbjrD1E",
        "colab_type": "code",
        "colab": {},
        "outputId": "27d68f85-0280-4219-8e8b-d5601b93ad02"
      },
      "source": [
        "# Funcoes em Python\n",
        "def quadrado(x):\n",
        "    return x**2\n",
        "\n",
        "print(quadrado(3))\n",
        "\n",
        "# Funcoes mais simples podem ser definidas como funcoes lambda\n",
        "f = lambda x: x**2\n",
        "print(f(3))"
      ],
      "execution_count": 0,
      "outputs": [
        {
          "output_type": "stream",
          "text": [
            "9\n",
            "9\n"
          ],
          "name": "stdout"
        }
      ]
    },
    {
      "cell_type": "markdown",
      "metadata": {
        "id": "__hNlMz0rD1J",
        "colab_type": "text"
      },
      "source": [
        "# Processamento Orientado à Coluna"
      ]
    },
    {
      "cell_type": "code",
      "metadata": {
        "id": "9aETuFb8rD1L",
        "colab_type": "code",
        "colab": {
          "base_uri": "https://localhost:8080/",
          "height": 71
        },
        "outputId": "4f0e0405-6eef-4b45-bbe6-f1e0ee58566a"
      },
      "source": [
        "from sklearn.datasets import california_housing"
      ],
      "execution_count": 1,
      "outputs": [
        {
          "output_type": "stream",
          "text": [
            "/usr/local/lib/python3.6/dist-packages/sklearn/utils/deprecation.py:144: FutureWarning: The sklearn.datasets.california_housing module is  deprecated in version 0.22 and will be removed in version 0.24. The corresponding classes / functions should instead be imported from sklearn.datasets. Anything that cannot be imported from sklearn.datasets is now part of the private API.\n",
            "  warnings.warn(message, FutureWarning)\n"
          ],
          "name": "stderr"
        }
      ]
    },
    {
      "cell_type": "code",
      "metadata": {
        "id": "V2mw5C95rD1O",
        "colab_type": "code",
        "colab": {
          "base_uri": "https://localhost:8080/",
          "height": 51
        },
        "outputId": "86b64d5f-4c5f-4c2a-ef1f-facd204c7afe"
      },
      "source": [
        "data = california_housing.fetch_california_housing()\n",
        "data.keys()"
      ],
      "execution_count": 2,
      "outputs": [
        {
          "output_type": "stream",
          "text": [
            "Downloading Cal. housing from https://ndownloader.figshare.com/files/5976036 to /root/scikit_learn_data\n"
          ],
          "name": "stderr"
        },
        {
          "output_type": "execute_result",
          "data": {
            "text/plain": [
              "dict_keys(['data', 'target', 'feature_names', 'DESCR'])"
            ]
          },
          "metadata": {
            "tags": []
          },
          "execution_count": 2
        }
      ]
    },
    {
      "cell_type": "code",
      "metadata": {
        "id": "_Fkj8IH1rD1S",
        "colab_type": "code",
        "colab": {
          "base_uri": "https://localhost:8080/",
          "height": 714
        },
        "outputId": "120dc69e-d3eb-4b82-bd9a-3bbcbc750506"
      },
      "source": [
        "print(data[\"DESCR\"])"
      ],
      "execution_count": 3,
      "outputs": [
        {
          "output_type": "stream",
          "text": [
            ".. _california_housing_dataset:\n",
            "\n",
            "California Housing dataset\n",
            "--------------------------\n",
            "\n",
            "**Data Set Characteristics:**\n",
            "\n",
            "    :Number of Instances: 20640\n",
            "\n",
            "    :Number of Attributes: 8 numeric, predictive attributes and the target\n",
            "\n",
            "    :Attribute Information:\n",
            "        - MedInc        median income in block\n",
            "        - HouseAge      median house age in block\n",
            "        - AveRooms      average number of rooms\n",
            "        - AveBedrms     average number of bedrooms\n",
            "        - Population    block population\n",
            "        - AveOccup      average house occupancy\n",
            "        - Latitude      house block latitude\n",
            "        - Longitude     house block longitude\n",
            "\n",
            "    :Missing Attribute Values: None\n",
            "\n",
            "This dataset was obtained from the StatLib repository.\n",
            "http://lib.stat.cmu.edu/datasets/\n",
            "\n",
            "The target variable is the median house value for California districts.\n",
            "\n",
            "This dataset was derived from the 1990 U.S. census, using one row per census\n",
            "block group. A block group is the smallest geographical unit for which the U.S.\n",
            "Census Bureau publishes sample data (a block group typically has a population\n",
            "of 600 to 3,000 people).\n",
            "\n",
            "It can be downloaded/loaded using the\n",
            ":func:`sklearn.datasets.fetch_california_housing` function.\n",
            "\n",
            ".. topic:: References\n",
            "\n",
            "    - Pace, R. Kelley and Ronald Barry, Sparse Spatial Autoregressions,\n",
            "      Statistics and Probability Letters, 33 (1997) 291-297\n",
            "\n"
          ],
          "name": "stdout"
        }
      ]
    },
    {
      "cell_type": "markdown",
      "metadata": {
        "id": "vBUY8RRwrD1X",
        "colab_type": "text"
      },
      "source": [
        "# Frameworks"
      ]
    },
    {
      "cell_type": "markdown",
      "metadata": {
        "id": "GCS63EiCrD1Y",
        "colab_type": "text"
      },
      "source": [
        "## 1- Pandas"
      ]
    },
    {
      "cell_type": "markdown",
      "metadata": {
        "id": "mJe2r8wGrD1Z",
        "colab_type": "text"
      },
      "source": [
        "Framework para manipulação de dados tabulares em memória\n",
        "\n",
        "* **Pros**: API extremamente extensiva (inspirada nos dataframes nativos de R)\n",
        "* **Cons**: single-thread\n",
        "\n",
        "Operações podem ser feitas \"de uma vez só\" numa coluna inteira ao invés de ir linha por linha. `pandas` implementa diversas otimizações por debaixo dos panos, de forma que operações como adicionar uma constante para todos valores de uma coluna é feita de forma *quasi*-simultânea"
      ]
    },
    {
      "cell_type": "code",
      "metadata": {
        "id": "VKdzs3cqrD1a",
        "colab_type": "code",
        "colab": {}
      },
      "source": [
        "import pandas as pd"
      ],
      "execution_count": 0,
      "outputs": []
    },
    {
      "cell_type": "code",
      "metadata": {
        "id": "Q2IRGWAkrD1e",
        "colab_type": "code",
        "colab": {
          "base_uri": "https://localhost:8080/",
          "height": 359
        },
        "outputId": "4623dccd-125c-4d55-c768-47241e486946"
      },
      "source": [
        "# Construção de data frames\n",
        "df = pd.DataFrame(data[\"data\"], columns=data[\"feature_names\"])\n",
        "df.head(10)"
      ],
      "execution_count": 5,
      "outputs": [
        {
          "output_type": "execute_result",
          "data": {
            "text/html": [
              "<div>\n",
              "<style scoped>\n",
              "    .dataframe tbody tr th:only-of-type {\n",
              "        vertical-align: middle;\n",
              "    }\n",
              "\n",
              "    .dataframe tbody tr th {\n",
              "        vertical-align: top;\n",
              "    }\n",
              "\n",
              "    .dataframe thead th {\n",
              "        text-align: right;\n",
              "    }\n",
              "</style>\n",
              "<table border=\"1\" class=\"dataframe\">\n",
              "  <thead>\n",
              "    <tr style=\"text-align: right;\">\n",
              "      <th></th>\n",
              "      <th>MedInc</th>\n",
              "      <th>HouseAge</th>\n",
              "      <th>AveRooms</th>\n",
              "      <th>AveBedrms</th>\n",
              "      <th>Population</th>\n",
              "      <th>AveOccup</th>\n",
              "      <th>Latitude</th>\n",
              "      <th>Longitude</th>\n",
              "    </tr>\n",
              "  </thead>\n",
              "  <tbody>\n",
              "    <tr>\n",
              "      <th>0</th>\n",
              "      <td>8.3252</td>\n",
              "      <td>41.0</td>\n",
              "      <td>6.984127</td>\n",
              "      <td>1.023810</td>\n",
              "      <td>322.0</td>\n",
              "      <td>2.555556</td>\n",
              "      <td>37.88</td>\n",
              "      <td>-122.23</td>\n",
              "    </tr>\n",
              "    <tr>\n",
              "      <th>1</th>\n",
              "      <td>8.3014</td>\n",
              "      <td>21.0</td>\n",
              "      <td>6.238137</td>\n",
              "      <td>0.971880</td>\n",
              "      <td>2401.0</td>\n",
              "      <td>2.109842</td>\n",
              "      <td>37.86</td>\n",
              "      <td>-122.22</td>\n",
              "    </tr>\n",
              "    <tr>\n",
              "      <th>2</th>\n",
              "      <td>7.2574</td>\n",
              "      <td>52.0</td>\n",
              "      <td>8.288136</td>\n",
              "      <td>1.073446</td>\n",
              "      <td>496.0</td>\n",
              "      <td>2.802260</td>\n",
              "      <td>37.85</td>\n",
              "      <td>-122.24</td>\n",
              "    </tr>\n",
              "    <tr>\n",
              "      <th>3</th>\n",
              "      <td>5.6431</td>\n",
              "      <td>52.0</td>\n",
              "      <td>5.817352</td>\n",
              "      <td>1.073059</td>\n",
              "      <td>558.0</td>\n",
              "      <td>2.547945</td>\n",
              "      <td>37.85</td>\n",
              "      <td>-122.25</td>\n",
              "    </tr>\n",
              "    <tr>\n",
              "      <th>4</th>\n",
              "      <td>3.8462</td>\n",
              "      <td>52.0</td>\n",
              "      <td>6.281853</td>\n",
              "      <td>1.081081</td>\n",
              "      <td>565.0</td>\n",
              "      <td>2.181467</td>\n",
              "      <td>37.85</td>\n",
              "      <td>-122.25</td>\n",
              "    </tr>\n",
              "    <tr>\n",
              "      <th>5</th>\n",
              "      <td>4.0368</td>\n",
              "      <td>52.0</td>\n",
              "      <td>4.761658</td>\n",
              "      <td>1.103627</td>\n",
              "      <td>413.0</td>\n",
              "      <td>2.139896</td>\n",
              "      <td>37.85</td>\n",
              "      <td>-122.25</td>\n",
              "    </tr>\n",
              "    <tr>\n",
              "      <th>6</th>\n",
              "      <td>3.6591</td>\n",
              "      <td>52.0</td>\n",
              "      <td>4.931907</td>\n",
              "      <td>0.951362</td>\n",
              "      <td>1094.0</td>\n",
              "      <td>2.128405</td>\n",
              "      <td>37.84</td>\n",
              "      <td>-122.25</td>\n",
              "    </tr>\n",
              "    <tr>\n",
              "      <th>7</th>\n",
              "      <td>3.1200</td>\n",
              "      <td>52.0</td>\n",
              "      <td>4.797527</td>\n",
              "      <td>1.061824</td>\n",
              "      <td>1157.0</td>\n",
              "      <td>1.788253</td>\n",
              "      <td>37.84</td>\n",
              "      <td>-122.25</td>\n",
              "    </tr>\n",
              "    <tr>\n",
              "      <th>8</th>\n",
              "      <td>2.0804</td>\n",
              "      <td>42.0</td>\n",
              "      <td>4.294118</td>\n",
              "      <td>1.117647</td>\n",
              "      <td>1206.0</td>\n",
              "      <td>2.026891</td>\n",
              "      <td>37.84</td>\n",
              "      <td>-122.26</td>\n",
              "    </tr>\n",
              "    <tr>\n",
              "      <th>9</th>\n",
              "      <td>3.6912</td>\n",
              "      <td>52.0</td>\n",
              "      <td>4.970588</td>\n",
              "      <td>0.990196</td>\n",
              "      <td>1551.0</td>\n",
              "      <td>2.172269</td>\n",
              "      <td>37.84</td>\n",
              "      <td>-122.25</td>\n",
              "    </tr>\n",
              "  </tbody>\n",
              "</table>\n",
              "</div>"
            ],
            "text/plain": [
              "   MedInc  HouseAge  AveRooms  ...  AveOccup  Latitude  Longitude\n",
              "0  8.3252      41.0  6.984127  ...  2.555556     37.88    -122.23\n",
              "1  8.3014      21.0  6.238137  ...  2.109842     37.86    -122.22\n",
              "2  7.2574      52.0  8.288136  ...  2.802260     37.85    -122.24\n",
              "3  5.6431      52.0  5.817352  ...  2.547945     37.85    -122.25\n",
              "4  3.8462      52.0  6.281853  ...  2.181467     37.85    -122.25\n",
              "5  4.0368      52.0  4.761658  ...  2.139896     37.85    -122.25\n",
              "6  3.6591      52.0  4.931907  ...  2.128405     37.84    -122.25\n",
              "7  3.1200      52.0  4.797527  ...  1.788253     37.84    -122.25\n",
              "8  2.0804      42.0  4.294118  ...  2.026891     37.84    -122.26\n",
              "9  3.6912      52.0  4.970588  ...  2.172269     37.84    -122.25\n",
              "\n",
              "[10 rows x 8 columns]"
            ]
          },
          "metadata": {
            "tags": []
          },
          "execution_count": 5
        }
      ]
    },
    {
      "cell_type": "code",
      "metadata": {
        "id": "SJUuuZxIrD1k",
        "colab_type": "code",
        "colab": {},
        "outputId": "1664be6d-5f3e-4e21-a2b5-b5335b6fcb40"
      },
      "source": [
        "df.describe()"
      ],
      "execution_count": 0,
      "outputs": [
        {
          "output_type": "execute_result",
          "data": {
            "text/html": [
              "<div>\n",
              "<style scoped>\n",
              "    .dataframe tbody tr th:only-of-type {\n",
              "        vertical-align: middle;\n",
              "    }\n",
              "\n",
              "    .dataframe tbody tr th {\n",
              "        vertical-align: top;\n",
              "    }\n",
              "\n",
              "    .dataframe thead th {\n",
              "        text-align: right;\n",
              "    }\n",
              "</style>\n",
              "<table border=\"1\" class=\"dataframe\">\n",
              "  <thead>\n",
              "    <tr style=\"text-align: right;\">\n",
              "      <th></th>\n",
              "      <th>MedInc</th>\n",
              "      <th>HouseAge</th>\n",
              "      <th>AveRooms</th>\n",
              "      <th>AveBedrms</th>\n",
              "      <th>Population</th>\n",
              "      <th>AveOccup</th>\n",
              "      <th>Latitude</th>\n",
              "      <th>Longitude</th>\n",
              "    </tr>\n",
              "  </thead>\n",
              "  <tbody>\n",
              "    <tr>\n",
              "      <th>count</th>\n",
              "      <td>20640.000000</td>\n",
              "      <td>20640.000000</td>\n",
              "      <td>20640.000000</td>\n",
              "      <td>20640.000000</td>\n",
              "      <td>20640.000000</td>\n",
              "      <td>20640.000000</td>\n",
              "      <td>20640.000000</td>\n",
              "      <td>20640.000000</td>\n",
              "    </tr>\n",
              "    <tr>\n",
              "      <th>mean</th>\n",
              "      <td>3.870671</td>\n",
              "      <td>28.639486</td>\n",
              "      <td>5.429000</td>\n",
              "      <td>1.096675</td>\n",
              "      <td>1425.476744</td>\n",
              "      <td>3.070655</td>\n",
              "      <td>35.631861</td>\n",
              "      <td>-119.569704</td>\n",
              "    </tr>\n",
              "    <tr>\n",
              "      <th>std</th>\n",
              "      <td>1.899822</td>\n",
              "      <td>12.585558</td>\n",
              "      <td>2.474173</td>\n",
              "      <td>0.473911</td>\n",
              "      <td>1132.462122</td>\n",
              "      <td>10.386050</td>\n",
              "      <td>2.135952</td>\n",
              "      <td>2.003532</td>\n",
              "    </tr>\n",
              "    <tr>\n",
              "      <th>min</th>\n",
              "      <td>0.499900</td>\n",
              "      <td>1.000000</td>\n",
              "      <td>0.846154</td>\n",
              "      <td>0.333333</td>\n",
              "      <td>3.000000</td>\n",
              "      <td>0.692308</td>\n",
              "      <td>32.540000</td>\n",
              "      <td>-124.350000</td>\n",
              "    </tr>\n",
              "    <tr>\n",
              "      <th>25%</th>\n",
              "      <td>2.563400</td>\n",
              "      <td>18.000000</td>\n",
              "      <td>4.440716</td>\n",
              "      <td>1.006079</td>\n",
              "      <td>787.000000</td>\n",
              "      <td>2.429741</td>\n",
              "      <td>33.930000</td>\n",
              "      <td>-121.800000</td>\n",
              "    </tr>\n",
              "    <tr>\n",
              "      <th>50%</th>\n",
              "      <td>3.534800</td>\n",
              "      <td>29.000000</td>\n",
              "      <td>5.229129</td>\n",
              "      <td>1.048780</td>\n",
              "      <td>1166.000000</td>\n",
              "      <td>2.818116</td>\n",
              "      <td>34.260000</td>\n",
              "      <td>-118.490000</td>\n",
              "    </tr>\n",
              "    <tr>\n",
              "      <th>75%</th>\n",
              "      <td>4.743250</td>\n",
              "      <td>37.000000</td>\n",
              "      <td>6.052381</td>\n",
              "      <td>1.099526</td>\n",
              "      <td>1725.000000</td>\n",
              "      <td>3.282261</td>\n",
              "      <td>37.710000</td>\n",
              "      <td>-118.010000</td>\n",
              "    </tr>\n",
              "    <tr>\n",
              "      <th>max</th>\n",
              "      <td>15.000100</td>\n",
              "      <td>52.000000</td>\n",
              "      <td>141.909091</td>\n",
              "      <td>34.066667</td>\n",
              "      <td>35682.000000</td>\n",
              "      <td>1243.333333</td>\n",
              "      <td>41.950000</td>\n",
              "      <td>-114.310000</td>\n",
              "    </tr>\n",
              "  </tbody>\n",
              "</table>\n",
              "</div>"
            ],
            "text/plain": [
              "             MedInc      HouseAge      AveRooms     AveBedrms    Population  \\\n",
              "count  20640.000000  20640.000000  20640.000000  20640.000000  20640.000000   \n",
              "mean       3.870671     28.639486      5.429000      1.096675   1425.476744   \n",
              "std        1.899822     12.585558      2.474173      0.473911   1132.462122   \n",
              "min        0.499900      1.000000      0.846154      0.333333      3.000000   \n",
              "25%        2.563400     18.000000      4.440716      1.006079    787.000000   \n",
              "50%        3.534800     29.000000      5.229129      1.048780   1166.000000   \n",
              "75%        4.743250     37.000000      6.052381      1.099526   1725.000000   \n",
              "max       15.000100     52.000000    141.909091     34.066667  35682.000000   \n",
              "\n",
              "           AveOccup      Latitude     Longitude  \n",
              "count  20640.000000  20640.000000  20640.000000  \n",
              "mean       3.070655     35.631861   -119.569704  \n",
              "std       10.386050      2.135952      2.003532  \n",
              "min        0.692308     32.540000   -124.350000  \n",
              "25%        2.429741     33.930000   -121.800000  \n",
              "50%        2.818116     34.260000   -118.490000  \n",
              "75%        3.282261     37.710000   -118.010000  \n",
              "max     1243.333333     41.950000   -114.310000  "
            ]
          },
          "metadata": {
            "tags": []
          },
          "execution_count": 67
        }
      ]
    },
    {
      "cell_type": "code",
      "metadata": {
        "id": "Ar9ZGM6grD1o",
        "colab_type": "code",
        "colab": {},
        "outputId": "c6bdb3a6-a95c-4e20-a6a8-1e200661680e"
      },
      "source": [
        "df.dtypes"
      ],
      "execution_count": 0,
      "outputs": [
        {
          "output_type": "execute_result",
          "data": {
            "text/plain": [
              "MedInc        float64\n",
              "HouseAge      float64\n",
              "AveRooms      float64\n",
              "AveBedrms     float64\n",
              "Population    float64\n",
              "AveOccup      float64\n",
              "Latitude      float64\n",
              "Longitude     float64\n",
              "dtype: object"
            ]
          },
          "metadata": {
            "tags": []
          },
          "execution_count": 71
        }
      ]
    },
    {
      "cell_type": "code",
      "metadata": {
        "id": "zfCFRFINrD1s",
        "colab_type": "code",
        "colab": {},
        "outputId": "1b5a8c3f-4fcb-44e3-c51d-e306bd24ec0d"
      },
      "source": [
        "# Selecionando uma coluna\n",
        "print(df['Population'].head())"
      ],
      "execution_count": 0,
      "outputs": [
        {
          "output_type": "stream",
          "text": [
            "0     322.0\n",
            "1    2401.0\n",
            "2     496.0\n",
            "3     558.0\n",
            "4     565.0\n",
            "Name: Population, dtype: float64\n"
          ],
          "name": "stdout"
        }
      ]
    },
    {
      "cell_type": "code",
      "metadata": {
        "id": "wbhpctRlrD1v",
        "colab_type": "code",
        "colab": {},
        "outputId": "f42786f3-700a-4996-b456-1d9de7eb0027"
      },
      "source": [
        "# Selecionando múltiplas colunas\n",
        "print(df[['Latitude','Longitude']].head())"
      ],
      "execution_count": 0,
      "outputs": [
        {
          "output_type": "stream",
          "text": [
            "   Latitude  Longitude\n",
            "0     37.88    -122.23\n",
            "1     37.86    -122.22\n",
            "2     37.85    -122.24\n",
            "3     37.85    -122.25\n",
            "4     37.85    -122.25\n"
          ],
          "name": "stdout"
        }
      ]
    },
    {
      "cell_type": "code",
      "metadata": {
        "id": "aBkC4RgmrD1z",
        "colab_type": "code",
        "colab": {
          "base_uri": "https://localhost:8080/",
          "height": 142
        },
        "outputId": "dd1dec45-951a-4374-c7d4-771d0690ecef"
      },
      "source": [
        "# Selecionando linhas com slice\n",
        "df[2:5]"
      ],
      "execution_count": 6,
      "outputs": [
        {
          "output_type": "execute_result",
          "data": {
            "text/html": [
              "<div>\n",
              "<style scoped>\n",
              "    .dataframe tbody tr th:only-of-type {\n",
              "        vertical-align: middle;\n",
              "    }\n",
              "\n",
              "    .dataframe tbody tr th {\n",
              "        vertical-align: top;\n",
              "    }\n",
              "\n",
              "    .dataframe thead th {\n",
              "        text-align: right;\n",
              "    }\n",
              "</style>\n",
              "<table border=\"1\" class=\"dataframe\">\n",
              "  <thead>\n",
              "    <tr style=\"text-align: right;\">\n",
              "      <th></th>\n",
              "      <th>MedInc</th>\n",
              "      <th>HouseAge</th>\n",
              "      <th>AveRooms</th>\n",
              "      <th>AveBedrms</th>\n",
              "      <th>Population</th>\n",
              "      <th>AveOccup</th>\n",
              "      <th>Latitude</th>\n",
              "      <th>Longitude</th>\n",
              "    </tr>\n",
              "  </thead>\n",
              "  <tbody>\n",
              "    <tr>\n",
              "      <th>2</th>\n",
              "      <td>7.2574</td>\n",
              "      <td>52.0</td>\n",
              "      <td>8.288136</td>\n",
              "      <td>1.073446</td>\n",
              "      <td>496.0</td>\n",
              "      <td>2.802260</td>\n",
              "      <td>37.85</td>\n",
              "      <td>-122.24</td>\n",
              "    </tr>\n",
              "    <tr>\n",
              "      <th>3</th>\n",
              "      <td>5.6431</td>\n",
              "      <td>52.0</td>\n",
              "      <td>5.817352</td>\n",
              "      <td>1.073059</td>\n",
              "      <td>558.0</td>\n",
              "      <td>2.547945</td>\n",
              "      <td>37.85</td>\n",
              "      <td>-122.25</td>\n",
              "    </tr>\n",
              "    <tr>\n",
              "      <th>4</th>\n",
              "      <td>3.8462</td>\n",
              "      <td>52.0</td>\n",
              "      <td>6.281853</td>\n",
              "      <td>1.081081</td>\n",
              "      <td>565.0</td>\n",
              "      <td>2.181467</td>\n",
              "      <td>37.85</td>\n",
              "      <td>-122.25</td>\n",
              "    </tr>\n",
              "  </tbody>\n",
              "</table>\n",
              "</div>"
            ],
            "text/plain": [
              "   MedInc  HouseAge  AveRooms  ...  AveOccup  Latitude  Longitude\n",
              "2  7.2574      52.0  8.288136  ...  2.802260     37.85    -122.24\n",
              "3  5.6431      52.0  5.817352  ...  2.547945     37.85    -122.25\n",
              "4  3.8462      52.0  6.281853  ...  2.181467     37.85    -122.25\n",
              "\n",
              "[3 rows x 8 columns]"
            ]
          },
          "metadata": {
            "tags": []
          },
          "execution_count": 6
        }
      ]
    },
    {
      "cell_type": "code",
      "metadata": {
        "id": "tWMhzUiGrD15",
        "colab_type": "code",
        "colab": {},
        "outputId": "491cb970-9572-44e5-d419-f27760fbe37c"
      },
      "source": [
        "# Seleção de linhas e colunas: loc\n",
        "print(df.loc[10:15,['Population','AveRooms']])"
      ],
      "execution_count": 0,
      "outputs": [
        {
          "output_type": "stream",
          "text": [
            "    Population  AveRooms\n",
            "10       910.0  5.477612\n",
            "11      1504.0  4.772480\n",
            "12      1098.0  5.322650\n",
            "13       345.0  4.000000\n",
            "14      1212.0  4.262903\n",
            "15       697.0  4.242424\n"
          ],
          "name": "stdout"
        }
      ]
    },
    {
      "cell_type": "code",
      "metadata": {
        "id": "D-YCTBImrD1-",
        "colab_type": "code",
        "colab": {},
        "outputId": "c6083a62-3612-4c14-eaed-ca1d83876ffe"
      },
      "source": [
        "# Seleção de linhas e colunas: iloc\n",
        "print(df.iloc[10:15,[4,2]])"
      ],
      "execution_count": 0,
      "outputs": [
        {
          "output_type": "stream",
          "text": [
            "    Population  AveRooms\n",
            "10       910.0  5.477612\n",
            "11      1504.0  4.772480\n",
            "12      1098.0  5.322650\n",
            "13       345.0  4.000000\n",
            "14      1212.0  4.262903\n"
          ],
          "name": "stdout"
        }
      ]
    },
    {
      "cell_type": "code",
      "metadata": {
        "id": "14eyDdpxrD2H",
        "colab_type": "code",
        "colab": {
          "base_uri": "https://localhost:8080/",
          "height": 204
        },
        "outputId": "000f8afb-a431-4e73-d7e9-bfddbc7a0f5f"
      },
      "source": [
        "# Seleção de dados com expressões booleanas\n",
        "df[(df.Population > 1000) & (df.AveBedrms > 1)].head()"
      ],
      "execution_count": 7,
      "outputs": [
        {
          "output_type": "execute_result",
          "data": {
            "text/html": [
              "<div>\n",
              "<style scoped>\n",
              "    .dataframe tbody tr th:only-of-type {\n",
              "        vertical-align: middle;\n",
              "    }\n",
              "\n",
              "    .dataframe tbody tr th {\n",
              "        vertical-align: top;\n",
              "    }\n",
              "\n",
              "    .dataframe thead th {\n",
              "        text-align: right;\n",
              "    }\n",
              "</style>\n",
              "<table border=\"1\" class=\"dataframe\">\n",
              "  <thead>\n",
              "    <tr style=\"text-align: right;\">\n",
              "      <th></th>\n",
              "      <th>MedInc</th>\n",
              "      <th>HouseAge</th>\n",
              "      <th>AveRooms</th>\n",
              "      <th>AveBedrms</th>\n",
              "      <th>Population</th>\n",
              "      <th>AveOccup</th>\n",
              "      <th>Latitude</th>\n",
              "      <th>Longitude</th>\n",
              "    </tr>\n",
              "  </thead>\n",
              "  <tbody>\n",
              "    <tr>\n",
              "      <th>7</th>\n",
              "      <td>3.1200</td>\n",
              "      <td>52.0</td>\n",
              "      <td>4.797527</td>\n",
              "      <td>1.061824</td>\n",
              "      <td>1157.0</td>\n",
              "      <td>1.788253</td>\n",
              "      <td>37.84</td>\n",
              "      <td>-122.25</td>\n",
              "    </tr>\n",
              "    <tr>\n",
              "      <th>8</th>\n",
              "      <td>2.0804</td>\n",
              "      <td>42.0</td>\n",
              "      <td>4.294118</td>\n",
              "      <td>1.117647</td>\n",
              "      <td>1206.0</td>\n",
              "      <td>2.026891</td>\n",
              "      <td>37.84</td>\n",
              "      <td>-122.26</td>\n",
              "    </tr>\n",
              "    <tr>\n",
              "      <th>11</th>\n",
              "      <td>3.2705</td>\n",
              "      <td>52.0</td>\n",
              "      <td>4.772480</td>\n",
              "      <td>1.024523</td>\n",
              "      <td>1504.0</td>\n",
              "      <td>2.049046</td>\n",
              "      <td>37.85</td>\n",
              "      <td>-122.26</td>\n",
              "    </tr>\n",
              "    <tr>\n",
              "      <th>12</th>\n",
              "      <td>3.0750</td>\n",
              "      <td>52.0</td>\n",
              "      <td>5.322650</td>\n",
              "      <td>1.012821</td>\n",
              "      <td>1098.0</td>\n",
              "      <td>2.346154</td>\n",
              "      <td>37.85</td>\n",
              "      <td>-122.26</td>\n",
              "    </tr>\n",
              "    <tr>\n",
              "      <th>14</th>\n",
              "      <td>1.9167</td>\n",
              "      <td>52.0</td>\n",
              "      <td>4.262903</td>\n",
              "      <td>1.009677</td>\n",
              "      <td>1212.0</td>\n",
              "      <td>1.954839</td>\n",
              "      <td>37.85</td>\n",
              "      <td>-122.26</td>\n",
              "    </tr>\n",
              "  </tbody>\n",
              "</table>\n",
              "</div>"
            ],
            "text/plain": [
              "    MedInc  HouseAge  AveRooms  ...  AveOccup  Latitude  Longitude\n",
              "7   3.1200      52.0  4.797527  ...  1.788253     37.84    -122.25\n",
              "8   2.0804      42.0  4.294118  ...  2.026891     37.84    -122.26\n",
              "11  3.2705      52.0  4.772480  ...  2.049046     37.85    -122.26\n",
              "12  3.0750      52.0  5.322650  ...  2.346154     37.85    -122.26\n",
              "14  1.9167      52.0  4.262903  ...  1.954839     37.85    -122.26\n",
              "\n",
              "[5 rows x 8 columns]"
            ]
          },
          "metadata": {
            "tags": []
          },
          "execution_count": 7
        }
      ]
    },
    {
      "cell_type": "markdown",
      "metadata": {
        "id": "c2bZoFsMuuFH",
        "colab_type": "text"
      },
      "source": [
        "# **Índice**"
      ]
    },
    {
      "cell_type": "code",
      "metadata": {
        "id": "WkbLJMNArksZ",
        "colab_type": "code",
        "colab": {
          "base_uri": "https://localhost:8080/",
          "height": 204
        },
        "outputId": "ee31cfac-3ed3-43a2-dc57-b41de8571897"
      },
      "source": [
        "df1 = df[(df.Population > 1000) & (df.AveBedrms > 1)]\n",
        "df1.head()"
      ],
      "execution_count": 57,
      "outputs": [
        {
          "output_type": "execute_result",
          "data": {
            "text/html": [
              "<div>\n",
              "<style scoped>\n",
              "    .dataframe tbody tr th:only-of-type {\n",
              "        vertical-align: middle;\n",
              "    }\n",
              "\n",
              "    .dataframe tbody tr th {\n",
              "        vertical-align: top;\n",
              "    }\n",
              "\n",
              "    .dataframe thead th {\n",
              "        text-align: right;\n",
              "    }\n",
              "</style>\n",
              "<table border=\"1\" class=\"dataframe\">\n",
              "  <thead>\n",
              "    <tr style=\"text-align: right;\">\n",
              "      <th></th>\n",
              "      <th>MedInc</th>\n",
              "      <th>HouseAge</th>\n",
              "      <th>AveRooms</th>\n",
              "      <th>AveBedrms</th>\n",
              "      <th>Population</th>\n",
              "      <th>AveOccup</th>\n",
              "      <th>Latitude</th>\n",
              "      <th>Longitude</th>\n",
              "    </tr>\n",
              "  </thead>\n",
              "  <tbody>\n",
              "    <tr>\n",
              "      <th>7</th>\n",
              "      <td>3.1200</td>\n",
              "      <td>52.0</td>\n",
              "      <td>4.797527</td>\n",
              "      <td>1.061824</td>\n",
              "      <td>1157.0</td>\n",
              "      <td>1.788253</td>\n",
              "      <td>37.84</td>\n",
              "      <td>-122.25</td>\n",
              "    </tr>\n",
              "    <tr>\n",
              "      <th>8</th>\n",
              "      <td>2.0804</td>\n",
              "      <td>42.0</td>\n",
              "      <td>4.294118</td>\n",
              "      <td>1.117647</td>\n",
              "      <td>1206.0</td>\n",
              "      <td>2.026891</td>\n",
              "      <td>37.84</td>\n",
              "      <td>-122.26</td>\n",
              "    </tr>\n",
              "    <tr>\n",
              "      <th>11</th>\n",
              "      <td>3.2705</td>\n",
              "      <td>52.0</td>\n",
              "      <td>4.772480</td>\n",
              "      <td>1.024523</td>\n",
              "      <td>1504.0</td>\n",
              "      <td>2.049046</td>\n",
              "      <td>37.85</td>\n",
              "      <td>-122.26</td>\n",
              "    </tr>\n",
              "    <tr>\n",
              "      <th>12</th>\n",
              "      <td>3.0750</td>\n",
              "      <td>52.0</td>\n",
              "      <td>5.322650</td>\n",
              "      <td>1.012821</td>\n",
              "      <td>1098.0</td>\n",
              "      <td>2.346154</td>\n",
              "      <td>37.85</td>\n",
              "      <td>-122.26</td>\n",
              "    </tr>\n",
              "    <tr>\n",
              "      <th>14</th>\n",
              "      <td>1.9167</td>\n",
              "      <td>52.0</td>\n",
              "      <td>4.262903</td>\n",
              "      <td>1.009677</td>\n",
              "      <td>1212.0</td>\n",
              "      <td>1.954839</td>\n",
              "      <td>37.85</td>\n",
              "      <td>-122.26</td>\n",
              "    </tr>\n",
              "  </tbody>\n",
              "</table>\n",
              "</div>"
            ],
            "text/plain": [
              "    MedInc  HouseAge  AveRooms  ...  AveOccup  Latitude  Longitude\n",
              "7   3.1200      52.0  4.797527  ...  1.788253     37.84    -122.25\n",
              "8   2.0804      42.0  4.294118  ...  2.026891     37.84    -122.26\n",
              "11  3.2705      52.0  4.772480  ...  2.049046     37.85    -122.26\n",
              "12  3.0750      52.0  5.322650  ...  2.346154     37.85    -122.26\n",
              "14  1.9167      52.0  4.262903  ...  1.954839     37.85    -122.26\n",
              "\n",
              "[5 rows x 8 columns]"
            ]
          },
          "metadata": {
            "tags": []
          },
          "execution_count": 57
        }
      ]
    },
    {
      "cell_type": "code",
      "metadata": {
        "id": "_yI1Rha1r9VG",
        "colab_type": "code",
        "colab": {
          "base_uri": "https://localhost:8080/",
          "height": 68
        },
        "outputId": "9cb1c682-9480-48cf-9d86-e8b9ee74752a"
      },
      "source": [
        "print(df1.loc[0:1,['MedInc','HouseAge']])"
      ],
      "execution_count": 58,
      "outputs": [
        {
          "output_type": "stream",
          "text": [
            "Empty DataFrame\n",
            "Columns: [MedInc, HouseAge]\n",
            "Index: []\n"
          ],
          "name": "stdout"
        }
      ]
    },
    {
      "cell_type": "code",
      "metadata": {
        "id": "nAYGeJV1se-Z",
        "colab_type": "code",
        "colab": {
          "base_uri": "https://localhost:8080/",
          "height": 419
        },
        "outputId": "51986271-34c8-4ddc-a917-f3820e9f00f8"
      },
      "source": [
        "df1.reset_index()"
      ],
      "execution_count": 59,
      "outputs": [
        {
          "output_type": "execute_result",
          "data": {
            "text/html": [
              "<div>\n",
              "<style scoped>\n",
              "    .dataframe tbody tr th:only-of-type {\n",
              "        vertical-align: middle;\n",
              "    }\n",
              "\n",
              "    .dataframe tbody tr th {\n",
              "        vertical-align: top;\n",
              "    }\n",
              "\n",
              "    .dataframe thead th {\n",
              "        text-align: right;\n",
              "    }\n",
              "</style>\n",
              "<table border=\"1\" class=\"dataframe\">\n",
              "  <thead>\n",
              "    <tr style=\"text-align: right;\">\n",
              "      <th></th>\n",
              "      <th>index</th>\n",
              "      <th>MedInc</th>\n",
              "      <th>HouseAge</th>\n",
              "      <th>AveRooms</th>\n",
              "      <th>AveBedrms</th>\n",
              "      <th>Population</th>\n",
              "      <th>AveOccup</th>\n",
              "      <th>Latitude</th>\n",
              "      <th>Longitude</th>\n",
              "    </tr>\n",
              "  </thead>\n",
              "  <tbody>\n",
              "    <tr>\n",
              "      <th>0</th>\n",
              "      <td>7</td>\n",
              "      <td>3.1200</td>\n",
              "      <td>52.0</td>\n",
              "      <td>4.797527</td>\n",
              "      <td>1.061824</td>\n",
              "      <td>1157.0</td>\n",
              "      <td>1.788253</td>\n",
              "      <td>37.84</td>\n",
              "      <td>-122.25</td>\n",
              "    </tr>\n",
              "    <tr>\n",
              "      <th>1</th>\n",
              "      <td>8</td>\n",
              "      <td>2.0804</td>\n",
              "      <td>42.0</td>\n",
              "      <td>4.294118</td>\n",
              "      <td>1.117647</td>\n",
              "      <td>1206.0</td>\n",
              "      <td>2.026891</td>\n",
              "      <td>37.84</td>\n",
              "      <td>-122.26</td>\n",
              "    </tr>\n",
              "    <tr>\n",
              "      <th>2</th>\n",
              "      <td>11</td>\n",
              "      <td>3.2705</td>\n",
              "      <td>52.0</td>\n",
              "      <td>4.772480</td>\n",
              "      <td>1.024523</td>\n",
              "      <td>1504.0</td>\n",
              "      <td>2.049046</td>\n",
              "      <td>37.85</td>\n",
              "      <td>-122.26</td>\n",
              "    </tr>\n",
              "    <tr>\n",
              "      <th>3</th>\n",
              "      <td>12</td>\n",
              "      <td>3.0750</td>\n",
              "      <td>52.0</td>\n",
              "      <td>5.322650</td>\n",
              "      <td>1.012821</td>\n",
              "      <td>1098.0</td>\n",
              "      <td>2.346154</td>\n",
              "      <td>37.85</td>\n",
              "      <td>-122.26</td>\n",
              "    </tr>\n",
              "    <tr>\n",
              "      <th>4</th>\n",
              "      <td>14</td>\n",
              "      <td>1.9167</td>\n",
              "      <td>52.0</td>\n",
              "      <td>4.262903</td>\n",
              "      <td>1.009677</td>\n",
              "      <td>1212.0</td>\n",
              "      <td>1.954839</td>\n",
              "      <td>37.85</td>\n",
              "      <td>-122.26</td>\n",
              "    </tr>\n",
              "    <tr>\n",
              "      <th>...</th>\n",
              "      <td>...</td>\n",
              "      <td>...</td>\n",
              "      <td>...</td>\n",
              "      <td>...</td>\n",
              "      <td>...</td>\n",
              "      <td>...</td>\n",
              "      <td>...</td>\n",
              "      <td>...</td>\n",
              "      <td>...</td>\n",
              "    </tr>\n",
              "    <tr>\n",
              "      <th>10214</th>\n",
              "      <td>20632</td>\n",
              "      <td>3.1250</td>\n",
              "      <td>15.0</td>\n",
              "      <td>6.023377</td>\n",
              "      <td>1.080519</td>\n",
              "      <td>1047.0</td>\n",
              "      <td>2.719481</td>\n",
              "      <td>39.26</td>\n",
              "      <td>-121.45</td>\n",
              "    </tr>\n",
              "    <tr>\n",
              "      <th>10215</th>\n",
              "      <td>20633</td>\n",
              "      <td>2.5495</td>\n",
              "      <td>27.0</td>\n",
              "      <td>5.445026</td>\n",
              "      <td>1.078534</td>\n",
              "      <td>1082.0</td>\n",
              "      <td>2.832461</td>\n",
              "      <td>39.19</td>\n",
              "      <td>-121.53</td>\n",
              "    </tr>\n",
              "    <tr>\n",
              "      <th>10216</th>\n",
              "      <td>20634</td>\n",
              "      <td>3.7125</td>\n",
              "      <td>28.0</td>\n",
              "      <td>6.779070</td>\n",
              "      <td>1.148256</td>\n",
              "      <td>1041.0</td>\n",
              "      <td>3.026163</td>\n",
              "      <td>39.27</td>\n",
              "      <td>-121.56</td>\n",
              "    </tr>\n",
              "    <tr>\n",
              "      <th>10217</th>\n",
              "      <td>20637</td>\n",
              "      <td>1.7000</td>\n",
              "      <td>17.0</td>\n",
              "      <td>5.205543</td>\n",
              "      <td>1.120092</td>\n",
              "      <td>1007.0</td>\n",
              "      <td>2.325635</td>\n",
              "      <td>39.43</td>\n",
              "      <td>-121.22</td>\n",
              "    </tr>\n",
              "    <tr>\n",
              "      <th>10218</th>\n",
              "      <td>20639</td>\n",
              "      <td>2.3886</td>\n",
              "      <td>16.0</td>\n",
              "      <td>5.254717</td>\n",
              "      <td>1.162264</td>\n",
              "      <td>1387.0</td>\n",
              "      <td>2.616981</td>\n",
              "      <td>39.37</td>\n",
              "      <td>-121.24</td>\n",
              "    </tr>\n",
              "  </tbody>\n",
              "</table>\n",
              "<p>10219 rows × 9 columns</p>\n",
              "</div>"
            ],
            "text/plain": [
              "       index  MedInc  HouseAge  ...  AveOccup  Latitude  Longitude\n",
              "0          7  3.1200      52.0  ...  1.788253     37.84    -122.25\n",
              "1          8  2.0804      42.0  ...  2.026891     37.84    -122.26\n",
              "2         11  3.2705      52.0  ...  2.049046     37.85    -122.26\n",
              "3         12  3.0750      52.0  ...  2.346154     37.85    -122.26\n",
              "4         14  1.9167      52.0  ...  1.954839     37.85    -122.26\n",
              "...      ...     ...       ...  ...       ...       ...        ...\n",
              "10214  20632  3.1250      15.0  ...  2.719481     39.26    -121.45\n",
              "10215  20633  2.5495      27.0  ...  2.832461     39.19    -121.53\n",
              "10216  20634  3.7125      28.0  ...  3.026163     39.27    -121.56\n",
              "10217  20637  1.7000      17.0  ...  2.325635     39.43    -121.22\n",
              "10218  20639  2.3886      16.0  ...  2.616981     39.37    -121.24\n",
              "\n",
              "[10219 rows x 9 columns]"
            ]
          },
          "metadata": {
            "tags": []
          },
          "execution_count": 59
        }
      ]
    },
    {
      "cell_type": "code",
      "metadata": {
        "id": "JmrThZ3st6VQ",
        "colab_type": "code",
        "colab": {
          "base_uri": "https://localhost:8080/",
          "height": 204
        },
        "outputId": "a88f2a0e-038c-4645-8883-f51f73f75b6b"
      },
      "source": [
        "df1.reset_index(inplace=True,drop = True)\n",
        "df1.head()"
      ],
      "execution_count": 60,
      "outputs": [
        {
          "output_type": "execute_result",
          "data": {
            "text/html": [
              "<div>\n",
              "<style scoped>\n",
              "    .dataframe tbody tr th:only-of-type {\n",
              "        vertical-align: middle;\n",
              "    }\n",
              "\n",
              "    .dataframe tbody tr th {\n",
              "        vertical-align: top;\n",
              "    }\n",
              "\n",
              "    .dataframe thead th {\n",
              "        text-align: right;\n",
              "    }\n",
              "</style>\n",
              "<table border=\"1\" class=\"dataframe\">\n",
              "  <thead>\n",
              "    <tr style=\"text-align: right;\">\n",
              "      <th></th>\n",
              "      <th>MedInc</th>\n",
              "      <th>HouseAge</th>\n",
              "      <th>AveRooms</th>\n",
              "      <th>AveBedrms</th>\n",
              "      <th>Population</th>\n",
              "      <th>AveOccup</th>\n",
              "      <th>Latitude</th>\n",
              "      <th>Longitude</th>\n",
              "    </tr>\n",
              "  </thead>\n",
              "  <tbody>\n",
              "    <tr>\n",
              "      <th>0</th>\n",
              "      <td>3.1200</td>\n",
              "      <td>52.0</td>\n",
              "      <td>4.797527</td>\n",
              "      <td>1.061824</td>\n",
              "      <td>1157.0</td>\n",
              "      <td>1.788253</td>\n",
              "      <td>37.84</td>\n",
              "      <td>-122.25</td>\n",
              "    </tr>\n",
              "    <tr>\n",
              "      <th>1</th>\n",
              "      <td>2.0804</td>\n",
              "      <td>42.0</td>\n",
              "      <td>4.294118</td>\n",
              "      <td>1.117647</td>\n",
              "      <td>1206.0</td>\n",
              "      <td>2.026891</td>\n",
              "      <td>37.84</td>\n",
              "      <td>-122.26</td>\n",
              "    </tr>\n",
              "    <tr>\n",
              "      <th>2</th>\n",
              "      <td>3.2705</td>\n",
              "      <td>52.0</td>\n",
              "      <td>4.772480</td>\n",
              "      <td>1.024523</td>\n",
              "      <td>1504.0</td>\n",
              "      <td>2.049046</td>\n",
              "      <td>37.85</td>\n",
              "      <td>-122.26</td>\n",
              "    </tr>\n",
              "    <tr>\n",
              "      <th>3</th>\n",
              "      <td>3.0750</td>\n",
              "      <td>52.0</td>\n",
              "      <td>5.322650</td>\n",
              "      <td>1.012821</td>\n",
              "      <td>1098.0</td>\n",
              "      <td>2.346154</td>\n",
              "      <td>37.85</td>\n",
              "      <td>-122.26</td>\n",
              "    </tr>\n",
              "    <tr>\n",
              "      <th>4</th>\n",
              "      <td>1.9167</td>\n",
              "      <td>52.0</td>\n",
              "      <td>4.262903</td>\n",
              "      <td>1.009677</td>\n",
              "      <td>1212.0</td>\n",
              "      <td>1.954839</td>\n",
              "      <td>37.85</td>\n",
              "      <td>-122.26</td>\n",
              "    </tr>\n",
              "  </tbody>\n",
              "</table>\n",
              "</div>"
            ],
            "text/plain": [
              "   MedInc  HouseAge  AveRooms  ...  AveOccup  Latitude  Longitude\n",
              "0  3.1200      52.0  4.797527  ...  1.788253     37.84    -122.25\n",
              "1  2.0804      42.0  4.294118  ...  2.026891     37.84    -122.26\n",
              "2  3.2705      52.0  4.772480  ...  2.049046     37.85    -122.26\n",
              "3  3.0750      52.0  5.322650  ...  2.346154     37.85    -122.26\n",
              "4  1.9167      52.0  4.262903  ...  1.954839     37.85    -122.26\n",
              "\n",
              "[5 rows x 8 columns]"
            ]
          },
          "metadata": {
            "tags": []
          },
          "execution_count": 60
        }
      ]
    },
    {
      "cell_type": "code",
      "metadata": {
        "id": "t2v2J7fhuCRT",
        "colab_type": "code",
        "colab": {
          "base_uri": "https://localhost:8080/",
          "height": 68
        },
        "outputId": "56eab148-b98a-4d06-b5be-47d6180d5705"
      },
      "source": [
        "print(df1.loc[0:1,['MedInc','HouseAge']])"
      ],
      "execution_count": 61,
      "outputs": [
        {
          "output_type": "stream",
          "text": [
            "   MedInc  HouseAge\n",
            "0  3.1200      52.0\n",
            "1  2.0804      42.0\n"
          ],
          "name": "stdout"
        }
      ]
    },
    {
      "cell_type": "code",
      "metadata": {
        "id": "RI-jkz-NvOId",
        "colab_type": "code",
        "colab": {
          "base_uri": "https://localhost:8080/",
          "height": 68
        },
        "outputId": "6064a03a-c84b-4247-f748-684ca3c36f4e"
      },
      "source": [
        "print(df1.iloc[0:2,[0,1]])"
      ],
      "execution_count": 62,
      "outputs": [
        {
          "output_type": "stream",
          "text": [
            "   MedInc  HouseAge\n",
            "0  3.1200      52.0\n",
            "1  2.0804      42.0\n"
          ],
          "name": "stdout"
        }
      ]
    },
    {
      "cell_type": "markdown",
      "metadata": {
        "id": "sXPTM3_RrD2G",
        "colab_type": "text"
      },
      "source": [
        "<img src=\"https://raw.githubusercontent.com/ProfLuciano/intro_cd/130b92d33280d3ae7e2e1f34e435b21f8e3a8025/notebooks/pandas_selection.png\">"
      ]
    },
    {
      "cell_type": "code",
      "metadata": {
        "id": "lDTMhNEwrD2L",
        "colab_type": "code",
        "colab": {},
        "outputId": "b1ab2642-1640-4a7f-ece1-938cb74f9b72"
      },
      "source": [
        "%%time\n",
        "# Calculando média de número de quartos usando orientação à linha\n",
        "accumulator = 0\n",
        "for record in data[\"data\"]:\n",
        "    accumulator += record[2]\n",
        "accumulator /= len(data[\"data\"])\n",
        "print(f\"The mean of mean number of bedrooms in california is {accumulator:.3f}\")"
      ],
      "execution_count": 0,
      "outputs": [
        {
          "output_type": "stream",
          "text": [
            "The mean of mean number of bedrooms in california is 5.429\n",
            "CPU times: user 12.9 ms, sys: 459 µs, total: 13.4 ms\n",
            "Wall time: 13.2 ms\n"
          ],
          "name": "stdout"
        }
      ]
    },
    {
      "cell_type": "code",
      "metadata": {
        "id": "FGD94Xy4rD2P",
        "colab_type": "code",
        "colab": {},
        "outputId": "1c74cf7b-2736-42ca-f378-3bd652f417c5"
      },
      "source": [
        "%%time\n",
        "# Calculando média usando orientada à coluna\n",
        "mean = df.AveRooms.sum() / len(df)\n",
        "print(f\"The mean of mean number of bedrooms in california is {accumulator:.3f}\")"
      ],
      "execution_count": 0,
      "outputs": [
        {
          "output_type": "stream",
          "text": [
            "The mean of mean number of bedrooms in california is 5.429\n",
            "CPU times: user 1.76 ms, sys: 1.27 ms, total: 3.03 ms\n",
            "Wall time: 1.99 ms\n"
          ],
          "name": "stdout"
        }
      ]
    },
    {
      "cell_type": "code",
      "metadata": {
        "id": "BHoZPvtbrD2T",
        "colab_type": "code",
        "colab": {},
        "outputId": "21381c06-0e44-4557-b287-257ce4d40349"
      },
      "source": [
        "%%time\n",
        "# Forma mais simples\n",
        "mean = df.AveRooms.mean()\n",
        "print(f\"The mean of mean number of bedrooms in california is {mean:.3f}\")"
      ],
      "execution_count": 0,
      "outputs": [
        {
          "output_type": "stream",
          "text": [
            "The mean of mean number of bedrooms in california is 5.429\n",
            "CPU times: user 545 µs, sys: 243 µs, total: 788 µs\n",
            "Wall time: 535 µs\n"
          ],
          "name": "stdout"
        }
      ]
    },
    {
      "cell_type": "code",
      "metadata": {
        "id": "Z00OUTuErD2X",
        "colab_type": "code",
        "colab": {},
        "outputId": "9feeb1fe-2538-4e65-ca5c-1acf91ffd5a6"
      },
      "source": [
        "# Função apply: aplica uma função a uma coluna inteira\n",
        "from math import log\n",
        "df[\"HouseAgeLog\"] = df.HouseAge.apply(log)\n",
        "df.head()"
      ],
      "execution_count": 0,
      "outputs": [
        {
          "output_type": "execute_result",
          "data": {
            "text/html": [
              "<div>\n",
              "<style scoped>\n",
              "    .dataframe tbody tr th:only-of-type {\n",
              "        vertical-align: middle;\n",
              "    }\n",
              "\n",
              "    .dataframe tbody tr th {\n",
              "        vertical-align: top;\n",
              "    }\n",
              "\n",
              "    .dataframe thead th {\n",
              "        text-align: right;\n",
              "    }\n",
              "</style>\n",
              "<table border=\"1\" class=\"dataframe\">\n",
              "  <thead>\n",
              "    <tr style=\"text-align: right;\">\n",
              "      <th></th>\n",
              "      <th>MedInc</th>\n",
              "      <th>HouseAge</th>\n",
              "      <th>AveRooms</th>\n",
              "      <th>AveBedrms</th>\n",
              "      <th>Population</th>\n",
              "      <th>AveOccup</th>\n",
              "      <th>Latitude</th>\n",
              "      <th>Longitude</th>\n",
              "      <th>HouseAgeLog</th>\n",
              "    </tr>\n",
              "  </thead>\n",
              "  <tbody>\n",
              "    <tr>\n",
              "      <th>0</th>\n",
              "      <td>8.3252</td>\n",
              "      <td>41.0</td>\n",
              "      <td>6.984127</td>\n",
              "      <td>1.023810</td>\n",
              "      <td>322.0</td>\n",
              "      <td>2.555556</td>\n",
              "      <td>37.88</td>\n",
              "      <td>-122.23</td>\n",
              "      <td>3.713572</td>\n",
              "    </tr>\n",
              "    <tr>\n",
              "      <th>1</th>\n",
              "      <td>8.3014</td>\n",
              "      <td>21.0</td>\n",
              "      <td>6.238137</td>\n",
              "      <td>0.971880</td>\n",
              "      <td>2401.0</td>\n",
              "      <td>2.109842</td>\n",
              "      <td>37.86</td>\n",
              "      <td>-122.22</td>\n",
              "      <td>3.044522</td>\n",
              "    </tr>\n",
              "    <tr>\n",
              "      <th>2</th>\n",
              "      <td>7.2574</td>\n",
              "      <td>52.0</td>\n",
              "      <td>8.288136</td>\n",
              "      <td>1.073446</td>\n",
              "      <td>496.0</td>\n",
              "      <td>2.802260</td>\n",
              "      <td>37.85</td>\n",
              "      <td>-122.24</td>\n",
              "      <td>3.951244</td>\n",
              "    </tr>\n",
              "    <tr>\n",
              "      <th>3</th>\n",
              "      <td>5.6431</td>\n",
              "      <td>52.0</td>\n",
              "      <td>5.817352</td>\n",
              "      <td>1.073059</td>\n",
              "      <td>558.0</td>\n",
              "      <td>2.547945</td>\n",
              "      <td>37.85</td>\n",
              "      <td>-122.25</td>\n",
              "      <td>3.951244</td>\n",
              "    </tr>\n",
              "    <tr>\n",
              "      <th>4</th>\n",
              "      <td>3.8462</td>\n",
              "      <td>52.0</td>\n",
              "      <td>6.281853</td>\n",
              "      <td>1.081081</td>\n",
              "      <td>565.0</td>\n",
              "      <td>2.181467</td>\n",
              "      <td>37.85</td>\n",
              "      <td>-122.25</td>\n",
              "      <td>3.951244</td>\n",
              "    </tr>\n",
              "  </tbody>\n",
              "</table>\n",
              "</div>"
            ],
            "text/plain": [
              "   MedInc  HouseAge  AveRooms  AveBedrms  Population  AveOccup  Latitude  \\\n",
              "0  8.3252      41.0  6.984127   1.023810       322.0  2.555556     37.88   \n",
              "1  8.3014      21.0  6.238137   0.971880      2401.0  2.109842     37.86   \n",
              "2  7.2574      52.0  8.288136   1.073446       496.0  2.802260     37.85   \n",
              "3  5.6431      52.0  5.817352   1.073059       558.0  2.547945     37.85   \n",
              "4  3.8462      52.0  6.281853   1.081081       565.0  2.181467     37.85   \n",
              "\n",
              "   Longitude  HouseAgeLog  \n",
              "0    -122.23     3.713572  \n",
              "1    -122.22     3.044522  \n",
              "2    -122.24     3.951244  \n",
              "3    -122.25     3.951244  \n",
              "4    -122.25     3.951244  "
            ]
          },
          "metadata": {
            "tags": []
          },
          "execution_count": 11
        }
      ]
    },
    {
      "cell_type": "markdown",
      "metadata": {
        "id": "qMzpxCjcrD2b",
        "colab_type": "text"
      },
      "source": [
        "Exercícios:\n",
        "\n",
        "1. Qual o centróide geográfico do dataset? (uma linha!)\n",
        "2. Quantos quarteirões existem com idade média da casa abaixo de 10 anos e com número de habitantes médio abaixo de 3 pessoas?"
      ]
    },
    {
      "cell_type": "code",
      "metadata": {
        "id": "ueEAoOlErD2d",
        "colab_type": "code",
        "colab": {},
        "outputId": "b9e21ffa-08cd-4725-a0f1-cd268d42e3e2"
      },
      "source": [
        "print(df[['Latitude','Longitude']].mean())"
      ],
      "execution_count": 0,
      "outputs": [
        {
          "output_type": "stream",
          "text": [
            "Latitude      35.631861\n",
            "Longitude   -119.569704\n",
            "dtype: float64\n"
          ],
          "name": "stdout"
        }
      ]
    },
    {
      "cell_type": "code",
      "metadata": {
        "id": "W1jny8fOrD2g",
        "colab_type": "code",
        "colab": {},
        "outputId": "1f06f7ab-353a-4698-fcd1-ea6c56019792"
      },
      "source": [
        "len(df[(df.HouseAge < 10) & (df.AveOccup < 3)])"
      ],
      "execution_count": 0,
      "outputs": [
        {
          "output_type": "execute_result",
          "data": {
            "text/plain": [
              "771"
            ]
          },
          "metadata": {
            "tags": []
          },
          "execution_count": 109
        }
      ]
    },
    {
      "cell_type": "markdown",
      "metadata": {
        "id": "ptn1xF83rD2l",
        "colab_type": "text"
      },
      "source": [
        "## 2 - Dask"
      ]
    },
    {
      "cell_type": "markdown",
      "metadata": {
        "id": "0uutamTUrD2m",
        "colab_type": "text"
      },
      "source": [
        "> Dask is a flexible library for parallel computing in Python.\n",
        "\n",
        "`dask` é uma alternativa multi-core e/ou distribuída para pandas.\n",
        "* **Pros** : multi-core, cluster mode, escala\n",
        "* **Cons**: API limitada, “pensar distribuído”, nem toda operação é trivialmente paralelizada\n",
        "\n",
        "`dask` segue um modelo *lazy* computacional, então a operação não é de fato executada até que seja chamado `.compute()` explicitamente, retornando um dataframe `pandas` em memória."
      ]
    },
    {
      "cell_type": "code",
      "metadata": {
        "scrolled": true,
        "id": "3wgqS7EarD2n",
        "colab_type": "code",
        "colab": {},
        "outputId": "ea8589ac-6fb1-4fd7-b21a-2ce8f896eacb"
      },
      "source": [
        "import dask.dataframe as dd\n",
        "from multiprocessing import cpu_count\n",
        "\n",
        "N_CORES = cpu_count()\n",
        "print(f\"The machine running this notebook has {N_CORES} cpus.\")\n",
        "\n",
        "ddf = dd.from_pandas(df, npartitions=N_CORES)"
      ],
      "execution_count": 0,
      "outputs": [
        {
          "output_type": "stream",
          "text": [
            "The machine running this notebook has 4 cpus.\n"
          ],
          "name": "stdout"
        }
      ]
    },
    {
      "cell_type": "code",
      "metadata": {
        "id": "49LSGhXGrD2s",
        "colab_type": "code",
        "colab": {},
        "outputId": "0b45c0dd-8025-446c-c896-d59e27fd798d"
      },
      "source": [
        "%%time\n",
        "mean = ddf[\"AveRooms\"].mean().compute()\n",
        "print(f\"The mean of mean number of bedrooms in california is {mean:.3f}\")"
      ],
      "execution_count": 0,
      "outputs": [
        {
          "output_type": "stream",
          "text": [
            "The mean of mean number of bedrooms in california is 5.429\n",
            "CPU times: user 9.88 ms, sys: 3.52 ms, total: 13.4 ms\n",
            "Wall time: 11.2 ms\n"
          ],
          "name": "stdout"
        }
      ]
    },
    {
      "cell_type": "markdown",
      "metadata": {
        "id": "vJkQMNunrD2w",
        "colab_type": "text"
      },
      "source": [
        "Quando usar `dask` ao invés de `pandas`?\n",
        "\n",
        "1. Dataset não couber em memória;\n",
        "2. `Pandas` estiver lento e se deseja utilizar todos os cores da máquina para paralelizar o processamento;\n",
        "3. Dataset estiver quebrado em inúmeros arquivos - relacionado a (1)"
      ]
    },
    {
      "cell_type": "markdown",
      "metadata": {
        "id": "NfUBocyrrD2y",
        "colab_type": "text"
      },
      "source": [
        "# Referências"
      ]
    },
    {
      "cell_type": "markdown",
      "metadata": {
        "id": "b056e1ONrD2z",
        "colab_type": "text"
      },
      "source": [
        "* Docs\n",
        "    * https://pandas.pydata.org/pandas-docs/stable/\n",
        "    * http://docs.dask.org/en/latest/\n",
        "\n",
        "\n",
        "* Designing Data-Intensive Applications\n",
        "    * https://dataintensive.net \n",
        "    * https://www.amazon.com/Designing-Data-Intensive-Applications-Reliable-Maintainable/dp/1449373321\n",
        "\n",
        "\n",
        "* Extensões do Jupyter notebook: \n",
        "    * https://jupyter-contrib-nbextensions.readthedocs.io/en/latest/nbextensions.html\n",
        "    * https://jupyter-contrib-nbextensions.readthedocs.io/en/latest/install.html\n",
        "    * https://towardsdatascience.com/jupyter-notebook-extensions-517fa69d2231\n",
        "    "
      ]
    }
  ]
}