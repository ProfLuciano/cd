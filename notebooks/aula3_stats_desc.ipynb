{
  "nbformat": 4,
  "nbformat_minor": 0,
  "metadata": {
    "colab": {
      "name": "stats_desc.ipynb",
      "version": "0.3.2",
      "provenance": []
    },
    "kernelspec": {
      "name": "python3",
      "display_name": "Python 3"
    }
  },
  "cells": [
    {
      "metadata": {
        "id": "PcSLI41MMZPk",
        "colab_type": "code",
        "colab": {}
      },
      "cell_type": "code",
      "source": [
        "import numpy as np\n",
        "import pandas as pd"
      ],
      "execution_count": 0,
      "outputs": []
    },
    {
      "metadata": {
        "id": "WFDwpXaVMmAx",
        "colab_type": "code",
        "colab": {}
      },
      "cell_type": "code",
      "source": [
        "houses=pd.read_csv(\"https://raw.githubusercontent.com/if1015-datascience/material/gh-pages/data/recife.csv\",encoding = \"ISO-8859-1\")"
      ],
      "execution_count": 0,
      "outputs": []
    },
    {
      "metadata": {
        "id": "M4jO0jUYNHpr",
        "colab_type": "code",
        "colab": {
          "base_uri": "https://localhost:8080/",
          "height": 204
        },
        "outputId": "15e0b53e-a41c-401a-b2a3-8c61ddba581e"
      },
      "cell_type": "code",
      "source": [
        "houses.head()"
      ],
      "execution_count": 7,
      "outputs": [
        {
          "output_type": "execute_result",
          "data": {
            "text/html": [
              "<div>\n",
              "<style scoped>\n",
              "    .dataframe tbody tr th:only-of-type {\n",
              "        vertical-align: middle;\n",
              "    }\n",
              "\n",
              "    .dataframe tbody tr th {\n",
              "        vertical-align: top;\n",
              "    }\n",
              "\n",
              "    .dataframe thead th {\n",
              "        text-align: right;\n",
              "    }\n",
              "</style>\n",
              "<table border=\"1\" class=\"dataframe\">\n",
              "  <thead>\n",
              "    <tr style=\"text-align: right;\">\n",
              "      <th></th>\n",
              "      <th>price</th>\n",
              "      <th>latitude</th>\n",
              "      <th>longitude</th>\n",
              "      <th>bedrooms</th>\n",
              "      <th>area</th>\n",
              "      <th>pkspaces</th>\n",
              "      <th>bathrooms</th>\n",
              "      <th>ensuites</th>\n",
              "      <th>suburb</th>\n",
              "      <th>district</th>\n",
              "      <th>city</th>\n",
              "      <th>state</th>\n",
              "      <th>type</th>\n",
              "    </tr>\n",
              "  </thead>\n",
              "  <tbody>\n",
              "    <tr>\n",
              "      <th>0</th>\n",
              "      <td>1500</td>\n",
              "      <td>-8.059791</td>\n",
              "      <td>-34.889619</td>\n",
              "      <td>4.0</td>\n",
              "      <td>37.0</td>\n",
              "      <td>3.0</td>\n",
              "      <td>3.0</td>\n",
              "      <td>NaN</td>\n",
              "      <td>Boa Vista</td>\n",
              "      <td>Recife</td>\n",
              "      <td>Recife</td>\n",
              "      <td>Pernambuco</td>\n",
              "      <td>apart</td>\n",
              "    </tr>\n",
              "    <tr>\n",
              "      <th>1</th>\n",
              "      <td>330000</td>\n",
              "      <td>-8.029595</td>\n",
              "      <td>-34.900372</td>\n",
              "      <td>3.0</td>\n",
              "      <td>86.0</td>\n",
              "      <td>1.0</td>\n",
              "      <td>3.0</td>\n",
              "      <td>1.0</td>\n",
              "      <td>Tamarineira</td>\n",
              "      <td>Recife</td>\n",
              "      <td>Recife</td>\n",
              "      <td>Pernambuco</td>\n",
              "      <td>apart</td>\n",
              "    </tr>\n",
              "    <tr>\n",
              "      <th>2</th>\n",
              "      <td>255000</td>\n",
              "      <td>-8.037247</td>\n",
              "      <td>-34.890986</td>\n",
              "      <td>2.0</td>\n",
              "      <td>82.0</td>\n",
              "      <td>1.0</td>\n",
              "      <td>2.0</td>\n",
              "      <td>NaN</td>\n",
              "      <td>Encruzilhada</td>\n",
              "      <td>Recife</td>\n",
              "      <td>Recife</td>\n",
              "      <td>Pernambuco</td>\n",
              "      <td>apart</td>\n",
              "    </tr>\n",
              "    <tr>\n",
              "      <th>3</th>\n",
              "      <td>380000</td>\n",
              "      <td>-8.047562</td>\n",
              "      <td>-34.876964</td>\n",
              "      <td>3.0</td>\n",
              "      <td>95.0</td>\n",
              "      <td>2.0</td>\n",
              "      <td>3.0</td>\n",
              "      <td>1.0</td>\n",
              "      <td>Santo Amaro</td>\n",
              "      <td>Recife</td>\n",
              "      <td>Recife</td>\n",
              "      <td>Pernambuco</td>\n",
              "      <td>apart</td>\n",
              "    </tr>\n",
              "    <tr>\n",
              "      <th>4</th>\n",
              "      <td>300000</td>\n",
              "      <td>-8.053580</td>\n",
              "      <td>-34.908733</td>\n",
              "      <td>3.0</td>\n",
              "      <td>97.0</td>\n",
              "      <td>1.0</td>\n",
              "      <td>3.0</td>\n",
              "      <td>1.0</td>\n",
              "      <td>Madalena</td>\n",
              "      <td>Recife</td>\n",
              "      <td>Recife</td>\n",
              "      <td>Pernambuco</td>\n",
              "      <td>apart</td>\n",
              "    </tr>\n",
              "  </tbody>\n",
              "</table>\n",
              "</div>"
            ],
            "text/plain": [
              "    price  latitude  longitude  bedrooms  area  pkspaces  bathrooms  ensuites  \\\n",
              "0    1500 -8.059791 -34.889619       4.0  37.0       3.0        3.0       NaN   \n",
              "1  330000 -8.029595 -34.900372       3.0  86.0       1.0        3.0       1.0   \n",
              "2  255000 -8.037247 -34.890986       2.0  82.0       1.0        2.0       NaN   \n",
              "3  380000 -8.047562 -34.876964       3.0  95.0       2.0        3.0       1.0   \n",
              "4  300000 -8.053580 -34.908733       3.0  97.0       1.0        3.0       1.0   \n",
              "\n",
              "         suburb district    city       state   type  \n",
              "0     Boa Vista   Recife  Recife  Pernambuco  apart  \n",
              "1   Tamarineira   Recife  Recife  Pernambuco  apart  \n",
              "2  Encruzilhada   Recife  Recife  Pernambuco  apart  \n",
              "3   Santo Amaro   Recife  Recife  Pernambuco  apart  \n",
              "4      Madalena   Recife  Recife  Pernambuco  apart  "
            ]
          },
          "metadata": {
            "tags": []
          },
          "execution_count": 7
        }
      ]
    },
    {
      "metadata": {
        "id": "vVwKA9crNsoe",
        "colab_type": "code",
        "colab": {
          "base_uri": "https://localhost:8080/",
          "height": 34
        },
        "outputId": "924400f0-62f4-44d3-f4c3-09f50b64b51b"
      },
      "cell_type": "code",
      "source": [
        "houses['price'].mean()"
      ],
      "execution_count": 10,
      "outputs": [
        {
          "output_type": "execute_result",
          "data": {
            "text/plain": [
              "465050.814793578"
            ]
          },
          "metadata": {
            "tags": []
          },
          "execution_count": 10
        }
      ]
    },
    {
      "metadata": {
        "id": "0KTen3m2N7hU",
        "colab_type": "code",
        "colab": {
          "base_uri": "https://localhost:8080/",
          "height": 34
        },
        "outputId": "6bacf5f8-e825-4dc6-f06d-4fca8d506e7d"
      },
      "cell_type": "code",
      "source": [
        "houses['price'].median()"
      ],
      "execution_count": 12,
      "outputs": [
        {
          "output_type": "execute_result",
          "data": {
            "text/plain": [
              "350000.0"
            ]
          },
          "metadata": {
            "tags": []
          },
          "execution_count": 12
        }
      ]
    },
    {
      "metadata": {
        "id": "O_--1soSOCA5",
        "colab_type": "code",
        "colab": {
          "base_uri": "https://localhost:8080/",
          "height": 51
        },
        "outputId": "9c906f0c-5647-4d6a-adea-52d163cd6a87"
      },
      "cell_type": "code",
      "source": [
        "houses['price'].mode()"
      ],
      "execution_count": 15,
      "outputs": [
        {
          "output_type": "execute_result",
          "data": {
            "text/plain": [
              "0    350000\n",
              "dtype: int64"
            ]
          },
          "metadata": {
            "tags": []
          },
          "execution_count": 15
        }
      ]
    },
    {
      "metadata": {
        "id": "tO9csdVSOFQ4",
        "colab_type": "code",
        "colab": {
          "base_uri": "https://localhost:8080/",
          "height": 34
        },
        "outputId": "ed32190f-a9d2-4caf-a09b-880e0117ae95"
      },
      "cell_type": "code",
      "source": [
        "houses['price'].std()"
      ],
      "execution_count": 19,
      "outputs": [
        {
          "output_type": "execute_result",
          "data": {
            "text/plain": [
              "592710.8681429924"
            ]
          },
          "metadata": {
            "tags": []
          },
          "execution_count": 19
        }
      ]
    },
    {
      "metadata": {
        "id": "b96lfyKnO3nL",
        "colab_type": "code",
        "colab": {
          "base_uri": "https://localhost:8080/",
          "height": 170
        },
        "outputId": "97b9a7fb-fd5e-48cc-a94e-fb476b0f2853"
      },
      "cell_type": "code",
      "source": [
        "houses['price'].describe()"
      ],
      "execution_count": 26,
      "outputs": [
        {
          "output_type": "execute_result",
          "data": {
            "text/plain": [
              "count    1.744000e+03\n",
              "mean     4.650508e+05\n",
              "std      5.927109e+05\n",
              "min      0.000000e+00\n",
              "25%      2.300000e+03\n",
              "50%      3.500000e+05\n",
              "75%      6.300000e+05\n",
              "max      7.500000e+06\n",
              "Name: price, dtype: float64"
            ]
          },
          "metadata": {
            "tags": []
          },
          "execution_count": 26
        }
      ]
    },
    {
      "metadata": {
        "id": "uurjmUSHPWX_",
        "colab_type": "code",
        "colab": {
          "base_uri": "https://localhost:8080/",
          "height": 51
        },
        "outputId": "8cfa814a-d691-433d-dddd-30b50479d950"
      },
      "cell_type": "code",
      "source": [
        "from numpy import log\n",
        "houses['log_price'] = log(houses['price'])"
      ],
      "execution_count": 35,
      "outputs": [
        {
          "output_type": "stream",
          "text": [
            "/usr/local/lib/python3.6/dist-packages/ipykernel_launcher.py:2: RuntimeWarning: divide by zero encountered in log\n",
            "  \n"
          ],
          "name": "stderr"
        }
      ]
    },
    {
      "metadata": {
        "id": "w-q26bm3O_4L",
        "colab_type": "code",
        "colab": {
          "base_uri": "https://localhost:8080/",
          "height": 170
        },
        "outputId": "4f1c87ef-b3c9-42e1-e173-6e2c1915b24b"
      },
      "cell_type": "code",
      "source": [
        "houses['log_price'].describe()"
      ],
      "execution_count": 45,
      "outputs": [
        {
          "output_type": "execute_result",
          "data": {
            "text/plain": [
              "count    1744.000000\n",
              "mean            -inf\n",
              "std              NaN\n",
              "min             -inf\n",
              "25%         7.740664\n",
              "50%        12.765688\n",
              "75%        13.353475\n",
              "max        15.830414\n",
              "Name: log_price, dtype: float64"
            ]
          },
          "metadata": {
            "tags": []
          },
          "execution_count": 45
        }
      ]
    },
    {
      "metadata": {
        "id": "kgBoTc-6R-Ii",
        "colab_type": "code",
        "colab": {
          "base_uri": "https://localhost:8080/",
          "height": 34
        },
        "outputId": "2e0ea1b8-b344-44a2-ff34-d23dee1ca1a2"
      },
      "cell_type": "code",
      "source": [
        "houses.shape"
      ],
      "execution_count": 46,
      "outputs": [
        {
          "output_type": "execute_result",
          "data": {
            "text/plain": [
              "(1744, 14)"
            ]
          },
          "metadata": {
            "tags": []
          },
          "execution_count": 46
        }
      ]
    },
    {
      "metadata": {
        "id": "7c5zPHxqRmvO",
        "colab_type": "code",
        "colab": {}
      },
      "cell_type": "code",
      "source": [
        "new_houses = houses.replace([np.inf, -np.inf], np.nan).dropna(axis=0)"
      ],
      "execution_count": 0,
      "outputs": []
    },
    {
      "metadata": {
        "id": "4QoyNHAsRveY",
        "colab_type": "code",
        "colab": {
          "base_uri": "https://localhost:8080/",
          "height": 34
        },
        "outputId": "43b2cd29-e749-4dc8-dab1-069e79d16901"
      },
      "cell_type": "code",
      "source": [
        "new_houses.shape"
      ],
      "execution_count": 47,
      "outputs": [
        {
          "output_type": "execute_result",
          "data": {
            "text/plain": [
              "(758, 14)"
            ]
          },
          "metadata": {
            "tags": []
          },
          "execution_count": 47
        }
      ]
    },
    {
      "metadata": {
        "id": "PTZoS4dRSDwZ",
        "colab_type": "code",
        "colab": {
          "base_uri": "https://localhost:8080/",
          "height": 364
        },
        "outputId": "7f24c6a6-fc90-49b1-a2e6-d4be70bd4d49"
      },
      "cell_type": "code",
      "source": [
        "new_houses['log_price'].hist()"
      ],
      "execution_count": 49,
      "outputs": [
        {
          "output_type": "execute_result",
          "data": {
            "text/plain": [
              "<matplotlib.axes._subplots.AxesSubplot at 0x7feb8072c588>"
            ]
          },
          "metadata": {
            "tags": []
          },
          "execution_count": 49
        },
        {
          "output_type": "display_data",
          "data": {
            "image/png": "[encoded data removed]",
            "text/plain": [
              "<Figure size 576x396 with 1 Axes>"
            ]
          },
          "metadata": {
            "tags": []
          }
        }
      ]
    },
    {
      "metadata": {
        "id": "HBu9wwWbSZXe",
        "colab_type": "code",
        "colab": {
          "base_uri": "https://localhost:8080/",
          "height": 328
        },
        "outputId": "c818249b-4211-4485-c36b-c1e05f3e7d1f"
      },
      "cell_type": "code",
      "source": [
        "new_houses.cov()"
      ],
      "execution_count": 52,
      "outputs": [
        {
          "output_type": "execute_result",
          "data": {
            "text/html": [
              "<div>\n",
              "<style scoped>\n",
              "    .dataframe tbody tr th:only-of-type {\n",
              "        vertical-align: middle;\n",
              "    }\n",
              "\n",
              "    .dataframe tbody tr th {\n",
              "        vertical-align: top;\n",
              "    }\n",
              "\n",
              "    .dataframe thead th {\n",
              "        text-align: right;\n",
              "    }\n",
              "</style>\n",
              "<table border=\"1\" class=\"dataframe\">\n",
              "  <thead>\n",
              "    <tr style=\"text-align: right;\">\n",
              "      <th></th>\n",
              "      <th>price</th>\n",
              "      <th>latitude</th>\n",
              "      <th>longitude</th>\n",
              "      <th>bedrooms</th>\n",
              "      <th>area</th>\n",
              "      <th>pkspaces</th>\n",
              "      <th>bathrooms</th>\n",
              "      <th>ensuites</th>\n",
              "      <th>log_price</th>\n",
              "    </tr>\n",
              "  </thead>\n",
              "  <tbody>\n",
              "    <tr>\n",
              "      <th>price</th>\n",
              "      <td>2.861067e+11</td>\n",
              "      <td>1798.900855</td>\n",
              "      <td>-524.598937</td>\n",
              "      <td>269688.257031</td>\n",
              "      <td>3.060636e+07</td>\n",
              "      <td>294992.844045</td>\n",
              "      <td>486778.125746</td>\n",
              "      <td>303086.728853</td>\n",
              "      <td>785613.041783</td>\n",
              "    </tr>\n",
              "    <tr>\n",
              "      <th>latitude</th>\n",
              "      <td>1.798901e+03</td>\n",
              "      <td>0.000793</td>\n",
              "      <td>0.000001</td>\n",
              "      <td>0.001786</td>\n",
              "      <td>7.729815e-02</td>\n",
              "      <td>0.000482</td>\n",
              "      <td>0.006096</td>\n",
              "      <td>0.000505</td>\n",
              "      <td>0.021195</td>\n",
              "    </tr>\n",
              "    <tr>\n",
              "      <th>longitude</th>\n",
              "      <td>-5.245989e+02</td>\n",
              "      <td>0.000001</td>\n",
              "      <td>0.000248</td>\n",
              "      <td>-0.000099</td>\n",
              "      <td>-9.697555e-02</td>\n",
              "      <td>-0.002457</td>\n",
              "      <td>-0.000854</td>\n",
              "      <td>-0.001889</td>\n",
              "      <td>0.002987</td>\n",
              "    </tr>\n",
              "    <tr>\n",
              "      <th>bedrooms</th>\n",
              "      <td>2.696883e+05</td>\n",
              "      <td>0.001786</td>\n",
              "      <td>-0.000099</td>\n",
              "      <td>0.779581</td>\n",
              "      <td>5.410271e+01</td>\n",
              "      <td>0.588753</td>\n",
              "      <td>0.764778</td>\n",
              "      <td>0.388929</td>\n",
              "      <td>0.826019</td>\n",
              "    </tr>\n",
              "    <tr>\n",
              "      <th>area</th>\n",
              "      <td>3.060636e+07</td>\n",
              "      <td>0.077298</td>\n",
              "      <td>-0.096976</td>\n",
              "      <td>54.102714</td>\n",
              "      <td>7.905619e+03</td>\n",
              "      <td>58.592597</td>\n",
              "      <td>72.826652</td>\n",
              "      <td>51.697636</td>\n",
              "      <td>62.825447</td>\n",
              "    </tr>\n",
              "    <tr>\n",
              "      <th>pkspaces</th>\n",
              "      <td>2.949928e+05</td>\n",
              "      <td>0.000482</td>\n",
              "      <td>-0.002457</td>\n",
              "      <td>0.588753</td>\n",
              "      <td>5.859260e+01</td>\n",
              "      <td>0.873780</td>\n",
              "      <td>0.744056</td>\n",
              "      <td>0.498632</td>\n",
              "      <td>0.498294</td>\n",
              "    </tr>\n",
              "    <tr>\n",
              "      <th>bathrooms</th>\n",
              "      <td>4.867781e+05</td>\n",
              "      <td>0.006096</td>\n",
              "      <td>-0.000854</td>\n",
              "      <td>0.764778</td>\n",
              "      <td>7.282665e+01</td>\n",
              "      <td>0.744056</td>\n",
              "      <td>1.550015</td>\n",
              "      <td>0.805126</td>\n",
              "      <td>1.775796</td>\n",
              "    </tr>\n",
              "    <tr>\n",
              "      <th>ensuites</th>\n",
              "      <td>3.030867e+05</td>\n",
              "      <td>0.000505</td>\n",
              "      <td>-0.001889</td>\n",
              "      <td>0.388929</td>\n",
              "      <td>5.169764e+01</td>\n",
              "      <td>0.498632</td>\n",
              "      <td>0.805126</td>\n",
              "      <td>0.766273</td>\n",
              "      <td>0.598669</td>\n",
              "    </tr>\n",
              "    <tr>\n",
              "      <th>log_price</th>\n",
              "      <td>7.856130e+05</td>\n",
              "      <td>0.021195</td>\n",
              "      <td>0.002987</td>\n",
              "      <td>0.826019</td>\n",
              "      <td>6.282545e+01</td>\n",
              "      <td>0.498294</td>\n",
              "      <td>1.775796</td>\n",
              "      <td>0.598669</td>\n",
              "      <td>5.241169</td>\n",
              "    </tr>\n",
              "  </tbody>\n",
              "</table>\n",
              "</div>"
            ],
            "text/plain": [
              "                  price     latitude   longitude       bedrooms          area  \\\n",
              "price      2.861067e+11  1798.900855 -524.598937  269688.257031  3.060636e+07   \n",
              "latitude   1.798901e+03     0.000793    0.000001       0.001786  7.729815e-02   \n",
              "longitude -5.245989e+02     0.000001    0.000248      -0.000099 -9.697555e-02   \n",
              "bedrooms   2.696883e+05     0.001786   -0.000099       0.779581  5.410271e+01   \n",
              "area       3.060636e+07     0.077298   -0.096976      54.102714  7.905619e+03   \n",
              "pkspaces   2.949928e+05     0.000482   -0.002457       0.588753  5.859260e+01   \n",
              "bathrooms  4.867781e+05     0.006096   -0.000854       0.764778  7.282665e+01   \n",
              "ensuites   3.030867e+05     0.000505   -0.001889       0.388929  5.169764e+01   \n",
              "log_price  7.856130e+05     0.021195    0.002987       0.826019  6.282545e+01   \n",
              "\n",
              "                pkspaces      bathrooms       ensuites      log_price  \n",
              "price      294992.844045  486778.125746  303086.728853  785613.041783  \n",
              "latitude        0.000482       0.006096       0.000505       0.021195  \n",
              "longitude      -0.002457      -0.000854      -0.001889       0.002987  \n",
              "bedrooms        0.588753       0.764778       0.388929       0.826019  \n",
              "area           58.592597      72.826652      51.697636      62.825447  \n",
              "pkspaces        0.873780       0.744056       0.498632       0.498294  \n",
              "bathrooms       0.744056       1.550015       0.805126       1.775796  \n",
              "ensuites        0.498632       0.805126       0.766273       0.598669  \n",
              "log_price       0.498294       1.775796       0.598669       5.241169  "
            ]
          },
          "metadata": {
            "tags": []
          },
          "execution_count": 52
        }
      ]
    },
    {
      "metadata": {
        "id": "L-51z94vSonA",
        "colab_type": "code",
        "colab": {
          "base_uri": "https://localhost:8080/",
          "height": 378
        },
        "outputId": "07c21fb6-93be-408b-dbab-6def6115fe0c"
      },
      "cell_type": "code",
      "source": [
        "new_houses.plot.scatter(x='bathrooms',y='area', c='DarkBlue')"
      ],
      "execution_count": 54,
      "outputs": [
        {
          "output_type": "execute_result",
          "data": {
            "text/plain": [
              "<matplotlib.axes._subplots.AxesSubplot at 0x7feb80674860>"
            ]
          },
          "metadata": {
            "tags": []
          },
          "execution_count": 54
        },
        {
          "output_type": "display_data",
          "data": {
            "image/png": "[encoded data removed]",
            "text/plain": [
              "<Figure size 576x396 with 1 Axes>"
            ]
          },
          "metadata": {
            "tags": []
          }
        }
      ]
    },
    {
      "metadata": {
        "id": "dzirLzENUQ06",
        "colab_type": "code",
        "colab": {
          "base_uri": "https://localhost:8080/",
          "height": 328
        },
        "outputId": "27a0a40e-2e51-461f-f874-74e1f0b8a2f7"
      },
      "cell_type": "code",
      "source": [
        "new_houses.corr(method='pearson')"
      ],
      "execution_count": 56,
      "outputs": [
        {
          "output_type": "execute_result",
          "data": {
            "text/html": [
              "<div>\n",
              "<style scoped>\n",
              "    .dataframe tbody tr th:only-of-type {\n",
              "        vertical-align: middle;\n",
              "    }\n",
              "\n",
              "    .dataframe tbody tr th {\n",
              "        vertical-align: top;\n",
              "    }\n",
              "\n",
              "    .dataframe thead th {\n",
              "        text-align: right;\n",
              "    }\n",
              "</style>\n",
              "<table border=\"1\" class=\"dataframe\">\n",
              "  <thead>\n",
              "    <tr style=\"text-align: right;\">\n",
              "      <th></th>\n",
              "      <th>price</th>\n",
              "      <th>latitude</th>\n",
              "      <th>longitude</th>\n",
              "      <th>bedrooms</th>\n",
              "      <th>area</th>\n",
              "      <th>pkspaces</th>\n",
              "      <th>bathrooms</th>\n",
              "      <th>ensuites</th>\n",
              "      <th>log_price</th>\n",
              "    </tr>\n",
              "  </thead>\n",
              "  <tbody>\n",
              "    <tr>\n",
              "      <th>price</th>\n",
              "      <td>1.000000</td>\n",
              "      <td>0.119401</td>\n",
              "      <td>-0.062232</td>\n",
              "      <td>0.571041</td>\n",
              "      <td>0.643546</td>\n",
              "      <td>0.589992</td>\n",
              "      <td>0.730969</td>\n",
              "      <td>0.647308</td>\n",
              "      <td>0.641550</td>\n",
              "    </tr>\n",
              "    <tr>\n",
              "      <th>latitude</th>\n",
              "      <td>0.119401</td>\n",
              "      <td>1.000000</td>\n",
              "      <td>0.003127</td>\n",
              "      <td>0.071821</td>\n",
              "      <td>0.030865</td>\n",
              "      <td>0.018313</td>\n",
              "      <td>0.173832</td>\n",
              "      <td>0.020475</td>\n",
              "      <td>0.328685</td>\n",
              "    </tr>\n",
              "    <tr>\n",
              "      <th>longitude</th>\n",
              "      <td>-0.062232</td>\n",
              "      <td>0.003127</td>\n",
              "      <td>1.000000</td>\n",
              "      <td>-0.007100</td>\n",
              "      <td>-0.069206</td>\n",
              "      <td>-0.166776</td>\n",
              "      <td>-0.043537</td>\n",
              "      <td>-0.136958</td>\n",
              "      <td>0.082789</td>\n",
              "    </tr>\n",
              "    <tr>\n",
              "      <th>bedrooms</th>\n",
              "      <td>0.571041</td>\n",
              "      <td>0.071821</td>\n",
              "      <td>-0.007100</td>\n",
              "      <td>1.000000</td>\n",
              "      <td>0.689161</td>\n",
              "      <td>0.713348</td>\n",
              "      <td>0.695724</td>\n",
              "      <td>0.503209</td>\n",
              "      <td>0.408644</td>\n",
              "    </tr>\n",
              "    <tr>\n",
              "      <th>area</th>\n",
              "      <td>0.643546</td>\n",
              "      <td>0.030865</td>\n",
              "      <td>-0.069206</td>\n",
              "      <td>0.689161</td>\n",
              "      <td>1.000000</td>\n",
              "      <td>0.704975</td>\n",
              "      <td>0.657892</td>\n",
              "      <td>0.664219</td>\n",
              "      <td>0.308641</td>\n",
              "    </tr>\n",
              "    <tr>\n",
              "      <th>pkspaces</th>\n",
              "      <td>0.589992</td>\n",
              "      <td>0.018313</td>\n",
              "      <td>-0.166776</td>\n",
              "      <td>0.713348</td>\n",
              "      <td>0.704975</td>\n",
              "      <td>1.000000</td>\n",
              "      <td>0.639347</td>\n",
              "      <td>0.609379</td>\n",
              "      <td>0.232847</td>\n",
              "    </tr>\n",
              "    <tr>\n",
              "      <th>bathrooms</th>\n",
              "      <td>0.730969</td>\n",
              "      <td>0.173832</td>\n",
              "      <td>-0.043537</td>\n",
              "      <td>0.695724</td>\n",
              "      <td>0.657892</td>\n",
              "      <td>0.639347</td>\n",
              "      <td>1.000000</td>\n",
              "      <td>0.738761</td>\n",
              "      <td>0.623033</td>\n",
              "    </tr>\n",
              "    <tr>\n",
              "      <th>ensuites</th>\n",
              "      <td>0.647308</td>\n",
              "      <td>0.020475</td>\n",
              "      <td>-0.136958</td>\n",
              "      <td>0.503209</td>\n",
              "      <td>0.664219</td>\n",
              "      <td>0.609379</td>\n",
              "      <td>0.738761</td>\n",
              "      <td>1.000000</td>\n",
              "      <td>0.298732</td>\n",
              "    </tr>\n",
              "    <tr>\n",
              "      <th>log_price</th>\n",
              "      <td>0.641550</td>\n",
              "      <td>0.328685</td>\n",
              "      <td>0.082789</td>\n",
              "      <td>0.408644</td>\n",
              "      <td>0.308641</td>\n",
              "      <td>0.232847</td>\n",
              "      <td>0.623033</td>\n",
              "      <td>0.298732</td>\n",
              "      <td>1.000000</td>\n",
              "    </tr>\n",
              "  </tbody>\n",
              "</table>\n",
              "</div>"
            ],
            "text/plain": [
              "              price  latitude  longitude  bedrooms      area  pkspaces  \\\n",
              "price      1.000000  0.119401  -0.062232  0.571041  0.643546  0.589992   \n",
              "latitude   0.119401  1.000000   0.003127  0.071821  0.030865  0.018313   \n",
              "longitude -0.062232  0.003127   1.000000 -0.007100 -0.069206 -0.166776   \n",
              "bedrooms   0.571041  0.071821  -0.007100  1.000000  0.689161  0.713348   \n",
              "area       0.643546  0.030865  -0.069206  0.689161  1.000000  0.704975   \n",
              "pkspaces   0.589992  0.018313  -0.166776  0.713348  0.704975  1.000000   \n",
              "bathrooms  0.730969  0.173832  -0.043537  0.695724  0.657892  0.639347   \n",
              "ensuites   0.647308  0.020475  -0.136958  0.503209  0.664219  0.609379   \n",
              "log_price  0.641550  0.328685   0.082789  0.408644  0.308641  0.232847   \n",
              "\n",
              "           bathrooms  ensuites  log_price  \n",
              "price       0.730969  0.647308   0.641550  \n",
              "latitude    0.173832  0.020475   0.328685  \n",
              "longitude  -0.043537 -0.136958   0.082789  \n",
              "bedrooms    0.695724  0.503209   0.408644  \n",
              "area        0.657892  0.664219   0.308641  \n",
              "pkspaces    0.639347  0.609379   0.232847  \n",
              "bathrooms   1.000000  0.738761   0.623033  \n",
              "ensuites    0.738761  1.000000   0.298732  \n",
              "log_price   0.623033  0.298732   1.000000  "
            ]
          },
          "metadata": {
            "tags": []
          },
          "execution_count": 56
        }
      ]
    },
    {
      "metadata": {
        "id": "0QaO4vz-UtCi",
        "colab_type": "code",
        "colab": {
          "base_uri": "https://localhost:8080/",
          "height": 328
        },
        "outputId": "5b446c27-7bec-4387-fc03-efeb30608ca0"
      },
      "cell_type": "code",
      "source": [
        "new_houses.corr(method='spearman')"
      ],
      "execution_count": 57,
      "outputs": [
        {
          "output_type": "execute_result",
          "data": {
            "text/html": [
              "<div>\n",
              "<style scoped>\n",
              "    .dataframe tbody tr th:only-of-type {\n",
              "        vertical-align: middle;\n",
              "    }\n",
              "\n",
              "    .dataframe tbody tr th {\n",
              "        vertical-align: top;\n",
              "    }\n",
              "\n",
              "    .dataframe thead th {\n",
              "        text-align: right;\n",
              "    }\n",
              "</style>\n",
              "<table border=\"1\" class=\"dataframe\">\n",
              "  <thead>\n",
              "    <tr style=\"text-align: right;\">\n",
              "      <th></th>\n",
              "      <th>price</th>\n",
              "      <th>latitude</th>\n",
              "      <th>longitude</th>\n",
              "      <th>bedrooms</th>\n",
              "      <th>area</th>\n",
              "      <th>pkspaces</th>\n",
              "      <th>bathrooms</th>\n",
              "      <th>ensuites</th>\n",
              "      <th>log_price</th>\n",
              "    </tr>\n",
              "  </thead>\n",
              "  <tbody>\n",
              "    <tr>\n",
              "      <th>price</th>\n",
              "      <td>1.000000</td>\n",
              "      <td>0.192278</td>\n",
              "      <td>-0.060108</td>\n",
              "      <td>0.624596</td>\n",
              "      <td>0.639969</td>\n",
              "      <td>0.549012</td>\n",
              "      <td>0.797291</td>\n",
              "      <td>0.621902</td>\n",
              "      <td>1.000000</td>\n",
              "    </tr>\n",
              "    <tr>\n",
              "      <th>latitude</th>\n",
              "      <td>0.192278</td>\n",
              "      <td>1.000000</td>\n",
              "      <td>-0.076959</td>\n",
              "      <td>0.029028</td>\n",
              "      <td>0.025466</td>\n",
              "      <td>0.017051</td>\n",
              "      <td>0.120693</td>\n",
              "      <td>0.081576</td>\n",
              "      <td>0.192278</td>\n",
              "    </tr>\n",
              "    <tr>\n",
              "      <th>longitude</th>\n",
              "      <td>-0.060108</td>\n",
              "      <td>-0.076959</td>\n",
              "      <td>1.000000</td>\n",
              "      <td>-0.075638</td>\n",
              "      <td>-0.077150</td>\n",
              "      <td>-0.158698</td>\n",
              "      <td>-0.058734</td>\n",
              "      <td>-0.157348</td>\n",
              "      <td>-0.060108</td>\n",
              "    </tr>\n",
              "    <tr>\n",
              "      <th>bedrooms</th>\n",
              "      <td>0.624596</td>\n",
              "      <td>0.029028</td>\n",
              "      <td>-0.075638</td>\n",
              "      <td>1.000000</td>\n",
              "      <td>0.713995</td>\n",
              "      <td>0.749666</td>\n",
              "      <td>0.738118</td>\n",
              "      <td>0.565692</td>\n",
              "      <td>0.624596</td>\n",
              "    </tr>\n",
              "    <tr>\n",
              "      <th>area</th>\n",
              "      <td>0.639969</td>\n",
              "      <td>0.025466</td>\n",
              "      <td>-0.077150</td>\n",
              "      <td>0.713995</td>\n",
              "      <td>1.000000</td>\n",
              "      <td>0.624399</td>\n",
              "      <td>0.654882</td>\n",
              "      <td>0.615068</td>\n",
              "      <td>0.639969</td>\n",
              "    </tr>\n",
              "    <tr>\n",
              "      <th>pkspaces</th>\n",
              "      <td>0.549012</td>\n",
              "      <td>0.017051</td>\n",
              "      <td>-0.158698</td>\n",
              "      <td>0.749666</td>\n",
              "      <td>0.624399</td>\n",
              "      <td>1.000000</td>\n",
              "      <td>0.608702</td>\n",
              "      <td>0.566179</td>\n",
              "      <td>0.549012</td>\n",
              "    </tr>\n",
              "    <tr>\n",
              "      <th>bathrooms</th>\n",
              "      <td>0.797291</td>\n",
              "      <td>0.120693</td>\n",
              "      <td>-0.058734</td>\n",
              "      <td>0.738118</td>\n",
              "      <td>0.654882</td>\n",
              "      <td>0.608702</td>\n",
              "      <td>1.000000</td>\n",
              "      <td>0.682480</td>\n",
              "      <td>0.797291</td>\n",
              "    </tr>\n",
              "    <tr>\n",
              "      <th>ensuites</th>\n",
              "      <td>0.621902</td>\n",
              "      <td>0.081576</td>\n",
              "      <td>-0.157348</td>\n",
              "      <td>0.565692</td>\n",
              "      <td>0.615068</td>\n",
              "      <td>0.566179</td>\n",
              "      <td>0.682480</td>\n",
              "      <td>1.000000</td>\n",
              "      <td>0.621902</td>\n",
              "    </tr>\n",
              "    <tr>\n",
              "      <th>log_price</th>\n",
              "      <td>1.000000</td>\n",
              "      <td>0.192278</td>\n",
              "      <td>-0.060108</td>\n",
              "      <td>0.624596</td>\n",
              "      <td>0.639969</td>\n",
              "      <td>0.549012</td>\n",
              "      <td>0.797291</td>\n",
              "      <td>0.621902</td>\n",
              "      <td>1.000000</td>\n",
              "    </tr>\n",
              "  </tbody>\n",
              "</table>\n",
              "</div>"
            ],
            "text/plain": [
              "              price  latitude  longitude  bedrooms      area  pkspaces  \\\n",
              "price      1.000000  0.192278  -0.060108  0.624596  0.639969  0.549012   \n",
              "latitude   0.192278  1.000000  -0.076959  0.029028  0.025466  0.017051   \n",
              "longitude -0.060108 -0.076959   1.000000 -0.075638 -0.077150 -0.158698   \n",
              "bedrooms   0.624596  0.029028  -0.075638  1.000000  0.713995  0.749666   \n",
              "area       0.639969  0.025466  -0.077150  0.713995  1.000000  0.624399   \n",
              "pkspaces   0.549012  0.017051  -0.158698  0.749666  0.624399  1.000000   \n",
              "bathrooms  0.797291  0.120693  -0.058734  0.738118  0.654882  0.608702   \n",
              "ensuites   0.621902  0.081576  -0.157348  0.565692  0.615068  0.566179   \n",
              "log_price  1.000000  0.192278  -0.060108  0.624596  0.639969  0.549012   \n",
              "\n",
              "           bathrooms  ensuites  log_price  \n",
              "price       0.797291  0.621902   1.000000  \n",
              "latitude    0.120693  0.081576   0.192278  \n",
              "longitude  -0.058734 -0.157348  -0.060108  \n",
              "bedrooms    0.738118  0.565692   0.624596  \n",
              "area        0.654882  0.615068   0.639969  \n",
              "pkspaces    0.608702  0.566179   0.549012  \n",
              "bathrooms   1.000000  0.682480   0.797291  \n",
              "ensuites    0.682480  1.000000   0.621902  \n",
              "log_price   0.797291  0.621902   1.000000  "
            ]
          },
          "metadata": {
            "tags": []
          },
          "execution_count": 57
        }
      ]
    }
  ]
}