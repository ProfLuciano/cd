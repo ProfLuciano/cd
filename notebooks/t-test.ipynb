{
 "cells": [
  {
   "cell_type": "code",
   "execution_count": 3,
   "metadata": {},
   "outputs": [],
   "source": [
    "import pandas as pd\n",
    "df = pd.read_csv(\"../data/blood_pressure.csv\")"
   ]
  },
  {
   "cell_type": "code",
   "execution_count": 4,
   "metadata": {},
   "outputs": [
    {
     "data": {
      "text/html": [
       "<div>\n",
       "<style scoped>\n",
       "    .dataframe tbody tr th:only-of-type {\n",
       "        vertical-align: middle;\n",
       "    }\n",
       "\n",
       "    .dataframe tbody tr th {\n",
       "        vertical-align: top;\n",
       "    }\n",
       "\n",
       "    .dataframe thead th {\n",
       "        text-align: right;\n",
       "    }\n",
       "</style>\n",
       "<table border=\"1\" class=\"dataframe\">\n",
       "  <thead>\n",
       "    <tr style=\"text-align: right;\">\n",
       "      <th></th>\n",
       "      <th>bp_before</th>\n",
       "      <th>bp_after</th>\n",
       "    </tr>\n",
       "  </thead>\n",
       "  <tbody>\n",
       "    <tr>\n",
       "      <th>count</th>\n",
       "      <td>120.000000</td>\n",
       "      <td>120.000000</td>\n",
       "    </tr>\n",
       "    <tr>\n",
       "      <th>mean</th>\n",
       "      <td>156.450000</td>\n",
       "      <td>151.358333</td>\n",
       "    </tr>\n",
       "    <tr>\n",
       "      <th>std</th>\n",
       "      <td>11.389845</td>\n",
       "      <td>14.177622</td>\n",
       "    </tr>\n",
       "    <tr>\n",
       "      <th>min</th>\n",
       "      <td>138.000000</td>\n",
       "      <td>125.000000</td>\n",
       "    </tr>\n",
       "    <tr>\n",
       "      <th>25%</th>\n",
       "      <td>147.000000</td>\n",
       "      <td>140.750000</td>\n",
       "    </tr>\n",
       "    <tr>\n",
       "      <th>50%</th>\n",
       "      <td>154.500000</td>\n",
       "      <td>149.500000</td>\n",
       "    </tr>\n",
       "    <tr>\n",
       "      <th>75%</th>\n",
       "      <td>164.000000</td>\n",
       "      <td>161.000000</td>\n",
       "    </tr>\n",
       "    <tr>\n",
       "      <th>max</th>\n",
       "      <td>185.000000</td>\n",
       "      <td>185.000000</td>\n",
       "    </tr>\n",
       "  </tbody>\n",
       "</table>\n",
       "</div>"
      ],
      "text/plain": [
       "        bp_before    bp_after\n",
       "count  120.000000  120.000000\n",
       "mean   156.450000  151.358333\n",
       "std     11.389845   14.177622\n",
       "min    138.000000  125.000000\n",
       "25%    147.000000  140.750000\n",
       "50%    154.500000  149.500000\n",
       "75%    164.000000  161.000000\n",
       "max    185.000000  185.000000"
      ]
     },
     "execution_count": 4,
     "metadata": {},
     "output_type": "execute_result"
    }
   ],
   "source": [
    "df[['bp_before','bp_after']].describe()"
   ]
  },
  {
   "cell_type": "code",
   "execution_count": 5,
   "metadata": {},
   "outputs": [],
   "source": [
    "from scipy import stats\n",
    "import matplotlib.pyplot as plt"
   ]
  },
  {
   "cell_type": "markdown",
   "metadata": {},
   "source": [
    "## Verificando outliers"
   ]
  },
  {
   "cell_type": "code",
   "execution_count": 6,
   "metadata": {},
   "outputs": [
    {
     "data": {
      "text/plain": [
       "<matplotlib.axes._subplots.AxesSubplot at 0x1a21f7d2b0>"
      ]
     },
     "execution_count": 6,
     "metadata": {},
     "output_type": "execute_result"
    },
    {
     "data": {
      "image/png": "[encoded data removed]",
      "text/plain": [
       "<Figure size 432x288 with 1 Axes>"
      ]
     },
     "metadata": {
      "needs_background": "light"
     },
     "output_type": "display_data"
    }
   ],
   "source": [
    "df[['bp_before', 'bp_after']].plot(kind='box')"
   ]
  },
  {
   "cell_type": "markdown",
   "metadata": {},
   "source": [
    "## Verificando se a diferença segue a gaussiana"
   ]
  },
  {
   "cell_type": "code",
   "execution_count": 7,
   "metadata": {},
   "outputs": [],
   "source": [
    "df['bp_difference'] = df['bp_before'] - df['bp_after']"
   ]
  },
  {
   "cell_type": "code",
   "execution_count": 8,
   "metadata": {},
   "outputs": [
    {
     "data": {
      "text/plain": [
       "<matplotlib.axes._subplots.AxesSubplot at 0x1a2234bc88>"
      ]
     },
     "execution_count": 8,
     "metadata": {},
     "output_type": "execute_result"
    },
    {
     "data": {
      "image/png": "[encoded data removed]",
      "text/plain": [
       "<Figure size 432x288 with 1 Axes>"
      ]
     },
     "metadata": {
      "needs_background": "light"
     },
     "output_type": "display_data"
    }
   ],
   "source": [
    "df['bp_difference'].plot(kind='hist', title= 'Blood Pressure Difference Histogram')"
   ]
  },
  {
   "cell_type": "code",
   "execution_count": 9,
   "metadata": {},
   "outputs": [
    {
     "data": {
      "text/plain": [
       "((array([-2.52654228, -2.1978944 , -2.0086642 , -1.8721281 , -1.76356639,\n",
       "         -1.67252351, -1.59354821, -1.5234211 , -1.46007481, -1.40209915,\n",
       "         -1.3484871 , -1.29849326, -1.25154963, -1.20721295, -1.16513026,\n",
       "         -1.12501567, -1.08663416, -1.04979006, -1.01431855, -0.98007946,\n",
       "         -0.94695242, -0.9148333 , -0.8836313 , -0.85326673, -0.82366923,\n",
       "         -0.79477627, -0.76653206, -0.73888652, -0.71179451, -0.68521516,\n",
       "         -0.65911132, -0.6334491 , -0.60819743, -0.58332778, -0.55881382,\n",
       "         -0.53463119, -0.51075726, -0.48717098, -0.46385269, -0.44078394,\n",
       "         -0.41794744, -0.39532687, -0.37290682, -0.35067268, -0.32861058,\n",
       "         -0.3067073 , -0.28495019, -0.26332716, -0.24182657, -0.2204372 ,\n",
       "         -0.19914822, -0.17794913, -0.15682971, -0.13578003, -0.11479034,\n",
       "         -0.09385111, -0.07295295, -0.05208661, -0.03124292, -0.0104128 ,\n",
       "          0.0104128 ,  0.03124292,  0.05208661,  0.07295295,  0.09385111,\n",
       "          0.11479034,  0.13578003,  0.15682971,  0.17794913,  0.19914822,\n",
       "          0.2204372 ,  0.24182657,  0.26332716,  0.28495019,  0.3067073 ,\n",
       "          0.32861058,  0.35067268,  0.37290682,  0.39532687,  0.41794744,\n",
       "          0.44078394,  0.46385269,  0.48717098,  0.51075726,  0.53463119,\n",
       "          0.55881382,  0.58332778,  0.60819743,  0.6334491 ,  0.65911132,\n",
       "          0.68521516,  0.71179451,  0.73888652,  0.76653206,  0.79477627,\n",
       "          0.82366923,  0.85326673,  0.8836313 ,  0.9148333 ,  0.94695242,\n",
       "          0.98007946,  1.01431855,  1.04979006,  1.08663416,  1.12501567,\n",
       "          1.16513026,  1.20721295,  1.25154963,  1.29849326,  1.3484871 ,\n",
       "          1.40209915,  1.46007481,  1.5234211 ,  1.59354821,  1.67252351,\n",
       "          1.76356639,  1.8721281 ,  2.0086642 ,  2.1978944 ,  2.52654228]),\n",
       "  array([-41, -36, -29, -27, -26, -25, -21, -19, -19, -15, -15, -15, -14,\n",
       "         -14, -14, -14, -13, -12, -11, -10, -10, -10, -10,  -9,  -9,  -8,\n",
       "          -8,  -8,  -7,  -7,  -7,  -7,  -6,  -6,  -5,  -3,  -3,  -3,  -2,\n",
       "          -2,  -2,  -2,  -2,   0,   0,   0,   0,   1,   1,   1,   2,   2,\n",
       "           2,   3,   3,   3,   3,   3,   3,   3,   4,   5,   5,   6,   6,\n",
       "           7,   7,   7,   7,   8,   8,   9,   9,   9,  10,  10,  10,  11,\n",
       "          11,  12,  12,  12,  14,  15,  15,  15,  16,  16,  16,  18,  18,\n",
       "          19,  19,  20,  20,  21,  22,  22,  22,  22,  22,  23,  23,  24,\n",
       "          24,  26,  27,  27,  27,  27,  29,  29,  29,  30,  30,  30,  33,\n",
       "          42,  45,  45])),\n",
       " (16.87714049175083, 5.091666666666663, 0.9965872150745229))"
      ]
     },
     "execution_count": 9,
     "metadata": {},
     "output_type": "execute_result"
    },
    {
     "data": {
      "image/png": "[encoded data removed]",
      "text/plain": [
       "<Figure size 432x288 with 1 Axes>"
      ]
     },
     "metadata": {
      "needs_background": "light"
     },
     "output_type": "display_data"
    }
   ],
   "source": [
    "stats.probplot(df['bp_difference'], plot= plt)"
   ]
  },
  {
   "cell_type": "code",
   "execution_count": 12,
   "metadata": {},
   "outputs": [
    {
     "data": {
      "text/plain": [
       "(0.9926842451095581, 0.7841846942901611)"
      ]
     },
     "execution_count": 12,
     "metadata": {},
     "output_type": "execute_result"
    }
   ],
   "source": [
    "#Shapiro-Wilk test de normalidade (valor,p-value)\n",
    "stats.shapiro(df['bp_difference'])"
   ]
  },
  {
   "cell_type": "markdown",
   "metadata": {},
   "source": [
    "## Executando o teste t-test"
   ]
  },
  {
   "cell_type": "code",
   "execution_count": 11,
   "metadata": {
    "scrolled": true
   },
   "outputs": [
    {
     "data": {
      "text/plain": [
       "Ttest_relResult(statistic=3.3371870510833657, pvalue=0.0011297914644840823)"
      ]
     },
     "execution_count": 11,
     "metadata": {},
     "output_type": "execute_result"
    }
   ],
   "source": [
    "stats.ttest_rel(df['bp_before'], df['bp_after'])"
   ]
  }
 ],
 "metadata": {
  "kernelspec": {
   "display_name": "Python 3",
   "language": "python",
   "name": "python3"
  },
  "language_info": {
   "codemirror_mode": {
    "name": "ipython",
    "version": 3
   },
   "file_extension": ".py",
   "mimetype": "text/x-python",
   "name": "python",
   "nbconvert_exporter": "python",
   "pygments_lexer": "ipython3",
   "version": "3.7.1"
  }
 },
 "nbformat": 4,
 "nbformat_minor": 2
}
