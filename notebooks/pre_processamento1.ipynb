{
  "nbformat": 4,
  "nbformat_minor": 0,
  "metadata": {
    "colab": {
      "name": "Copy of pre_processamento1.ipynb",
      "provenance": [],
      "collapsed_sections": []
    },
    "kernelspec": {
      "name": "python3",
      "display_name": "Python 3"
    }
  },
  "cells": [
    {
      "cell_type": "code",
      "metadata": {
        "id": "PtMZXsv_-rZR",
        "colab_type": "code",
        "colab": {}
      },
      "source": [
        "import numpy as np\n",
        "import pandas as pd\n",
        "houses=pd.read_csv(\"https://raw.githubusercontent.com/ProfLuciano/cd/gh-pages/data/recife.csv\",encoding = \"ISO-8859-1\")\n",
        "houses.head()"
      ],
      "execution_count": null,
      "outputs": []
    },
    {
      "cell_type": "markdown",
      "metadata": {
        "id": "w6cnmgVq4gDi",
        "colab_type": "text"
      },
      "source": [
        "## Setando campos como categóricos"
      ]
    },
    {
      "cell_type": "code",
      "metadata": {
        "id": "O-O6BFuKmlPN",
        "colab_type": "code",
        "colab": {}
      },
      "source": [
        "houses.dtypes"
      ],
      "execution_count": null,
      "outputs": []
    },
    {
      "cell_type": "code",
      "metadata": {
        "id": "J9n5LrpKm83d",
        "colab_type": "code",
        "colab": {}
      },
      "source": [
        "#ajustando tipos dos dados\n",
        "houses['suburb'] = houses['suburb'].astype('category')\n",
        "houses['district'] = houses['district'].astype('category')\n",
        "houses['city'] = houses['city'].astype('category')\n",
        "houses['state'] = houses['state'].astype('category')\n",
        "houses['type'] = houses['type'].astype('category')"
      ],
      "execution_count": null,
      "outputs": []
    },
    {
      "cell_type": "code",
      "metadata": {
        "id": "HRSFBmGUnMz8",
        "colab_type": "code",
        "colab": {}
      },
      "source": [
        "houses.dtypes"
      ],
      "execution_count": null,
      "outputs": []
    },
    {
      "cell_type": "code",
      "metadata": {
        "id": "CyVt9fo9o814",
        "colab_type": "code",
        "colab": {}
      },
      "source": [
        "houses['suburb'].cat.categories"
      ],
      "execution_count": null,
      "outputs": []
    },
    {
      "cell_type": "code",
      "metadata": {
        "id": "erilEInu9-DO",
        "colab_type": "code",
        "colab": {}
      },
      "source": [
        "houses['type'].cat.categories "
      ],
      "execution_count": null,
      "outputs": []
    },
    {
      "cell_type": "code",
      "metadata": {
        "id": "19DvDQHlCazf",
        "colab_type": "code",
        "colab": {}
      },
      "source": [
        "houses['type'] = houses['type'].cat.codes"
      ],
      "execution_count": null,
      "outputs": []
    },
    {
      "cell_type": "code",
      "metadata": {
        "id": "dbbuKsg_-M4e",
        "colab_type": "code",
        "colab": {}
      },
      "source": [
        "houses.head()"
      ],
      "execution_count": null,
      "outputs": []
    },
    {
      "cell_type": "code",
      "metadata": {
        "id": "DSn6V9TuoLXs",
        "colab_type": "code",
        "colab": {}
      },
      "source": [
        "houses.dtypes"
      ],
      "execution_count": null,
      "outputs": []
    },
    {
      "cell_type": "markdown",
      "metadata": {
        "id": "6V4tDIKz4tOg",
        "colab_type": "text"
      },
      "source": [
        "## Removendo instâncias"
      ]
    },
    {
      "cell_type": "code",
      "metadata": {
        "id": "vOlvLmYtI0pK",
        "colab_type": "code",
        "colab": {}
      },
      "source": [
        "houses.shape"
      ],
      "execution_count": null,
      "outputs": []
    },
    {
      "cell_type": "code",
      "metadata": {
        "id": "HZQ-Q33r_Uz_",
        "colab_type": "code",
        "colab": {}
      },
      "source": [
        "print(houses.isnull().sum())"
      ],
      "execution_count": null,
      "outputs": []
    },
    {
      "cell_type": "code",
      "metadata": {
        "id": "h0YAUcWM_MgK",
        "colab_type": "code",
        "colab": {}
      },
      "source": [
        "#remove instâncias com ao menos 1 coluna com dado ausente\n",
        "houses1 = houses.dropna()\n",
        "houses1.head()"
      ],
      "execution_count": null,
      "outputs": []
    },
    {
      "cell_type": "code",
      "metadata": {
        "id": "RQz6Xour_X9u",
        "colab_type": "code",
        "colab": {}
      },
      "source": [
        "len(houses1)"
      ],
      "execution_count": null,
      "outputs": []
    },
    {
      "cell_type": "code",
      "metadata": {
        "id": "cw5iAC75C6Kc",
        "colab_type": "code",
        "colab": {}
      },
      "source": [
        "print(houses1.isnull().sum())"
      ],
      "execution_count": null,
      "outputs": []
    },
    {
      "cell_type": "markdown",
      "metadata": {
        "id": "w6TtysO543sh",
        "colab_type": "text"
      },
      "source": [
        "## Removendo colunas quase vazias"
      ]
    },
    {
      "cell_type": "code",
      "metadata": {
        "id": "9f1rRTHv5qQn",
        "colab_type": "code",
        "colab": {}
      },
      "source": [
        "print(houses.isnull().sum())"
      ],
      "execution_count": null,
      "outputs": []
    },
    {
      "cell_type": "code",
      "metadata": {
        "id": "M8rrOHlj_Zak",
        "colab_type": "code",
        "colab": {}
      },
      "source": [
        "#remove colunas com ao menos 70% de dados ausentes\n",
        "houses2 = houses.dropna(thresh=0.7*len(houses), axis=1)"
      ],
      "execution_count": null,
      "outputs": []
    },
    {
      "cell_type": "code",
      "metadata": {
        "id": "fe55fINPBF-O",
        "colab_type": "code",
        "colab": {}
      },
      "source": [
        "houses2.head()"
      ],
      "execution_count": null,
      "outputs": []
    },
    {
      "cell_type": "code",
      "metadata": {
        "id": "YMrPX-LZBQZJ",
        "colab_type": "code",
        "colab": {}
      },
      "source": [
        "print(houses2.isnull().sum())"
      ],
      "execution_count": null,
      "outputs": []
    },
    {
      "cell_type": "markdown",
      "metadata": {
        "id": "4NkmolL950rQ",
        "colab_type": "text"
      },
      "source": [
        "## Inserindo dados ausentes em 1 coluna"
      ]
    },
    {
      "cell_type": "code",
      "metadata": {
        "id": "oZO6EE-lEGP0",
        "colab_type": "code",
        "colab": {}
      },
      "source": [
        "print(houses2['bathrooms'].mean())\n",
        "print(houses2['bathrooms'].median())"
      ],
      "execution_count": null,
      "outputs": []
    },
    {
      "cell_type": "code",
      "metadata": {
        "id": "_2-IwIR3DIfa",
        "colab_type": "code",
        "colab": {}
      },
      "source": [
        "#adiciona media de banheiros nos dados ausentes de banheiros\n",
        "houses2['bathrooms'].fillna(houses2['bathrooms'].mean(), inplace=True)"
      ],
      "execution_count": null,
      "outputs": []
    },
    {
      "cell_type": "code",
      "metadata": {
        "id": "rYm8ysHXFZ8p",
        "colab_type": "code",
        "colab": {}
      },
      "source": [
        "print(houses2.isnull().sum())"
      ],
      "execution_count": null,
      "outputs": []
    },
    {
      "cell_type": "code",
      "metadata": {
        "id": "oSlKHmbpDvXC",
        "colab_type": "code",
        "colab": {}
      },
      "source": [
        "print(houses2['bathrooms'].mean())\n",
        "print(houses2['bathrooms'].median())"
      ],
      "execution_count": null,
      "outputs": []
    },
    {
      "cell_type": "code",
      "metadata": {
        "id": "sANvcpHsEWV0",
        "colab_type": "code",
        "colab": {}
      },
      "source": [
        "houses2.corr(method='spearman')"
      ],
      "execution_count": null,
      "outputs": []
    },
    {
      "cell_type": "code",
      "metadata": {
        "id": "Wt4hcZZ_GMq9",
        "colab_type": "code",
        "colab": {}
      },
      "source": [
        "houses.corr(method='spearman')"
      ],
      "execution_count": null,
      "outputs": []
    },
    {
      "cell_type": "code",
      "metadata": {
        "id": "wtwjyoeZCUQM",
        "colab_type": "code",
        "colab": {}
      },
      "source": [
        "#remove colunas com até 70% de dados ausentes\n",
        "houses2 = houses.dropna(thresh=0.7*len(houses), axis=1)\n",
        "#adiciona mediana de banheiros nos dados ausentes de banheiros\n",
        "houses2['bathrooms'].fillna(houses2['bathrooms'].median(), inplace=True)\n"
      ],
      "execution_count": null,
      "outputs": []
    },
    {
      "cell_type": "code",
      "metadata": {
        "id": "Y3tPK6f-EkYi",
        "colab_type": "code",
        "colab": {}
      },
      "source": [
        "print(houses2['bathrooms'].mean())\n",
        "print(houses2['bathrooms'].median())"
      ],
      "execution_count": null,
      "outputs": []
    },
    {
      "cell_type": "code",
      "metadata": {
        "id": "Uxuhu1wKE298",
        "colab_type": "code",
        "colab": {}
      },
      "source": [
        "houses.corr(method='spearman')"
      ],
      "execution_count": null,
      "outputs": []
    },
    {
      "cell_type": "code",
      "metadata": {
        "id": "lUegD_tiE658",
        "colab_type": "code",
        "colab": {}
      },
      "source": [
        "houses2.corr(method='spearman')"
      ],
      "execution_count": null,
      "outputs": []
    },
    {
      "cell_type": "code",
      "metadata": {
        "id": "A4hoEV-ZE9nR",
        "colab_type": "code",
        "colab": {}
      },
      "source": [
        "houses['bathrooms'].describe()"
      ],
      "execution_count": null,
      "outputs": []
    },
    {
      "cell_type": "code",
      "metadata": {
        "id": "JzblYO_eH0eu",
        "colab_type": "code",
        "colab": {}
      },
      "source": [
        "import random\n",
        "houses2 = houses.dropna(thresh=0.7*len(houses), axis=1)\n",
        "#adiciona valor aleatório no intervalo de min e max de banheiros nos dados ausentes de banheiros\n",
        "houses2['bathrooms'].fillna(random.randint(houses2['bathrooms'].min(),houses2['bathrooms'].max()), inplace=True)"
      ],
      "execution_count": null,
      "outputs": []
    },
    {
      "cell_type": "code",
      "metadata": {
        "id": "XFKdzJXSHfRc",
        "colab_type": "code",
        "colab": {}
      },
      "source": [
        "print(houses2['bathrooms'].mean())\n",
        "print(houses2['bathrooms'].median())\n"
      ],
      "execution_count": null,
      "outputs": []
    },
    {
      "cell_type": "markdown",
      "metadata": {
        "id": "GPs2eB8p6b0v",
        "colab_type": "text"
      },
      "source": [
        "## Inserindo dados ausentes em mais de uma coluna"
      ]
    },
    {
      "cell_type": "code",
      "metadata": {
        "id": "1_YvR-z-J1EK",
        "colab_type": "code",
        "colab": {}
      },
      "source": [
        "houses=pd.read_csv(\"https://raw.githubusercontent.com/ProfLuciano/cd/gh-pages/data/recife.csv\",encoding = \"ISO-8859-1\")\n",
        "houses.head()"
      ],
      "execution_count": null,
      "outputs": []
    },
    {
      "cell_type": "code",
      "metadata": {
        "id": "Y0ZNAWamAWl-",
        "colab_type": "code",
        "colab": {}
      },
      "source": [
        "houses['suburb'] = houses['suburb'].astype('category')\n",
        "houses['district'] = houses['district'].astype('category')\n",
        "houses['city'] = houses['city'].astype('category')\n",
        "houses['state'] = houses['state'].astype('category')\n",
        "houses['type'] = houses['type'].astype('category')"
      ],
      "execution_count": null,
      "outputs": []
    },
    {
      "cell_type": "code",
      "metadata": {
        "id": "V3vjv1O0B71C",
        "colab_type": "code",
        "colab": {}
      },
      "source": [
        "houses['suburb'] = houses['suburb'].cat.codes\n",
        "houses['district'] = houses['district'].cat.codes\n",
        "houses['city'] = houses['city'].cat.codes\n",
        "houses['state'] = houses['state'].cat.codes\n",
        "houses['type'] = houses['type'].cat.codes"
      ],
      "execution_count": null,
      "outputs": []
    },
    {
      "cell_type": "code",
      "metadata": {
        "id": "qr0vVcqzLKQF",
        "colab_type": "code",
        "colab": {}
      },
      "source": [
        "houses.head()"
      ],
      "execution_count": null,
      "outputs": []
    },
    {
      "cell_type": "code",
      "metadata": {
        "id": "Qmr5YMgqLU3D",
        "colab_type": "code",
        "colab": {}
      },
      "source": [
        "from fancyimpute import KNN\n",
        "houses_knn = KNN(k=3).fit_transform(houses)"
      ],
      "execution_count": null,
      "outputs": []
    },
    {
      "cell_type": "code",
      "metadata": {
        "id": "6y-TfHIXNFMU",
        "colab_type": "code",
        "colab": {}
      },
      "source": [
        "houses_knn.shape"
      ],
      "execution_count": null,
      "outputs": []
    },
    {
      "cell_type": "code",
      "metadata": {
        "id": "D2OXQLBXLWtl",
        "colab_type": "code",
        "colab": {}
      },
      "source": [
        "houses3 = pd.DataFrame(data=houses_knn[0:,0:],columns=['price',\t'latitude',\t'longitude',\t'bedrooms',\t'area',\t'pkspaces',\t'bathrooms',\t'ensuites', 'suburb'\t,'district',\t'city', 'state',\t'type']) "
      ],
      "execution_count": null,
      "outputs": []
    },
    {
      "cell_type": "code",
      "metadata": {
        "id": "l4CLbEIBKf0_",
        "colab_type": "code",
        "colab": {}
      },
      "source": [
        "houses3.head()"
      ],
      "execution_count": null,
      "outputs": []
    },
    {
      "cell_type": "code",
      "metadata": {
        "id": "r0HbMq7DNcc5",
        "colab_type": "code",
        "colab": {}
      },
      "source": [
        "print(houses3.isnull().sum())"
      ],
      "execution_count": null,
      "outputs": []
    },
    {
      "cell_type": "code",
      "metadata": {
        "id": "BxLaUtLDNeQf",
        "colab_type": "code",
        "colab": {}
      },
      "source": [
        "houses3['bathrooms'].describe()"
      ],
      "execution_count": null,
      "outputs": []
    },
    {
      "cell_type": "markdown",
      "metadata": {
        "id": "Q2EY_VYu7xUx",
        "colab_type": "text"
      },
      "source": [
        "## Normalização"
      ]
    },
    {
      "cell_type": "code",
      "metadata": {
        "id": "n1n0q0e2FV9Y",
        "colab_type": "code",
        "colab": {}
      },
      "source": [
        "houses3.head()"
      ],
      "execution_count": null,
      "outputs": []
    },
    {
      "cell_type": "code",
      "metadata": {
        "id": "eZrhsZhzYfiE",
        "colab_type": "code",
        "colab": {}
      },
      "source": [
        "#preço está dominando o cálculo\n",
        "dist = np.linalg.norm(houses3.values[1]-houses3.values[2])\n",
        "print(dist)"
      ],
      "execution_count": null,
      "outputs": []
    },
    {
      "cell_type": "code",
      "metadata": {
        "id": "QKM5jvG2ZDte",
        "colab_type": "code",
        "colab": {}
      },
      "source": [
        "# normalizando min-max\n",
        "houses_norm = (houses3 - houses3.min()) / (houses3.max() - houses3.min())\n",
        "print(houses_norm.head())"
      ],
      "execution_count": null,
      "outputs": []
    },
    {
      "cell_type": "code",
      "metadata": {
        "id": "uhDGqSQvDroX",
        "colab_type": "code",
        "colab": {}
      },
      "source": [
        "houses_norm = houses_norm.dropna(thresh=0.7*len(houses), axis=1)\n",
        "print(houses_norm.head())"
      ],
      "execution_count": null,
      "outputs": []
    },
    {
      "cell_type": "code",
      "metadata": {
        "id": "0cW6hQ5HaC1I",
        "colab_type": "code",
        "colab": {}
      },
      "source": [
        "dist = np.linalg.norm(houses_norm.values[1]-houses_norm.values[2])\n",
        "print(dist)"
      ],
      "execution_count": null,
      "outputs": []
    },
    {
      "cell_type": "code",
      "metadata": {
        "id": "pEGQ0Uvsb2Xm",
        "colab_type": "code",
        "colab": {}
      },
      "source": [
        "# nomarlizando entre 0 e 1\n",
        "houses['price_norm'] = (houses['price'] - houses['price'].min()) / (houses['price'].max() - houses['price'].min())"
      ],
      "execution_count": null,
      "outputs": []
    },
    {
      "cell_type": "code",
      "metadata": {
        "id": "QspbKDpedfKQ",
        "colab_type": "code",
        "colab": {}
      },
      "source": [
        "houses['price_norm'].describe()"
      ],
      "execution_count": null,
      "outputs": []
    },
    {
      "cell_type": "code",
      "metadata": {
        "id": "AnP8NESbddYU",
        "colab_type": "code",
        "colab": {}
      },
      "source": [
        "# normalizando entre -1 e 1\n",
        "houses['price_norm'] = ((houses['price'] - houses['price'].min()) / (houses['price'].max() - houses['price'].min())*2) -1"
      ],
      "execution_count": null,
      "outputs": []
    },
    {
      "cell_type": "code",
      "metadata": {
        "id": "DzLS_LuicHFu",
        "colab_type": "code",
        "colab": {}
      },
      "source": [
        "houses['price_norm'].describe()"
      ],
      "execution_count": null,
      "outputs": []
    },
    {
      "cell_type": "code",
      "metadata": {
        "id": "IwDDuYPgiGS_",
        "colab_type": "code",
        "colab": {}
      },
      "source": [
        "# min-max do scikit\n",
        "from sklearn.preprocessing import StandardScaler, MinMaxScaler\n",
        "scaler = MinMaxScaler()\n",
        "houses['price_norm'] = scaler.fit_transform(houses[['price']])\n",
        "houses['price_norm'].describe()"
      ],
      "execution_count": null,
      "outputs": []
    },
    {
      "cell_type": "code",
      "metadata": {
        "id": "zAyXdtaagZx-",
        "colab_type": "code",
        "colab": {}
      },
      "source": [
        "# nomalizando com média e desvio padrão\n",
        "houses['price_norm'] = (houses['price'] - houses['price'].mean()) / (houses['price'].std())"
      ],
      "execution_count": null,
      "outputs": []
    },
    {
      "cell_type": "code",
      "metadata": {
        "id": "wQu71EfMgzub",
        "colab_type": "code",
        "colab": {}
      },
      "source": [
        "houses['price_norm'].describe()"
      ],
      "execution_count": null,
      "outputs": []
    },
    {
      "cell_type": "code",
      "metadata": {
        "id": "QzorZUIAjC-9",
        "colab_type": "code",
        "colab": {}
      },
      "source": [
        "# nomalizando com média e desvio padrão do scikit\n",
        "scaler = StandardScaler()\n",
        "houses['price_norm'] = scaler.fit_transform(houses[['price']])\n",
        "houses['price_norm'].describe()"
      ],
      "execution_count": null,
      "outputs": []
    },
    {
      "cell_type": "markdown",
      "metadata": {
        "id": "DNyrJJ8k4EFK",
        "colab_type": "text"
      },
      "source": [
        "## Discretizando área\n",
        "\n",
        "\n",
        "\n",
        "\n",
        "\n"
      ]
    },
    {
      "cell_type": "code",
      "metadata": {
        "id": "hrn-TVyDjNzy",
        "colab_type": "code",
        "colab": {}
      },
      "source": [
        "# discretizando com 10 bins com mesmo intervalo\n",
        "houses['area_dist'] = pd.cut(houses['area'],10)"
      ],
      "execution_count": null,
      "outputs": []
    },
    {
      "cell_type": "code",
      "metadata": {
        "id": "jGRO-8v00aFC",
        "colab_type": "code",
        "colab": {}
      },
      "source": [
        "houses['area_dist'].value_counts()"
      ],
      "execution_count": null,
      "outputs": []
    },
    {
      "cell_type": "code",
      "metadata": {
        "id": "srTL62oY2y7B",
        "colab_type": "code",
        "colab": {}
      },
      "source": [
        "houses['area'].describe()"
      ],
      "execution_count": null,
      "outputs": []
    },
    {
      "cell_type": "code",
      "metadata": {
        "id": "vugkVpgE3ICQ",
        "colab_type": "code",
        "colab": {}
      },
      "source": [
        "# discretizando com 4 bins com mesmo intervalo (quantiles)\n",
        "houses['area_dist'] = pd.qcut(houses['area'],4)"
      ],
      "execution_count": null,
      "outputs": []
    },
    {
      "cell_type": "code",
      "metadata": {
        "id": "AHjqA9x2HqkF",
        "colab_type": "code",
        "colab": {}
      },
      "source": [
        "houses['area'].describe()"
      ],
      "execution_count": null,
      "outputs": []
    },
    {
      "cell_type": "code",
      "metadata": {
        "id": "1UExG2Qc3RXg",
        "colab_type": "code",
        "colab": {}
      },
      "source": [
        "houses['area_dist'].value_counts()"
      ],
      "execution_count": null,
      "outputs": []
    }
  ]
}