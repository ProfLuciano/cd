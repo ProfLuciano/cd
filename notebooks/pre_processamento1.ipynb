{
  "nbformat": 4,
  "nbformat_minor": 0,
  "metadata": {
    "colab": {
      "name": "pre_processamento1.ipynb",
      "version": "0.3.2",
      "provenance": [],
      "collapsed_sections": [
        "w6cnmgVq4gDi",
        "6V4tDIKz4tOg",
        "w6TtysO543sh",
        "4NkmolL950rQ",
        "GPs2eB8p6b0v",
        "Q2EY_VYu7xUx",
        "DNyrJJ8k4EFK"
      ]
    },
    "kernelspec": {
      "name": "python3",
      "display_name": "Python 3"
    }
  },
  "cells": [
    {
      "metadata": {
        "id": "PtMZXsv_-rZR",
        "colab_type": "code",
        "colab": {
          "base_uri": "https://localhost:8080/",
          "height": 204
        },
        "outputId": "9929a81e-5897-4922-d266-aa9cdab6e5c8"
      },
      "cell_type": "code",
      "source": [
        "import numpy as np\n",
        "import pandas as pd\n",
        "houses=pd.read_csv(\"https://raw.githubusercontent.com/if1015-datascience/material/gh-pages/data/recife.csv\",encoding = \"ISO-8859-1\")\n",
        "houses.head()"
      ],
      "execution_count": 11,
      "outputs": [
        {
          "output_type": "execute_result",
          "data": {
            "text/html": [
              "<div>\n",
              "<style scoped>\n",
              "    .dataframe tbody tr th:only-of-type {\n",
              "        vertical-align: middle;\n",
              "    }\n",
              "\n",
              "    .dataframe tbody tr th {\n",
              "        vertical-align: top;\n",
              "    }\n",
              "\n",
              "    .dataframe thead th {\n",
              "        text-align: right;\n",
              "    }\n",
              "</style>\n",
              "<table border=\"1\" class=\"dataframe\">\n",
              "  <thead>\n",
              "    <tr style=\"text-align: right;\">\n",
              "      <th></th>\n",
              "      <th>price</th>\n",
              "      <th>latitude</th>\n",
              "      <th>longitude</th>\n",
              "      <th>bedrooms</th>\n",
              "      <th>area</th>\n",
              "      <th>pkspaces</th>\n",
              "      <th>bathrooms</th>\n",
              "      <th>ensuites</th>\n",
              "      <th>suburb</th>\n",
              "      <th>district</th>\n",
              "      <th>city</th>\n",
              "      <th>state</th>\n",
              "      <th>type</th>\n",
              "    </tr>\n",
              "  </thead>\n",
              "  <tbody>\n",
              "    <tr>\n",
              "      <th>0</th>\n",
              "      <td>1500</td>\n",
              "      <td>-8.059791</td>\n",
              "      <td>-34.889619</td>\n",
              "      <td>4.0</td>\n",
              "      <td>37.0</td>\n",
              "      <td>3.0</td>\n",
              "      <td>3.0</td>\n",
              "      <td>NaN</td>\n",
              "      <td>Boa Vista</td>\n",
              "      <td>Recife</td>\n",
              "      <td>Recife</td>\n",
              "      <td>Pernambuco</td>\n",
              "      <td>apart</td>\n",
              "    </tr>\n",
              "    <tr>\n",
              "      <th>1</th>\n",
              "      <td>330000</td>\n",
              "      <td>-8.029595</td>\n",
              "      <td>-34.900372</td>\n",
              "      <td>3.0</td>\n",
              "      <td>86.0</td>\n",
              "      <td>1.0</td>\n",
              "      <td>3.0</td>\n",
              "      <td>1.0</td>\n",
              "      <td>Tamarineira</td>\n",
              "      <td>Recife</td>\n",
              "      <td>Recife</td>\n",
              "      <td>Pernambuco</td>\n",
              "      <td>apart</td>\n",
              "    </tr>\n",
              "    <tr>\n",
              "      <th>2</th>\n",
              "      <td>255000</td>\n",
              "      <td>-8.037247</td>\n",
              "      <td>-34.890986</td>\n",
              "      <td>2.0</td>\n",
              "      <td>82.0</td>\n",
              "      <td>1.0</td>\n",
              "      <td>2.0</td>\n",
              "      <td>NaN</td>\n",
              "      <td>Encruzilhada</td>\n",
              "      <td>Recife</td>\n",
              "      <td>Recife</td>\n",
              "      <td>Pernambuco</td>\n",
              "      <td>apart</td>\n",
              "    </tr>\n",
              "    <tr>\n",
              "      <th>3</th>\n",
              "      <td>380000</td>\n",
              "      <td>-8.047562</td>\n",
              "      <td>-34.876964</td>\n",
              "      <td>3.0</td>\n",
              "      <td>95.0</td>\n",
              "      <td>2.0</td>\n",
              "      <td>3.0</td>\n",
              "      <td>1.0</td>\n",
              "      <td>Santo Amaro</td>\n",
              "      <td>Recife</td>\n",
              "      <td>Recife</td>\n",
              "      <td>Pernambuco</td>\n",
              "      <td>apart</td>\n",
              "    </tr>\n",
              "    <tr>\n",
              "      <th>4</th>\n",
              "      <td>300000</td>\n",
              "      <td>-8.053580</td>\n",
              "      <td>-34.908733</td>\n",
              "      <td>3.0</td>\n",
              "      <td>97.0</td>\n",
              "      <td>1.0</td>\n",
              "      <td>3.0</td>\n",
              "      <td>1.0</td>\n",
              "      <td>Madalena</td>\n",
              "      <td>Recife</td>\n",
              "      <td>Recife</td>\n",
              "      <td>Pernambuco</td>\n",
              "      <td>apart</td>\n",
              "    </tr>\n",
              "  </tbody>\n",
              "</table>\n",
              "</div>"
            ],
            "text/plain": [
              "    price  latitude  longitude  bedrooms  area  pkspaces  bathrooms  ensuites  \\\n",
              "0    1500 -8.059791 -34.889619       4.0  37.0       3.0        3.0       NaN   \n",
              "1  330000 -8.029595 -34.900372       3.0  86.0       1.0        3.0       1.0   \n",
              "2  255000 -8.037247 -34.890986       2.0  82.0       1.0        2.0       NaN   \n",
              "3  380000 -8.047562 -34.876964       3.0  95.0       2.0        3.0       1.0   \n",
              "4  300000 -8.053580 -34.908733       3.0  97.0       1.0        3.0       1.0   \n",
              "\n",
              "         suburb district    city       state   type  \n",
              "0     Boa Vista   Recife  Recife  Pernambuco  apart  \n",
              "1   Tamarineira   Recife  Recife  Pernambuco  apart  \n",
              "2  Encruzilhada   Recife  Recife  Pernambuco  apart  \n",
              "3   Santo Amaro   Recife  Recife  Pernambuco  apart  \n",
              "4      Madalena   Recife  Recife  Pernambuco  apart  "
            ]
          },
          "metadata": {
            "tags": []
          },
          "execution_count": 11
        }
      ]
    },
    {
      "metadata": {
        "id": "w6cnmgVq4gDi",
        "colab_type": "text"
      },
      "cell_type": "markdown",
      "source": [
        "## Setando campos como categóricos"
      ]
    },
    {
      "metadata": {
        "id": "O-O6BFuKmlPN",
        "colab_type": "code",
        "colab": {
          "base_uri": "https://localhost:8080/",
          "height": 255
        },
        "outputId": "0c7c4a6e-ba2e-44d4-aa74-9593d0926a04"
      },
      "cell_type": "code",
      "source": [
        "houses.dtypes"
      ],
      "execution_count": 2,
      "outputs": [
        {
          "output_type": "execute_result",
          "data": {
            "text/plain": [
              "price          int64\n",
              "latitude     float64\n",
              "longitude    float64\n",
              "bedrooms     float64\n",
              "area         float64\n",
              "pkspaces     float64\n",
              "bathrooms    float64\n",
              "ensuites     float64\n",
              "suburb        object\n",
              "district      object\n",
              "city          object\n",
              "state         object\n",
              "type          object\n",
              "dtype: object"
            ]
          },
          "metadata": {
            "tags": []
          },
          "execution_count": 2
        }
      ]
    },
    {
      "metadata": {
        "id": "J9n5LrpKm83d",
        "colab_type": "code",
        "colab": {}
      },
      "cell_type": "code",
      "source": [
        "#ajustando tipos dos dados\n",
        "houses['suburb'] = houses['suburb'].astype('category')\n",
        "houses['district'] = houses['district'].astype('category')\n",
        "houses['city'] = houses['city'].astype('category')\n",
        "houses['state'] = houses['state'].astype('category')\n",
        "houses['type'] = houses['type'].astype('category')"
      ],
      "execution_count": 0,
      "outputs": []
    },
    {
      "metadata": {
        "id": "HRSFBmGUnMz8",
        "colab_type": "code",
        "colab": {
          "base_uri": "https://localhost:8080/",
          "height": 255
        },
        "outputId": "ecf75834-c349-42ae-e511-c1eb604a4716"
      },
      "cell_type": "code",
      "source": [
        "houses.dtypes"
      ],
      "execution_count": 13,
      "outputs": [
        {
          "output_type": "execute_result",
          "data": {
            "text/plain": [
              "price           int64\n",
              "latitude      float64\n",
              "longitude     float64\n",
              "bedrooms      float64\n",
              "area          float64\n",
              "pkspaces      float64\n",
              "bathrooms     float64\n",
              "ensuites      float64\n",
              "suburb       category\n",
              "district     category\n",
              "city         category\n",
              "state        category\n",
              "type         category\n",
              "dtype: object"
            ]
          },
          "metadata": {
            "tags": []
          },
          "execution_count": 13
        }
      ]
    },
    {
      "metadata": {
        "id": "CyVt9fo9o814",
        "colab_type": "code",
        "colab": {
          "base_uri": "https://localhost:8080/",
          "height": 238
        },
        "outputId": "1a03cae5-caf3-4852-f5bf-fb354687453b"
      },
      "cell_type": "code",
      "source": [
        "houses['suburb'].cat.categories"
      ],
      "execution_count": 5,
      "outputs": [
        {
          "output_type": "execute_result",
          "data": {
            "text/plain": [
              "Index(['Aflitos', 'Apipucos', 'Areias', 'Arruda', 'Boa Viagem', 'Boa Vista',\n",
              "       'Campo Grande', 'Casa Amarela', 'Casa Forte', 'CaxangÌÁ',\n",
              "       'Cidade UniversitÌÁria', 'Coelhos', 'Cohab', 'Cordeiro', 'Curado',\n",
              "       'Derby', 'Dois IrmÌ£os', 'Encruzilhada', 'Engenho do Meio',\n",
              "       'Espinheiro', 'EstÌ¢ncia', 'FundÌ£o', 'GraÌ¤as', 'HipÌ_dromo', 'Ibura',\n",
              "       'Ilha do Retiro', 'Imbiribeira', 'Ipsep', 'Iputinga', 'Jaqueira',\n",
              "       'Jardim SÌ£o Paulo', 'Madalena', 'Mangabeira', 'Monteiro',\n",
              "       'Mustardinha', 'Paissandu', 'Parnamirim', 'Pau-Ferro', 'Pina',\n",
              "       'Ponto de Parada', 'Porto da Madeira', 'PoÌ¤o', 'Prado', 'Rosarinho',\n",
              "       'San Martin', 'Santana', 'Santo Amaro', 'Santo AntÌ«nio', 'Soledade',\n",
              "       'SÌ£o JosÌ©', 'Tamarineira', 'TejipiÌ_', 'Torre', 'TorreÌ£o',\n",
              "       'TorrÌµes', 'Vasco da Gama', 'VÌÁrzea', 'Zumbi'],\n",
              "      dtype='object')"
            ]
          },
          "metadata": {
            "tags": []
          },
          "execution_count": 5
        }
      ]
    },
    {
      "metadata": {
        "id": "erilEInu9-DO",
        "colab_type": "code",
        "colab": {
          "base_uri": "https://localhost:8080/",
          "height": 34
        },
        "outputId": "1c97c5a9-ec27-408a-ec2d-2d29f41185c5"
      },
      "cell_type": "code",
      "source": [
        "houses['type'].cat.categories "
      ],
      "execution_count": 14,
      "outputs": [
        {
          "output_type": "execute_result",
          "data": {
            "text/plain": [
              "Index(['apart', 'house'], dtype='object')"
            ]
          },
          "metadata": {
            "tags": []
          },
          "execution_count": 14
        }
      ]
    },
    {
      "metadata": {
        "id": "19DvDQHlCazf",
        "colab_type": "code",
        "colab": {}
      },
      "cell_type": "code",
      "source": [
        "houses['type'] = houses['type'].cat.codes"
      ],
      "execution_count": 0,
      "outputs": []
    },
    {
      "metadata": {
        "id": "dbbuKsg_-M4e",
        "colab_type": "code",
        "colab": {
          "base_uri": "https://localhost:8080/",
          "height": 204
        },
        "outputId": "0d1c69c4-8037-40c1-8b1c-f0eaa5c45d1e"
      },
      "cell_type": "code",
      "source": [
        "houses.head()"
      ],
      "execution_count": 16,
      "outputs": [
        {
          "output_type": "execute_result",
          "data": {
            "text/html": [
              "<div>\n",
              "<style scoped>\n",
              "    .dataframe tbody tr th:only-of-type {\n",
              "        vertical-align: middle;\n",
              "    }\n",
              "\n",
              "    .dataframe tbody tr th {\n",
              "        vertical-align: top;\n",
              "    }\n",
              "\n",
              "    .dataframe thead th {\n",
              "        text-align: right;\n",
              "    }\n",
              "</style>\n",
              "<table border=\"1\" class=\"dataframe\">\n",
              "  <thead>\n",
              "    <tr style=\"text-align: right;\">\n",
              "      <th></th>\n",
              "      <th>price</th>\n",
              "      <th>latitude</th>\n",
              "      <th>longitude</th>\n",
              "      <th>bedrooms</th>\n",
              "      <th>area</th>\n",
              "      <th>pkspaces</th>\n",
              "      <th>bathrooms</th>\n",
              "      <th>ensuites</th>\n",
              "      <th>suburb</th>\n",
              "      <th>district</th>\n",
              "      <th>city</th>\n",
              "      <th>state</th>\n",
              "      <th>type</th>\n",
              "    </tr>\n",
              "  </thead>\n",
              "  <tbody>\n",
              "    <tr>\n",
              "      <th>0</th>\n",
              "      <td>1500</td>\n",
              "      <td>-8.059791</td>\n",
              "      <td>-34.889619</td>\n",
              "      <td>4.0</td>\n",
              "      <td>37.0</td>\n",
              "      <td>3.0</td>\n",
              "      <td>3.0</td>\n",
              "      <td>NaN</td>\n",
              "      <td>Boa Vista</td>\n",
              "      <td>Recife</td>\n",
              "      <td>Recife</td>\n",
              "      <td>Pernambuco</td>\n",
              "      <td>0</td>\n",
              "    </tr>\n",
              "    <tr>\n",
              "      <th>1</th>\n",
              "      <td>330000</td>\n",
              "      <td>-8.029595</td>\n",
              "      <td>-34.900372</td>\n",
              "      <td>3.0</td>\n",
              "      <td>86.0</td>\n",
              "      <td>1.0</td>\n",
              "      <td>3.0</td>\n",
              "      <td>1.0</td>\n",
              "      <td>Tamarineira</td>\n",
              "      <td>Recife</td>\n",
              "      <td>Recife</td>\n",
              "      <td>Pernambuco</td>\n",
              "      <td>0</td>\n",
              "    </tr>\n",
              "    <tr>\n",
              "      <th>2</th>\n",
              "      <td>255000</td>\n",
              "      <td>-8.037247</td>\n",
              "      <td>-34.890986</td>\n",
              "      <td>2.0</td>\n",
              "      <td>82.0</td>\n",
              "      <td>1.0</td>\n",
              "      <td>2.0</td>\n",
              "      <td>NaN</td>\n",
              "      <td>Encruzilhada</td>\n",
              "      <td>Recife</td>\n",
              "      <td>Recife</td>\n",
              "      <td>Pernambuco</td>\n",
              "      <td>0</td>\n",
              "    </tr>\n",
              "    <tr>\n",
              "      <th>3</th>\n",
              "      <td>380000</td>\n",
              "      <td>-8.047562</td>\n",
              "      <td>-34.876964</td>\n",
              "      <td>3.0</td>\n",
              "      <td>95.0</td>\n",
              "      <td>2.0</td>\n",
              "      <td>3.0</td>\n",
              "      <td>1.0</td>\n",
              "      <td>Santo Amaro</td>\n",
              "      <td>Recife</td>\n",
              "      <td>Recife</td>\n",
              "      <td>Pernambuco</td>\n",
              "      <td>0</td>\n",
              "    </tr>\n",
              "    <tr>\n",
              "      <th>4</th>\n",
              "      <td>300000</td>\n",
              "      <td>-8.053580</td>\n",
              "      <td>-34.908733</td>\n",
              "      <td>3.0</td>\n",
              "      <td>97.0</td>\n",
              "      <td>1.0</td>\n",
              "      <td>3.0</td>\n",
              "      <td>1.0</td>\n",
              "      <td>Madalena</td>\n",
              "      <td>Recife</td>\n",
              "      <td>Recife</td>\n",
              "      <td>Pernambuco</td>\n",
              "      <td>0</td>\n",
              "    </tr>\n",
              "  </tbody>\n",
              "</table>\n",
              "</div>"
            ],
            "text/plain": [
              "    price  latitude  longitude  bedrooms  area  pkspaces  bathrooms  ensuites  \\\n",
              "0    1500 -8.059791 -34.889619       4.0  37.0       3.0        3.0       NaN   \n",
              "1  330000 -8.029595 -34.900372       3.0  86.0       1.0        3.0       1.0   \n",
              "2  255000 -8.037247 -34.890986       2.0  82.0       1.0        2.0       NaN   \n",
              "3  380000 -8.047562 -34.876964       3.0  95.0       2.0        3.0       1.0   \n",
              "4  300000 -8.053580 -34.908733       3.0  97.0       1.0        3.0       1.0   \n",
              "\n",
              "         suburb district    city       state  type  \n",
              "0     Boa Vista   Recife  Recife  Pernambuco     0  \n",
              "1   Tamarineira   Recife  Recife  Pernambuco     0  \n",
              "2  Encruzilhada   Recife  Recife  Pernambuco     0  \n",
              "3   Santo Amaro   Recife  Recife  Pernambuco     0  \n",
              "4      Madalena   Recife  Recife  Pernambuco     0  "
            ]
          },
          "metadata": {
            "tags": []
          },
          "execution_count": 16
        }
      ]
    },
    {
      "metadata": {
        "id": "DSn6V9TuoLXs",
        "colab_type": "code",
        "colab": {
          "base_uri": "https://localhost:8080/",
          "height": 255
        },
        "outputId": "ba913e2d-8059-4aaf-a52b-7d4203130573"
      },
      "cell_type": "code",
      "source": [
        "houses.dtypes"
      ],
      "execution_count": 17,
      "outputs": [
        {
          "output_type": "execute_result",
          "data": {
            "text/plain": [
              "price           int64\n",
              "latitude      float64\n",
              "longitude     float64\n",
              "bedrooms      float64\n",
              "area          float64\n",
              "pkspaces      float64\n",
              "bathrooms     float64\n",
              "ensuites      float64\n",
              "suburb       category\n",
              "district     category\n",
              "city         category\n",
              "state        category\n",
              "type             int8\n",
              "dtype: object"
            ]
          },
          "metadata": {
            "tags": []
          },
          "execution_count": 17
        }
      ]
    },
    {
      "metadata": {
        "id": "6V4tDIKz4tOg",
        "colab_type": "text"
      },
      "cell_type": "markdown",
      "source": [
        "## Removendo instâncias"
      ]
    },
    {
      "metadata": {
        "id": "vOlvLmYtI0pK",
        "colab_type": "code",
        "colab": {
          "base_uri": "https://localhost:8080/",
          "height": 34
        },
        "outputId": "d0dd380b-0302-4f23-fb8f-97e9d2e082e1"
      },
      "cell_type": "code",
      "source": [
        "houses.shape"
      ],
      "execution_count": 18,
      "outputs": [
        {
          "output_type": "execute_result",
          "data": {
            "text/plain": [
              "(1744, 13)"
            ]
          },
          "metadata": {
            "tags": []
          },
          "execution_count": 18
        }
      ]
    },
    {
      "metadata": {
        "id": "HZQ-Q33r_Uz_",
        "colab_type": "code",
        "outputId": "e9fe58eb-b282-4367-c9bc-d79f7e1629cd",
        "colab": {
          "base_uri": "https://localhost:8080/",
          "height": 255
        }
      },
      "cell_type": "code",
      "source": [
        "print(houses.isnull().sum())"
      ],
      "execution_count": 13,
      "outputs": [
        {
          "output_type": "stream",
          "text": [
            "price          0\n",
            "latitude       0\n",
            "longitude      0\n",
            "bedrooms       7\n",
            "area          23\n",
            "pkspaces      98\n",
            "bathrooms    206\n",
            "ensuites     980\n",
            "suburb         0\n",
            "district       0\n",
            "city           0\n",
            "state          0\n",
            "type           0\n",
            "dtype: int64\n"
          ],
          "name": "stdout"
        }
      ]
    },
    {
      "metadata": {
        "id": "h0YAUcWM_MgK",
        "colab_type": "code",
        "outputId": "7efa9ec0-bdd9-484e-9368-23dbb934a09e",
        "colab": {
          "base_uri": "https://localhost:8080/",
          "height": 204
        }
      },
      "cell_type": "code",
      "source": [
        "#remove instâncias com ao menos 1 elemento faltando\n",
        "houses1 = houses.dropna()\n",
        "houses1.head()"
      ],
      "execution_count": 19,
      "outputs": [
        {
          "output_type": "execute_result",
          "data": {
            "text/html": [
              "<div>\n",
              "<style scoped>\n",
              "    .dataframe tbody tr th:only-of-type {\n",
              "        vertical-align: middle;\n",
              "    }\n",
              "\n",
              "    .dataframe tbody tr th {\n",
              "        vertical-align: top;\n",
              "    }\n",
              "\n",
              "    .dataframe thead th {\n",
              "        text-align: right;\n",
              "    }\n",
              "</style>\n",
              "<table border=\"1\" class=\"dataframe\">\n",
              "  <thead>\n",
              "    <tr style=\"text-align: right;\">\n",
              "      <th></th>\n",
              "      <th>price</th>\n",
              "      <th>latitude</th>\n",
              "      <th>longitude</th>\n",
              "      <th>bedrooms</th>\n",
              "      <th>area</th>\n",
              "      <th>pkspaces</th>\n",
              "      <th>bathrooms</th>\n",
              "      <th>ensuites</th>\n",
              "      <th>suburb</th>\n",
              "      <th>district</th>\n",
              "      <th>city</th>\n",
              "      <th>state</th>\n",
              "      <th>type</th>\n",
              "    </tr>\n",
              "  </thead>\n",
              "  <tbody>\n",
              "    <tr>\n",
              "      <th>1</th>\n",
              "      <td>330000</td>\n",
              "      <td>-8.029595</td>\n",
              "      <td>-34.900372</td>\n",
              "      <td>3.0</td>\n",
              "      <td>86.0</td>\n",
              "      <td>1.0</td>\n",
              "      <td>3.0</td>\n",
              "      <td>1.0</td>\n",
              "      <td>Tamarineira</td>\n",
              "      <td>Recife</td>\n",
              "      <td>Recife</td>\n",
              "      <td>Pernambuco</td>\n",
              "      <td>0</td>\n",
              "    </tr>\n",
              "    <tr>\n",
              "      <th>3</th>\n",
              "      <td>380000</td>\n",
              "      <td>-8.047562</td>\n",
              "      <td>-34.876964</td>\n",
              "      <td>3.0</td>\n",
              "      <td>95.0</td>\n",
              "      <td>2.0</td>\n",
              "      <td>3.0</td>\n",
              "      <td>1.0</td>\n",
              "      <td>Santo Amaro</td>\n",
              "      <td>Recife</td>\n",
              "      <td>Recife</td>\n",
              "      <td>Pernambuco</td>\n",
              "      <td>0</td>\n",
              "    </tr>\n",
              "    <tr>\n",
              "      <th>4</th>\n",
              "      <td>300000</td>\n",
              "      <td>-8.053580</td>\n",
              "      <td>-34.908733</td>\n",
              "      <td>3.0</td>\n",
              "      <td>97.0</td>\n",
              "      <td>1.0</td>\n",
              "      <td>3.0</td>\n",
              "      <td>1.0</td>\n",
              "      <td>Madalena</td>\n",
              "      <td>Recife</td>\n",
              "      <td>Recife</td>\n",
              "      <td>Pernambuco</td>\n",
              "      <td>0</td>\n",
              "    </tr>\n",
              "    <tr>\n",
              "      <th>5</th>\n",
              "      <td>320000</td>\n",
              "      <td>-8.026516</td>\n",
              "      <td>-34.917791</td>\n",
              "      <td>2.0</td>\n",
              "      <td>50.0</td>\n",
              "      <td>1.0</td>\n",
              "      <td>2.0</td>\n",
              "      <td>1.0</td>\n",
              "      <td>Casa Amarela</td>\n",
              "      <td>Recife</td>\n",
              "      <td>Recife</td>\n",
              "      <td>Pernambuco</td>\n",
              "      <td>0</td>\n",
              "    </tr>\n",
              "    <tr>\n",
              "      <th>6</th>\n",
              "      <td>750000</td>\n",
              "      <td>-8.047562</td>\n",
              "      <td>-34.876964</td>\n",
              "      <td>4.0</td>\n",
              "      <td>115.0</td>\n",
              "      <td>2.0</td>\n",
              "      <td>4.0</td>\n",
              "      <td>2.0</td>\n",
              "      <td>Santo Amaro</td>\n",
              "      <td>Recife</td>\n",
              "      <td>Recife</td>\n",
              "      <td>Pernambuco</td>\n",
              "      <td>0</td>\n",
              "    </tr>\n",
              "  </tbody>\n",
              "</table>\n",
              "</div>"
            ],
            "text/plain": [
              "    price  latitude  longitude  bedrooms   area  pkspaces  bathrooms  \\\n",
              "1  330000 -8.029595 -34.900372       3.0   86.0       1.0        3.0   \n",
              "3  380000 -8.047562 -34.876964       3.0   95.0       2.0        3.0   \n",
              "4  300000 -8.053580 -34.908733       3.0   97.0       1.0        3.0   \n",
              "5  320000 -8.026516 -34.917791       2.0   50.0       1.0        2.0   \n",
              "6  750000 -8.047562 -34.876964       4.0  115.0       2.0        4.0   \n",
              "\n",
              "   ensuites        suburb district    city       state  type  \n",
              "1       1.0   Tamarineira   Recife  Recife  Pernambuco     0  \n",
              "3       1.0   Santo Amaro   Recife  Recife  Pernambuco     0  \n",
              "4       1.0      Madalena   Recife  Recife  Pernambuco     0  \n",
              "5       1.0  Casa Amarela   Recife  Recife  Pernambuco     0  \n",
              "6       2.0   Santo Amaro   Recife  Recife  Pernambuco     0  "
            ]
          },
          "metadata": {
            "tags": []
          },
          "execution_count": 19
        }
      ]
    },
    {
      "metadata": {
        "id": "RQz6Xour_X9u",
        "colab_type": "code",
        "outputId": "849006a5-b801-44b6-fe87-7f2e4d6f2d07",
        "colab": {
          "base_uri": "https://localhost:8080/",
          "height": 34
        }
      },
      "cell_type": "code",
      "source": [
        "len(houses1)"
      ],
      "execution_count": 15,
      "outputs": [
        {
          "output_type": "execute_result",
          "data": {
            "text/plain": [
              "758"
            ]
          },
          "metadata": {
            "tags": []
          },
          "execution_count": 15
        }
      ]
    },
    {
      "metadata": {
        "id": "cw5iAC75C6Kc",
        "colab_type": "code",
        "outputId": "88bf39c4-7e97-4dda-d149-5166a4624f1a",
        "colab": {
          "base_uri": "https://localhost:8080/",
          "height": 255
        }
      },
      "cell_type": "code",
      "source": [
        "print(houses1.isnull().sum())"
      ],
      "execution_count": 20,
      "outputs": [
        {
          "output_type": "stream",
          "text": [
            "price        0\n",
            "latitude     0\n",
            "longitude    0\n",
            "bedrooms     0\n",
            "area         0\n",
            "pkspaces     0\n",
            "bathrooms    0\n",
            "ensuites     0\n",
            "suburb       0\n",
            "district     0\n",
            "city         0\n",
            "state        0\n",
            "type         0\n",
            "dtype: int64\n"
          ],
          "name": "stdout"
        }
      ]
    },
    {
      "metadata": {
        "id": "w6TtysO543sh",
        "colab_type": "text"
      },
      "cell_type": "markdown",
      "source": [
        "## Removendo colunas quase vazias"
      ]
    },
    {
      "metadata": {
        "id": "9f1rRTHv5qQn",
        "colab_type": "code",
        "colab": {
          "base_uri": "https://localhost:8080/",
          "height": 255
        },
        "outputId": "acbcb3d4-fe6e-42ed-addb-886164b46455"
      },
      "cell_type": "code",
      "source": [
        "print(houses.isnull().sum())"
      ],
      "execution_count": 17,
      "outputs": [
        {
          "output_type": "stream",
          "text": [
            "price          0\n",
            "latitude       0\n",
            "longitude      0\n",
            "bedrooms       7\n",
            "area          23\n",
            "pkspaces      98\n",
            "bathrooms    206\n",
            "ensuites     980\n",
            "suburb         0\n",
            "district       0\n",
            "city           0\n",
            "state          0\n",
            "type           0\n",
            "dtype: int64\n"
          ],
          "name": "stdout"
        }
      ]
    },
    {
      "metadata": {
        "id": "M8rrOHlj_Zak",
        "colab_type": "code",
        "colab": {}
      },
      "cell_type": "code",
      "source": [
        "#remove colunas com menos de 70% de dados ausentes\n",
        "houses2 = houses.dropna(thresh=0.7*len(houses), axis=1)"
      ],
      "execution_count": 0,
      "outputs": []
    },
    {
      "metadata": {
        "id": "fe55fINPBF-O",
        "colab_type": "code",
        "outputId": "0a881601-e13a-4b66-d5da-357ed3196703",
        "colab": {
          "base_uri": "https://localhost:8080/",
          "height": 204
        }
      },
      "cell_type": "code",
      "source": [
        "houses2.head()"
      ],
      "execution_count": 22,
      "outputs": [
        {
          "output_type": "execute_result",
          "data": {
            "text/html": [
              "<div>\n",
              "<style scoped>\n",
              "    .dataframe tbody tr th:only-of-type {\n",
              "        vertical-align: middle;\n",
              "    }\n",
              "\n",
              "    .dataframe tbody tr th {\n",
              "        vertical-align: top;\n",
              "    }\n",
              "\n",
              "    .dataframe thead th {\n",
              "        text-align: right;\n",
              "    }\n",
              "</style>\n",
              "<table border=\"1\" class=\"dataframe\">\n",
              "  <thead>\n",
              "    <tr style=\"text-align: right;\">\n",
              "      <th></th>\n",
              "      <th>price</th>\n",
              "      <th>latitude</th>\n",
              "      <th>longitude</th>\n",
              "      <th>bedrooms</th>\n",
              "      <th>area</th>\n",
              "      <th>pkspaces</th>\n",
              "      <th>bathrooms</th>\n",
              "      <th>suburb</th>\n",
              "      <th>district</th>\n",
              "      <th>city</th>\n",
              "      <th>state</th>\n",
              "      <th>type</th>\n",
              "    </tr>\n",
              "  </thead>\n",
              "  <tbody>\n",
              "    <tr>\n",
              "      <th>0</th>\n",
              "      <td>1500</td>\n",
              "      <td>-8.059791</td>\n",
              "      <td>-34.889619</td>\n",
              "      <td>4.0</td>\n",
              "      <td>37.0</td>\n",
              "      <td>3.0</td>\n",
              "      <td>3.0</td>\n",
              "      <td>Boa Vista</td>\n",
              "      <td>Recife</td>\n",
              "      <td>Recife</td>\n",
              "      <td>Pernambuco</td>\n",
              "      <td>0</td>\n",
              "    </tr>\n",
              "    <tr>\n",
              "      <th>1</th>\n",
              "      <td>330000</td>\n",
              "      <td>-8.029595</td>\n",
              "      <td>-34.900372</td>\n",
              "      <td>3.0</td>\n",
              "      <td>86.0</td>\n",
              "      <td>1.0</td>\n",
              "      <td>3.0</td>\n",
              "      <td>Tamarineira</td>\n",
              "      <td>Recife</td>\n",
              "      <td>Recife</td>\n",
              "      <td>Pernambuco</td>\n",
              "      <td>0</td>\n",
              "    </tr>\n",
              "    <tr>\n",
              "      <th>2</th>\n",
              "      <td>255000</td>\n",
              "      <td>-8.037247</td>\n",
              "      <td>-34.890986</td>\n",
              "      <td>2.0</td>\n",
              "      <td>82.0</td>\n",
              "      <td>1.0</td>\n",
              "      <td>2.0</td>\n",
              "      <td>Encruzilhada</td>\n",
              "      <td>Recife</td>\n",
              "      <td>Recife</td>\n",
              "      <td>Pernambuco</td>\n",
              "      <td>0</td>\n",
              "    </tr>\n",
              "    <tr>\n",
              "      <th>3</th>\n",
              "      <td>380000</td>\n",
              "      <td>-8.047562</td>\n",
              "      <td>-34.876964</td>\n",
              "      <td>3.0</td>\n",
              "      <td>95.0</td>\n",
              "      <td>2.0</td>\n",
              "      <td>3.0</td>\n",
              "      <td>Santo Amaro</td>\n",
              "      <td>Recife</td>\n",
              "      <td>Recife</td>\n",
              "      <td>Pernambuco</td>\n",
              "      <td>0</td>\n",
              "    </tr>\n",
              "    <tr>\n",
              "      <th>4</th>\n",
              "      <td>300000</td>\n",
              "      <td>-8.053580</td>\n",
              "      <td>-34.908733</td>\n",
              "      <td>3.0</td>\n",
              "      <td>97.0</td>\n",
              "      <td>1.0</td>\n",
              "      <td>3.0</td>\n",
              "      <td>Madalena</td>\n",
              "      <td>Recife</td>\n",
              "      <td>Recife</td>\n",
              "      <td>Pernambuco</td>\n",
              "      <td>0</td>\n",
              "    </tr>\n",
              "  </tbody>\n",
              "</table>\n",
              "</div>"
            ],
            "text/plain": [
              "    price  latitude  longitude  bedrooms  area  pkspaces  bathrooms  \\\n",
              "0    1500 -8.059791 -34.889619       4.0  37.0       3.0        3.0   \n",
              "1  330000 -8.029595 -34.900372       3.0  86.0       1.0        3.0   \n",
              "2  255000 -8.037247 -34.890986       2.0  82.0       1.0        2.0   \n",
              "3  380000 -8.047562 -34.876964       3.0  95.0       2.0        3.0   \n",
              "4  300000 -8.053580 -34.908733       3.0  97.0       1.0        3.0   \n",
              "\n",
              "         suburb district    city       state  type  \n",
              "0     Boa Vista   Recife  Recife  Pernambuco     0  \n",
              "1   Tamarineira   Recife  Recife  Pernambuco     0  \n",
              "2  Encruzilhada   Recife  Recife  Pernambuco     0  \n",
              "3   Santo Amaro   Recife  Recife  Pernambuco     0  \n",
              "4      Madalena   Recife  Recife  Pernambuco     0  "
            ]
          },
          "metadata": {
            "tags": []
          },
          "execution_count": 22
        }
      ]
    },
    {
      "metadata": {
        "id": "YMrPX-LZBQZJ",
        "colab_type": "code",
        "outputId": "e1a522a2-ecd0-4dd7-9efc-3cb4c6a035ab",
        "colab": {
          "base_uri": "https://localhost:8080/",
          "height": 238
        }
      },
      "cell_type": "code",
      "source": [
        "print(houses2.isnull().sum())"
      ],
      "execution_count": 23,
      "outputs": [
        {
          "output_type": "stream",
          "text": [
            "price          0\n",
            "latitude       0\n",
            "longitude      0\n",
            "bedrooms       7\n",
            "area          23\n",
            "pkspaces      98\n",
            "bathrooms    206\n",
            "suburb         0\n",
            "district       0\n",
            "city           0\n",
            "state          0\n",
            "type           0\n",
            "dtype: int64\n"
          ],
          "name": "stdout"
        }
      ]
    },
    {
      "metadata": {
        "id": "4NkmolL950rQ",
        "colab_type": "text"
      },
      "cell_type": "markdown",
      "source": [
        "## Inserindo dados ausentes em 1 coluna"
      ]
    },
    {
      "metadata": {
        "id": "oZO6EE-lEGP0",
        "colab_type": "code",
        "outputId": "9be65cec-9561-42e8-c861-f2d6ade73b79",
        "colab": {
          "base_uri": "https://localhost:8080/",
          "height": 51
        }
      },
      "cell_type": "code",
      "source": [
        "print(houses2['bathrooms'].mean())\n",
        "print(houses2['bathrooms'].median())"
      ],
      "execution_count": 21,
      "outputs": [
        {
          "output_type": "stream",
          "text": [
            "2.676853055916775\n",
            "3.0\n"
          ],
          "name": "stdout"
        }
      ]
    },
    {
      "metadata": {
        "id": "_2-IwIR3DIfa",
        "colab_type": "code",
        "outputId": "4c92cca1-2a1e-4b51-a8b9-cdf740a4a636",
        "colab": {
          "base_uri": "https://localhost:8080/",
          "height": 102
        }
      },
      "cell_type": "code",
      "source": [
        "#adiciona media de banheiros nos dados ausentes de banheiros\n",
        "houses2['bathrooms'].fillna(houses2['bathrooms'].mean(), inplace=True)"
      ],
      "execution_count": 24,
      "outputs": [
        {
          "output_type": "stream",
          "text": [
            "/usr/local/lib/python3.6/dist-packages/pandas/core/generic.py:4355: SettingWithCopyWarning: \n",
            "A value is trying to be set on a copy of a slice from a DataFrame\n",
            "\n",
            "See the caveats in the documentation: http://pandas.pydata.org/pandas-docs/stable/indexing.html#indexing-view-versus-copy\n",
            "  self._update_inplace(new_data)\n"
          ],
          "name": "stderr"
        }
      ]
    },
    {
      "metadata": {
        "id": "rYm8ysHXFZ8p",
        "colab_type": "code",
        "outputId": "734497e0-9eb2-4968-a7ff-f62b24ce0c9a",
        "colab": {
          "base_uri": "https://localhost:8080/",
          "height": 238
        }
      },
      "cell_type": "code",
      "source": [
        "print(houses2.isnull().sum())"
      ],
      "execution_count": 25,
      "outputs": [
        {
          "output_type": "stream",
          "text": [
            "price         0\n",
            "latitude      0\n",
            "longitude     0\n",
            "bedrooms      7\n",
            "area         23\n",
            "pkspaces     98\n",
            "bathrooms     0\n",
            "suburb        0\n",
            "district      0\n",
            "city          0\n",
            "state         0\n",
            "type          0\n",
            "dtype: int64\n"
          ],
          "name": "stdout"
        }
      ]
    },
    {
      "metadata": {
        "id": "oSlKHmbpDvXC",
        "colab_type": "code",
        "outputId": "034105c1-7620-4ab7-dc9e-2299c09e15b3",
        "colab": {
          "base_uri": "https://localhost:8080/",
          "height": 51
        }
      },
      "cell_type": "code",
      "source": [
        "print(houses2['bathrooms'].mean())\n",
        "print(houses2['bathrooms'].median())"
      ],
      "execution_count": 26,
      "outputs": [
        {
          "output_type": "stream",
          "text": [
            "2.6768530559167534\n",
            "2.676853055916775\n"
          ],
          "name": "stdout"
        }
      ]
    },
    {
      "metadata": {
        "id": "sANvcpHsEWV0",
        "colab_type": "code",
        "outputId": "feab1f28-0524-4568-c527-30b191fba7e5",
        "colab": {
          "base_uri": "https://localhost:8080/",
          "height": 266
        }
      },
      "cell_type": "code",
      "source": [
        "houses2.corr(method='spearman')"
      ],
      "execution_count": 25,
      "outputs": [
        {
          "output_type": "execute_result",
          "data": {
            "text/html": [
              "<div>\n",
              "<style scoped>\n",
              "    .dataframe tbody tr th:only-of-type {\n",
              "        vertical-align: middle;\n",
              "    }\n",
              "\n",
              "    .dataframe tbody tr th {\n",
              "        vertical-align: top;\n",
              "    }\n",
              "\n",
              "    .dataframe thead th {\n",
              "        text-align: right;\n",
              "    }\n",
              "</style>\n",
              "<table border=\"1\" class=\"dataframe\">\n",
              "  <thead>\n",
              "    <tr style=\"text-align: right;\">\n",
              "      <th></th>\n",
              "      <th>price</th>\n",
              "      <th>latitude</th>\n",
              "      <th>longitude</th>\n",
              "      <th>bedrooms</th>\n",
              "      <th>area</th>\n",
              "      <th>pkspaces</th>\n",
              "      <th>bathrooms</th>\n",
              "    </tr>\n",
              "  </thead>\n",
              "  <tbody>\n",
              "    <tr>\n",
              "      <th>price</th>\n",
              "      <td>1.000000</td>\n",
              "      <td>0.142366</td>\n",
              "      <td>0.003046</td>\n",
              "      <td>0.485487</td>\n",
              "      <td>0.492475</td>\n",
              "      <td>0.428939</td>\n",
              "      <td>0.508781</td>\n",
              "    </tr>\n",
              "    <tr>\n",
              "      <th>latitude</th>\n",
              "      <td>0.142366</td>\n",
              "      <td>1.000000</td>\n",
              "      <td>-0.159716</td>\n",
              "      <td>-0.037816</td>\n",
              "      <td>0.009346</td>\n",
              "      <td>0.006300</td>\n",
              "      <td>0.101693</td>\n",
              "    </tr>\n",
              "    <tr>\n",
              "      <th>longitude</th>\n",
              "      <td>0.003046</td>\n",
              "      <td>-0.159716</td>\n",
              "      <td>1.000000</td>\n",
              "      <td>0.000067</td>\n",
              "      <td>-0.042796</td>\n",
              "      <td>-0.082754</td>\n",
              "      <td>0.041270</td>\n",
              "    </tr>\n",
              "    <tr>\n",
              "      <th>bedrooms</th>\n",
              "      <td>0.485487</td>\n",
              "      <td>-0.037816</td>\n",
              "      <td>0.000067</td>\n",
              "      <td>1.000000</td>\n",
              "      <td>0.674139</td>\n",
              "      <td>0.676838</td>\n",
              "      <td>0.642759</td>\n",
              "    </tr>\n",
              "    <tr>\n",
              "      <th>area</th>\n",
              "      <td>0.492475</td>\n",
              "      <td>0.009346</td>\n",
              "      <td>-0.042796</td>\n",
              "      <td>0.674139</td>\n",
              "      <td>1.000000</td>\n",
              "      <td>0.647847</td>\n",
              "      <td>0.525298</td>\n",
              "    </tr>\n",
              "    <tr>\n",
              "      <th>pkspaces</th>\n",
              "      <td>0.428939</td>\n",
              "      <td>0.006300</td>\n",
              "      <td>-0.082754</td>\n",
              "      <td>0.676838</td>\n",
              "      <td>0.647847</td>\n",
              "      <td>1.000000</td>\n",
              "      <td>0.520335</td>\n",
              "    </tr>\n",
              "    <tr>\n",
              "      <th>bathrooms</th>\n",
              "      <td>0.508781</td>\n",
              "      <td>0.101693</td>\n",
              "      <td>0.041270</td>\n",
              "      <td>0.642759</td>\n",
              "      <td>0.525298</td>\n",
              "      <td>0.520335</td>\n",
              "      <td>1.000000</td>\n",
              "    </tr>\n",
              "  </tbody>\n",
              "</table>\n",
              "</div>"
            ],
            "text/plain": [
              "              price  latitude  longitude  bedrooms      area  pkspaces  \\\n",
              "price      1.000000  0.142366   0.003046  0.485487  0.492475  0.428939   \n",
              "latitude   0.142366  1.000000  -0.159716 -0.037816  0.009346  0.006300   \n",
              "longitude  0.003046 -0.159716   1.000000  0.000067 -0.042796 -0.082754   \n",
              "bedrooms   0.485487 -0.037816   0.000067  1.000000  0.674139  0.676838   \n",
              "area       0.492475  0.009346  -0.042796  0.674139  1.000000  0.647847   \n",
              "pkspaces   0.428939  0.006300  -0.082754  0.676838  0.647847  1.000000   \n",
              "bathrooms  0.508781  0.101693   0.041270  0.642759  0.525298  0.520335   \n",
              "\n",
              "           bathrooms  \n",
              "price       0.508781  \n",
              "latitude    0.101693  \n",
              "longitude   0.041270  \n",
              "bedrooms    0.642759  \n",
              "area        0.525298  \n",
              "pkspaces    0.520335  \n",
              "bathrooms   1.000000  "
            ]
          },
          "metadata": {
            "tags": []
          },
          "execution_count": 25
        }
      ]
    },
    {
      "metadata": {
        "id": "Wt4hcZZ_GMq9",
        "colab_type": "code",
        "outputId": "5e926461-9ff2-4aaa-d52d-344796bcf947",
        "colab": {
          "base_uri": "https://localhost:8080/",
          "height": 297
        }
      },
      "cell_type": "code",
      "source": [
        "houses.corr(method='spearman')"
      ],
      "execution_count": 26,
      "outputs": [
        {
          "output_type": "execute_result",
          "data": {
            "text/html": [
              "<div>\n",
              "<style scoped>\n",
              "    .dataframe tbody tr th:only-of-type {\n",
              "        vertical-align: middle;\n",
              "    }\n",
              "\n",
              "    .dataframe tbody tr th {\n",
              "        vertical-align: top;\n",
              "    }\n",
              "\n",
              "    .dataframe thead th {\n",
              "        text-align: right;\n",
              "    }\n",
              "</style>\n",
              "<table border=\"1\" class=\"dataframe\">\n",
              "  <thead>\n",
              "    <tr style=\"text-align: right;\">\n",
              "      <th></th>\n",
              "      <th>price</th>\n",
              "      <th>latitude</th>\n",
              "      <th>longitude</th>\n",
              "      <th>bedrooms</th>\n",
              "      <th>area</th>\n",
              "      <th>pkspaces</th>\n",
              "      <th>bathrooms</th>\n",
              "      <th>ensuites</th>\n",
              "    </tr>\n",
              "  </thead>\n",
              "  <tbody>\n",
              "    <tr>\n",
              "      <th>price</th>\n",
              "      <td>1.000000</td>\n",
              "      <td>0.142366</td>\n",
              "      <td>0.003046</td>\n",
              "      <td>0.485487</td>\n",
              "      <td>0.492475</td>\n",
              "      <td>0.428939</td>\n",
              "      <td>0.559964</td>\n",
              "      <td>0.621447</td>\n",
              "    </tr>\n",
              "    <tr>\n",
              "      <th>latitude</th>\n",
              "      <td>0.142366</td>\n",
              "      <td>1.000000</td>\n",
              "      <td>-0.159716</td>\n",
              "      <td>-0.037816</td>\n",
              "      <td>0.009346</td>\n",
              "      <td>0.006300</td>\n",
              "      <td>0.131152</td>\n",
              "      <td>0.082037</td>\n",
              "    </tr>\n",
              "    <tr>\n",
              "      <th>longitude</th>\n",
              "      <td>0.003046</td>\n",
              "      <td>-0.159716</td>\n",
              "      <td>1.000000</td>\n",
              "      <td>0.000067</td>\n",
              "      <td>-0.042796</td>\n",
              "      <td>-0.082754</td>\n",
              "      <td>0.036063</td>\n",
              "      <td>-0.153205</td>\n",
              "    </tr>\n",
              "    <tr>\n",
              "      <th>bedrooms</th>\n",
              "      <td>0.485487</td>\n",
              "      <td>-0.037816</td>\n",
              "      <td>0.000067</td>\n",
              "      <td>1.000000</td>\n",
              "      <td>0.674139</td>\n",
              "      <td>0.676838</td>\n",
              "      <td>0.688388</td>\n",
              "      <td>0.563133</td>\n",
              "    </tr>\n",
              "    <tr>\n",
              "      <th>area</th>\n",
              "      <td>0.492475</td>\n",
              "      <td>0.009346</td>\n",
              "      <td>-0.042796</td>\n",
              "      <td>0.674139</td>\n",
              "      <td>1.000000</td>\n",
              "      <td>0.647847</td>\n",
              "      <td>0.569009</td>\n",
              "      <td>0.614660</td>\n",
              "    </tr>\n",
              "    <tr>\n",
              "      <th>pkspaces</th>\n",
              "      <td>0.428939</td>\n",
              "      <td>0.006300</td>\n",
              "      <td>-0.082754</td>\n",
              "      <td>0.676838</td>\n",
              "      <td>0.647847</td>\n",
              "      <td>1.000000</td>\n",
              "      <td>0.559461</td>\n",
              "      <td>0.558090</td>\n",
              "    </tr>\n",
              "    <tr>\n",
              "      <th>bathrooms</th>\n",
              "      <td>0.559964</td>\n",
              "      <td>0.131152</td>\n",
              "      <td>0.036063</td>\n",
              "      <td>0.688388</td>\n",
              "      <td>0.569009</td>\n",
              "      <td>0.559461</td>\n",
              "      <td>1.000000</td>\n",
              "      <td>0.682480</td>\n",
              "    </tr>\n",
              "    <tr>\n",
              "      <th>ensuites</th>\n",
              "      <td>0.621447</td>\n",
              "      <td>0.082037</td>\n",
              "      <td>-0.153205</td>\n",
              "      <td>0.563133</td>\n",
              "      <td>0.614660</td>\n",
              "      <td>0.558090</td>\n",
              "      <td>0.682480</td>\n",
              "      <td>1.000000</td>\n",
              "    </tr>\n",
              "  </tbody>\n",
              "</table>\n",
              "</div>"
            ],
            "text/plain": [
              "              price  latitude  longitude  bedrooms      area  pkspaces  \\\n",
              "price      1.000000  0.142366   0.003046  0.485487  0.492475  0.428939   \n",
              "latitude   0.142366  1.000000  -0.159716 -0.037816  0.009346  0.006300   \n",
              "longitude  0.003046 -0.159716   1.000000  0.000067 -0.042796 -0.082754   \n",
              "bedrooms   0.485487 -0.037816   0.000067  1.000000  0.674139  0.676838   \n",
              "area       0.492475  0.009346  -0.042796  0.674139  1.000000  0.647847   \n",
              "pkspaces   0.428939  0.006300  -0.082754  0.676838  0.647847  1.000000   \n",
              "bathrooms  0.559964  0.131152   0.036063  0.688388  0.569009  0.559461   \n",
              "ensuites   0.621447  0.082037  -0.153205  0.563133  0.614660  0.558090   \n",
              "\n",
              "           bathrooms  ensuites  \n",
              "price       0.559964  0.621447  \n",
              "latitude    0.131152  0.082037  \n",
              "longitude   0.036063 -0.153205  \n",
              "bedrooms    0.688388  0.563133  \n",
              "area        0.569009  0.614660  \n",
              "pkspaces    0.559461  0.558090  \n",
              "bathrooms   1.000000  0.682480  \n",
              "ensuites    0.682480  1.000000  "
            ]
          },
          "metadata": {
            "tags": []
          },
          "execution_count": 26
        }
      ]
    },
    {
      "metadata": {
        "id": "wtwjyoeZCUQM",
        "colab_type": "code",
        "outputId": "5b32dd3e-7faf-4c8c-e194-2ddaa62cd1ce",
        "colab": {
          "base_uri": "https://localhost:8080/",
          "height": 102
        }
      },
      "cell_type": "code",
      "source": [
        "#remove colunas com menos de 70% de dados ausentes\n",
        "houses2 = houses.dropna(thresh=0.7*len(houses), axis=1)\n",
        "#adiciona median de banheiros nos dados ausentes de banheiros\n",
        "houses2['bathrooms'].fillna(houses2['bathrooms'].median(), inplace=True)\n"
      ],
      "execution_count": 27,
      "outputs": [
        {
          "output_type": "stream",
          "text": [
            "/usr/local/lib/python3.6/dist-packages/pandas/core/generic.py:4355: SettingWithCopyWarning: \n",
            "A value is trying to be set on a copy of a slice from a DataFrame\n",
            "\n",
            "See the caveats in the documentation: http://pandas.pydata.org/pandas-docs/stable/indexing.html#indexing-view-versus-copy\n",
            "  self._update_inplace(new_data)\n"
          ],
          "name": "stderr"
        }
      ]
    },
    {
      "metadata": {
        "id": "Y3tPK6f-EkYi",
        "colab_type": "code",
        "outputId": "5adb2b52-508b-4bfa-dd78-a1234244a638",
        "colab": {
          "base_uri": "https://localhost:8080/",
          "height": 51
        }
      },
      "cell_type": "code",
      "source": [
        "print(houses2['bathrooms'].mean())\n",
        "print(houses2['bathrooms'].median())"
      ],
      "execution_count": 28,
      "outputs": [
        {
          "output_type": "stream",
          "text": [
            "2.7150229357798166\n",
            "3.0\n"
          ],
          "name": "stdout"
        }
      ]
    },
    {
      "metadata": {
        "id": "Uxuhu1wKE298",
        "colab_type": "code",
        "outputId": "9c7f504b-2224-410e-eba7-81927d0977dc",
        "colab": {
          "base_uri": "https://localhost:8080/",
          "height": 297
        }
      },
      "cell_type": "code",
      "source": [
        "houses.corr(method='spearman')"
      ],
      "execution_count": 29,
      "outputs": [
        {
          "output_type": "execute_result",
          "data": {
            "text/html": [
              "<div>\n",
              "<style scoped>\n",
              "    .dataframe tbody tr th:only-of-type {\n",
              "        vertical-align: middle;\n",
              "    }\n",
              "\n",
              "    .dataframe tbody tr th {\n",
              "        vertical-align: top;\n",
              "    }\n",
              "\n",
              "    .dataframe thead th {\n",
              "        text-align: right;\n",
              "    }\n",
              "</style>\n",
              "<table border=\"1\" class=\"dataframe\">\n",
              "  <thead>\n",
              "    <tr style=\"text-align: right;\">\n",
              "      <th></th>\n",
              "      <th>price</th>\n",
              "      <th>latitude</th>\n",
              "      <th>longitude</th>\n",
              "      <th>bedrooms</th>\n",
              "      <th>area</th>\n",
              "      <th>pkspaces</th>\n",
              "      <th>bathrooms</th>\n",
              "      <th>ensuites</th>\n",
              "    </tr>\n",
              "  </thead>\n",
              "  <tbody>\n",
              "    <tr>\n",
              "      <th>price</th>\n",
              "      <td>1.000000</td>\n",
              "      <td>0.142366</td>\n",
              "      <td>0.003046</td>\n",
              "      <td>0.485487</td>\n",
              "      <td>0.492475</td>\n",
              "      <td>0.428939</td>\n",
              "      <td>0.559964</td>\n",
              "      <td>0.621447</td>\n",
              "    </tr>\n",
              "    <tr>\n",
              "      <th>latitude</th>\n",
              "      <td>0.142366</td>\n",
              "      <td>1.000000</td>\n",
              "      <td>-0.159716</td>\n",
              "      <td>-0.037816</td>\n",
              "      <td>0.009346</td>\n",
              "      <td>0.006300</td>\n",
              "      <td>0.131152</td>\n",
              "      <td>0.082037</td>\n",
              "    </tr>\n",
              "    <tr>\n",
              "      <th>longitude</th>\n",
              "      <td>0.003046</td>\n",
              "      <td>-0.159716</td>\n",
              "      <td>1.000000</td>\n",
              "      <td>0.000067</td>\n",
              "      <td>-0.042796</td>\n",
              "      <td>-0.082754</td>\n",
              "      <td>0.036063</td>\n",
              "      <td>-0.153205</td>\n",
              "    </tr>\n",
              "    <tr>\n",
              "      <th>bedrooms</th>\n",
              "      <td>0.485487</td>\n",
              "      <td>-0.037816</td>\n",
              "      <td>0.000067</td>\n",
              "      <td>1.000000</td>\n",
              "      <td>0.674139</td>\n",
              "      <td>0.676838</td>\n",
              "      <td>0.688388</td>\n",
              "      <td>0.563133</td>\n",
              "    </tr>\n",
              "    <tr>\n",
              "      <th>area</th>\n",
              "      <td>0.492475</td>\n",
              "      <td>0.009346</td>\n",
              "      <td>-0.042796</td>\n",
              "      <td>0.674139</td>\n",
              "      <td>1.000000</td>\n",
              "      <td>0.647847</td>\n",
              "      <td>0.569009</td>\n",
              "      <td>0.614660</td>\n",
              "    </tr>\n",
              "    <tr>\n",
              "      <th>pkspaces</th>\n",
              "      <td>0.428939</td>\n",
              "      <td>0.006300</td>\n",
              "      <td>-0.082754</td>\n",
              "      <td>0.676838</td>\n",
              "      <td>0.647847</td>\n",
              "      <td>1.000000</td>\n",
              "      <td>0.559461</td>\n",
              "      <td>0.558090</td>\n",
              "    </tr>\n",
              "    <tr>\n",
              "      <th>bathrooms</th>\n",
              "      <td>0.559964</td>\n",
              "      <td>0.131152</td>\n",
              "      <td>0.036063</td>\n",
              "      <td>0.688388</td>\n",
              "      <td>0.569009</td>\n",
              "      <td>0.559461</td>\n",
              "      <td>1.000000</td>\n",
              "      <td>0.682480</td>\n",
              "    </tr>\n",
              "    <tr>\n",
              "      <th>ensuites</th>\n",
              "      <td>0.621447</td>\n",
              "      <td>0.082037</td>\n",
              "      <td>-0.153205</td>\n",
              "      <td>0.563133</td>\n",
              "      <td>0.614660</td>\n",
              "      <td>0.558090</td>\n",
              "      <td>0.682480</td>\n",
              "      <td>1.000000</td>\n",
              "    </tr>\n",
              "  </tbody>\n",
              "</table>\n",
              "</div>"
            ],
            "text/plain": [
              "              price  latitude  longitude  bedrooms      area  pkspaces  \\\n",
              "price      1.000000  0.142366   0.003046  0.485487  0.492475  0.428939   \n",
              "latitude   0.142366  1.000000  -0.159716 -0.037816  0.009346  0.006300   \n",
              "longitude  0.003046 -0.159716   1.000000  0.000067 -0.042796 -0.082754   \n",
              "bedrooms   0.485487 -0.037816   0.000067  1.000000  0.674139  0.676838   \n",
              "area       0.492475  0.009346  -0.042796  0.674139  1.000000  0.647847   \n",
              "pkspaces   0.428939  0.006300  -0.082754  0.676838  0.647847  1.000000   \n",
              "bathrooms  0.559964  0.131152   0.036063  0.688388  0.569009  0.559461   \n",
              "ensuites   0.621447  0.082037  -0.153205  0.563133  0.614660  0.558090   \n",
              "\n",
              "           bathrooms  ensuites  \n",
              "price       0.559964  0.621447  \n",
              "latitude    0.131152  0.082037  \n",
              "longitude   0.036063 -0.153205  \n",
              "bedrooms    0.688388  0.563133  \n",
              "area        0.569009  0.614660  \n",
              "pkspaces    0.559461  0.558090  \n",
              "bathrooms   1.000000  0.682480  \n",
              "ensuites    0.682480  1.000000  "
            ]
          },
          "metadata": {
            "tags": []
          },
          "execution_count": 29
        }
      ]
    },
    {
      "metadata": {
        "id": "lUegD_tiE658",
        "colab_type": "code",
        "outputId": "2a61bb70-3652-4930-82ec-636eeae097cb",
        "colab": {
          "base_uri": "https://localhost:8080/",
          "height": 266
        }
      },
      "cell_type": "code",
      "source": [
        "houses2.corr(method='spearman')"
      ],
      "execution_count": 30,
      "outputs": [
        {
          "output_type": "execute_result",
          "data": {
            "text/html": [
              "<div>\n",
              "<style scoped>\n",
              "    .dataframe tbody tr th:only-of-type {\n",
              "        vertical-align: middle;\n",
              "    }\n",
              "\n",
              "    .dataframe tbody tr th {\n",
              "        vertical-align: top;\n",
              "    }\n",
              "\n",
              "    .dataframe thead th {\n",
              "        text-align: right;\n",
              "    }\n",
              "</style>\n",
              "<table border=\"1\" class=\"dataframe\">\n",
              "  <thead>\n",
              "    <tr style=\"text-align: right;\">\n",
              "      <th></th>\n",
              "      <th>price</th>\n",
              "      <th>latitude</th>\n",
              "      <th>longitude</th>\n",
              "      <th>bedrooms</th>\n",
              "      <th>area</th>\n",
              "      <th>pkspaces</th>\n",
              "      <th>bathrooms</th>\n",
              "    </tr>\n",
              "  </thead>\n",
              "  <tbody>\n",
              "    <tr>\n",
              "      <th>price</th>\n",
              "      <td>1.000000</td>\n",
              "      <td>0.142366</td>\n",
              "      <td>0.003046</td>\n",
              "      <td>0.485487</td>\n",
              "      <td>0.492475</td>\n",
              "      <td>0.428939</td>\n",
              "      <td>0.532729</td>\n",
              "    </tr>\n",
              "    <tr>\n",
              "      <th>latitude</th>\n",
              "      <td>0.142366</td>\n",
              "      <td>1.000000</td>\n",
              "      <td>-0.159716</td>\n",
              "      <td>-0.037816</td>\n",
              "      <td>0.009346</td>\n",
              "      <td>0.006300</td>\n",
              "      <td>0.131665</td>\n",
              "    </tr>\n",
              "    <tr>\n",
              "      <th>longitude</th>\n",
              "      <td>0.003046</td>\n",
              "      <td>-0.159716</td>\n",
              "      <td>1.000000</td>\n",
              "      <td>0.000067</td>\n",
              "      <td>-0.042796</td>\n",
              "      <td>-0.082754</td>\n",
              "      <td>0.014587</td>\n",
              "    </tr>\n",
              "    <tr>\n",
              "      <th>bedrooms</th>\n",
              "      <td>0.485487</td>\n",
              "      <td>-0.037816</td>\n",
              "      <td>0.000067</td>\n",
              "      <td>1.000000</td>\n",
              "      <td>0.674139</td>\n",
              "      <td>0.676838</td>\n",
              "      <td>0.609528</td>\n",
              "    </tr>\n",
              "    <tr>\n",
              "      <th>area</th>\n",
              "      <td>0.492475</td>\n",
              "      <td>0.009346</td>\n",
              "      <td>-0.042796</td>\n",
              "      <td>0.674139</td>\n",
              "      <td>1.000000</td>\n",
              "      <td>0.647847</td>\n",
              "      <td>0.532577</td>\n",
              "    </tr>\n",
              "    <tr>\n",
              "      <th>pkspaces</th>\n",
              "      <td>0.428939</td>\n",
              "      <td>0.006300</td>\n",
              "      <td>-0.082754</td>\n",
              "      <td>0.676838</td>\n",
              "      <td>0.647847</td>\n",
              "      <td>1.000000</td>\n",
              "      <td>0.533391</td>\n",
              "    </tr>\n",
              "    <tr>\n",
              "      <th>bathrooms</th>\n",
              "      <td>0.532729</td>\n",
              "      <td>0.131665</td>\n",
              "      <td>0.014587</td>\n",
              "      <td>0.609528</td>\n",
              "      <td>0.532577</td>\n",
              "      <td>0.533391</td>\n",
              "      <td>1.000000</td>\n",
              "    </tr>\n",
              "  </tbody>\n",
              "</table>\n",
              "</div>"
            ],
            "text/plain": [
              "              price  latitude  longitude  bedrooms      area  pkspaces  \\\n",
              "price      1.000000  0.142366   0.003046  0.485487  0.492475  0.428939   \n",
              "latitude   0.142366  1.000000  -0.159716 -0.037816  0.009346  0.006300   \n",
              "longitude  0.003046 -0.159716   1.000000  0.000067 -0.042796 -0.082754   \n",
              "bedrooms   0.485487 -0.037816   0.000067  1.000000  0.674139  0.676838   \n",
              "area       0.492475  0.009346  -0.042796  0.674139  1.000000  0.647847   \n",
              "pkspaces   0.428939  0.006300  -0.082754  0.676838  0.647847  1.000000   \n",
              "bathrooms  0.532729  0.131665   0.014587  0.609528  0.532577  0.533391   \n",
              "\n",
              "           bathrooms  \n",
              "price       0.532729  \n",
              "latitude    0.131665  \n",
              "longitude   0.014587  \n",
              "bedrooms    0.609528  \n",
              "area        0.532577  \n",
              "pkspaces    0.533391  \n",
              "bathrooms   1.000000  "
            ]
          },
          "metadata": {
            "tags": []
          },
          "execution_count": 30
        }
      ]
    },
    {
      "metadata": {
        "id": "A4hoEV-ZE9nR",
        "colab_type": "code",
        "outputId": "1ef83e6b-fdb3-447b-a90e-1a0aceb12fb7",
        "colab": {
          "base_uri": "https://localhost:8080/",
          "height": 170
        }
      },
      "cell_type": "code",
      "source": [
        "houses['bathrooms'].describe()"
      ],
      "execution_count": 29,
      "outputs": [
        {
          "output_type": "execute_result",
          "data": {
            "text/plain": [
              "count    1538.000000\n",
              "mean        2.676853\n",
              "std         1.281568\n",
              "min         0.000000\n",
              "25%         2.000000\n",
              "50%         3.000000\n",
              "75%         3.000000\n",
              "max         8.000000\n",
              "Name: bathrooms, dtype: float64"
            ]
          },
          "metadata": {
            "tags": []
          },
          "execution_count": 29
        }
      ]
    },
    {
      "metadata": {
        "id": "JzblYO_eH0eu",
        "colab_type": "code",
        "outputId": "eb2b68a3-345d-495e-b442-5d0d19b32ee7",
        "colab": {
          "base_uri": "https://localhost:8080/",
          "height": 102
        }
      },
      "cell_type": "code",
      "source": [
        "import random\n",
        "houses2 = houses.dropna(thresh=0.7*len(houses), axis=1)\n",
        "#adiciona valor aleatório no intervalo de min e max de banheiros nos dados ausentes de banheiros\n",
        "houses2['bathrooms'].fillna(random.randint(houses2['bathrooms'].min(),houses2['bathrooms'].max()), inplace=True)"
      ],
      "execution_count": 30,
      "outputs": [
        {
          "output_type": "stream",
          "text": [
            "/usr/local/lib/python3.6/dist-packages/pandas/core/generic.py:4355: SettingWithCopyWarning: \n",
            "A value is trying to be set on a copy of a slice from a DataFrame\n",
            "\n",
            "See the caveats in the documentation: http://pandas.pydata.org/pandas-docs/stable/indexing.html#indexing-view-versus-copy\n",
            "  self._update_inplace(new_data)\n"
          ],
          "name": "stderr"
        }
      ]
    },
    {
      "metadata": {
        "id": "XFKdzJXSHfRc",
        "colab_type": "code",
        "outputId": "1645e4b8-9069-4da0-ea75-38b92f5cdf3c",
        "colab": {
          "base_uri": "https://localhost:8080/",
          "height": 51
        }
      },
      "cell_type": "code",
      "source": [
        "print(houses2['bathrooms'].mean())\n",
        "print(houses2['bathrooms'].median())\n"
      ],
      "execution_count": 31,
      "outputs": [
        {
          "output_type": "stream",
          "text": [
            "2.478784403669725\n",
            "2.0\n"
          ],
          "name": "stdout"
        }
      ]
    },
    {
      "metadata": {
        "id": "GPs2eB8p6b0v",
        "colab_type": "text"
      },
      "cell_type": "markdown",
      "source": [
        "## Inserindo dados ausentes em mais de uma coluna"
      ]
    },
    {
      "metadata": {
        "id": "1_YvR-z-J1EK",
        "colab_type": "code",
        "colab": {
          "base_uri": "https://localhost:8080/",
          "height": 204
        },
        "outputId": "63403d73-51aa-40fd-a0aa-e019cc84fd7a"
      },
      "cell_type": "code",
      "source": [
        "houses=pd.read_csv(\"https://raw.githubusercontent.com/if1015-datascience/material/gh-pages/data/recife.csv\",encoding = \"ISO-8859-1\")\n",
        "houses.head()"
      ],
      "execution_count": 32,
      "outputs": [
        {
          "output_type": "execute_result",
          "data": {
            "text/html": [
              "<div>\n",
              "<style scoped>\n",
              "    .dataframe tbody tr th:only-of-type {\n",
              "        vertical-align: middle;\n",
              "    }\n",
              "\n",
              "    .dataframe tbody tr th {\n",
              "        vertical-align: top;\n",
              "    }\n",
              "\n",
              "    .dataframe thead th {\n",
              "        text-align: right;\n",
              "    }\n",
              "</style>\n",
              "<table border=\"1\" class=\"dataframe\">\n",
              "  <thead>\n",
              "    <tr style=\"text-align: right;\">\n",
              "      <th></th>\n",
              "      <th>price</th>\n",
              "      <th>latitude</th>\n",
              "      <th>longitude</th>\n",
              "      <th>bedrooms</th>\n",
              "      <th>area</th>\n",
              "      <th>pkspaces</th>\n",
              "      <th>bathrooms</th>\n",
              "      <th>ensuites</th>\n",
              "      <th>suburb</th>\n",
              "      <th>district</th>\n",
              "      <th>city</th>\n",
              "      <th>state</th>\n",
              "      <th>type</th>\n",
              "    </tr>\n",
              "  </thead>\n",
              "  <tbody>\n",
              "    <tr>\n",
              "      <th>0</th>\n",
              "      <td>1500</td>\n",
              "      <td>-8.059791</td>\n",
              "      <td>-34.889619</td>\n",
              "      <td>4.0</td>\n",
              "      <td>37.0</td>\n",
              "      <td>3.0</td>\n",
              "      <td>3.0</td>\n",
              "      <td>NaN</td>\n",
              "      <td>Boa Vista</td>\n",
              "      <td>Recife</td>\n",
              "      <td>Recife</td>\n",
              "      <td>Pernambuco</td>\n",
              "      <td>apart</td>\n",
              "    </tr>\n",
              "    <tr>\n",
              "      <th>1</th>\n",
              "      <td>330000</td>\n",
              "      <td>-8.029595</td>\n",
              "      <td>-34.900372</td>\n",
              "      <td>3.0</td>\n",
              "      <td>86.0</td>\n",
              "      <td>1.0</td>\n",
              "      <td>3.0</td>\n",
              "      <td>1.0</td>\n",
              "      <td>Tamarineira</td>\n",
              "      <td>Recife</td>\n",
              "      <td>Recife</td>\n",
              "      <td>Pernambuco</td>\n",
              "      <td>apart</td>\n",
              "    </tr>\n",
              "    <tr>\n",
              "      <th>2</th>\n",
              "      <td>255000</td>\n",
              "      <td>-8.037247</td>\n",
              "      <td>-34.890986</td>\n",
              "      <td>2.0</td>\n",
              "      <td>82.0</td>\n",
              "      <td>1.0</td>\n",
              "      <td>2.0</td>\n",
              "      <td>NaN</td>\n",
              "      <td>Encruzilhada</td>\n",
              "      <td>Recife</td>\n",
              "      <td>Recife</td>\n",
              "      <td>Pernambuco</td>\n",
              "      <td>apart</td>\n",
              "    </tr>\n",
              "    <tr>\n",
              "      <th>3</th>\n",
              "      <td>380000</td>\n",
              "      <td>-8.047562</td>\n",
              "      <td>-34.876964</td>\n",
              "      <td>3.0</td>\n",
              "      <td>95.0</td>\n",
              "      <td>2.0</td>\n",
              "      <td>3.0</td>\n",
              "      <td>1.0</td>\n",
              "      <td>Santo Amaro</td>\n",
              "      <td>Recife</td>\n",
              "      <td>Recife</td>\n",
              "      <td>Pernambuco</td>\n",
              "      <td>apart</td>\n",
              "    </tr>\n",
              "    <tr>\n",
              "      <th>4</th>\n",
              "      <td>300000</td>\n",
              "      <td>-8.053580</td>\n",
              "      <td>-34.908733</td>\n",
              "      <td>3.0</td>\n",
              "      <td>97.0</td>\n",
              "      <td>1.0</td>\n",
              "      <td>3.0</td>\n",
              "      <td>1.0</td>\n",
              "      <td>Madalena</td>\n",
              "      <td>Recife</td>\n",
              "      <td>Recife</td>\n",
              "      <td>Pernambuco</td>\n",
              "      <td>apart</td>\n",
              "    </tr>\n",
              "  </tbody>\n",
              "</table>\n",
              "</div>"
            ],
            "text/plain": [
              "    price  latitude  longitude  bedrooms  area  pkspaces  bathrooms  ensuites  \\\n",
              "0    1500 -8.059791 -34.889619       4.0  37.0       3.0        3.0       NaN   \n",
              "1  330000 -8.029595 -34.900372       3.0  86.0       1.0        3.0       1.0   \n",
              "2  255000 -8.037247 -34.890986       2.0  82.0       1.0        2.0       NaN   \n",
              "3  380000 -8.047562 -34.876964       3.0  95.0       2.0        3.0       1.0   \n",
              "4  300000 -8.053580 -34.908733       3.0  97.0       1.0        3.0       1.0   \n",
              "\n",
              "         suburb district    city       state   type  \n",
              "0     Boa Vista   Recife  Recife  Pernambuco  apart  \n",
              "1   Tamarineira   Recife  Recife  Pernambuco  apart  \n",
              "2  Encruzilhada   Recife  Recife  Pernambuco  apart  \n",
              "3   Santo Amaro   Recife  Recife  Pernambuco  apart  \n",
              "4      Madalena   Recife  Recife  Pernambuco  apart  "
            ]
          },
          "metadata": {
            "tags": []
          },
          "execution_count": 32
        }
      ]
    },
    {
      "metadata": {
        "id": "Y0ZNAWamAWl-",
        "colab_type": "code",
        "colab": {}
      },
      "cell_type": "code",
      "source": [
        "houses['suburb'] = houses['suburb'].astype('category')\n",
        "houses['district'] = houses['district'].astype('category')\n",
        "houses['city'] = houses['city'].astype('category')\n",
        "houses['state'] = houses['state'].astype('category')\n",
        "houses['type'] = houses['type'].astype('category')"
      ],
      "execution_count": 0,
      "outputs": []
    },
    {
      "metadata": {
        "id": "V3vjv1O0B71C",
        "colab_type": "code",
        "colab": {}
      },
      "cell_type": "code",
      "source": [
        "houses['suburb'] = houses['suburb'].cat.codes\n",
        "houses['district'] = houses['district'].cat.codes\n",
        "houses['city'] = houses['city'].cat.codes\n",
        "houses['state'] = houses['state'].cat.codes\n",
        "houses['type'] = houses['type'].cat.codes"
      ],
      "execution_count": 0,
      "outputs": []
    },
    {
      "metadata": {
        "id": "qr0vVcqzLKQF",
        "colab_type": "code",
        "outputId": "a3c2f770-12ee-4145-bafa-beb56514734a",
        "colab": {
          "base_uri": "https://localhost:8080/",
          "height": 204
        }
      },
      "cell_type": "code",
      "source": [
        "houses.head()"
      ],
      "execution_count": 35,
      "outputs": [
        {
          "output_type": "execute_result",
          "data": {
            "text/html": [
              "<div>\n",
              "<style scoped>\n",
              "    .dataframe tbody tr th:only-of-type {\n",
              "        vertical-align: middle;\n",
              "    }\n",
              "\n",
              "    .dataframe tbody tr th {\n",
              "        vertical-align: top;\n",
              "    }\n",
              "\n",
              "    .dataframe thead th {\n",
              "        text-align: right;\n",
              "    }\n",
              "</style>\n",
              "<table border=\"1\" class=\"dataframe\">\n",
              "  <thead>\n",
              "    <tr style=\"text-align: right;\">\n",
              "      <th></th>\n",
              "      <th>price</th>\n",
              "      <th>latitude</th>\n",
              "      <th>longitude</th>\n",
              "      <th>bedrooms</th>\n",
              "      <th>area</th>\n",
              "      <th>pkspaces</th>\n",
              "      <th>bathrooms</th>\n",
              "      <th>ensuites</th>\n",
              "      <th>suburb</th>\n",
              "      <th>district</th>\n",
              "      <th>city</th>\n",
              "      <th>state</th>\n",
              "      <th>type</th>\n",
              "    </tr>\n",
              "  </thead>\n",
              "  <tbody>\n",
              "    <tr>\n",
              "      <th>0</th>\n",
              "      <td>1500</td>\n",
              "      <td>-8.059791</td>\n",
              "      <td>-34.889619</td>\n",
              "      <td>4.0</td>\n",
              "      <td>37.0</td>\n",
              "      <td>3.0</td>\n",
              "      <td>3.0</td>\n",
              "      <td>NaN</td>\n",
              "      <td>5</td>\n",
              "      <td>0</td>\n",
              "      <td>0</td>\n",
              "      <td>0</td>\n",
              "      <td>0</td>\n",
              "    </tr>\n",
              "    <tr>\n",
              "      <th>1</th>\n",
              "      <td>330000</td>\n",
              "      <td>-8.029595</td>\n",
              "      <td>-34.900372</td>\n",
              "      <td>3.0</td>\n",
              "      <td>86.0</td>\n",
              "      <td>1.0</td>\n",
              "      <td>3.0</td>\n",
              "      <td>1.0</td>\n",
              "      <td>50</td>\n",
              "      <td>0</td>\n",
              "      <td>0</td>\n",
              "      <td>0</td>\n",
              "      <td>0</td>\n",
              "    </tr>\n",
              "    <tr>\n",
              "      <th>2</th>\n",
              "      <td>255000</td>\n",
              "      <td>-8.037247</td>\n",
              "      <td>-34.890986</td>\n",
              "      <td>2.0</td>\n",
              "      <td>82.0</td>\n",
              "      <td>1.0</td>\n",
              "      <td>2.0</td>\n",
              "      <td>NaN</td>\n",
              "      <td>17</td>\n",
              "      <td>0</td>\n",
              "      <td>0</td>\n",
              "      <td>0</td>\n",
              "      <td>0</td>\n",
              "    </tr>\n",
              "    <tr>\n",
              "      <th>3</th>\n",
              "      <td>380000</td>\n",
              "      <td>-8.047562</td>\n",
              "      <td>-34.876964</td>\n",
              "      <td>3.0</td>\n",
              "      <td>95.0</td>\n",
              "      <td>2.0</td>\n",
              "      <td>3.0</td>\n",
              "      <td>1.0</td>\n",
              "      <td>46</td>\n",
              "      <td>0</td>\n",
              "      <td>0</td>\n",
              "      <td>0</td>\n",
              "      <td>0</td>\n",
              "    </tr>\n",
              "    <tr>\n",
              "      <th>4</th>\n",
              "      <td>300000</td>\n",
              "      <td>-8.053580</td>\n",
              "      <td>-34.908733</td>\n",
              "      <td>3.0</td>\n",
              "      <td>97.0</td>\n",
              "      <td>1.0</td>\n",
              "      <td>3.0</td>\n",
              "      <td>1.0</td>\n",
              "      <td>31</td>\n",
              "      <td>0</td>\n",
              "      <td>0</td>\n",
              "      <td>0</td>\n",
              "      <td>0</td>\n",
              "    </tr>\n",
              "  </tbody>\n",
              "</table>\n",
              "</div>"
            ],
            "text/plain": [
              "    price  latitude  longitude  bedrooms  area  pkspaces  bathrooms  ensuites  \\\n",
              "0    1500 -8.059791 -34.889619       4.0  37.0       3.0        3.0       NaN   \n",
              "1  330000 -8.029595 -34.900372       3.0  86.0       1.0        3.0       1.0   \n",
              "2  255000 -8.037247 -34.890986       2.0  82.0       1.0        2.0       NaN   \n",
              "3  380000 -8.047562 -34.876964       3.0  95.0       2.0        3.0       1.0   \n",
              "4  300000 -8.053580 -34.908733       3.0  97.0       1.0        3.0       1.0   \n",
              "\n",
              "   suburb  district  city  state  type  \n",
              "0       5         0     0      0     0  \n",
              "1      50         0     0      0     0  \n",
              "2      17         0     0      0     0  \n",
              "3      46         0     0      0     0  \n",
              "4      31         0     0      0     0  "
            ]
          },
          "metadata": {
            "tags": []
          },
          "execution_count": 35
        }
      ]
    },
    {
      "metadata": {
        "id": "Qmr5YMgqLU3D",
        "colab_type": "code",
        "outputId": "cf8bc80c-114d-455b-a5f0-21e929bf256f",
        "colab": {
          "base_uri": "https://localhost:8080/",
          "height": 340
        }
      },
      "cell_type": "code",
      "source": [
        "from fancyimpute import KNN\n",
        "houses_knn = KNN(k=3).fit_transform(houses)"
      ],
      "execution_count": 36,
      "outputs": [
        {
          "output_type": "stream",
          "text": [
            "Using TensorFlow backend.\n"
          ],
          "name": "stderr"
        },
        {
          "output_type": "stream",
          "text": [
            "Imputing row 1/1744 with 1 missing, elapsed time: 0.572\n",
            "Imputing row 101/1744 with 0 missing, elapsed time: 0.574\n",
            "Imputing row 201/1744 with 0 missing, elapsed time: 0.576\n",
            "Imputing row 301/1744 with 0 missing, elapsed time: 0.578\n",
            "Imputing row 401/1744 with 2 missing, elapsed time: 0.579\n",
            "Imputing row 501/1744 with 1 missing, elapsed time: 0.580\n",
            "Imputing row 601/1744 with 0 missing, elapsed time: 0.582\n",
            "Imputing row 701/1744 with 0 missing, elapsed time: 0.583\n",
            "Imputing row 801/1744 with 0 missing, elapsed time: 0.585\n",
            "Imputing row 901/1744 with 0 missing, elapsed time: 0.586\n",
            "Imputing row 1001/1744 with 2 missing, elapsed time: 0.592\n",
            "Imputing row 1101/1744 with 1 missing, elapsed time: 0.597\n",
            "Imputing row 1201/1744 with 0 missing, elapsed time: 0.601\n",
            "Imputing row 1301/1744 with 1 missing, elapsed time: 0.604\n",
            "Imputing row 1401/1744 with 1 missing, elapsed time: 0.607\n",
            "Imputing row 1501/1744 with 1 missing, elapsed time: 0.610\n",
            "Imputing row 1601/1744 with 1 missing, elapsed time: 0.612\n",
            "Imputing row 1701/1744 with 0 missing, elapsed time: 0.615\n"
          ],
          "name": "stdout"
        }
      ]
    },
    {
      "metadata": {
        "id": "6y-TfHIXNFMU",
        "colab_type": "code",
        "outputId": "99166a12-8b2c-4cb3-811f-313b84316405",
        "colab": {
          "base_uri": "https://localhost:8080/",
          "height": 34
        }
      },
      "cell_type": "code",
      "source": [
        "houses_knn.shape"
      ],
      "execution_count": 82,
      "outputs": [
        {
          "output_type": "execute_result",
          "data": {
            "text/plain": [
              "(1744, 13)"
            ]
          },
          "metadata": {
            "tags": []
          },
          "execution_count": 82
        }
      ]
    },
    {
      "metadata": {
        "id": "D2OXQLBXLWtl",
        "colab_type": "code",
        "colab": {}
      },
      "cell_type": "code",
      "source": [
        "houses3 = pd.DataFrame(data=houses_knn[0:,0:],columns=['price',\t'latitude',\t'longitude',\t'bedrooms',\t'area',\t'pkspaces',\t'bathrooms',\t'ensuites', 'suburb'\t,'district',\t'city', 'state',\t'type']) "
      ],
      "execution_count": 0,
      "outputs": []
    },
    {
      "metadata": {
        "id": "l4CLbEIBKf0_",
        "colab_type": "code",
        "outputId": "451332a4-a0fc-4664-f2d6-eeeae3ea8c50",
        "colab": {
          "base_uri": "https://localhost:8080/",
          "height": 204
        }
      },
      "cell_type": "code",
      "source": [
        "houses3.head()"
      ],
      "execution_count": 39,
      "outputs": [
        {
          "output_type": "execute_result",
          "data": {
            "text/html": [
              "<div>\n",
              "<style scoped>\n",
              "    .dataframe tbody tr th:only-of-type {\n",
              "        vertical-align: middle;\n",
              "    }\n",
              "\n",
              "    .dataframe tbody tr th {\n",
              "        vertical-align: top;\n",
              "    }\n",
              "\n",
              "    .dataframe thead th {\n",
              "        text-align: right;\n",
              "    }\n",
              "</style>\n",
              "<table border=\"1\" class=\"dataframe\">\n",
              "  <thead>\n",
              "    <tr style=\"text-align: right;\">\n",
              "      <th></th>\n",
              "      <th>price</th>\n",
              "      <th>latitude</th>\n",
              "      <th>longitude</th>\n",
              "      <th>bedrooms</th>\n",
              "      <th>area</th>\n",
              "      <th>pkspaces</th>\n",
              "      <th>bathrooms</th>\n",
              "      <th>ensuites</th>\n",
              "      <th>suburb</th>\n",
              "      <th>district</th>\n",
              "      <th>city</th>\n",
              "      <th>state</th>\n",
              "      <th>type</th>\n",
              "    </tr>\n",
              "  </thead>\n",
              "  <tbody>\n",
              "    <tr>\n",
              "      <th>0</th>\n",
              "      <td>1500.0</td>\n",
              "      <td>-8.059791</td>\n",
              "      <td>-34.889619</td>\n",
              "      <td>4.0</td>\n",
              "      <td>37.0</td>\n",
              "      <td>3.0</td>\n",
              "      <td>3.0</td>\n",
              "      <td>1.0</td>\n",
              "      <td>5.0</td>\n",
              "      <td>0.0</td>\n",
              "      <td>0.0</td>\n",
              "      <td>0.0</td>\n",
              "      <td>0.0</td>\n",
              "    </tr>\n",
              "    <tr>\n",
              "      <th>1</th>\n",
              "      <td>330000.0</td>\n",
              "      <td>-8.029595</td>\n",
              "      <td>-34.900372</td>\n",
              "      <td>3.0</td>\n",
              "      <td>86.0</td>\n",
              "      <td>1.0</td>\n",
              "      <td>3.0</td>\n",
              "      <td>1.0</td>\n",
              "      <td>50.0</td>\n",
              "      <td>0.0</td>\n",
              "      <td>0.0</td>\n",
              "      <td>0.0</td>\n",
              "      <td>0.0</td>\n",
              "    </tr>\n",
              "    <tr>\n",
              "      <th>2</th>\n",
              "      <td>255000.0</td>\n",
              "      <td>-8.037247</td>\n",
              "      <td>-34.890986</td>\n",
              "      <td>2.0</td>\n",
              "      <td>82.0</td>\n",
              "      <td>1.0</td>\n",
              "      <td>2.0</td>\n",
              "      <td>1.0</td>\n",
              "      <td>17.0</td>\n",
              "      <td>0.0</td>\n",
              "      <td>0.0</td>\n",
              "      <td>0.0</td>\n",
              "      <td>0.0</td>\n",
              "    </tr>\n",
              "    <tr>\n",
              "      <th>3</th>\n",
              "      <td>380000.0</td>\n",
              "      <td>-8.047562</td>\n",
              "      <td>-34.876964</td>\n",
              "      <td>3.0</td>\n",
              "      <td>95.0</td>\n",
              "      <td>2.0</td>\n",
              "      <td>3.0</td>\n",
              "      <td>1.0</td>\n",
              "      <td>46.0</td>\n",
              "      <td>0.0</td>\n",
              "      <td>0.0</td>\n",
              "      <td>0.0</td>\n",
              "      <td>0.0</td>\n",
              "    </tr>\n",
              "    <tr>\n",
              "      <th>4</th>\n",
              "      <td>300000.0</td>\n",
              "      <td>-8.053580</td>\n",
              "      <td>-34.908733</td>\n",
              "      <td>3.0</td>\n",
              "      <td>97.0</td>\n",
              "      <td>1.0</td>\n",
              "      <td>3.0</td>\n",
              "      <td>1.0</td>\n",
              "      <td>31.0</td>\n",
              "      <td>0.0</td>\n",
              "      <td>0.0</td>\n",
              "      <td>0.0</td>\n",
              "      <td>0.0</td>\n",
              "    </tr>\n",
              "  </tbody>\n",
              "</table>\n",
              "</div>"
            ],
            "text/plain": [
              "      price  latitude  longitude  bedrooms  area  pkspaces  bathrooms  \\\n",
              "0    1500.0 -8.059791 -34.889619       4.0  37.0       3.0        3.0   \n",
              "1  330000.0 -8.029595 -34.900372       3.0  86.0       1.0        3.0   \n",
              "2  255000.0 -8.037247 -34.890986       2.0  82.0       1.0        2.0   \n",
              "3  380000.0 -8.047562 -34.876964       3.0  95.0       2.0        3.0   \n",
              "4  300000.0 -8.053580 -34.908733       3.0  97.0       1.0        3.0   \n",
              "\n",
              "   ensuites  suburb  district  city  state  type  \n",
              "0       1.0     5.0       0.0   0.0    0.0   0.0  \n",
              "1       1.0    50.0       0.0   0.0    0.0   0.0  \n",
              "2       1.0    17.0       0.0   0.0    0.0   0.0  \n",
              "3       1.0    46.0       0.0   0.0    0.0   0.0  \n",
              "4       1.0    31.0       0.0   0.0    0.0   0.0  "
            ]
          },
          "metadata": {
            "tags": []
          },
          "execution_count": 39
        }
      ]
    },
    {
      "metadata": {
        "id": "r0HbMq7DNcc5",
        "colab_type": "code",
        "colab": {
          "base_uri": "https://localhost:8080/",
          "height": 255
        },
        "outputId": "f2f010d8-0443-4305-cb1e-b509460c5948"
      },
      "cell_type": "code",
      "source": [
        "print(houses3.isnull().sum())"
      ],
      "execution_count": 41,
      "outputs": [
        {
          "output_type": "stream",
          "text": [
            "price        0\n",
            "latitude     0\n",
            "longitude    0\n",
            "bedrooms     0\n",
            "area         0\n",
            "pkspaces     0\n",
            "bathrooms    0\n",
            "ensuites     0\n",
            "suburb       0\n",
            "district     0\n",
            "city         0\n",
            "state        0\n",
            "type         0\n",
            "dtype: int64\n"
          ],
          "name": "stdout"
        }
      ]
    },
    {
      "metadata": {
        "id": "BxLaUtLDNeQf",
        "colab_type": "code",
        "outputId": "e77af840-3201-4d7b-f172-53f93c2969a2",
        "colab": {
          "base_uri": "https://localhost:8080/",
          "height": 170
        }
      },
      "cell_type": "code",
      "source": [
        "houses3['bathrooms'].describe()"
      ],
      "execution_count": 85,
      "outputs": [
        {
          "output_type": "execute_result",
          "data": {
            "text/plain": [
              "count    1744.000000\n",
              "mean        2.692657\n",
              "std         1.257831\n",
              "min         0.000000\n",
              "25%         2.000000\n",
              "50%         3.000000\n",
              "75%         3.000000\n",
              "max         8.000000\n",
              "Name: bathrooms, dtype: float64"
            ]
          },
          "metadata": {
            "tags": []
          },
          "execution_count": 85
        }
      ]
    },
    {
      "metadata": {
        "id": "Q2EY_VYu7xUx",
        "colab_type": "text"
      },
      "cell_type": "markdown",
      "source": [
        "## Normalização"
      ]
    },
    {
      "metadata": {
        "id": "eZrhsZhzYfiE",
        "colab_type": "code",
        "outputId": "1c0b711f-a126-4306-827f-e39d37c2463a",
        "colab": {
          "base_uri": "https://localhost:8080/",
          "height": 34
        }
      },
      "cell_type": "code",
      "source": [
        "dist = np.linalg.norm(houses3.values[1]-houses3.values[2])\n",
        "print(dist)"
      ],
      "execution_count": 85,
      "outputs": [
        {
          "output_type": "stream",
          "text": [
            "75000.0073800006\n"
          ],
          "name": "stdout"
        }
      ]
    },
    {
      "metadata": {
        "id": "QKM5jvG2ZDte",
        "colab_type": "code",
        "colab": {
          "base_uri": "https://localhost:8080/",
          "height": 238
        },
        "outputId": "3c2e73a6-a595-431c-f441-bdfedd232c24"
      },
      "cell_type": "code",
      "source": [
        "houses_norm = (houses3 - houses3.min()) / (houses3.max() - houses3.min())\n",
        "print(houses_norm.head())"
      ],
      "execution_count": 92,
      "outputs": [
        {
          "output_type": "stream",
          "text": [
            "      price  latitude  longitude  bedrooms      area  pkspaces  bathrooms  \\\n",
            "0  0.000200  0.524367   0.842831  0.214286  0.007242  0.200000      0.375   \n",
            "1  0.044000  0.683119   0.731592  0.142857  0.036814  0.066667      0.375   \n",
            "2  0.034000  0.642893   0.828691  0.071429  0.034400  0.066667      0.250   \n",
            "3  0.050667  0.588660   0.973751  0.142857  0.042245  0.133333      0.375   \n",
            "4  0.040000  0.557020   0.645092  0.142857  0.043452  0.066667      0.375   \n",
            "\n",
            "       ensuites    suburb  district  city  state  type  \n",
            "0  9.870805e-09  0.087719       NaN   NaN    NaN   0.0  \n",
            "1  1.865787e-08  0.877193       NaN   NaN    NaN   0.0  \n",
            "2  8.807191e-09  0.298246       NaN   NaN    NaN   0.0  \n",
            "3  1.865787e-08  0.807018       NaN   NaN    NaN   0.0  \n",
            "4  1.865787e-08  0.543860       NaN   NaN    NaN   0.0  \n"
          ],
          "name": "stdout"
        }
      ]
    },
    {
      "metadata": {
        "id": "uhDGqSQvDroX",
        "colab_type": "code",
        "colab": {
          "base_uri": "https://localhost:8080/",
          "height": 238
        },
        "outputId": "b3ea0c8a-01e0-4b34-fdd9-31b3f0a98d15"
      },
      "cell_type": "code",
      "source": [
        "houses_norm = houses_norm.dropna(thresh=0.7*len(houses), axis=1)\n",
        "print(houses_norm.head())"
      ],
      "execution_count": 93,
      "outputs": [
        {
          "output_type": "stream",
          "text": [
            "      price  latitude  longitude  bedrooms      area  pkspaces  bathrooms  \\\n",
            "0  0.000200  0.524367   0.842831  0.214286  0.007242  0.200000      0.375   \n",
            "1  0.044000  0.683119   0.731592  0.142857  0.036814  0.066667      0.375   \n",
            "2  0.034000  0.642893   0.828691  0.071429  0.034400  0.066667      0.250   \n",
            "3  0.050667  0.588660   0.973751  0.142857  0.042245  0.133333      0.375   \n",
            "4  0.040000  0.557020   0.645092  0.142857  0.043452  0.066667      0.375   \n",
            "\n",
            "       ensuites    suburb  type  \n",
            "0  9.870805e-09  0.087719   0.0  \n",
            "1  1.865787e-08  0.877193   0.0  \n",
            "2  8.807191e-09  0.298246   0.0  \n",
            "3  1.865787e-08  0.807018   0.0  \n",
            "4  1.865787e-08  0.543860   0.0  \n"
          ],
          "name": "stdout"
        }
      ]
    },
    {
      "metadata": {
        "id": "0cW6hQ5HaC1I",
        "colab_type": "code",
        "outputId": "cf848ad3-665f-4bbf-b40d-6db797ff9320",
        "colab": {
          "base_uri": "https://localhost:8080/",
          "height": 34
        }
      },
      "cell_type": "code",
      "source": [
        "dist = np.linalg.norm(houses_norm.values[1]-houses_norm.values[2])\n",
        "print(dist)"
      ],
      "execution_count": 94,
      "outputs": [
        {
          "output_type": "stream",
          "text": [
            "0.6058541651037146\n"
          ],
          "name": "stdout"
        }
      ]
    },
    {
      "metadata": {
        "id": "pEGQ0Uvsb2Xm",
        "colab_type": "code",
        "colab": {}
      },
      "cell_type": "code",
      "source": [
        "houses['price_norm'] = (houses['price'] - houses['price'].min()) / (houses['price'].max() - houses['price'].min())"
      ],
      "execution_count": 0,
      "outputs": []
    },
    {
      "metadata": {
        "id": "QspbKDpedfKQ",
        "colab_type": "code",
        "outputId": "f0b627d0-fa32-456c-cc55-ee23485a3d5d",
        "colab": {
          "base_uri": "https://localhost:8080/",
          "height": 170
        }
      },
      "cell_type": "code",
      "source": [
        "houses['price_norm'].describe()"
      ],
      "execution_count": 96,
      "outputs": [
        {
          "output_type": "execute_result",
          "data": {
            "text/plain": [
              "count    1744.000000\n",
              "mean        0.062007\n",
              "std         0.079028\n",
              "min         0.000000\n",
              "25%         0.000307\n",
              "50%         0.046667\n",
              "75%         0.084000\n",
              "max         1.000000\n",
              "Name: price_norm, dtype: float64"
            ]
          },
          "metadata": {
            "tags": []
          },
          "execution_count": 96
        }
      ]
    },
    {
      "metadata": {
        "id": "AnP8NESbddYU",
        "colab_type": "code",
        "colab": {}
      },
      "cell_type": "code",
      "source": [
        "houses['price_norm'] = ((houses['price'] - houses['price'].min()) / (houses['price'].max() - houses['price'].min())*2) -1"
      ],
      "execution_count": 0,
      "outputs": []
    },
    {
      "metadata": {
        "id": "DzLS_LuicHFu",
        "colab_type": "code",
        "outputId": "24bf3ef4-2119-49b4-ce23-92feaad06f3a",
        "colab": {
          "base_uri": "https://localhost:8080/",
          "height": 170
        }
      },
      "cell_type": "code",
      "source": [
        "houses['price_norm'].describe()"
      ],
      "execution_count": 98,
      "outputs": [
        {
          "output_type": "execute_result",
          "data": {
            "text/plain": [
              "count    1744.000000\n",
              "mean       -0.875986\n",
              "std         0.158056\n",
              "min        -1.000000\n",
              "25%        -0.999387\n",
              "50%        -0.906667\n",
              "75%        -0.832000\n",
              "max         1.000000\n",
              "Name: price_norm, dtype: float64"
            ]
          },
          "metadata": {
            "tags": []
          },
          "execution_count": 98
        }
      ]
    },
    {
      "metadata": {
        "id": "IwDDuYPgiGS_",
        "colab_type": "code",
        "outputId": "6f441706-5413-465a-db29-7510aba026c2",
        "colab": {
          "base_uri": "https://localhost:8080/",
          "height": 224
        }
      },
      "cell_type": "code",
      "source": [
        "from sklearn.preprocessing import StandardScaler, MinMaxScaler\n",
        "scaler = MinMaxScaler()\n",
        "houses['price_norm'] = scaler.fit_transform(houses[['price']])\n",
        "houses['price_norm'].describe()"
      ],
      "execution_count": 99,
      "outputs": [
        {
          "output_type": "stream",
          "text": [
            "/usr/local/lib/python3.6/dist-packages/sklearn/preprocessing/data.py:334: DataConversionWarning: Data with input dtype int64 were all converted to float64 by MinMaxScaler.\n",
            "  return self.partial_fit(X, y)\n"
          ],
          "name": "stderr"
        },
        {
          "output_type": "execute_result",
          "data": {
            "text/plain": [
              "count    1744.000000\n",
              "mean        0.062007\n",
              "std         0.079028\n",
              "min         0.000000\n",
              "25%         0.000307\n",
              "50%         0.046667\n",
              "75%         0.084000\n",
              "max         1.000000\n",
              "Name: price_norm, dtype: float64"
            ]
          },
          "metadata": {
            "tags": []
          },
          "execution_count": 99
        }
      ]
    },
    {
      "metadata": {
        "id": "zAyXdtaagZx-",
        "colab_type": "code",
        "colab": {}
      },
      "cell_type": "code",
      "source": [
        "houses['price_norm'] = (houses['price'] - houses['price'].mean()) / (houses['price'].std())"
      ],
      "execution_count": 0,
      "outputs": []
    },
    {
      "metadata": {
        "id": "wQu71EfMgzub",
        "colab_type": "code",
        "outputId": "b5257698-79f0-4662-d9d1-945b8b1ab323",
        "colab": {
          "base_uri": "https://localhost:8080/",
          "height": 170
        }
      },
      "cell_type": "code",
      "source": [
        "houses['price_norm'].describe()"
      ],
      "execution_count": 104,
      "outputs": [
        {
          "output_type": "execute_result",
          "data": {
            "text/plain": [
              "count    1.744000e+03\n",
              "mean     3.141282e-16\n",
              "std      1.000287e+00\n",
              "min     -7.848417e-01\n",
              "25%     -7.809601e-01\n",
              "50%     -1.941652e-01\n",
              "75%      2.783760e-01\n",
              "max      1.187251e+01\n",
              "Name: price_norm, dtype: float64"
            ]
          },
          "metadata": {
            "tags": []
          },
          "execution_count": 104
        }
      ]
    },
    {
      "metadata": {
        "id": "QzorZUIAjC-9",
        "colab_type": "code",
        "outputId": "73f392eb-e301-4846-ded1-9d503c491b54",
        "colab": {
          "base_uri": "https://localhost:8080/",
          "height": 258
        }
      },
      "cell_type": "code",
      "source": [
        "scaler = StandardScaler()\n",
        "houses['price_norm'] = scaler.fit_transform(houses[['price']])\n",
        "houses['price_norm'].describe()"
      ],
      "execution_count": 103,
      "outputs": [
        {
          "output_type": "stream",
          "text": [
            "/usr/local/lib/python3.6/dist-packages/sklearn/preprocessing/data.py:645: DataConversionWarning: Data with input dtype int64 were all converted to float64 by StandardScaler.\n",
            "  return self.partial_fit(X, y)\n",
            "/usr/local/lib/python3.6/dist-packages/sklearn/base.py:464: DataConversionWarning: Data with input dtype int64 were all converted to float64 by StandardScaler.\n",
            "  return self.fit(X, **fit_params).transform(X)\n"
          ],
          "name": "stderr"
        },
        {
          "output_type": "execute_result",
          "data": {
            "text/plain": [
              "count    1.744000e+03\n",
              "mean     3.141282e-16\n",
              "std      1.000287e+00\n",
              "min     -7.848417e-01\n",
              "25%     -7.809601e-01\n",
              "50%     -1.941652e-01\n",
              "75%      2.783760e-01\n",
              "max      1.187251e+01\n",
              "Name: price_norm, dtype: float64"
            ]
          },
          "metadata": {
            "tags": []
          },
          "execution_count": 103
        }
      ]
    },
    {
      "metadata": {
        "id": "DNyrJJ8k4EFK",
        "colab_type": "text"
      },
      "cell_type": "markdown",
      "source": [
        "## Discretizando área\n",
        "\n",
        "\n",
        "\n",
        "\n",
        "\n"
      ]
    },
    {
      "metadata": {
        "id": "hrn-TVyDjNzy",
        "colab_type": "code",
        "colab": {}
      },
      "cell_type": "code",
      "source": [
        "houses['area_dist'] = pd.cut(houses['area'],10)"
      ],
      "execution_count": 0,
      "outputs": []
    },
    {
      "metadata": {
        "id": "jGRO-8v00aFC",
        "colab_type": "code",
        "colab": {
          "base_uri": "https://localhost:8080/",
          "height": 204
        },
        "outputId": "01d38489-180d-48da-a667-d343ba3b4147"
      },
      "cell_type": "code",
      "source": [
        "houses['area_dist'].value_counts()"
      ],
      "execution_count": 106,
      "outputs": [
        {
          "output_type": "execute_result",
          "data": {
            "text/plain": [
              "(23.343, 190.7]     1488\n",
              "(190.7, 356.4]       193\n",
              "(356.4, 522.1]        25\n",
              "(522.1, 687.8]         9\n",
              "(687.8, 853.5]         4\n",
              "(1516.3, 1682.0]       1\n",
              "(853.5, 1019.2]        1\n",
              "(1350.6, 1516.3]       0\n",
              "(1184.9, 1350.6]       0\n",
              "(1019.2, 1184.9]       0\n",
              "Name: area_dist, dtype: int64"
            ]
          },
          "metadata": {
            "tags": []
          },
          "execution_count": 106
        }
      ]
    },
    {
      "metadata": {
        "id": "srTL62oY2y7B",
        "colab_type": "code",
        "colab": {
          "base_uri": "https://localhost:8080/",
          "height": 170
        },
        "outputId": "54cc21a5-fa3c-4db6-a44a-c61ff5824109"
      },
      "cell_type": "code",
      "source": [
        "houses['area'].describe()"
      ],
      "execution_count": 107,
      "outputs": [
        {
          "output_type": "execute_result",
          "data": {
            "text/plain": [
              "count    1721.000000\n",
              "mean      120.782493\n",
              "std        95.680958\n",
              "min        25.000000\n",
              "25%        70.000000\n",
              "50%        94.000000\n",
              "75%       139.000000\n",
              "max      1682.000000\n",
              "Name: area, dtype: float64"
            ]
          },
          "metadata": {
            "tags": []
          },
          "execution_count": 107
        }
      ]
    },
    {
      "metadata": {
        "id": "vugkVpgE3ICQ",
        "colab_type": "code",
        "colab": {}
      },
      "cell_type": "code",
      "source": [
        "houses['area_dist'] = pd.qcut(houses['area'],4)"
      ],
      "execution_count": 0,
      "outputs": []
    },
    {
      "metadata": {
        "id": "1UExG2Qc3RXg",
        "colab_type": "code",
        "colab": {
          "base_uri": "https://localhost:8080/",
          "height": 102
        },
        "outputId": "64fa45a5-ed9d-45f5-a6ec-eb620f306241"
      },
      "cell_type": "code",
      "source": [
        "houses['area_dist'].value_counts()"
      ],
      "execution_count": 109,
      "outputs": [
        {
          "output_type": "execute_result",
          "data": {
            "text/plain": [
              "(24.999, 70.0]     466\n",
              "(139.0, 1682.0]    429\n",
              "(94.0, 139.0]      425\n",
              "(70.0, 94.0]       401\n",
              "Name: area_dist, dtype: int64"
            ]
          },
          "metadata": {
            "tags": []
          },
          "execution_count": 109
        }
      ]
    },
    {
      "metadata": {
        "id": "hRVISJ2o3p7R",
        "colab_type": "code",
        "colab": {}
      },
      "cell_type": "code",
      "source": [
        ""
      ],
      "execution_count": 0,
      "outputs": []
    }
  ]
}