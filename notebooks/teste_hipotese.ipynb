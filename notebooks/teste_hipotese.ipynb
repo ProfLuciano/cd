{
  "nbformat": 4,
  "nbformat_minor": 0,
  "metadata": {
    "colab": {
      "name": "teste_hipotese.ipynb",
      "version": "0.3.2",
      "provenance": [],
      "collapsed_sections": []
    },
    "kernelspec": {
      "name": "python3",
      "display_name": "Python 3"
    }
  },
  "cells": [
    {
      "metadata": {
        "id": "l1g52TbDpdAq",
        "colab_type": "code",
        "colab": {}
      },
      "cell_type": "code",
      "source": [
        "import numpy as np\n",
        "import pandas as pd\n",
        "from scipy import stats\n",
        "import matplotlib.pyplot as plt\n",
        "df=pd.read_csv(\"https://raw.githubusercontent.com/if1015-datascience/material/gh-pages/data/blood_pressure.csv\",encoding = \"ISO-8859-1\")"
      ],
      "execution_count": 0,
      "outputs": []
    },
    {
      "metadata": {
        "id": "S2RTunt8plrC",
        "colab_type": "code",
        "outputId": "e475dba9-825b-4325-fefb-cad3ed3730c7",
        "colab": {
          "base_uri": "https://localhost:8080/",
          "height": 204
        }
      },
      "cell_type": "code",
      "source": [
        "df.head()"
      ],
      "execution_count": 2,
      "outputs": [
        {
          "output_type": "execute_result",
          "data": {
            "text/html": [
              "<div>\n",
              "<style scoped>\n",
              "    .dataframe tbody tr th:only-of-type {\n",
              "        vertical-align: middle;\n",
              "    }\n",
              "\n",
              "    .dataframe tbody tr th {\n",
              "        vertical-align: top;\n",
              "    }\n",
              "\n",
              "    .dataframe thead th {\n",
              "        text-align: right;\n",
              "    }\n",
              "</style>\n",
              "<table border=\"1\" class=\"dataframe\">\n",
              "  <thead>\n",
              "    <tr style=\"text-align: right;\">\n",
              "      <th></th>\n",
              "      <th>patient</th>\n",
              "      <th>sex</th>\n",
              "      <th>agegrp</th>\n",
              "      <th>bp_before</th>\n",
              "      <th>bp_after</th>\n",
              "    </tr>\n",
              "  </thead>\n",
              "  <tbody>\n",
              "    <tr>\n",
              "      <th>0</th>\n",
              "      <td>1</td>\n",
              "      <td>Male</td>\n",
              "      <td>30-45</td>\n",
              "      <td>143</td>\n",
              "      <td>153</td>\n",
              "    </tr>\n",
              "    <tr>\n",
              "      <th>1</th>\n",
              "      <td>2</td>\n",
              "      <td>Male</td>\n",
              "      <td>30-45</td>\n",
              "      <td>163</td>\n",
              "      <td>170</td>\n",
              "    </tr>\n",
              "    <tr>\n",
              "      <th>2</th>\n",
              "      <td>3</td>\n",
              "      <td>Male</td>\n",
              "      <td>30-45</td>\n",
              "      <td>153</td>\n",
              "      <td>168</td>\n",
              "    </tr>\n",
              "    <tr>\n",
              "      <th>3</th>\n",
              "      <td>4</td>\n",
              "      <td>Male</td>\n",
              "      <td>30-45</td>\n",
              "      <td>153</td>\n",
              "      <td>142</td>\n",
              "    </tr>\n",
              "    <tr>\n",
              "      <th>4</th>\n",
              "      <td>5</td>\n",
              "      <td>Male</td>\n",
              "      <td>30-45</td>\n",
              "      <td>146</td>\n",
              "      <td>141</td>\n",
              "    </tr>\n",
              "  </tbody>\n",
              "</table>\n",
              "</div>"
            ],
            "text/plain": [
              "   patient   sex agegrp  bp_before  bp_after\n",
              "0        1  Male  30-45        143       153\n",
              "1        2  Male  30-45        163       170\n",
              "2        3  Male  30-45        153       168\n",
              "3        4  Male  30-45        153       142\n",
              "4        5  Male  30-45        146       141"
            ]
          },
          "metadata": {
            "tags": []
          },
          "execution_count": 2
        }
      ]
    },
    {
      "metadata": {
        "id": "l2Rux352p8Bg",
        "colab_type": "code",
        "outputId": "73efec37-5b44-4b4d-ed1e-4ec73ad9bd27",
        "colab": {
          "base_uri": "https://localhost:8080/",
          "height": 297
        }
      },
      "cell_type": "code",
      "source": [
        "df[['bp_before','bp_after']].describe()"
      ],
      "execution_count": 3,
      "outputs": [
        {
          "output_type": "execute_result",
          "data": {
            "text/html": [
              "<div>\n",
              "<style scoped>\n",
              "    .dataframe tbody tr th:only-of-type {\n",
              "        vertical-align: middle;\n",
              "    }\n",
              "\n",
              "    .dataframe tbody tr th {\n",
              "        vertical-align: top;\n",
              "    }\n",
              "\n",
              "    .dataframe thead th {\n",
              "        text-align: right;\n",
              "    }\n",
              "</style>\n",
              "<table border=\"1\" class=\"dataframe\">\n",
              "  <thead>\n",
              "    <tr style=\"text-align: right;\">\n",
              "      <th></th>\n",
              "      <th>bp_before</th>\n",
              "      <th>bp_after</th>\n",
              "    </tr>\n",
              "  </thead>\n",
              "  <tbody>\n",
              "    <tr>\n",
              "      <th>count</th>\n",
              "      <td>120.000000</td>\n",
              "      <td>120.000000</td>\n",
              "    </tr>\n",
              "    <tr>\n",
              "      <th>mean</th>\n",
              "      <td>156.450000</td>\n",
              "      <td>151.358333</td>\n",
              "    </tr>\n",
              "    <tr>\n",
              "      <th>std</th>\n",
              "      <td>11.389845</td>\n",
              "      <td>14.177622</td>\n",
              "    </tr>\n",
              "    <tr>\n",
              "      <th>min</th>\n",
              "      <td>138.000000</td>\n",
              "      <td>125.000000</td>\n",
              "    </tr>\n",
              "    <tr>\n",
              "      <th>25%</th>\n",
              "      <td>147.000000</td>\n",
              "      <td>140.750000</td>\n",
              "    </tr>\n",
              "    <tr>\n",
              "      <th>50%</th>\n",
              "      <td>154.500000</td>\n",
              "      <td>149.500000</td>\n",
              "    </tr>\n",
              "    <tr>\n",
              "      <th>75%</th>\n",
              "      <td>164.000000</td>\n",
              "      <td>161.000000</td>\n",
              "    </tr>\n",
              "    <tr>\n",
              "      <th>max</th>\n",
              "      <td>185.000000</td>\n",
              "      <td>185.000000</td>\n",
              "    </tr>\n",
              "  </tbody>\n",
              "</table>\n",
              "</div>"
            ],
            "text/plain": [
              "        bp_before    bp_after\n",
              "count  120.000000  120.000000\n",
              "mean   156.450000  151.358333\n",
              "std     11.389845   14.177622\n",
              "min    138.000000  125.000000\n",
              "25%    147.000000  140.750000\n",
              "50%    154.500000  149.500000\n",
              "75%    164.000000  161.000000\n",
              "max    185.000000  185.000000"
            ]
          },
          "metadata": {
            "tags": []
          },
          "execution_count": 3
        }
      ]
    },
    {
      "metadata": {
        "id": "ybXc64Dmp3-J",
        "colab_type": "code",
        "outputId": "865a820b-b5eb-4d42-b0fb-1ffd3ae06120",
        "colab": {
          "base_uri": "https://localhost:8080/",
          "height": 364
        }
      },
      "cell_type": "code",
      "source": [
        "df[['bp_before', 'bp_after']].plot(kind='box')"
      ],
      "execution_count": 4,
      "outputs": [
        {
          "output_type": "execute_result",
          "data": {
            "text/plain": [
              "<matplotlib.axes._subplots.AxesSubplot at 0x7f04a8222908>"
            ]
          },
          "metadata": {
            "tags": []
          },
          "execution_count": 4
        },
        {
          "output_type": "display_data",
          "data": {
            "image/png": "[encoded data removed]",
            "text/plain": [
              "<Figure size 576x396 with 1 Axes>"
            ]
          },
          "metadata": {
            "tags": []
          }
        }
      ]
    },
    {
      "metadata": {
        "id": "w1IoyzfKqeyz",
        "colab_type": "code",
        "colab": {}
      },
      "cell_type": "code",
      "source": [
        "#Verificando se a diferença segue a gaussiana\n",
        "df['bp_difference'] = df['bp_before'] - df['bp_after']"
      ],
      "execution_count": 0,
      "outputs": []
    },
    {
      "metadata": {
        "id": "CGTCJR-Qqloa",
        "colab_type": "code",
        "outputId": "1f458a62-b5d1-4af2-dff3-8bfe9a4600af",
        "colab": {
          "base_uri": "https://localhost:8080/",
          "height": 364
        }
      },
      "cell_type": "code",
      "source": [
        "df['bp_difference'].plot(kind='hist')"
      ],
      "execution_count": 6,
      "outputs": [
        {
          "output_type": "execute_result",
          "data": {
            "text/plain": [
              "<matplotlib.axes._subplots.AxesSubplot at 0x7f04a611d630>"
            ]
          },
          "metadata": {
            "tags": []
          },
          "execution_count": 6
        },
        {
          "output_type": "display_data",
          "data": {
            "image/png": "[encoded data removed]",
            "text/plain": [
              "<Figure size 576x396 with 1 Axes>"
            ]
          },
          "metadata": {
            "tags": []
          }
        }
      ]
    },
    {
      "metadata": {
        "id": "6hztWNrsqoPb",
        "colab_type": "code",
        "outputId": "151eb4c8-e93b-4b66-b4e9-7d7f7559f997",
        "colab": {
          "base_uri": "https://localhost:8080/",
          "height": 34
        }
      },
      "cell_type": "code",
      "source": [
        "#Shapiro-Wilk test de normalidade (valor,p-value)\n",
        "stats.shapiro(df['bp_difference'])"
      ],
      "execution_count": 7,
      "outputs": [
        {
          "output_type": "execute_result",
          "data": {
            "text/plain": [
              "(0.9926842451095581, 0.7841846942901611)"
            ]
          },
          "metadata": {
            "tags": []
          },
          "execution_count": 7
        }
      ]
    },
    {
      "metadata": {
        "id": "neuM_yg4qyqh",
        "colab_type": "code",
        "outputId": "92e786b7-41a1-4555-9c09-de816c85a8b3",
        "colab": {
          "base_uri": "https://localhost:8080/",
          "height": 34
        }
      },
      "cell_type": "code",
      "source": [
        "#Executando o teste t-test\n",
        "stats.ttest_rel(df['bp_before'], df['bp_after'])"
      ],
      "execution_count": 8,
      "outputs": [
        {
          "output_type": "execute_result",
          "data": {
            "text/plain": [
              "Ttest_relResult(statistic=3.3371870510833657, pvalue=0.0011297914644840823)"
            ]
          },
          "metadata": {
            "tags": []
          },
          "execution_count": 8
        }
      ]
    },
    {
      "metadata": {
        "id": "hS0T4Zogt3ew",
        "colab_type": "code",
        "outputId": "7f873298-babe-489e-f6b5-88aa8a50eda7",
        "colab": {
          "base_uri": "https://localhost:8080/",
          "height": 364
        }
      },
      "cell_type": "code",
      "source": [
        "#Checando simetria\n",
        "df['bp_difference'] = df['bp_before'] - df['bp_after']\n",
        "df[['bp_difference']].plot(kind='box')"
      ],
      "execution_count": 9,
      "outputs": [
        {
          "output_type": "execute_result",
          "data": {
            "text/plain": [
              "<matplotlib.axes._subplots.AxesSubplot at 0x7f04a4e50da0>"
            ]
          },
          "metadata": {
            "tags": []
          },
          "execution_count": 9
        },
        {
          "output_type": "display_data",
          "data": {
            "image/png": "[encoded data removed]",
            "text/plain": [
              "<Figure size 576x396 with 1 Axes>"
            ]
          },
          "metadata": {
            "tags": []
          }
        }
      ]
    },
    {
      "metadata": {
        "id": "xxycuXwUumqs",
        "colab_type": "code",
        "outputId": "3791da52-56bc-4fa0-9dd4-de8c8ee8146c",
        "colab": {
          "base_uri": "https://localhost:8080/",
          "height": 34
        }
      },
      "cell_type": "code",
      "source": [
        "stats.wilcoxon(df['bp_before'], df['bp_after'])"
      ],
      "execution_count": 10,
      "outputs": [
        {
          "output_type": "execute_result",
          "data": {
            "text/plain": [
              "WilcoxonResult(statistic=2234.5, pvalue=0.0014107333565442858)"
            ]
          },
          "metadata": {
            "tags": []
          },
          "execution_count": 10
        }
      ]
    },
    {
      "metadata": {
        "id": "G6wIZKULurFn",
        "colab_type": "code",
        "outputId": "059bdc42-3613-44c3-e764-ba35d2085c03",
        "colab": {
          "base_uri": "https://localhost:8080/",
          "height": 364
        }
      },
      "cell_type": "code",
      "source": [
        "df[df['sex'] == 'Female']['bp_before'].plot(kind='hist')"
      ],
      "execution_count": 11,
      "outputs": [
        {
          "output_type": "execute_result",
          "data": {
            "text/plain": [
              "<matplotlib.axes._subplots.AxesSubplot at 0x7f04a4db3b70>"
            ]
          },
          "metadata": {
            "tags": []
          },
          "execution_count": 11
        },
        {
          "output_type": "display_data",
          "data": {
            "image/png": "[encoded data removed]",
            "text/plain": [
              "<Figure size 576x396 with 1 Axes>"
            ]
          },
          "metadata": {
            "tags": []
          }
        }
      ]
    },
    {
      "metadata": {
        "id": "dyvePQYOxxSF",
        "colab_type": "code",
        "outputId": "12fb79d4-bc6b-4e9f-90a3-fccaf7835025",
        "colab": {
          "base_uri": "https://localhost:8080/",
          "height": 34
        }
      },
      "cell_type": "code",
      "source": [
        "stats.shapiro(df[df['sex'] == 'Female']['bp_before'])"
      ],
      "execution_count": 13,
      "outputs": [
        {
          "output_type": "execute_result",
          "data": {
            "text/plain": [
              "(0.9277511835098267, 0.001596352318301797)"
            ]
          },
          "metadata": {
            "tags": []
          },
          "execution_count": 13
        }
      ]
    },
    {
      "metadata": {
        "id": "evzC4EeExqvQ",
        "colab_type": "code",
        "outputId": "c9514110-5790-4eed-e7b4-2ead02fabe3f",
        "colab": {
          "base_uri": "https://localhost:8080/",
          "height": 364
        }
      },
      "cell_type": "code",
      "source": [
        "df[df['sex'] == 'Male']['bp_before'].plot(kind='hist')"
      ],
      "execution_count": 12,
      "outputs": [
        {
          "output_type": "execute_result",
          "data": {
            "text/plain": [
              "<matplotlib.axes._subplots.AxesSubplot at 0x7f33d956e978>"
            ]
          },
          "metadata": {
            "tags": []
          },
          "execution_count": 12
        },
        {
          "output_type": "display_data",
          "data": {
            "image/png": "[encoded data removed]",
            "text/plain": [
              "<Figure size 576x396 with 1 Axes>"
            ]
          },
          "metadata": {
            "tags": []
          }
        }
      ]
    },
    {
      "metadata": {
        "id": "FmIiudAix3-f",
        "colab_type": "code",
        "outputId": "698b781b-0e01-4045-a512-acdf8d901700",
        "colab": {
          "base_uri": "https://localhost:8080/",
          "height": 34
        }
      },
      "cell_type": "code",
      "source": [
        "stats.shapiro(df[df['sex'] == 'Male']['bp_before'])"
      ],
      "execution_count": 14,
      "outputs": [
        {
          "output_type": "execute_result",
          "data": {
            "text/plain": [
              "(0.9689898490905762, 0.13019868731498718)"
            ]
          },
          "metadata": {
            "tags": []
          },
          "execution_count": 14
        }
      ]
    },
    {
      "metadata": {
        "id": "YiX364Mjx53U",
        "colab_type": "code",
        "outputId": "b89b7a72-df5f-4be4-bc55-a6e329848238",
        "colab": {
          "base_uri": "https://localhost:8080/",
          "height": 34
        }
      },
      "cell_type": "code",
      "source": [
        "stats.mannwhitneyu(df[df['sex'] == 'Male']['bp_before'],df[df['sex'] == 'Female']['bp_before'])"
      ],
      "execution_count": 15,
      "outputs": [
        {
          "output_type": "execute_result",
          "data": {
            "text/plain": [
              "MannwhitneyuResult(statistic=1261.5, pvalue=0.0023602725314639354)"
            ]
          },
          "metadata": {
            "tags": []
          },
          "execution_count": 15
        }
      ]
    },
    {
      "metadata": {
        "id": "9TY-_0c9yRny",
        "colab_type": "code",
        "outputId": "220e943b-a985-44f4-a9dd-462c68a97810",
        "colab": {
          "base_uri": "https://localhost:8080/",
          "height": 398
        }
      },
      "cell_type": "code",
      "source": [
        "import seaborn as sns\n",
        "data1 = df[df['sex'] == 'Female']['bp_after']\n",
        "data2 = df[df['sex'] == 'Male']['bp_after']\n",
        "sns.boxplot(data=[data1, data2])"
      ],
      "execution_count": 17,
      "outputs": [
        {
          "output_type": "stream",
          "text": [
            "/usr/local/lib/python3.6/dist-packages/seaborn/categorical.py:454: FutureWarning: remove_na is deprecated and is a private function. Do not use.\n",
            "  box_data = remove_na(group_data)\n"
          ],
          "name": "stderr"
        },
        {
          "output_type": "execute_result",
          "data": {
            "text/plain": [
              "<matplotlib.axes._subplots.AxesSubplot at 0x7f33d9244048>"
            ]
          },
          "metadata": {
            "tags": []
          },
          "execution_count": 17
        },
        {
          "output_type": "display_data",
          "data": {
            "image/png": "[encoded data removed]",
            "text/plain": [
              "<Figure size 576x396 with 1 Axes>"
            ]
          },
          "metadata": {
            "tags": []
          }
        }
      ]
    },
    {
      "metadata": {
        "id": "BvxhX1Wr842V",
        "colab_type": "code",
        "outputId": "c7351a28-b106-49c1-f920-873d877aa9bc",
        "colab": {
          "base_uri": "https://localhost:8080/",
          "height": 204
        }
      },
      "cell_type": "code",
      "source": [
        "houses=pd.read_csv(\"https://raw.githubusercontent.com/if1015-datascience/material/gh-pages/data/recife.csv\",encoding = \"ISO-8859-1\")\n",
        "houses = houses[houses['price'] > 30000]\n",
        "houses['price_m2'] = houses['price']/houses['area']\n",
        "houses.head()"
      ],
      "execution_count": 13,
      "outputs": [
        {
          "output_type": "execute_result",
          "data": {
            "text/html": [
              "<div>\n",
              "<style scoped>\n",
              "    .dataframe tbody tr th:only-of-type {\n",
              "        vertical-align: middle;\n",
              "    }\n",
              "\n",
              "    .dataframe tbody tr th {\n",
              "        vertical-align: top;\n",
              "    }\n",
              "\n",
              "    .dataframe thead th {\n",
              "        text-align: right;\n",
              "    }\n",
              "</style>\n",
              "<table border=\"1\" class=\"dataframe\">\n",
              "  <thead>\n",
              "    <tr style=\"text-align: right;\">\n",
              "      <th></th>\n",
              "      <th>price</th>\n",
              "      <th>latitude</th>\n",
              "      <th>longitude</th>\n",
              "      <th>bedrooms</th>\n",
              "      <th>area</th>\n",
              "      <th>pkspaces</th>\n",
              "      <th>bathrooms</th>\n",
              "      <th>ensuites</th>\n",
              "      <th>suburb</th>\n",
              "      <th>district</th>\n",
              "      <th>city</th>\n",
              "      <th>state</th>\n",
              "      <th>type</th>\n",
              "      <th>price_m2</th>\n",
              "    </tr>\n",
              "  </thead>\n",
              "  <tbody>\n",
              "    <tr>\n",
              "      <th>1</th>\n",
              "      <td>330000</td>\n",
              "      <td>-8.029595</td>\n",
              "      <td>-34.900372</td>\n",
              "      <td>3.0</td>\n",
              "      <td>86.0</td>\n",
              "      <td>1.0</td>\n",
              "      <td>3.0</td>\n",
              "      <td>1.0</td>\n",
              "      <td>Tamarineira</td>\n",
              "      <td>Recife</td>\n",
              "      <td>Recife</td>\n",
              "      <td>Pernambuco</td>\n",
              "      <td>apart</td>\n",
              "      <td>3837.209302</td>\n",
              "    </tr>\n",
              "    <tr>\n",
              "      <th>2</th>\n",
              "      <td>255000</td>\n",
              "      <td>-8.037247</td>\n",
              "      <td>-34.890986</td>\n",
              "      <td>2.0</td>\n",
              "      <td>82.0</td>\n",
              "      <td>1.0</td>\n",
              "      <td>2.0</td>\n",
              "      <td>NaN</td>\n",
              "      <td>Encruzilhada</td>\n",
              "      <td>Recife</td>\n",
              "      <td>Recife</td>\n",
              "      <td>Pernambuco</td>\n",
              "      <td>apart</td>\n",
              "      <td>3109.756098</td>\n",
              "    </tr>\n",
              "    <tr>\n",
              "      <th>3</th>\n",
              "      <td>380000</td>\n",
              "      <td>-8.047562</td>\n",
              "      <td>-34.876964</td>\n",
              "      <td>3.0</td>\n",
              "      <td>95.0</td>\n",
              "      <td>2.0</td>\n",
              "      <td>3.0</td>\n",
              "      <td>1.0</td>\n",
              "      <td>Santo Amaro</td>\n",
              "      <td>Recife</td>\n",
              "      <td>Recife</td>\n",
              "      <td>Pernambuco</td>\n",
              "      <td>apart</td>\n",
              "      <td>4000.000000</td>\n",
              "    </tr>\n",
              "    <tr>\n",
              "      <th>4</th>\n",
              "      <td>300000</td>\n",
              "      <td>-8.053580</td>\n",
              "      <td>-34.908733</td>\n",
              "      <td>3.0</td>\n",
              "      <td>97.0</td>\n",
              "      <td>1.0</td>\n",
              "      <td>3.0</td>\n",
              "      <td>1.0</td>\n",
              "      <td>Madalena</td>\n",
              "      <td>Recife</td>\n",
              "      <td>Recife</td>\n",
              "      <td>Pernambuco</td>\n",
              "      <td>apart</td>\n",
              "      <td>3092.783505</td>\n",
              "    </tr>\n",
              "    <tr>\n",
              "      <th>5</th>\n",
              "      <td>320000</td>\n",
              "      <td>-8.026516</td>\n",
              "      <td>-34.917791</td>\n",
              "      <td>2.0</td>\n",
              "      <td>50.0</td>\n",
              "      <td>1.0</td>\n",
              "      <td>2.0</td>\n",
              "      <td>1.0</td>\n",
              "      <td>Casa Amarela</td>\n",
              "      <td>Recife</td>\n",
              "      <td>Recife</td>\n",
              "      <td>Pernambuco</td>\n",
              "      <td>apart</td>\n",
              "      <td>6400.000000</td>\n",
              "    </tr>\n",
              "  </tbody>\n",
              "</table>\n",
              "</div>"
            ],
            "text/plain": [
              "    price  latitude  longitude  bedrooms  area  pkspaces  bathrooms  ensuites  \\\n",
              "1  330000 -8.029595 -34.900372       3.0  86.0       1.0        3.0       1.0   \n",
              "2  255000 -8.037247 -34.890986       2.0  82.0       1.0        2.0       NaN   \n",
              "3  380000 -8.047562 -34.876964       3.0  95.0       2.0        3.0       1.0   \n",
              "4  300000 -8.053580 -34.908733       3.0  97.0       1.0        3.0       1.0   \n",
              "5  320000 -8.026516 -34.917791       2.0  50.0       1.0        2.0       1.0   \n",
              "\n",
              "         suburb district    city       state   type     price_m2  \n",
              "1   Tamarineira   Recife  Recife  Pernambuco  apart  3837.209302  \n",
              "2  Encruzilhada   Recife  Recife  Pernambuco  apart  3109.756098  \n",
              "3   Santo Amaro   Recife  Recife  Pernambuco  apart  4000.000000  \n",
              "4      Madalena   Recife  Recife  Pernambuco  apart  3092.783505  \n",
              "5  Casa Amarela   Recife  Recife  Pernambuco  apart  6400.000000  "
            ]
          },
          "metadata": {
            "tags": []
          },
          "execution_count": 13
        }
      ]
    },
    {
      "metadata": {
        "id": "10s2FUotOGv3",
        "colab_type": "text"
      },
      "cell_type": "markdown",
      "source": [
        "## Exercício 1: Verifique se existe diferença para imóveis à venda entre em termos de preço, preço m2 e área entre apartamentos e casas usando testes estatísticos e visualize as distribuições com boxplots."
      ]
    },
    {
      "metadata": {
        "id": "EfUNA7qAGGPC",
        "colab_type": "code",
        "colab": {
          "base_uri": "https://localhost:8080/",
          "height": 34
        },
        "outputId": "8948abfe-815e-4c36-bfe4-448090f2ed73"
      },
      "cell_type": "code",
      "source": [
        "stats.mannwhitneyu(houses[houses['type'] == 'apart']['price'],houses[houses['type'] == 'house']['price'])"
      ],
      "execution_count": 14,
      "outputs": [
        {
          "output_type": "execute_result",
          "data": {
            "text/plain": [
              "MannwhitneyuResult(statistic=36320.5, pvalue=0.04210920423317538)"
            ]
          },
          "metadata": {
            "tags": []
          },
          "execution_count": 14
        }
      ]
    },
    {
      "metadata": {
        "id": "J74VUdahGZ4o",
        "colab_type": "code",
        "colab": {
          "base_uri": "https://localhost:8080/",
          "height": 418
        },
        "outputId": "3588969c-da77-453a-b488-3b3bb3c5b7f2"
      },
      "cell_type": "code",
      "source": [
        "import seaborn as sns\n",
        "data1 = houses[houses['type'] == 'apart']['price']\n",
        "data2 = houses[houses['type'] == 'house']['price']\n",
        "sns.boxplot(data=[data1, data2])"
      ],
      "execution_count": 15,
      "outputs": [
        {
          "output_type": "stream",
          "text": [
            "/usr/local/lib/python3.6/dist-packages/seaborn/categorical.py:454: FutureWarning: remove_na is deprecated and is a private function. Do not use.\n",
            "  box_data = remove_na(group_data)\n"
          ],
          "name": "stderr"
        },
        {
          "output_type": "execute_result",
          "data": {
            "text/plain": [
              "<matplotlib.axes._subplots.AxesSubplot at 0x7f04a4afb390>"
            ]
          },
          "metadata": {
            "tags": []
          },
          "execution_count": 15
        },
        {
          "output_type": "display_data",
          "data": {
            "image/png": "[encoded data removed]",
            "text/plain": [
              "<Figure size 576x396 with 1 Axes>"
            ]
          },
          "metadata": {
            "tags": []
          }
        }
      ]
    },
    {
      "metadata": {
        "id": "U9UGxOyMGurv",
        "colab_type": "code",
        "colab": {
          "base_uri": "https://localhost:8080/",
          "height": 34
        },
        "outputId": "6c202c4c-6db5-4531-f6bf-afc10b506d09"
      },
      "cell_type": "code",
      "source": [
        "stats.mannwhitneyu(houses[houses['type'] == 'apart']['price_m2'],houses[houses['type'] == 'house']['price_m2'])"
      ],
      "execution_count": 25,
      "outputs": [
        {
          "output_type": "execute_result",
          "data": {
            "text/plain": [
              "MannwhitneyuResult(statistic=18156.0, pvalue=6.741754203863054e-16)"
            ]
          },
          "metadata": {
            "tags": []
          },
          "execution_count": 25
        }
      ]
    },
    {
      "metadata": {
        "id": "6SE0LzQ2G3AR",
        "colab_type": "code",
        "colab": {
          "base_uri": "https://localhost:8080/",
          "height": 418
        },
        "outputId": "a6c36e4e-b15f-492c-eb7d-c9a374a0728f"
      },
      "cell_type": "code",
      "source": [
        "data1 = houses[houses['type'] == 'apart']['price_m2']\n",
        "data2 = houses[houses['type'] == 'house']['price_m2']\n",
        "sns.boxplot(data=[data1, data2])"
      ],
      "execution_count": 65,
      "outputs": [
        {
          "output_type": "stream",
          "text": [
            "/usr/local/lib/python3.6/dist-packages/seaborn/categorical.py:454: FutureWarning: remove_na is deprecated and is a private function. Do not use.\n",
            "  box_data = remove_na(group_data)\n"
          ],
          "name": "stderr"
        },
        {
          "output_type": "execute_result",
          "data": {
            "text/plain": [
              "<matplotlib.axes._subplots.AxesSubplot at 0x7fdbfb2781d0>"
            ]
          },
          "metadata": {
            "tags": []
          },
          "execution_count": 65
        },
        {
          "output_type": "display_data",
          "data": {
            "image/png": "[encoded data removed]",
            "text/plain": [
              "<Figure size 576x396 with 1 Axes>"
            ]
          },
          "metadata": {
            "tags": []
          }
        }
      ]
    },
    {
      "metadata": {
        "id": "Dms6aGjvLMG4",
        "colab_type": "code",
        "colab": {
          "base_uri": "https://localhost:8080/",
          "height": 419
        },
        "outputId": "73cb9ddb-fcf9-4fc5-d77e-e1dc731dca44"
      },
      "cell_type": "code",
      "source": [
        "data1 = houses[houses['type'] == 'apart']['area']\n",
        "data2 = houses[houses['type'] == 'house']['area']\n",
        "sns.boxplot(data=[data1, data2])"
      ],
      "execution_count": 16,
      "outputs": [
        {
          "output_type": "stream",
          "text": [
            "/usr/local/lib/python3.6/dist-packages/seaborn/categorical.py:454: FutureWarning: remove_na is deprecated and is a private function. Do not use.\n",
            "  box_data = remove_na(group_data)\n"
          ],
          "name": "stderr"
        },
        {
          "output_type": "execute_result",
          "data": {
            "text/plain": [
              "<matplotlib.axes._subplots.AxesSubplot at 0x7f04a4a74cc0>"
            ]
          },
          "metadata": {
            "tags": []
          },
          "execution_count": 16
        },
        {
          "output_type": "display_data",
          "data": {
            "image/png": "[encoded data removed]",
            "text/plain": [
              "<Figure size 576x396 with 1 Axes>"
            ]
          },
          "metadata": {
            "tags": []
          }
        }
      ]
    },
    {
      "metadata": {
        "colab_type": "text",
        "id": "inf0SJoN13Ay"
      },
      "cell_type": "markdown",
      "source": [
        "## Exercício 2: Realize a mesma análise comparando dois bairros que possuam um grande número de imóveis nos dados."
      ]
    },
    {
      "metadata": {
        "id": "J0SCQuLXPJiU",
        "colab_type": "code",
        "colab": {
          "base_uri": "https://localhost:8080/",
          "height": 901
        },
        "outputId": "3b82cfec-baf1-4180-e0ab-96b2d9d860e8"
      },
      "cell_type": "code",
      "source": [
        "houses.groupby('suburb')['suburb'].count()"
      ],
      "execution_count": 78,
      "outputs": [
        {
          "output_type": "execute_result",
          "data": {
            "text/plain": [
              "suburb\n",
              "Aflitos              53\n",
              "Apipucos             17\n",
              "Areias                3\n",
              "Arruda               11\n",
              "Boa Viagem          159\n",
              "Boa Vista             6\n",
              "Campo Grande         25\n",
              "Casa Amarela         82\n",
              "Casa Forte           64\n",
              "CaxangÌÁ              6\n",
              "Coelhos               1\n",
              "Cohab                 3\n",
              "Cordeiro             31\n",
              "Derby                 4\n",
              "Encruzilhada         62\n",
              "Engenho do Meio       3\n",
              "Espinheiro           67\n",
              "FundÌ£o               1\n",
              "GraÌ¤as              55\n",
              "HipÌ_dromo            8\n",
              "Ibura                 3\n",
              "Ilha do Retiro       12\n",
              "Imbiribeira          15\n",
              "Ipsep                 5\n",
              "Iputinga              6\n",
              "Jaqueira             29\n",
              "Madalena             68\n",
              "Mangabeira            2\n",
              "Monteiro              7\n",
              "Parnamirim           42\n",
              "Pau-Ferro             2\n",
              "Pina                 13\n",
              "Ponto de Parada       4\n",
              "Porto da Madeira      1\n",
              "PoÌ¤o                22\n",
              "Prado                17\n",
              "Rosarinho            16\n",
              "San Martin            6\n",
              "Santana               5\n",
              "Santo Amaro         108\n",
              "Santo AntÌ«nio        1\n",
              "Soledade             13\n",
              "SÌ£o JosÌ©            2\n",
              "Tamarineira          84\n",
              "TejipiÌ_              1\n",
              "Torre                57\n",
              "TorreÌ£o             13\n",
              "TorrÌµes              1\n",
              "Vasco da Gama         2\n",
              "VÌÁrzea               2\n",
              "Name: suburb, dtype: int64"
            ]
          },
          "metadata": {
            "tags": []
          },
          "execution_count": 78
        }
      ]
    },
    {
      "metadata": {
        "id": "pmHU9IEB-Ycc",
        "colab_type": "code",
        "colab": {
          "base_uri": "https://localhost:8080/",
          "height": 34
        },
        "outputId": "13fc44cc-57c0-4f09-e12d-b174fe3d0e3e"
      },
      "cell_type": "code",
      "source": [
        "stats.mannwhitneyu(houses[houses['suburb'] == 'Boa Viagem']['price'],houses[houses['suburb'] == 'Casa Amarela']['price'])"
      ],
      "execution_count": 50,
      "outputs": [
        {
          "output_type": "execute_result",
          "data": {
            "text/plain": [
              "MannwhitneyuResult(statistic=5104.0, pvalue=0.0029001224383961408)"
            ]
          },
          "metadata": {
            "tags": []
          },
          "execution_count": 50
        }
      ]
    },
    {
      "metadata": {
        "id": "ZjgjNJEHJf56",
        "colab_type": "code",
        "colab": {
          "base_uri": "https://localhost:8080/",
          "height": 418
        },
        "outputId": "3b09fd08-b33c-4253-f81a-6f9906859453"
      },
      "cell_type": "code",
      "source": [
        "data1 = houses[houses['suburb'] == 'Boa Viagem']['price']\n",
        "data2 = houses[houses['suburb'] == 'Casa Amarela']['price']\n",
        "sns.boxplot(data=[data1, data2])\n"
      ],
      "execution_count": 51,
      "outputs": [
        {
          "output_type": "stream",
          "text": [
            "/usr/local/lib/python3.6/dist-packages/seaborn/categorical.py:454: FutureWarning: remove_na is deprecated and is a private function. Do not use.\n",
            "  box_data = remove_na(group_data)\n"
          ],
          "name": "stderr"
        },
        {
          "output_type": "execute_result",
          "data": {
            "text/plain": [
              "<matplotlib.axes._subplots.AxesSubplot at 0x7fdbfb479208>"
            ]
          },
          "metadata": {
            "tags": []
          },
          "execution_count": 51
        },
        {
          "output_type": "display_data",
          "data": {
            "image/png": "[encoded data removed]",
            "text/plain": [
              "<Figure size 576x396 with 1 Axes>"
            ]
          },
          "metadata": {
            "tags": []
          }
        }
      ]
    },
    {
      "metadata": {
        "id": "F7aV0ksLHRC5",
        "colab_type": "code",
        "colab": {
          "base_uri": "https://localhost:8080/",
          "height": 34
        },
        "outputId": "33c7b00f-fe41-4afc-c96b-4c555bb639e0"
      },
      "cell_type": "code",
      "source": [
        "stats.mannwhitneyu(houses[houses['suburb'] == 'Boa Viagem']['price_m2'],houses[houses['suburb'] == 'Casa Amarela']['price_m2'])"
      ],
      "execution_count": 46,
      "outputs": [
        {
          "output_type": "execute_result",
          "data": {
            "text/plain": [
              "MannwhitneyuResult(statistic=6431.0, pvalue=0.4322509616015574)"
            ]
          },
          "metadata": {
            "tags": []
          },
          "execution_count": 46
        }
      ]
    },
    {
      "metadata": {
        "id": "7Aaq1wO2Bzv-",
        "colab_type": "code",
        "colab": {
          "base_uri": "https://localhost:8080/",
          "height": 418
        },
        "outputId": "5c6d19c2-aa06-4dd8-bc81-2938ecc24ce5"
      },
      "cell_type": "code",
      "source": [
        "import seaborn as sns\n",
        "data1 = houses[houses['suburb'] == 'Boa Viagem']['price_m2']\n",
        "data2 = houses[houses['suburb'] == 'Casa Amarela']['price_m2']\n",
        "sns.boxplot(data=[data1, data2])\n"
      ],
      "execution_count": 48,
      "outputs": [
        {
          "output_type": "stream",
          "text": [
            "/usr/local/lib/python3.6/dist-packages/seaborn/categorical.py:454: FutureWarning: remove_na is deprecated and is a private function. Do not use.\n",
            "  box_data = remove_na(group_data)\n"
          ],
          "name": "stderr"
        },
        {
          "output_type": "execute_result",
          "data": {
            "text/plain": [
              "<matplotlib.axes._subplots.AxesSubplot at 0x7fdbfb470748>"
            ]
          },
          "metadata": {
            "tags": []
          },
          "execution_count": 48
        },
        {
          "output_type": "display_data",
          "data": {
            "image/png": "[encoded data removed]",
            "text/plain": [
              "<Figure size 576x396 with 1 Axes>"
            ]
          },
          "metadata": {
            "tags": []
          }
        }
      ]
    },
    {
      "metadata": {
        "id": "BRWtUI7JJSld",
        "colab_type": "code",
        "colab": {
          "base_uri": "https://localhost:8080/",
          "height": 418
        },
        "outputId": "c8528ccd-b5a1-4141-894d-f78e35e49509"
      },
      "cell_type": "code",
      "source": [
        "data1 = houses[houses['suburb'] == 'Boa Viagem']['area']\n",
        "data2 = houses[houses['suburb'] == 'Casa Amarela']['area']\n",
        "sns.boxplot(data=[data1, data2])"
      ],
      "execution_count": 52,
      "outputs": [
        {
          "output_type": "stream",
          "text": [
            "/usr/local/lib/python3.6/dist-packages/seaborn/categorical.py:454: FutureWarning: remove_na is deprecated and is a private function. Do not use.\n",
            "  box_data = remove_na(group_data)\n"
          ],
          "name": "stderr"
        },
        {
          "output_type": "execute_result",
          "data": {
            "text/plain": [
              "<matplotlib.axes._subplots.AxesSubplot at 0x7fdbfb33a860>"
            ]
          },
          "metadata": {
            "tags": []
          },
          "execution_count": 52
        },
        {
          "output_type": "display_data",
          "data": {
            "image/png": "[encoded data removed]",
            "text/plain": [
              "<Figure size 576x396 with 1 Axes>"
            ]
          },
          "metadata": {
            "tags": []
          }
        }
      ]
    },
    {
      "metadata": {
        "id": "56M39fUJJrFP",
        "colab_type": "code",
        "colab": {
          "base_uri": "https://localhost:8080/",
          "height": 51
        },
        "outputId": "5f5575f1-82f8-45f5-a71d-f19ef64ea275"
      },
      "cell_type": "code",
      "source": [
        "print(len(houses[(houses['suburb'] == 'Boa Viagem') & (houses['type'] == 'house')])/len(houses[houses['suburb'] == 'Boa Viagem']))\n",
        "print(len(houses[(houses['suburb'] == 'Casa Amarela') & (houses['type'] == 'house')])/len(houses[houses['suburb'] == 'Casa Amarela']))"
      ],
      "execution_count": 64,
      "outputs": [
        {
          "output_type": "stream",
          "text": [
            "0.025157232704402517\n",
            "0.07317073170731707\n"
          ],
          "name": "stdout"
        }
      ]
    }
  ]
}