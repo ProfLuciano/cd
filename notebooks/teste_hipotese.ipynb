{
  "nbformat": 4,
  "nbformat_minor": 0,
  "metadata": {
    "colab": {
      "name": "Copy of teste_hipotese.ipynb",
      "provenance": [],
      "collapsed_sections": []
    },
    "kernelspec": {
      "name": "python3",
      "display_name": "Python 3"
    }
  },
  "cells": [
    {
      "cell_type": "code",
      "metadata": {
        "id": "l1g52TbDpdAq"
      },
      "source": [
        "import numpy as np\n",
        "import pandas as pd\n",
        "from scipy import stats\n",
        "import matplotlib.pyplot as plt\n",
        "df=pd.read_csv(\"https://raw.githubusercontent.com/ProfLuciano/cd/gh-pages/data/blood_pressure.csv\",encoding = \"ISO-8859-1\")"
      ],
      "execution_count": null,
      "outputs": []
    },
    {
      "cell_type": "code",
      "metadata": {
        "id": "S2RTunt8plrC"
      },
      "source": [
        "df.head()"
      ],
      "execution_count": null,
      "outputs": []
    },
    {
      "cell_type": "code",
      "metadata": {
        "id": "l2Rux352p8Bg"
      },
      "source": [
        "df[['bp_before','bp_after']].describe()"
      ],
      "execution_count": null,
      "outputs": []
    },
    {
      "cell_type": "code",
      "metadata": {
        "id": "ybXc64Dmp3-J"
      },
      "source": [
        "df[['bp_before', 'bp_after']].plot(kind='box')"
      ],
      "execution_count": null,
      "outputs": []
    },
    {
      "cell_type": "code",
      "metadata": {
        "id": "w1IoyzfKqeyz"
      },
      "source": [
        "#Verificando se a diferença segue a gaussiana\n",
        "df['bp_difference'] = df['bp_before'] - df['bp_after']"
      ],
      "execution_count": null,
      "outputs": []
    },
    {
      "cell_type": "code",
      "metadata": {
        "id": "CGTCJR-Qqloa"
      },
      "source": [
        "df['bp_difference'].plot(kind='hist')"
      ],
      "execution_count": null,
      "outputs": []
    },
    {
      "cell_type": "code",
      "metadata": {
        "id": "6hztWNrsqoPb"
      },
      "source": [
        "#Shapiro-Wilk teste de normalidade (valor,p-value). Hipótese nula: a população é normalmente distribuída.\n",
        "stats.shapiro(df['bp_difference'])"
      ],
      "execution_count": null,
      "outputs": []
    },
    {
      "cell_type": "code",
      "metadata": {
        "id": "neuM_yg4qyqh"
      },
      "source": [
        "#Executando o teste t-test\n",
        "stats.ttest_rel(df['bp_before'], df['bp_after'])"
      ],
      "execution_count": null,
      "outputs": []
    },
    {
      "cell_type": "code",
      "metadata": {
        "id": "hS0T4Zogt3ew"
      },
      "source": [
        "#Checando simetria\n",
        "df[['bp_difference']].plot(kind='box')"
      ],
      "execution_count": null,
      "outputs": []
    },
    {
      "cell_type": "code",
      "metadata": {
        "id": "xxycuXwUumqs"
      },
      "source": [
        "stats.wilcoxon(df['bp_before'], df['bp_after'])"
      ],
      "execution_count": null,
      "outputs": []
    },
    {
      "cell_type": "code",
      "metadata": {
        "id": "G6wIZKULurFn"
      },
      "source": [
        "df[df['sex'] == 'Female']['bp_before'].plot(kind='hist')"
      ],
      "execution_count": null,
      "outputs": []
    },
    {
      "cell_type": "code",
      "metadata": {
        "id": "dyvePQYOxxSF"
      },
      "source": [
        "stats.shapiro(df[df['sex'] == 'Female']['bp_before'])"
      ],
      "execution_count": null,
      "outputs": []
    },
    {
      "cell_type": "code",
      "metadata": {
        "id": "evzC4EeExqvQ"
      },
      "source": [
        "df[df['sex'] == 'Male']['bp_before'].plot(kind='hist')"
      ],
      "execution_count": null,
      "outputs": []
    },
    {
      "cell_type": "code",
      "metadata": {
        "id": "FmIiudAix3-f"
      },
      "source": [
        "stats.shapiro(df[df['sex'] == 'Male']['bp_before'])"
      ],
      "execution_count": null,
      "outputs": []
    },
    {
      "cell_type": "code",
      "metadata": {
        "id": "YiX364Mjx53U"
      },
      "source": [
        "stats.mannwhitneyu(df[df['sex'] == 'Male']['bp_before'],df[df['sex'] == 'Female']['bp_before'])"
      ],
      "execution_count": null,
      "outputs": []
    },
    {
      "cell_type": "code",
      "metadata": {
        "id": "9TY-_0c9yRny"
      },
      "source": [
        "import seaborn as sns\n",
        "data1 = df[df['sex'] == 'Female']['bp_after']\n",
        "data2 = df[df['sex'] == 'Male']['bp_after']\n",
        "sns.boxplot(data=[data1, data2])"
      ],
      "execution_count": null,
      "outputs": []
    },
    {
      "cell_type": "code",
      "metadata": {
        "id": "BvxhX1Wr842V"
      },
      "source": [
        "houses=pd.read_csv(\"https://raw.githubusercontent.com/ProfLuciano/cd/gh-pages/data/recife.csv\",encoding = \"ISO-8859-1\")\n",
        "houses = houses[houses['price'] > 30000]\n",
        "houses['price_m2'] = houses['price']/houses['area']\n",
        "houses.head()"
      ],
      "execution_count": null,
      "outputs": []
    },
    {
      "cell_type": "markdown",
      "metadata": {
        "id": "10s2FUotOGv3"
      },
      "source": [
        "## Exercício 1: Verifique se existe diferença para imóveis à venda entre em termos de preço, preço m2 e área entre apartamentos e casas usando testes estatísticos e visualize as distribuições com boxplots."
      ]
    },
    {
      "cell_type": "markdown",
      "metadata": {
        "id": "inf0SJoN13Ay"
      },
      "source": [
        "## Exercício 2: Realize a mesma análise comparando dois bairros que possuam um grande número de imóveis nos dados."
      ]
    }
  ]
}