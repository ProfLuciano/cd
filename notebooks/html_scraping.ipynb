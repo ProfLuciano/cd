{
  "nbformat": 4,
  "nbformat_minor": 0,
  "metadata": {
    "colab": {
      "name": "html_scraping.ipynb",
      "version": "0.3.2",
      "provenance": []
    },
    "kernelspec": {
      "name": "python3",
      "display_name": "Python 3"
    }
  },
  "cells": [
    {
      "metadata": {
        "id": "JV2oVNAydcjL",
        "colab_type": "code",
        "colab": {}
      },
      "cell_type": "code",
      "source": [
        "from bs4 import BeautifulSoup\n",
        "import requests\n",
        "import re "
      ],
      "execution_count": 0,
      "outputs": []
    },
    {
      "metadata": {
        "id": "LzquFzaGdhbl",
        "colab_type": "code",
        "colab": {}
      },
      "cell_type": "code",
      "source": [
        "def extraction_cars_com(url):\n",
        "  r = requests.get(url) \n",
        "  b = BeautifulSoup(r.text) # create a beautifulsoup object\n",
        "  year = list()\n",
        "  make = list()\n",
        "  model = list()\n",
        "  h4_tag = b.find_all('h4', attrs={'class': 'cui-delta'}) \n",
        "  for tag in h4_tag:\n",
        "    parts = tag.text.split(' ')\n",
        "    year.append(parts[0])\n",
        "    make.append(parts[1])\n",
        "    model.append(parts[2])\n",
        "  price = list()\n",
        "  price_tag = b.find_all('p', attrs={'class': 'msrp'}) \n",
        "  for tag in price_tag:\n",
        "    price.append(tag.text)\n",
        "  return make,model,price,year"
      ],
      "execution_count": 0,
      "outputs": []
    },
    {
      "metadata": {
        "id": "u6x3anerdjh5",
        "colab_type": "code",
        "colab": {}
      },
      "cell_type": "code",
      "source": [
        "make, model, price, year = extraction_cars_com(\"https://www.cars.com/research/sedan/\")"
      ],
      "execution_count": 0,
      "outputs": []
    },
    {
      "metadata": {
        "id": "3oUcUTTadmNM",
        "colab_type": "code",
        "colab": {
          "base_uri": "https://localhost:8080/",
          "height": 187
        },
        "outputId": "2e563fee-9cce-46a1-f7b2-1d5d51ec2423"
      },
      "cell_type": "code",
      "source": [
        "make[:10]"
      ],
      "execution_count": 4,
      "outputs": [
        {
          "output_type": "execute_result",
          "data": {
            "text/plain": [
              "['Dodge',\n",
              " 'Toyota',\n",
              " 'Honda',\n",
              " 'Honda',\n",
              " 'Nissan',\n",
              " 'Volkswagen',\n",
              " 'Mercedes-Benz',\n",
              " 'BMW',\n",
              " 'Hyundai',\n",
              " 'Mercedes-Benz']"
            ]
          },
          "metadata": {
            "tags": []
          },
          "execution_count": 4
        }
      ]
    }
  ]
}